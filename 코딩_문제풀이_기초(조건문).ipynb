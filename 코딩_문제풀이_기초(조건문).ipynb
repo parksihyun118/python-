{
  "nbformat": 4,
  "nbformat_minor": 0,
  "metadata": {
    "colab": {
      "provenance": []
    },
    "kernelspec": {
      "name": "python3",
      "display_name": "Python 3"
    },
    "language_info": {
      "name": "python"
    }
  },
  "cells": [
    {
      "cell_type": "code",
      "execution_count": 2,
      "metadata": {
        "colab": {
          "base_uri": "https://localhost:8080/"
        },
        "id": "MptBJ2Mj2y5_",
        "outputId": "f9298a8a-83bc-4b97-e78d-5c8c2547973c"
      },
      "outputs": [
        {
          "output_type": "stream",
          "name": "stdout",
          "text": [
            "A : 정수를 입력하시오5\n",
            "B : 정수를 입력하시오3\n",
            "A가 B보다 크다\n"
          ]
        }
      ],
      "source": [
        "# 두 수 비교하기\n",
        "# 두 정수 A와 B가 주어졌을 때, A와 B를 비교하는 프로그램을 작성하시오 \n",
        "\n",
        "def com():\n",
        "  A = int(input(\"A : 정수를 입력하시오\"))\n",
        "  B = int(input(\"B : 정수를 입력하시오\"))\n",
        "  if A > B:\n",
        "    print(\"A가 B보다 크다\")\n",
        "  elif A < B:\n",
        "    print(\"A가 B보다 작다\")\n",
        "  else:\n",
        "    print(\"A와 B가 같다\")\n",
        "com()"
      ]
    },
    {
      "cell_type": "code",
      "source": [
        "com()"
      ],
      "metadata": {
        "colab": {
          "base_uri": "https://localhost:8080/"
        },
        "id": "dcOWsjis3s1x",
        "outputId": "c8318db6-a509-41dc-908b-8ffe91086d90"
      },
      "execution_count": 3,
      "outputs": [
        {
          "output_type": "stream",
          "name": "stdout",
          "text": [
            "A : 정수를 입력하시오2\n",
            "B : 정수를 입력하시오5\n",
            "A가 B보다 작다\n"
          ]
        }
      ]
    },
    {
      "cell_type": "code",
      "source": [
        "com()"
      ],
      "metadata": {
        "colab": {
          "base_uri": "https://localhost:8080/"
        },
        "id": "Ph0taaNP36UC",
        "outputId": "03f41e0d-1a18-4f0c-fa96-a855932c1898"
      },
      "execution_count": 4,
      "outputs": [
        {
          "output_type": "stream",
          "name": "stdout",
          "text": [
            "A : 정수를 입력하시오7\n",
            "B : 정수를 입력하시오7\n",
            "A와 B가 같다\n"
          ]
        }
      ]
    },
    {
      "cell_type": "code",
      "source": [
        "# 시험 점수를 입력받아 90 ~ 100점은 A, \n",
        "# 80 ~ 89점은 B, \n",
        "# 70 ~ 79점은 C, \n",
        "# 60 ~ 69점은 D, \n",
        "# 나머지 점수는 F를 출력하는 프로그램을 작성하시오.\n",
        "\n",
        "def rank():\n",
        "  score = int(input(\"시험 성적을 입력하세요\"))\n",
        "  if score >= 90:\n",
        "    print(\"A\")\n",
        "  elif score >= 80:\n",
        "    print(\"B\")\n",
        "  elif score >= 70:\n",
        "    print(\"C\")\n",
        "  elif score >= 60:\n",
        "    print(\"D\")\n",
        "  else:\n",
        "    print(\"F\") \n",
        "\n",
        "rank()"
      ],
      "metadata": {
        "colab": {
          "base_uri": "https://localhost:8080/"
        },
        "id": "OdWFRSs33842",
        "outputId": "79df1eb9-f536-4bb3-c8dd-7b1af88078e9"
      },
      "execution_count": 10,
      "outputs": [
        {
          "output_type": "stream",
          "name": "stdout",
          "text": [
            "시험 성적을 입력하세요93\n",
            "A\n"
          ]
        }
      ]
    },
    {
      "cell_type": "code",
      "source": [
        "rank()"
      ],
      "metadata": {
        "colab": {
          "base_uri": "https://localhost:8080/"
        },
        "id": "KMNLeI3C6YUS",
        "outputId": "22997605-136a-4187-ee82-5ac334fccd46"
      },
      "execution_count": 6,
      "outputs": [
        {
          "output_type": "stream",
          "name": "stdout",
          "text": [
            "시험 성적을 입력하세요82\n",
            "B\n"
          ]
        }
      ]
    },
    {
      "cell_type": "code",
      "source": [
        "rank()"
      ],
      "metadata": {
        "colab": {
          "base_uri": "https://localhost:8080/"
        },
        "id": "EGEUqGBs6aR5",
        "outputId": "dd9686ae-15d7-4246-c128-8ed87713f6f9"
      },
      "execution_count": 7,
      "outputs": [
        {
          "output_type": "stream",
          "name": "stdout",
          "text": [
            "시험 성적을 입력하세요76\n",
            "C\n"
          ]
        }
      ]
    },
    {
      "cell_type": "code",
      "source": [
        "rank()"
      ],
      "metadata": {
        "colab": {
          "base_uri": "https://localhost:8080/"
        },
        "id": "vv7rfHOh6cZg",
        "outputId": "4cef2927-de4e-4f68-dd8e-7f3c300fa574"
      },
      "execution_count": 8,
      "outputs": [
        {
          "output_type": "stream",
          "name": "stdout",
          "text": [
            "시험 성적을 입력하세요65\n",
            "D\n"
          ]
        }
      ]
    },
    {
      "cell_type": "code",
      "source": [
        "rank()"
      ],
      "metadata": {
        "colab": {
          "base_uri": "https://localhost:8080/"
        },
        "id": "YM4XrXDP6f2Y",
        "outputId": "9a5835c6-99f7-450c-a5be-83e839864105"
      },
      "execution_count": 9,
      "outputs": [
        {
          "output_type": "stream",
          "name": "stdout",
          "text": [
            "시험 성적을 입력하세요50\n",
            "F\n"
          ]
        }
      ]
    },
    {
      "cell_type": "code",
      "source": [],
      "metadata": {
        "id": "-aJY6j986hMs"
      },
      "execution_count": null,
      "outputs": []
    }
  ]
}