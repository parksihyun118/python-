{
  "cells": [
    {
      "cell_type": "code",
      "execution_count": 1,
      "metadata": {
        "id": "K_vrJ6IZ4jWE"
      },
      "outputs": [],
      "source": [
        "# 구구단_1\n",
        "# N을 입력받은 뒤, 구구단 N단을 출력하는 프로그램을 작성하시오\n",
        "\n",
        "def goo():\n",
        "  lst = [1, 2, 3, 4, 5, 6, 7, 8, 9]\n",
        "  n = int(input(\"숫자를 입력하시오\"))\n",
        "\n",
        "  for i in lst:\n",
        "    answer = n * i\n",
        "    print(n, \"X\", i, \"=\", answer)"
      ]
    },
    {
      "cell_type": "code",
      "execution_count": 2,
      "metadata": {
        "colab": {
          "base_uri": "https://localhost:8080/"
        },
        "id": "uV-xm9SQ6Xty",
        "outputId": "b2fa32e8-1997-43dc-d1a0-37fe36a05220"
      },
      "outputs": [
        {
          "name": "stdout",
          "output_type": "stream",
          "text": [
            "3 X 1 = 3\n",
            "3 X 2 = 6\n",
            "3 X 3 = 9\n",
            "3 X 4 = 12\n",
            "3 X 5 = 15\n",
            "3 X 6 = 18\n",
            "3 X 7 = 21\n",
            "3 X 8 = 24\n",
            "3 X 9 = 27\n"
          ]
        }
      ],
      "source": [
        "goo()"
      ]
    },
    {
      "cell_type": "code",
      "execution_count": 3,
      "metadata": {
        "id": "KyaF5NOZ6d01"
      },
      "outputs": [],
      "source": [
        "# 구구단_2\n",
        "\n",
        "def gu():\n",
        "  n = int(input(\"숫자를 입력하시오\"))\n",
        "\n",
        "  for i in range(1, 10):\n",
        "    an = n * i\n",
        "    print(f\"{n} X {i} = {an}\")"
      ]
    },
    {
      "cell_type": "code",
      "execution_count": 4,
      "metadata": {
        "colab": {
          "base_uri": "https://localhost:8080/"
        },
        "id": "O-FV9Q5z7t6o",
        "outputId": "36f96082-d5ca-49d5-f556-c481812c842b"
      },
      "outputs": [
        {
          "name": "stdout",
          "output_type": "stream",
          "text": [
            "5 X 1 = 5\n",
            "5 X 2 = 10\n",
            "5 X 3 = 15\n",
            "5 X 4 = 20\n",
            "5 X 5 = 25\n",
            "5 X 6 = 30\n",
            "5 X 7 = 35\n",
            "5 X 8 = 40\n",
            "5 X 9 = 45\n"
          ]
        }
      ],
      "source": [
        "gu()"
      ]
    },
    {
      "cell_type": "code",
      "execution_count": 5,
      "metadata": {
        "colab": {
          "base_uri": "https://localhost:8080/"
        },
        "id": "F0BjBvWZ7vOq",
        "outputId": "4e0d87d2-0fe3-4b31-88ea-9d93627722d0"
      },
      "outputs": [
        {
          "name": "stdout",
          "output_type": "stream",
          "text": [
            "*\n",
            "**\n",
            "***\n",
            "****\n",
            "*****\n",
            "******\n",
            "*******\n",
            "********\n",
            "*********\n"
          ]
        }
      ],
      "source": [
        "# 별 찍기_1\n",
        "# 첫째 줄에는 별 1개, 둘째 줄에는 별 2개, N번째 줄에는 별 N개를 찍는 문제\n",
        "\n",
        "for i in range(1, 10):\n",
        "  print(\"*\" * i)"
      ]
    },
    {
      "cell_type": "code",
      "execution_count": 6,
      "metadata": {
        "colab": {
          "base_uri": "https://localhost:8080/"
        },
        "id": "v9zkIWw--xs7",
        "outputId": "e510b06b-efc3-4828-8b71-3d224227ef43"
      },
      "outputs": [
        {
          "name": "stdout",
          "output_type": "stream",
          "text": [
            "          *\n",
            "         **\n",
            "        ***\n",
            "       ****\n",
            "      *****\n",
            "     ******\n",
            "    *******\n",
            "   ********\n",
            "  *********\n"
          ]
        }
      ],
      "source": [
        "# 별 찍기_2\n",
        "# 1의 반전 형태\n",
        "\n",
        "for i in range(1, 10):\n",
        "  print(\" \"*(10-i), \"*\"*i)"
      ]
    },
    {
      "cell_type": "code",
      "execution_count": 7,
      "metadata": {
        "colab": {
          "base_uri": "https://localhost:8080/"
        },
        "id": "nDSNMdQD-zjd",
        "outputId": "47ef8767-04e0-4b83-a3b6-4fe990dca367"
      },
      "outputs": [
        {
          "name": "stdout",
          "output_type": "stream",
          "text": [
            "*********\n",
            "********\n",
            "*******\n",
            "******\n",
            "*****\n",
            "****\n",
            "***\n",
            "**\n",
            "*\n"
          ]
        }
      ],
      "source": [
        "# 별 찍기_3\n",
        "# 1의 뒤집힌 형태\n",
        "\n",
        "for i in range(1, 10):\n",
        "  print(\"*\"*(10-i))"
      ]
    },
    {
      "cell_type": "code",
      "execution_count": 8,
      "metadata": {
        "colab": {
          "base_uri": "https://localhost:8080/"
        },
        "id": "-8aNo9BlCDGq",
        "outputId": "50d0a3fd-28f9-45ba-8c1b-a46429a89811"
      },
      "outputs": [
        {
          "name": "stdout",
          "output_type": "stream",
          "text": [
            " *********\n",
            "  ********\n",
            "   *******\n",
            "    ******\n",
            "     *****\n",
            "      ****\n",
            "       ***\n",
            "        **\n",
            "         *\n"
          ]
        }
      ],
      "source": [
        "# 별 찍기_4\n",
        "# 2의 뒤집힌 형태\n",
        "\n",
        "for i in range(1, 10):\n",
        "  print(\" \"*(i-1), \"*\"*(10-i))"
      ]
    },
    {
      "cell_type": "code",
      "execution_count": null,
      "metadata": {
        "id": "p-MHsm0SEXgP"
      },
      "outputs": [],
      "source": []
    },
    {
      "cell_type": "code",
      "execution_count": null,
      "metadata": {},
      "outputs": [],
      "source": []
    }
  ],
  "metadata": {
    "colab": {
      "provenance": []
    },
    "kernelspec": {
      "display_name": "Python 3.10.3 64-bit",
      "language": "python",
      "name": "python3"
    },
    "language_info": {
      "codemirror_mode": {
        "name": "ipython",
        "version": 3
      },
      "file_extension": ".py",
      "mimetype": "text/x-python",
      "name": "python",
      "nbconvert_exporter": "python",
      "pygments_lexer": "ipython3",
      "version": "3.10.3"
    },
    "vscode": {
      "interpreter": {
        "hash": "3984af332009208a103b8a538f58afe3b38a2c797d164530a18c5b0b86f04be7"
      }
    }
  },
  "nbformat": 4,
  "nbformat_minor": 0
}
