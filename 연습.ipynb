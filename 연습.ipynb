{
  "cells": [
    {
      "cell_type": "markdown",
      "metadata": {
        "id": "XlOO1uFtrPuT"
      },
      "source": [
        "- 문제 1\n",
        "\n",
        "변수 name에는 이름, 변수 age에는 나이를 넣어 주세요.\n",
        "\n",
        "출력은 이름 : 박시현 , 나이 : 29"
      ]
    },
    {
      "cell_type": "code",
      "execution_count": null,
      "metadata": {
        "colab": {
          "base_uri": "https://localhost:8080/"
        },
        "id": "SOBoUbQ5rUih",
        "outputId": "5c7660d4-7715-48d9-9ed4-a518f84d44ce"
      },
      "outputs": [
        {
          "name": "stdout",
          "output_type": "stream",
          "text": [
            "이름 :  박시현 나이 :  29\n"
          ]
        }
      ],
      "source": [
        "name = \"박시현\"\n",
        "age = 29\n",
        "print(\"이름 : \", name, \"나이 : \", age)"
      ]
    },
    {
      "cell_type": "markdown",
      "metadata": {
        "id": "jsPdgoCtviPf"
      },
      "source": [
        "- 문제 2\n",
        "\n",
        "안녕하세요\n",
        "\n",
        "반갑습니다.\n",
        "\n",
        "저는\n",
        "\n",
        "박시현\n",
        "\n",
        "입니다."
      ]
    },
    {
      "cell_type": "code",
      "execution_count": null,
      "metadata": {
        "colab": {
          "base_uri": "https://localhost:8080/"
        },
        "id": "zUZBRfCzGAm2",
        "outputId": "79f958e0-8fe4-48bd-af34-9b1e4c3067fb"
      },
      "outputs": [
        {
          "name": "stdout",
          "output_type": "stream",
          "text": [
            "Hello World\n"
          ]
        }
      ],
      "source": [
        "print(\"Hello World\")"
      ]
    },
    {
      "cell_type": "code",
      "execution_count": null,
      "metadata": {
        "colab": {
          "base_uri": "https://localhost:8080/"
        },
        "id": "rWtuJZ4oGFit",
        "outputId": "7ca82440-abe4-4fc3-97ca-5920620bb94f"
      },
      "outputs": [
        {
          "data": {
            "text/plain": [
              "['닥터 스트레인지', '스플릿', '럭키']"
            ]
          },
          "execution_count": 10,
          "metadata": {},
          "output_type": "execute_result"
        }
      ],
      "source": [
        "movie_rank = [\"닥터 스트레인지\", \"스플릿\", \"럭키\"]\n",
        "movie_rank"
      ]
    },
    {
      "cell_type": "code",
      "execution_count": null,
      "metadata": {
        "colab": {
          "base_uri": "https://localhost:8080/"
        },
        "id": "gkpAqQENGtzq",
        "outputId": "fa37825d-2ee6-4afa-bf1a-7f320c7a203e"
      },
      "outputs": [
        {
          "name": "stdout",
          "output_type": "stream",
          "text": [
            "['닥터 스트레인지', '스플릿', '럭키', '배트맨']\n"
          ]
        }
      ],
      "source": [
        "movie_rank.append(\"배트맨\")\n",
        "print(movie_rank)"
      ]
    },
    {
      "cell_type": "code",
      "execution_count": null,
      "metadata": {
        "colab": {
          "base_uri": "https://localhost:8080/"
        },
        "id": "llphLLKpHBwi",
        "outputId": "9c354e12-fc92-434c-ac5e-181521dc3543"
      },
      "outputs": [
        {
          "data": {
            "text/plain": [
              "['닥터 스트레인지', '스플릿', '럭키', '배트맨']"
            ]
          },
          "execution_count": 14,
          "metadata": {},
          "output_type": "execute_result"
        }
      ],
      "source": [
        "movie_rank"
      ]
    },
    {
      "cell_type": "code",
      "execution_count": null,
      "metadata": {
        "colab": {
          "base_uri": "https://localhost:8080/"
        },
        "id": "XTC1NcPNHxTc",
        "outputId": "566c0bd0-c965-4249-a010-f7532d6722e9"
      },
      "outputs": [
        {
          "data": {
            "text/plain": [
              "4"
            ]
          },
          "execution_count": 15,
          "metadata": {},
          "output_type": "execute_result"
        }
      ],
      "source": [
        "len(movie_rank)"
      ]
    },
    {
      "cell_type": "markdown",
      "metadata": {
        "id": "9T732N_nIge9"
      },
      "source": []
    },
    {
      "cell_type": "code",
      "execution_count": null,
      "metadata": {
        "colab": {
          "base_uri": "https://localhost:8080/"
        },
        "id": "zRhF-2ODLJJ1",
        "outputId": "4451c5ce-6e74-4ed1-cdc6-b72eab657fb6"
      },
      "outputs": [
        {
          "name": "stdout",
          "output_type": "stream",
          "text": [
            "<class 'int'>\n",
            "num1 :  100 num2 :  200\n",
            "num1:  200 num2:  100\n"
          ]
        }
      ],
      "source": [
        "# 변수의 두 개의 값을 서로 바꾸는 예제\n",
        "\n",
        "# num1이라는 변수에 100을 저장함.\n",
        "num1 = 100\n",
        "# num2이라는 변수에 200을 저장함\n",
        "num2 = 200\n",
        "#num1의 데이터 타입을 확인하는 방법\n",
        "print(type(num1))\n",
        "# num1 변수에 num1의 값, num2변수에 num2의 값을 출력해라\n",
        "print(\"num1 : \", num1, \"num2 : \", num2)\n",
        "\n",
        "# 두 개의 변수값을 바꾸기 위해서는 임시변수가 필요하다.\n",
        "temp = num1\n",
        "num1 = num2\n",
        "num2 = temp\n",
        "print(\"num1: \", num1, \"num2: \", num2)"
      ]
    },
    {
      "cell_type": "code",
      "execution_count": null,
      "metadata": {
        "colab": {
          "base_uri": "https://localhost:8080/"
        },
        "id": "xt1lnk5cnwkf",
        "outputId": "5a6bd7f3-e5e0-4cca-f032-52c4ba042136"
      },
      "outputs": [
        {
          "name": "stdout",
          "output_type": "stream",
          "text": [
            "참석자 수를 입력하세요 : 3\n",
            "<class 'int'>\n",
            "치킨의 수:  3\n",
            "맥주의 수:  6\n",
            "케익의 수:  12\n"
          ]
        }
      ],
      "source": [
        " # 사용자로부터 참석하는 인원의 수를 받아 해당하는 인원의 수에 따라서\n",
        " # 치킨은 인원당 1마리, 맥주는 인원당 2병, 케익은 인원당 4개를 출력하는\n",
        " # 프로그램을 작성하시오\n",
        " # input() 함수는 사용자로부터 입력을 받는 용도인데 문자열 형태로 저장된다.\n",
        " # 문자열을 숫자로 바꾸기 위해서 int() 함수를 사용하였다.\n",
        "number = int(input(\"참석자 수를 입력하세요 : \"))\n",
        "print(type(number))\n",
        "chickens = number\n",
        "beers = number * 2\n",
        "cakes = number * 4\n",
        "print(\"치킨의 수: \", chickens)\n",
        "print(\"맥주의 수: \", beers)\n",
        "print(\"케익의 수: \", cakes)"
      ]
    },
    {
      "cell_type": "code",
      "execution_count": null,
      "metadata": {
        "colab": {
          "base_uri": "https://localhost:8080/"
        },
        "id": "zfDZvGCiqkJM",
        "outputId": "c88db482-aaa1-4461-f318-003dd14b8dff"
      },
      "outputs": [
        {
          "name": "stdout",
          "output_type": "stream",
          "text": [
            "첫 번째 정수 : 1\n",
            "두 번째 정수 : 2\n",
            "두 수의 합:  3\n"
          ]
        }
      ],
      "source": [
        "# 사용자로부터 두 개의 정수를 입력받아서 두 수의 합을 구하는 프로그램을 만드는 방법\n",
        "\n",
        "x = int(input(\"첫 번째 정수 : \"))\n",
        "y = int(input(\"두 번째 정수 : \"))\n",
        "sum = x + y\n",
        "print(\"두 수의 합: \", sum)"
      ]
    },
    {
      "cell_type": "code",
      "execution_count": null,
      "metadata": {
        "colab": {
          "base_uri": "https://localhost:8080/"
        },
        "id": "z1zhqFWLr7bO",
        "outputId": "5565d9b6-db78-4aff-d9e0-97a7a49a11d6"
      },
      "outputs": [
        {
          "name": "stdout",
          "output_type": "stream",
          "text": [
            "최대로 살 수 있는 사탕의 개수:  41\n",
            "최대로 살 수 있는 사탕을 구입하고 남은 돈:  80\n"
          ]
        }
      ],
      "source": [
        "# 한 사람이 돈이 5,000원이 있는데 사탕의 가격이 120원이라면 최대로 살 수 있는 사탕의 수는 몇 개인지\n",
        "# 알아보는 프로그램\n",
        "\n",
        "money = 5000\n",
        "candy = 120\n",
        "# 최대로 살 수 있는 사탕의 개수\n",
        "# /를 하나로 넣으면 실수, //적용하면 정수로 출력된다.\n",
        "numcandies = money // candy\n",
        "print(\"최대로 살 수 있는 사탕의 개수: \", numcandies)\n",
        "\n",
        "# 최대로 살 수 있는 사탕을 구입하고 남은 돈\n",
        "change = money % candy\n",
        "print(\"최대로 살 수 있는 사탕을 구입하고 남은 돈: \", change)"
      ]
    },
    {
      "cell_type": "code",
      "execution_count": null,
      "metadata": {
        "colab": {
          "base_uri": "https://localhost:8080/"
        },
        "id": "voMW_Pf1syw_",
        "outputId": "3b1d93b1-0572-4798-8327-3ebe7df16158"
      },
      "outputs": [
        {
          "name": "stdout",
          "output_type": "stream",
          "text": [
            "고양이의 수1\n",
            "강아지의 수2\n",
            "고양이는 1 마리이고 트릿은 4 개가 필요하며 강아지는 2 마이리고 개껌은 4 개가 필요하다.\n"
          ]
        }
      ],
      "source": [
        "# 반려동물 박람회에 놀러 온 고양이 한 마리 당 트릿을 4개, 강아지 한 마리당 개껌을 2개를 주는 프로그램\n",
        "\n",
        "cat = int(input(\"고양이의 수\"))\n",
        "dog = int(input(\"강아지의 수\"))\n",
        "t = cat * 4\n",
        "g = dog * 2\n",
        "print(\"고양이는\", cat, \"마리이고\", \"트릿은\", t, \"개가 필요하며\", \"강아지는\", dog, \"마이리고\", \"개껌은\", g, \"개가 필요하다.\")"
      ]
    },
    {
      "cell_type": "code",
      "execution_count": null,
      "metadata": {
        "colab": {
          "base_uri": "https://localhost:8080/"
        },
        "id": "q7hfaZgyuwBc",
        "outputId": "7ed0ed7d-7aa8-4ade-9e72-d2ad2277a0b4"
      },
      "outputs": [
        {
          "name": "stdout",
          "output_type": "stream",
          "text": [
            "Hello World\n"
          ]
        }
      ],
      "source": [
        "print(\"Hello World\")"
      ]
    },
    {
      "cell_type": "code",
      "execution_count": null,
      "metadata": {
        "colab": {
          "base_uri": "https://localhost:8080/"
        },
        "id": "U58KzdRKvF-u",
        "outputId": "f3956f0c-9ee1-4214-ebd2-e385e810f01f"
      },
      "outputs": [
        {
          "name": "stdout",
          "output_type": "stream",
          "text": [
            "Mary's cosmetics\n"
          ]
        }
      ],
      "source": [
        "print(\"Mary's cosmetics\")"
      ]
    },
    {
      "cell_type": "code",
      "execution_count": null,
      "metadata": {
        "colab": {
          "base_uri": "https://localhost:8080/"
        },
        "id": "6M9EaBpkvQjU",
        "outputId": "951ccb30-9277-438d-bcf8-d8c5b69ecbb7"
      },
      "outputs": [
        {
          "name": "stdout",
          "output_type": "stream",
          "text": [
            "신씨가 소리질렀다. \"도둑이야.\"\n"
          ]
        }
      ],
      "source": [
        "print('신씨가 소리질렀다. \"도둑이야.\"')"
      ]
    },
    {
      "cell_type": "code",
      "execution_count": null,
      "metadata": {
        "colab": {
          "base_uri": "https://localhost:8080/"
        },
        "id": "BsKh7hfyvWsw",
        "outputId": "c6eefa78-a79d-47e8-8072-5afb647c1166"
      },
      "outputs": [
        {
          "name": "stdout",
          "output_type": "stream",
          "text": [
            "\"C:|Wintdows\"\n"
          ]
        }
      ],
      "source": [
        "print('\"C:|Wintdows\"')"
      ]
    },
    {
      "cell_type": "code",
      "execution_count": null,
      "metadata": {
        "colab": {
          "base_uri": "https://localhost:8080/"
        },
        "id": "O4MV1ocBvjfH",
        "outputId": "ede22273-6aca-4622-b465-6a05eeedca59"
      },
      "outputs": [
        {
          "name": "stdout",
          "output_type": "stream",
          "text": [
            "안녕하세요.\n",
            "만나서\t\t반갑습니다.\n"
          ]
        }
      ],
      "source": [
        "print(\"안녕하세요.\\n만나서\\t\\t반갑습니다.\")"
      ]
    },
    {
      "cell_type": "code",
      "execution_count": null,
      "metadata": {
        "colab": {
          "base_uri": "https://localhost:8080/"
        },
        "id": "zuPopizavyoG",
        "outputId": "90a4ef03-3d73-49b2-e5d9-1767a3a76223"
      },
      "outputs": [
        {
          "name": "stdout",
          "output_type": "stream",
          "text": [
            "오늘은 일요일\n"
          ]
        }
      ],
      "source": [
        "print(\"오늘은\", \"일요일\")"
      ]
    },
    {
      "cell_type": "code",
      "execution_count": null,
      "metadata": {
        "colab": {
          "base_uri": "https://localhost:8080/"
        },
        "id": "e7yP11rDv6Qw",
        "outputId": "2820dffa-5ab4-401a-e241-0caa3b60a42a"
      },
      "outputs": [
        {
          "name": "stdout",
          "output_type": "stream",
          "text": [
            "naver;kakao;sk;samsung\n"
          ]
        }
      ],
      "source": [
        "print(\"naver;kakao;sk;samsung\")"
      ]
    },
    {
      "cell_type": "code",
      "execution_count": null,
      "metadata": {
        "colab": {
          "base_uri": "https://localhost:8080/"
        },
        "id": "XEvGgy6hwDkL",
        "outputId": "1df594c8-bc4f-4018-95ea-648acfdb2e1c"
      },
      "outputs": [
        {
          "name": "stdout",
          "output_type": "stream",
          "text": [
            "naver;kakao;sk;samsung\n"
          ]
        }
      ],
      "source": [
        "print(\"naver\", \"kakao\", \"sk\", \"samsung\", sep=\";\")"
      ]
    },
    {
      "cell_type": "code",
      "execution_count": null,
      "metadata": {
        "colab": {
          "base_uri": "https://localhost:8080/"
        },
        "id": "RVMzmieZwT_l",
        "outputId": "bb1943f4-d6e7-4fc1-a9ad-a9b836015817"
      },
      "outputs": [
        {
          "name": "stdout",
          "output_type": "stream",
          "text": [
            "naver/kakao/sk/samsung\n"
          ]
        }
      ],
      "source": [
        "print(\"naver\", \"kakao\", \"sk\", \"samsung\", sep=\"/\")"
      ]
    },
    {
      "cell_type": "code",
      "execution_count": null,
      "metadata": {
        "colab": {
          "base_uri": "https://localhost:8080/"
        },
        "id": "URseTjNVwjEX",
        "outputId": "ed5df860-2d05-4119-f3f7-2dea2a4e680d"
      },
      "outputs": [
        {
          "name": "stdout",
          "output_type": "stream",
          "text": [
            "first second\n"
          ]
        }
      ],
      "source": [
        "print(\"first\", \"second\")"
      ]
    },
    {
      "cell_type": "code",
      "execution_count": null,
      "metadata": {
        "colab": {
          "base_uri": "https://localhost:8080/"
        },
        "id": "vp-PnPunwvHn",
        "outputId": "a15f6553-5866-4ef6-aeff-c4ffc04c690f"
      },
      "outputs": [
        {
          "name": "stdout",
          "output_type": "stream",
          "text": [
            "firstsecond\n"
          ]
        }
      ],
      "source": [
        "print(\"first\", end=\"\"); print(\"second\")"
      ]
    },
    {
      "cell_type": "code",
      "execution_count": null,
      "metadata": {
        "colab": {
          "base_uri": "https://localhost:8080/"
        },
        "id": "0UR6Yj8ow4pB",
        "outputId": "c3e82a7d-9083-4c3b-a790-b97990053daf"
      },
      "outputs": [
        {
          "name": "stdout",
          "output_type": "stream",
          "text": [
            "1.6666666666666667\n"
          ]
        }
      ],
      "source": [
        "print(5/3)"
      ]
    },
    {
      "cell_type": "code",
      "execution_count": null,
      "metadata": {
        "colab": {
          "base_uri": "https://localhost:8080/"
        },
        "id": "IoITdyerw-Ju",
        "outputId": "64fd2d46-d1c1-4600-817d-8e66230c77de"
      },
      "outputs": [
        {
          "name": "stdout",
          "output_type": "stream",
          "text": [
            "500000\n"
          ]
        }
      ],
      "source": [
        "삼성전자 = int(50000)\n",
        "총평가금액 = 삼성전자 * 10\n",
        "print(총평가금액)"
      ]
    },
    {
      "cell_type": "code",
      "execution_count": null,
      "metadata": {
        "colab": {
          "base_uri": "https://localhost:8080/"
        },
        "id": "6nnrT8Yexfos",
        "outputId": "8f785648-78c2-4a65-a2e9-8330cdf33701"
      },
      "outputs": [
        {
          "name": "stdout",
          "output_type": "stream",
          "text": [
            "hello!python\n"
          ]
        }
      ],
      "source": [
        "s = \"hello\"\n",
        "t = \"python\"\n",
        "print(s, t, sep=\"!\")"
      ]
    },
    {
      "cell_type": "code",
      "execution_count": null,
      "metadata": {
        "colab": {
          "base_uri": "https://localhost:8080/"
        },
        "id": "MkSod9jxyAmK",
        "outputId": "988c414a-bcea-4be1-f033-3a97e0a45250"
      },
      "outputs": [
        {
          "name": "stdout",
          "output_type": "stream",
          "text": [
            "hello!python\n"
          ]
        }
      ],
      "source": [
        "print(s + \"!\" + t)"
      ]
    },
    {
      "cell_type": "code",
      "execution_count": null,
      "metadata": {
        "colab": {
          "base_uri": "https://localhost:8080/"
        },
        "id": "_4b2Aw4i0ou7",
        "outputId": "e05762c7-7be5-44df-a1fb-43abb96c2cdb"
      },
      "outputs": [
        {
          "name": "stdout",
          "output_type": "stream",
          "text": [
            "hello! python\n"
          ]
        }
      ],
      "source": [
        "print(s + \"!\", t)"
      ]
    },
    {
      "cell_type": "code",
      "execution_count": null,
      "metadata": {
        "colab": {
          "base_uri": "https://localhost:8080/"
        },
        "id": "z79gxI-S0whd",
        "outputId": "5e72adc5-62a6-4638-c59d-213682692df7"
      },
      "outputs": [
        {
          "name": "stdout",
          "output_type": "stream",
          "text": [
            "<class 'str'>\n"
          ]
        }
      ],
      "source": [
        "a = \"132\"\n",
        "print(type(a))"
      ]
    },
    {
      "cell_type": "code",
      "execution_count": null,
      "metadata": {
        "colab": {
          "base_uri": "https://localhost:8080/"
        },
        "id": "TmnkORGI1EEC",
        "outputId": "5d747f25-3fd5-420f-9d89-8384bec123d7"
      },
      "outputs": [
        {
          "name": "stdout",
          "output_type": "stream",
          "text": [
            "720 <class 'int'>\n"
          ]
        }
      ],
      "source": [
        "num_str = \"720\"\n",
        "num_str = int(num_str)\n",
        "print(num_str, type(num_str))"
      ]
    },
    {
      "cell_type": "code",
      "execution_count": null,
      "metadata": {
        "colab": {
          "base_uri": "https://localhost:8080/"
        },
        "id": "VZY__7DF1Zad",
        "outputId": "b53d79e7-8c05-4c93-f983-ebb48c5ff6d2"
      },
      "outputs": [
        {
          "name": "stdout",
          "output_type": "stream",
          "text": [
            "721 <class 'int'>\n"
          ]
        }
      ],
      "source": [
        "num_str = \"720\"  #형변환\n",
        "num_int = int(num_str)\n",
        "print(num_int+1, type(num_int))"
      ]
    },
    {
      "cell_type": "code",
      "execution_count": null,
      "metadata": {
        "colab": {
          "base_uri": "https://localhost:8080/"
        },
        "id": "FUs0G4oC4_qt",
        "outputId": "a34e67da-d852-44f9-ecfd-48088cc3c278"
      },
      "outputs": [
        {
          "name": "stdout",
          "output_type": "stream",
          "text": [
            "100 <class 'str'>\n"
          ]
        }
      ],
      "source": [
        "num = 100\n",
        "int = str(num)\n",
        "print(int, type(int))"
      ]
    },
    {
      "cell_type": "code",
      "execution_count": null,
      "metadata": {
        "colab": {
          "base_uri": "https://localhost:8080/"
        },
        "id": "kjc0Plc25L4f",
        "outputId": "dab9feab-dbf8-4681-bf56-075dadfd5c09"
      },
      "outputs": [
        {
          "name": "stdout",
          "output_type": "stream",
          "text": [
            "15.79 <class 'float'>\n"
          ]
        }
      ],
      "source": [
        "str = \"15.79\"\n",
        "float = float(str)\n",
        "print(float, type(float))"
      ]
    },
    {
      "cell_type": "code",
      "execution_count": null,
      "metadata": {
        "colab": {
          "base_uri": "https://localhost:8080/"
        },
        "id": "fI0Q_vvW6QnD",
        "outputId": "e333f549-7133-4d3c-e227-34dc7e4dc578"
      },
      "outputs": [
        {
          "name": "stdout",
          "output_type": "stream",
          "text": [
            "1747440\n"
          ]
        }
      ],
      "source": [
        "에어컨 = 48540 * 36\n",
        "print(에어컨)"
      ]
    },
    {
      "cell_type": "code",
      "execution_count": null,
      "metadata": {
        "colab": {
          "base_uri": "https://localhost:8080/"
        },
        "id": "ba1UjTDP9Lut",
        "outputId": "52f0a9bf-69c4-4602-fb9d-f866d179905a"
      },
      "outputs": [
        {
          "name": "stdout",
          "output_type": "stream",
          "text": [
            "고양이 : 2\n",
            "고양이 :  2 츄르 :  4\n"
          ]
        }
      ],
      "source": [
        "cat = int(input(\"고양이 : \"))\n",
        "chu = cat * 2\n",
        "print(\"고양이 : \", cat, \"츄르 : \", chu)"
      ]
    },
    {
      "cell_type": "code",
      "execution_count": null,
      "metadata": {
        "colab": {
          "base_uri": "https://localhost:8080/"
        },
        "id": "e0i5C-KzErVL",
        "outputId": "d895afed-5094-4191-8ab2-d52764115b70"
      },
      "outputs": [
        {
          "name": "stdout",
          "output_type": "stream",
          "text": [
            "용남이 말했다. \"제발 그만해\"\n"
          ]
        }
      ],
      "source": [
        "message = \"용남이 말했다. \\\"제발 그만해\\\"\"\n",
        "print(message)"
      ]
    },
    {
      "cell_type": "code",
      "execution_count": null,
      "metadata": {
        "colab": {
          "base_uri": "https://localhost:8080/",
          "height": 35
        },
        "id": "513uFMb2Z2Gm",
        "outputId": "9de560bd-96af-4ae4-89a0-414ef445e476"
      },
      "outputs": [
        {
          "data": {
            "application/vnd.google.colaboratory.intrinsic+json": {
              "type": "string"
            },
            "text/plain": [
              "'Python'"
            ]
          },
          "execution_count": 4,
          "metadata": {},
          "output_type": "execute_result"
        }
      ],
      "source": [
        "'Py' 'thon'"
      ]
    },
    {
      "cell_type": "code",
      "execution_count": null,
      "metadata": {
        "colab": {
          "base_uri": "https://localhost:8080/"
        },
        "id": "z5zHsq6hwZdD",
        "outputId": "ef4d2e57-d03c-487d-951c-96ff526c9f9e"
      },
      "outputs": [
        {
          "name": "stdout",
          "output_type": "stream",
          "text": [
            "물건의 가격은 10000 원 입니다.\n"
          ]
        }
      ],
      "source": [
        "price = 10000\n",
        "print(\"물건의 가격은\", price, \"원 입니다.\")"
      ]
    },
    {
      "cell_type": "code",
      "execution_count": null,
      "metadata": {
        "colab": {
          "base_uri": "https://localhost:8080/"
        },
        "id": "t72p9JZY3FJh",
        "outputId": "282a1bb4-e370-45d1-9a11-076f232ec5d4"
      },
      "outputs": [
        {
          "name": "stdout",
          "output_type": "stream",
          "text": [
            "상품의 가격은 10000원 입니다.\n"
          ]
        }
      ],
      "source": [
        "price = 10000\n",
        "print(\"상품의 가격은 %s원 입니다.\" %price)"
      ]
    },
    {
      "cell_type": "code",
      "execution_count": null,
      "metadata": {
        "colab": {
          "base_uri": "https://localhost:8080/"
        },
        "id": "peZYAFbr3YxJ",
        "outputId": "857e92fe-4182-42cd-de37-5b0997b3c123"
      },
      "outputs": [
        {
          "name": "stdout",
          "output_type": "stream",
          "text": [
            "오늘은 3 월 13 일 입니다.\n"
          ]
        }
      ],
      "source": [
        "month = 3\n",
        "day = 13\n",
        "print(\"오늘은\", month, \"월\", day, \"일 입니다.\")"
      ]
    },
    {
      "cell_type": "code",
      "execution_count": null,
      "metadata": {
        "colab": {
          "base_uri": "https://localhost:8080/"
        },
        "id": "89CPaliU3uBz",
        "outputId": "a68bce03-136e-44f1-92c1-5e9a7f83535b"
      },
      "outputs": [
        {
          "name": "stdout",
          "output_type": "stream",
          "text": [
            "오늘은 3월 13일 입니다.\n"
          ]
        }
      ],
      "source": [
        "message = \"오늘은 %s월 %s일 입니다.\"\n",
        "print(message%(3, 13))"
      ]
    },
    {
      "cell_type": "code",
      "execution_count": null,
      "metadata": {
        "colab": {
          "base_uri": "https://localhost:8080/"
        },
        "id": "s4vSvrHk4Z-4",
        "outputId": "a2d0e74f-256e-4fe1-9653-64c2bd6b05dc"
      },
      "outputs": [
        {
          "name": "stdout",
          "output_type": "stream",
          "text": [
            "t\n"
          ]
        }
      ],
      "source": [
        "text = \"python\"\n",
        "print(text[2])"
      ]
    },
    {
      "cell_type": "code",
      "execution_count": null,
      "metadata": {
        "colab": {
          "base_uri": "https://localhost:8080/"
        },
        "id": "Y2yYaZWa7D8q",
        "outputId": "a66dac0c-5f03-40d7-bce9-44a3de4bf87c"
      },
      "outputs": [
        {
          "name": "stdout",
          "output_type": "stream",
          "text": [
            "<class 'int'>\n",
            "<class 'float'>\n",
            "<class 'str'>\n"
          ]
        }
      ],
      "source": [
        "# 파이썬에서의 자료형(data-type)\n",
        "# int형을 출력해봄\n",
        "print(type(17))\n",
        "# float 형을 출력해봄\n",
        "print(type(10.221))\n",
        "# str형을 출력해봄\n",
        "print(type(\"안녕하세요.\"))"
      ]
    },
    {
      "cell_type": "code",
      "execution_count": null,
      "metadata": {
        "colab": {
          "base_uri": "https://localhost:8080/"
        },
        "id": "fm1Gr0LBEupK",
        "outputId": "68a740d9-9f67-42ce-d754-1552a84b7290"
      },
      "outputs": [
        {
          "name": "stdout",
          "output_type": "stream",
          "text": [
            "물건값을 입력하세요 :1000\n",
            "1000원 개수 입력 : 3\n",
            "500원 개수 입력 : 2\n",
            "100원 개수 입력1\n",
            "500원 개수 :  6 100원 개수 :  1\n"
          ]
        }
      ],
      "source": [
        "# 자동 판매기를 시뮬레이션하는 프로그램을 작성하는데 사용자는 1000원 지폐와\n",
        "# 500원, 100원짜리 동전을 사용할 수 있다. 물건값을 사용자로부터 입력을 받아서\n",
        "# 1000원권 지혜, 500원, 100원 동전의 개수를 입력하면 거스름돈을 계산해서\n",
        "# 동전으로 반환하는 프로그램을 만들어보자\n",
        "\n",
        "item_price = int(input(\"물건값을 입력하세요 :\"))\n",
        "bills_1000 = int(input(\"1000원 개수 입력 : \"))\n",
        "coin_500 = int(input(\"500원 개수 입력 : \"))\n",
        "coin_100 = int(input(\"100원 개수 입력\"))\n",
        "\n",
        "# 거스름돈 구하기\n",
        "nod_money = (bills_1000 * 1000) + (coin_500 * 500) + (coin_100 * 100) - item_price\n",
        "\n",
        "#  거스름돈(500원 동전 개수)를 계산\n",
        "ncoin500 = nod_money // 500\n",
        "nod_money = nod_money % 500 #500원으로 나눈 나머지 값\n",
        "\n",
        "# 거스름돈(100원 동전 개수)를 계산\n",
        "ncoin100 = nod_money // 100\n",
        "nod_money = nod_money % 100 #100원으로 나눈 나머지 값\n",
        "\n",
        "print(\"500원 개수 : \", ncoin500, \"100원 개수 : \", ncoin100)"
      ]
    },
    {
      "cell_type": "code",
      "execution_count": null,
      "metadata": {
        "colab": {
          "base_uri": "https://localhost:8080/"
        },
        "id": "BVE757O7FbAa",
        "outputId": "68013133-be6b-4021-e9d9-f8b5c9e8d166"
      },
      "outputs": [
        {
          "name": "stdout",
          "output_type": "stream",
          "text": [
            "Happy New Year 2022\n",
            "19\n"
          ]
        }
      ],
      "source": [
        "# 문자열에 대한 실습\n",
        "welcome = \"Happy New Year 2022\"\n",
        "print(welcome)\n",
        "print(len(welcome))\n"
      ]
    },
    {
      "cell_type": "code",
      "execution_count": null,
      "metadata": {
        "colab": {
          "base_uri": "https://localhost:8080/"
        },
        "id": "aGy06oQYO6dW",
        "outputId": "dba4d1fa-e1ea-4894-f7ce-a42794903e42"
      },
      "outputs": [
        {
          "name": "stdout",
          "output_type": "stream",
          "text": [
            "p\n"
          ]
        }
      ],
      "source": [
        "print(welcome[3])"
      ]
    },
    {
      "cell_type": "code",
      "execution_count": null,
      "metadata": {
        "id": "1z2Ah5oOPFEx"
      },
      "outputs": [],
      "source": [
        "message = r\"c:\\temp\\name\""
      ]
    },
    {
      "cell_type": "code",
      "execution_count": null,
      "metadata": {
        "colab": {
          "base_uri": "https://localhost:8080/"
        },
        "id": "6o6CuHU0RMF7",
        "outputId": "6b159155-719b-404d-9255-c9b21636cc9d"
      },
      "outputs": [
        {
          "name": "stdout",
          "output_type": "stream",
          "text": [
            "c:\\temp\\name\n"
          ]
        }
      ],
      "source": [
        "print(message)"
      ]
    },
    {
      "cell_type": "code",
      "execution_count": null,
      "metadata": {
        "colab": {
          "base_uri": "https://localhost:8080/"
        },
        "id": "FMOoUVlxROlJ",
        "outputId": "138ea72d-2e33-48d8-9796-5549a4f3caec"
      },
      "outputs": [
        {
          "name": "stdout",
          "output_type": "stream",
          "text": [
            "문자열의 길이 :  5\n"
          ]
        }
      ],
      "source": [
        "# 문자열(한글, 영어 상관 없음)의 길이를 알고자 한다면 len() 함수를 이용한다.\n",
        "message = \"world\"\n",
        "print(\"문자열의 길이 : \", len(message))"
      ]
    },
    {
      "cell_type": "code",
      "execution_count": null,
      "metadata": {
        "colab": {
          "base_uri": "https://localhost:8080/"
        },
        "id": "kf2lrxAWRrOk",
        "outputId": "f9793c2a-5aeb-4caf-9588-e83d1cd1e184"
      },
      "outputs": [
        {
          "name": "stdout",
          "output_type": "stream",
          "text": [
            "ParkSihyun\n",
            "person100\n",
            "<class 'int'>\n",
            "__________\n",
            "가격 : 1000\n",
            "시간 : 17:10\n",
            "현재시간 :  현재 시간은 17시 18분 52초 입니다.\n"
          ]
        }
      ],
      "source": [
        "# 문자열의 연결\n",
        "# + 연산자는 문자열 사이에 들어가면 문자열을 연결해주는 역할을 한다.\n",
        "first_name = \"Sihyun\"\n",
        "last_name = \"Park\"\n",
        "name = last_name + first_name\n",
        "print(name)\n",
        "\n",
        "# 파이썬에서 모든 데이터에는 데이터 타입이 존재한다. 데이터 타입이 일치하지 않는 경우\n",
        "# 연결이 불가능하여 에러가 발생한다.\n",
        "# 예를 들어\n",
        "# temp = \"person\" + 100\n",
        "# print(temp)\n",
        "# 위의 코드를 실행하면 실행되지 않는데, 이 경우 str() 함수를 이용하여 정수를 문자열로 변환시켜\n",
        "# 타입을 서로 일치시켜야 + 연산자가 문자열을 연결해주는데 문제가 없다.\n",
        "\n",
        "temp = \"person\" + str(100)\n",
        "print(temp)\n",
        "\n",
        "# 문자열을 숫자로 변환\n",
        "# 정수일때는 int()함수를 사용하면 된다. 실수일때는 float() 함수를 사용하면 된다\n",
        "price = int(\"123456\")\n",
        "print(type(price))\n",
        "\n",
        "# 문자열의 반복\n",
        "# 문자열에서 * 연산자를 사용하면 그 만큼 반복이 된다.\n",
        "line = \"_\"\n",
        "print(line * 10)\n",
        "\n",
        "# %s (형식 지정자)\n",
        "# %s는 문자열이나 숫자값을 변수에 대입해서 자주 변경이 있을 경우 이런 형식을 지정하여\n",
        "# 상황에 맞게끔 출력을 하도록 하면 될 것이다.\n",
        "# %s에 정수를 대입\n",
        "price = 1000\n",
        "print(\"가격 : %s\" %price)\n",
        "\n",
        "time = \"17:10\"\n",
        "print(\"시간 : %s\" %time)\n",
        "\n",
        "# %s를 2개 이상을 사용하고자 할 때는 해당하는 %s의 개수만큼 소괄호로 묶어서\n",
        "# 형식지정자에 대입해줘야한다.\n",
        "temp = \"현재 시간은 %s시 %s분 %s초 입니다.\"\n",
        "print(\"현재시간 : \", temp %(17, 18, 52))"
      ]
    },
    {
      "cell_type": "code",
      "execution_count": null,
      "metadata": {
        "colab": {
          "base_uri": "https://localhost:8080/"
        },
        "id": "HGQDV6QeXq3V",
        "outputId": "93cd19ac-7e38-42e6-eb71-ac7b0a42ff95"
      },
      "outputs": [
        {
          "name": "stdout",
          "output_type": "stream",
          "text": [
            "6\n",
            "t\n",
            "n\n",
            "n\n",
            "첫 번째 단어 : 개똥아\n",
            "두 번째 단어 : 똥먹니\n",
            "세 번째 단어 : 아니오\n",
            "새로 만든 문자열 :  개 똥 아\n",
            "첫 번째 단어 : 개똥아\n",
            "두 번째 단어 : 똥먹니\n",
            "세 번째 단어 : 아니오\n",
            "새로 만든 문자열 : 개똥아\n"
          ]
        }
      ],
      "source": [
        "# 문자열의 인덱싱\n",
        "# 인덱싱이란 문자열에서 문자를 추출하는데 문자열에는 각각에 해당하는 문자의 번호(인덱스)가 존재한다.\n",
        "# [인덱스] 하면 문자열에서 문자를 추출할 수가 있다.\n",
        "# 인덱스라 함은 무조건 0부터 시작이 된다. 마지막 인덱스는 항상 n-1이 성립된다.\n",
        "# 파이썬 특수기능인 인덱스를 처리할 때 음수도 사용이 가능하다.\n",
        "\n",
        "word = \"Python\"\n",
        "print(len(word))\n",
        "print(word[2])\n",
        "print(word[5])\n",
        "# len(word)는 어차피 문자열의 길이인 6일 반환하기 때문에 -1을 해주면 끝 문자를 반환해준다.\n",
        "# 엄청 긴 문자열의 끝 문자를 추출하는데 효율적임\n",
        "print(word[len(word)-1])\n",
        "\n",
        "# 파이썬에서는 한 번 작성된 문자열은 변경이 불가능하다\n",
        "\n",
        "# 사용자로부터 문자열을 입력을 3개를 받도록한다. 각 해당 문자열의 첫 번째 문자를 인덱싱하여\n",
        "# 문자들을 합쳐서 문자열로 만드는 프로그램을 만들어보자\n",
        "\n",
        "# 내가 한거\n",
        "text1 = input(\"첫 번째 단어 : \")\n",
        "text2 = input(\"두 번째 단어 : \")\n",
        "text3 = input(\"세 번째 단어 : \")\n",
        "print(\"새로 만든 문자열 : \", text1[0], text2[0], text3[0])\n",
        "\n",
        "# 인프런 강사님이 한거\n",
        "text1 = input(\"첫 번째 단어 : \")\n",
        "text2 = input(\"두 번째 단어 : \")\n",
        "text3 = input(\"세 번째 단어 : \")\n",
        "# 위의 3개의 문자열 중 첫 번째 단어만 추출하여 또 다른 문자열을 만들고 있다.\n",
        "word = text1[0] + text2[0] + text3[0]\n",
        "print(\"새로 만든 문자열 : \" + word)"
      ]
    },
    {
      "cell_type": "code",
      "execution_count": null,
      "metadata": {
        "colab": {
          "base_uri": "https://localhost:8080/"
        },
        "id": "eH8zdgw2YIHB",
        "outputId": "134ca040-157a-4f92-9184-856da7c1e338"
      },
      "outputs": [
        {
          "name": "stdout",
          "output_type": "stream",
          "text": [
            "5\n",
            "<class 'list'>\n",
            "대구\n",
            "['서울', '전주', '대구', '광주', '인천']\n",
            "['대구', '부산', 100, 10.798]\n",
            "이름을 입력하시오 : 박시현\n",
            "나이를 입력하시오 : 29\n",
            "주소를 입력하시오 : 서울\n",
            "키를 입력하시오 : 158\n",
            "몸무게를 입력하시오 : 50\n",
            "이 사람의 정보는 ['박시현', 29, '서울', 158, 50] 입니다.\n"
          ]
        }
      ],
      "source": [
        "# 리스트에 대한 실습\n",
        "# 리스트의 정의 : 여러 개의 값을 모아서 하나의 변수에 저장할 수가 있는 데이터 타입.\n",
        "# 아주 유용하게 널리 사용된다. 리스트는 [ ] 안에 값을 저장한다.\n",
        "city = [\"서울\", \"부산\", \"대구\", \"광주\", \"인천\"]\n",
        "# 리스트의 길이를 알아내고 싶을 때에도 역시 en() 함수는 사용하면 된다.\n",
        "print(len(city))\n",
        "print(type(city))\n",
        "print(city[2])\n",
        "# 리스트는 아래와 같이 해당하는 인덱스의 값이 변경 가능한 객체이다.\n",
        "city[1] = \"전주\"\n",
        "print(city)\n",
        "# 리스트의 정수, 문자열에 국한되지 않고 여러개의 값을 저장할 수 있다.\n",
        "temp = [\"대구\", \"부산\", 100, 10.798]\n",
        "print(temp)\n",
        "\n",
        "# 한 사람의 정보를 출력\n",
        "name = input(\"이름을 입력하시오 : \")\n",
        "age = int(input(\"나이를 입력하시오 : \"))\n",
        "ad = input(\"주소를 입력하시오 : \")\n",
        "tall = int(input(\"키를 입력하시오 : \"))\n",
        "weight = int(input(\"몸무게를 입력하시오 : \"))\n",
        "person = [name, age, ad, tall, weight]\n",
        "print(\"이 사람의 정보는\", person, \"입니다.\")"
      ]
    },
    {
      "cell_type": "code",
      "execution_count": null,
      "metadata": {
        "colab": {
          "base_uri": "https://localhost:8080/"
        },
        "id": "poP5shA22xmG",
        "outputId": "96e7c11f-1937-4cee-f7de-040a8287afba"
      },
      "outputs": [
        {
          "name": "stdout",
          "output_type": "stream",
          "text": [
            "성적을 입력하시오 : 55\n",
            "F 입니다.\n"
          ]
        }
      ],
      "source": [
        "# 성적을 입력하면 등급을 알려주는 프로그램\n",
        "\n",
        "score = int(input(\"성적을 입력하시오 : \"))\n",
        "\n",
        "# 성적이 95점 이상이면 A+\n",
        "if score >= 95:\n",
        "  print(\"A+ 입니다.\")\n",
        "# 성적이 90점 이상이면 A\n",
        "elif score >= 90:\n",
        "  print(\"A 입니다.\")\n",
        "# 성적이 85점 이상이면 B+\n",
        "elif score >= 85:\n",
        "  print(\"B+ 입니다.\")\n",
        "# 성적이 80점 이상이면 B\n",
        "elif score >= 80:\n",
        "  print(\"B 입니다.\")\n",
        "# 성적이 75점 이상이면 C+\n",
        "elif score >= 75:\n",
        "  print(\"C+ 입니다.\")\n",
        "# 성적이 70점 이상이면 C\n",
        "elif score >= 70:\n",
        "  print(\"C 입니다.\")\n",
        "# 성적이 65점 이상이면 D\n",
        "elif score >= 65:\n",
        "  print(\"D 입니다.\")\n",
        "# 전부 아닐 경우 F\n",
        "else:\n",
        "  print(\"F 입니다.\")"
      ]
    },
    {
      "cell_type": "code",
      "execution_count": null,
      "metadata": {
        "colab": {
          "base_uri": "https://localhost:8080/"
        },
        "id": "2PSmMhUzIXed",
        "outputId": "7b3ff124-9039-4487-f169-00bfed3cf918"
      },
      "outputs": [
        {
          "name": "stdout",
          "output_type": "stream",
          "text": [
            "불합격입니다.\n",
            "나이를 입력하세요 : 20\n",
            "주류 구입이 가능합니다.\n"
          ]
        }
      ],
      "source": [
        "# 조건문의 실습(if - else구문, if구문)\n",
        "score = 59\n",
        "# 수식(관계식)다음에 : 기호는 인터프리터에게 아직 문장이 끝나지 않았음을 알리는 기호\n",
        "# if - else 구문은 50%의 확률을 지닌다. \n",
        "if score >= 60:\n",
        "  print(\"축하드립니다. 합격입니다.\")\n",
        "else :\n",
        "  print(\"불합격입니다.\")\n",
        "\n",
        "age = int(input(\"나이를 입력하세요 : \"))\n",
        "if age > 19:\n",
        "  print(\"주류 구입이 가능합니다.\")\n",
        "else:\n",
        "  print(\"미성년자 출입 금지입니다.\")"
      ]
    },
    {
      "cell_type": "code",
      "execution_count": null,
      "metadata": {
        "colab": {
          "base_uri": "https://localhost:8080/"
        },
        "id": "wwybuWjWTNFn",
        "outputId": "4cb5f99e-a1e0-4121-9c15-39b9474b04ab"
      },
      "outputs": [
        {
          "name": "stdout",
          "output_type": "stream",
          "text": [
            "성별을 입력하세요여자\n",
            "여자입니다.\n"
          ]
        }
      ],
      "source": [
        "# 사용자로부터 성별을 입력받아서 해당하는 성별을 출력하는 프로그램 만들기\n",
        "\n",
        "gender = input(\"성별을 입력하세요\")\n",
        "if gender == \"여자\":\n",
        "  print(\"여자입니다.\")\n",
        "else:\n",
        "  print(\"남자\")"
      ]
    },
    {
      "cell_type": "code",
      "execution_count": null,
      "metadata": {
        "colab": {
          "base_uri": "https://localhost:8080/"
        },
        "id": "N8fYNLOsVXoJ",
        "outputId": "2bc22105-6774-4695-c2ee-929b9a5c68f8"
      },
      "outputs": [
        {
          "name": "stdout",
          "output_type": "stream",
          "text": [
            "<class 'bool'>\n",
            "실행됩니다.\n"
          ]
        }
      ],
      "source": [
        "# bool 변수 알아보기\n",
        "# bool 변수의 용도는 플래그 변수 형태로 사용을 많이한다.\n",
        "flag = True\n",
        "print(type(flag))\n",
        "\n",
        "if flag:\n",
        "  print(\"실행됩니다.\")"
      ]
    },
    {
      "cell_type": "code",
      "execution_count": null,
      "metadata": {
        "colab": {
          "base_uri": "https://localhost:8080/"
        },
        "id": "yq3Gh472VzM_",
        "outputId": "be54d6f8-8593-4a36-9cbc-f060181da32a"
      },
      "outputs": [
        {
          "name": "stdout",
          "output_type": "stream",
          "text": [
            "[1, 2, 3, 4, 5]\n"
          ]
        }
      ],
      "source": [
        "list = [1, 2, 3, 4, 5]\n",
        "print(list)"
      ]
    },
    {
      "cell_type": "code",
      "execution_count": null,
      "metadata": {
        "colab": {
          "base_uri": "https://localhost:8080/"
        },
        "id": "IfNZuVhgirJD",
        "outputId": "93dce346-9565-4c45-b8a9-a8506a69975c"
      },
      "outputs": [
        {
          "name": "stdout",
          "output_type": "stream",
          "text": [
            "[1, 2, 3, 4, 5, 6]\n"
          ]
        }
      ],
      "source": [
        "list.append(6)\n",
        "print(list)"
      ]
    },
    {
      "cell_type": "code",
      "execution_count": null,
      "metadata": {
        "colab": {
          "base_uri": "https://localhost:8080/"
        },
        "id": "Nz-FKyZciy7L",
        "outputId": "78e9cbb6-30bc-4969-dade-a2edec4ab906"
      },
      "outputs": [
        {
          "name": "stdout",
          "output_type": "stream",
          "text": [
            "[1, 2, 3, 4, 5, 6, 7]\n"
          ]
        }
      ],
      "source": [
        "list.append(7)\n",
        "print(list)"
      ]
    },
    {
      "cell_type": "code",
      "execution_count": null,
      "metadata": {
        "colab": {
          "base_uri": "https://localhost:8080/"
        },
        "id": "Sd_F8QNoi5-p",
        "outputId": "848225b3-91e4-433d-ffc5-deaaa74ceb77"
      },
      "outputs": [
        {
          "name": "stdout",
          "output_type": "stream",
          "text": [
            "[1, 2, 3, 4, 5, 6, 7, 'hello']\n"
          ]
        }
      ],
      "source": [
        "list.append(\"hello\")\n",
        "print(list)"
      ]
    },
    {
      "cell_type": "code",
      "execution_count": null,
      "metadata": {
        "colab": {
          "base_uri": "https://localhost:8080/"
        },
        "id": "92xY_00MjAZt",
        "outputId": "72b688a8-093c-47df-a9b7-d0b52ecab845"
      },
      "outputs": [
        {
          "name": "stdout",
          "output_type": "stream",
          "text": [
            "[1, 2, 3, 4, 5, 6, 7]\n"
          ]
        }
      ],
      "source": [
        "print(list)"
      ]
    },
    {
      "cell_type": "code",
      "execution_count": null,
      "metadata": {
        "colab": {
          "base_uri": "https://localhost:8080/"
        },
        "id": "P2y6YrXzjekr",
        "outputId": "f370ca61-cae9-4abd-c698-9c9f4c0ff5d8"
      },
      "outputs": [
        {
          "name": "stdout",
          "output_type": "stream",
          "text": [
            "[1, 2, 3, 4, 5]\n"
          ]
        }
      ],
      "source": [
        "print(list)"
      ]
    },
    {
      "cell_type": "code",
      "execution_count": null,
      "metadata": {
        "colab": {
          "base_uri": "https://localhost:8080/"
        },
        "id": "wA4WkG5ojqtf",
        "outputId": "f692f7f1-cdff-4b07-b0e5-543bcb1bff01"
      },
      "outputs": [
        {
          "name": "stdout",
          "output_type": "stream",
          "text": [
            "[1, 2, 3, 4]\n"
          ]
        }
      ],
      "source": [
        "list.remove(5)\n",
        "print(list)"
      ]
    },
    {
      "cell_type": "code",
      "execution_count": null,
      "metadata": {
        "id": "fsPle54lj1kf"
      },
      "outputs": [],
      "source": [
        "list= [1, 2, 3, 1, 2, 3]"
      ]
    },
    {
      "cell_type": "code",
      "execution_count": null,
      "metadata": {
        "colab": {
          "base_uri": "https://localhost:8080/"
        },
        "id": "jHSdywaJkP5i",
        "outputId": "5c497bb4-df06-42a1-b794-0faed4b45740"
      },
      "outputs": [
        {
          "name": "stdout",
          "output_type": "stream",
          "text": [
            "[1, 2, 3, 1, 2, 3]\n"
          ]
        }
      ],
      "source": [
        "print(list)"
      ]
    },
    {
      "cell_type": "code",
      "execution_count": null,
      "metadata": {
        "colab": {
          "base_uri": "https://localhost:8080/"
        },
        "id": "hm_V_ZEIkRGl",
        "outputId": "dbcd460b-10d2-4432-cca0-dc59c32b7cfc"
      },
      "outputs": [
        {
          "name": "stdout",
          "output_type": "stream",
          "text": [
            "[2, 3, 1, 2, 3]\n"
          ]
        }
      ],
      "source": [
        "list.remove(1)\n",
        "print(list)"
      ]
    },
    {
      "cell_type": "code",
      "execution_count": null,
      "metadata": {
        "colab": {
          "base_uri": "https://localhost:8080/"
        },
        "id": "A2B9el3okUlv",
        "outputId": "3d991683-ad98-4288-ece6-1adc224e2d38"
      },
      "outputs": [
        {
          "data": {
            "text/plain": [
              "3"
            ]
          },
          "execution_count": 23,
          "metadata": {},
          "output_type": "execute_result"
        }
      ],
      "source": [
        "list[1]"
      ]
    },
    {
      "cell_type": "code",
      "execution_count": null,
      "metadata": {
        "colab": {
          "base_uri": "https://localhost:8080/",
          "height": 174
        },
        "id": "K8zRwyuvkqnx",
        "outputId": "3157261c-b8d0-4126-83d2-68a621f82749"
      },
      "outputs": [
        {
          "ename": "TypeError",
          "evalue": "ignored",
          "output_type": "error",
          "traceback": [
            "\u001b[0;31m---------------------------------------------------------------------------\u001b[0m",
            "\u001b[0;31mTypeError\u001b[0m                                 Traceback (most recent call last)",
            "\u001b[0;32m<ipython-input-24-12d3cbbce7cc>\u001b[0m in \u001b[0;36m<module>\u001b[0;34m()\u001b[0m\n\u001b[0;32m----> 1\u001b[0;31m \u001b[0mlist\u001b[0m\u001b[0;34m.\u001b[0m\u001b[0mremove\u001b[0m\u001b[0;34m[\u001b[0m\u001b[0;36m2\u001b[0m\u001b[0;34m]\u001b[0m\u001b[0;34m\u001b[0m\u001b[0;34m\u001b[0m\u001b[0m\n\u001b[0m",
            "\u001b[0;31mTypeError\u001b[0m: 'builtin_function_or_method' object is not subscriptable"
          ]
        }
      ],
      "source": [
        "list.remove[2]"
      ]
    },
    {
      "cell_type": "code",
      "execution_count": null,
      "metadata": {
        "colab": {
          "base_uri": "https://localhost:8080/"
        },
        "id": "LK6AwfbLkwFH",
        "outputId": "fc27f043-002c-401f-f766-8a914ac5cefb"
      },
      "outputs": [
        {
          "data": {
            "text/plain": [
              "3"
            ]
          },
          "execution_count": 25,
          "metadata": {},
          "output_type": "execute_result"
        }
      ],
      "source": [
        "list[-4]"
      ]
    },
    {
      "cell_type": "code",
      "execution_count": null,
      "metadata": {
        "id": "LKRKXtAnk_OP"
      },
      "outputs": [],
      "source": [
        "list[2] = 100"
      ]
    },
    {
      "cell_type": "code",
      "execution_count": null,
      "metadata": {
        "colab": {
          "base_uri": "https://localhost:8080/"
        },
        "id": "RGqNrsWxl6_g",
        "outputId": "01306576-f5e2-4cb6-b0e1-11e522edf783"
      },
      "outputs": [
        {
          "name": "stdout",
          "output_type": "stream",
          "text": [
            "[2, 3, 100, 2, 3]\n"
          ]
        }
      ],
      "source": [
        "print(list)"
      ]
    },
    {
      "cell_type": "code",
      "execution_count": null,
      "metadata": {
        "colab": {
          "base_uri": "https://localhost:8080/"
        },
        "id": "ssjSd6xxl8dF",
        "outputId": "bcbcc372-ffe4-4964-cf6c-22adeeea0ecf"
      },
      "outputs": [
        {
          "name": "stdout",
          "output_type": "stream",
          "text": [
            "[100, 3, 100, 2, 3]\n"
          ]
        }
      ],
      "source": [
        "list[0] = 100\n",
        "print(list)"
      ]
    },
    {
      "cell_type": "code",
      "execution_count": null,
      "metadata": {
        "id": "GrOFMGz3mGLc"
      },
      "outputs": [],
      "source": [
        "list[1] = 200"
      ]
    },
    {
      "cell_type": "code",
      "execution_count": null,
      "metadata": {
        "colab": {
          "base_uri": "https://localhost:8080/"
        },
        "id": "z964TppqmLWp",
        "outputId": "823a74af-99f6-496e-9f58-a9716fb9cca4"
      },
      "outputs": [
        {
          "name": "stdout",
          "output_type": "stream",
          "text": [
            "[100, 200, 100, 2, 3]\n"
          ]
        }
      ],
      "source": [
        "print(list)"
      ]
    },
    {
      "cell_type": "code",
      "execution_count": null,
      "metadata": {
        "colab": {
          "base_uri": "https://localhost:8080/"
        },
        "id": "PDuwJb6RmRSh",
        "outputId": "25bc78c0-4881-4eb4-d49f-0ed5f0a6af4a"
      },
      "outputs": [
        {
          "name": "stdout",
          "output_type": "stream",
          "text": [
            "[100, 200, 100, 300, 3]\n"
          ]
        }
      ],
      "source": [
        "list[3] = 300\n",
        "print(list)"
      ]
    },
    {
      "cell_type": "code",
      "execution_count": null,
      "metadata": {
        "colab": {
          "base_uri": "https://localhost:8080/"
        },
        "id": "fVd8C-MMmTDi",
        "outputId": "6778331d-7dad-48a9-a757-2c91ae8f53c8"
      },
      "outputs": [
        {
          "name": "stdout",
          "output_type": "stream",
          "text": [
            "[100, 200, 300, 300, 3]\n"
          ]
        }
      ],
      "source": [
        "list[2] = 300\n",
        "print(list)"
      ]
    },
    {
      "cell_type": "code",
      "execution_count": null,
      "metadata": {
        "colab": {
          "base_uri": "https://localhost:8080/"
        },
        "id": "t5CaS5eWmca7",
        "outputId": "18816c90-eb50-4d12-b734-fdcf1afd7939"
      },
      "outputs": [
        {
          "name": "stdout",
          "output_type": "stream",
          "text": [
            "[100, 200, 300, 400, 3]\n"
          ]
        }
      ],
      "source": [
        "list[3] = 400\n",
        "print(list)"
      ]
    },
    {
      "cell_type": "code",
      "execution_count": null,
      "metadata": {
        "colab": {
          "base_uri": "https://localhost:8080/"
        },
        "id": "WDPrqk25mflK",
        "outputId": "296c1473-d0be-4362-f0a8-3a95a372f2d2"
      },
      "outputs": [
        {
          "name": "stdout",
          "output_type": "stream",
          "text": [
            "[100, 200, 300, 400, 500]\n"
          ]
        }
      ],
      "source": [
        "list[4] = 500\n",
        "print(list)"
      ]
    },
    {
      "cell_type": "code",
      "execution_count": null,
      "metadata": {
        "colab": {
          "base_uri": "https://localhost:8080/"
        },
        "id": "uNCQCAH0mi28",
        "outputId": "95e294a8-1dac-4c80-aad9-e3f1a3eecca0"
      },
      "outputs": [
        {
          "name": "stdout",
          "output_type": "stream",
          "text": [
            "[100, 200, 300, 400, 500, 600]\n"
          ]
        }
      ],
      "source": [
        "list.append(600)\n",
        "print(list)"
      ]
    },
    {
      "cell_type": "code",
      "execution_count": null,
      "metadata": {
        "colab": {
          "base_uri": "https://localhost:8080/"
        },
        "id": "h8x9DhV4mpEO",
        "outputId": "2d15c619-c040-4f4c-a4ed-6807bfa58a55"
      },
      "outputs": [
        {
          "name": "stdout",
          "output_type": "stream",
          "text": [
            "[100, 200, 300, 400, 500]\n"
          ]
        }
      ],
      "source": [
        "print(list)"
      ]
    },
    {
      "cell_type": "code",
      "execution_count": null,
      "metadata": {
        "colab": {
          "base_uri": "https://localhost:8080/"
        },
        "id": "6ek1LUkrmtGC",
        "outputId": "24fcf041-9e83-4674-a6b5-3da1789e12a7"
      },
      "outputs": [
        {
          "name": "stdout",
          "output_type": "stream",
          "text": [
            "[100, 200, 300, 400, 500, 600]\n"
          ]
        }
      ],
      "source": [
        "list.append(600)\n",
        "print(list)"
      ]
    },
    {
      "cell_type": "code",
      "execution_count": null,
      "metadata": {
        "colab": {
          "base_uri": "https://localhost:8080/"
        },
        "id": "p30akLlLm5wc",
        "outputId": "d79daba5-6a55-4632-c6cd-bf06d57f3eae"
      },
      "outputs": [
        {
          "name": "stdout",
          "output_type": "stream",
          "text": [
            "[100, 200, 300, 400, 500]\n"
          ]
        }
      ],
      "source": [
        "list.remove(600)\n",
        "print(list)"
      ]
    },
    {
      "cell_type": "code",
      "execution_count": null,
      "metadata": {
        "colab": {
          "base_uri": "https://localhost:8080/"
        },
        "id": "dFymCCyXm-g3",
        "outputId": "d45c0c0e-86ef-4997-a512-b5fc1c3188bd"
      },
      "outputs": [
        {
          "data": {
            "text/plain": [
              "5"
            ]
          },
          "execution_count": 44,
          "metadata": {},
          "output_type": "execute_result"
        }
      ],
      "source": [
        "len(list)"
      ]
    },
    {
      "cell_type": "code",
      "execution_count": null,
      "metadata": {
        "colab": {
          "base_uri": "https://localhost:8080/"
        },
        "id": "QU3afnd-nRnF",
        "outputId": "dc0000eb-c796-4c7c-8986-8c5d89e073be"
      },
      "outputs": [
        {
          "name": "stdout",
          "output_type": "stream",
          "text": [
            "(1, 2, 3, 4, 5)\n"
          ]
        }
      ],
      "source": [
        "my_tuple = (1, 2, 3, 4, 5)\n",
        "print(my_tuple)"
      ]
    },
    {
      "cell_type": "code",
      "execution_count": null,
      "metadata": {
        "colab": {
          "base_uri": "https://localhost:8080/"
        },
        "id": "mh02giYToD9m",
        "outputId": "5dffee6f-00b9-452d-b443-108af588119a"
      },
      "outputs": [
        {
          "data": {
            "text/plain": [
              "5"
            ]
          },
          "execution_count": 46,
          "metadata": {},
          "output_type": "execute_result"
        }
      ],
      "source": [
        "len(my_tuple)"
      ]
    },
    {
      "cell_type": "code",
      "execution_count": null,
      "metadata": {
        "colab": {
          "base_uri": "https://localhost:8080/"
        },
        "id": "SPFAZGvnopG5",
        "outputId": "569ce10f-827c-452c-a4a3-b96aad258340"
      },
      "outputs": [
        {
          "name": "stdout",
          "output_type": "stream",
          "text": [
            "set() <class 'set'>\n"
          ]
        }
      ],
      "source": [
        "myset = set()\n",
        "print(myset, type(myset))"
      ]
    },
    {
      "cell_type": "code",
      "execution_count": null,
      "metadata": {
        "colab": {
          "base_uri": "https://localhost:8080/"
        },
        "id": "RaqOa3htqy-8",
        "outputId": "bee5b99c-9b4b-4ac4-97c8-db3eb2041d70"
      },
      "outputs": [
        {
          "name": "stdout",
          "output_type": "stream",
          "text": [
            "{1, 2, 3}\n"
          ]
        }
      ],
      "source": [
        "myset.add(1)\n",
        "myset.add(2)\n",
        "myset.add(3)\n",
        "myset.add(1)\n",
        "myset.add(2)\n",
        "myset.add(3)\n",
        "print(myset)"
      ]
    },
    {
      "cell_type": "code",
      "execution_count": null,
      "metadata": {
        "id": "BPlRfgxjrCbf"
      },
      "outputs": [],
      "source": [
        "myset.remove(3)"
      ]
    },
    {
      "cell_type": "code",
      "execution_count": null,
      "metadata": {
        "colab": {
          "base_uri": "https://localhost:8080/"
        },
        "id": "TTr9BEzxrILJ",
        "outputId": "2c5e8dbc-4103-4a53-a565-a21aa39d175c"
      },
      "outputs": [
        {
          "name": "stdout",
          "output_type": "stream",
          "text": [
            "{1, 2}\n"
          ]
        }
      ],
      "source": [
        "print(myset)"
      ]
    },
    {
      "cell_type": "code",
      "execution_count": null,
      "metadata": {
        "colab": {
          "base_uri": "https://localhost:8080/"
        },
        "id": "HxuXe9r4rSOe",
        "outputId": "3cad0e1a-ab45-4159-f861-15cb7cbdfca0"
      },
      "outputs": [
        {
          "name": "stdout",
          "output_type": "stream",
          "text": [
            "{1, 2, 3}\n"
          ]
        }
      ],
      "source": [
        "myset.add(3)\n",
        "print(myset)"
      ]
    },
    {
      "cell_type": "code",
      "execution_count": null,
      "metadata": {
        "colab": {
          "base_uri": "https://localhost:8080/",
          "height": 174
        },
        "id": "0nGAqoNorWtJ",
        "outputId": "a619f2b9-12dc-43ee-e05b-e30f8a276761"
      },
      "outputs": [
        {
          "ename": "TypeError",
          "evalue": "ignored",
          "output_type": "error",
          "traceback": [
            "\u001b[0;31m---------------------------------------------------------------------------\u001b[0m",
            "\u001b[0;31mTypeError\u001b[0m                                 Traceback (most recent call last)",
            "\u001b[0;32m<ipython-input-54-24ec6452d748>\u001b[0m in \u001b[0;36m<module>\u001b[0;34m()\u001b[0m\n\u001b[0;32m----> 1\u001b[0;31m \u001b[0mset\u001b[0m\u001b[0;34m.\u001b[0m\u001b[0madd\u001b[0m\u001b[0;34m(\u001b[0m\u001b[0;34m\"hello\"\u001b[0m\u001b[0;34m)\u001b[0m\u001b[0;34m\u001b[0m\u001b[0;34m\u001b[0m\u001b[0m\n\u001b[0m",
            "\u001b[0;31mTypeError\u001b[0m: descriptor 'add' requires a 'set' object but received a 'str'"
          ]
        }
      ],
      "source": [
        "set.add(\"hello\")"
      ]
    },
    {
      "cell_type": "code",
      "execution_count": null,
      "metadata": {
        "id": "lN6lol4yrfmt"
      },
      "outputs": [],
      "source": [
        "mydict = dict()"
      ]
    },
    {
      "cell_type": "code",
      "execution_count": null,
      "metadata": {
        "colab": {
          "base_uri": "https://localhost:8080/"
        },
        "id": "NTr6g3OyuG3h",
        "outputId": "445aa037-a0e3-4d38-b31e-45ed3f95b54e"
      },
      "outputs": [
        {
          "name": "stdout",
          "output_type": "stream",
          "text": [
            "{}\n"
          ]
        }
      ],
      "source": [
        "print(mydict)"
      ]
    },
    {
      "cell_type": "code",
      "execution_count": null,
      "metadata": {
        "colab": {
          "base_uri": "https://localhost:8080/"
        },
        "id": "PECdlu6euIDU",
        "outputId": "5da25f3c-9a22-4850-90ca-30b94678292d"
      },
      "outputs": [
        {
          "name": "stdout",
          "output_type": "stream",
          "text": [
            "79\n"
          ]
        }
      ],
      "source": [
        "mydict[\"hello\"] = 79\n",
        "print(mydict[\"hello\"])"
      ]
    },
    {
      "cell_type": "code",
      "execution_count": null,
      "metadata": {
        "colab": {
          "base_uri": "https://localhost:8080/"
        },
        "id": "7XrM6VuyuRo9",
        "outputId": "fc90ab99-5c03-42f1-a0e0-3206c0197e4a"
      },
      "outputs": [
        {
          "name": "stdout",
          "output_type": "stream",
          "text": [
            "{'hello': 79, 79: 42}\n"
          ]
        }
      ],
      "source": [
        "mydict[79] = 42\n",
        "print(mydict)"
      ]
    },
    {
      "cell_type": "code",
      "execution_count": null,
      "metadata": {
        "colab": {
          "base_uri": "https://localhost:8080/"
        },
        "id": "BfQKv1y7ubJa",
        "outputId": "1437d61e-3e2b-4874-bea0-78d37e0450a6"
      },
      "outputs": [
        {
          "name": "stdout",
          "output_type": "stream",
          "text": [
            "{'hello': 79, 79: 42, '79': 'apple'}\n"
          ]
        }
      ],
      "source": [
        "mydict[\"79\"] = \"apple\"\n",
        "print(mydict)"
      ]
    },
    {
      "cell_type": "code",
      "execution_count": null,
      "metadata": {
        "colab": {
          "base_uri": "https://localhost:8080/"
        },
        "id": "4BcgmsQcuucO",
        "outputId": "df972aca-588b-40ee-fdb8-48842fffd7d7"
      },
      "outputs": [
        {
          "name": "stdout",
          "output_type": "stream",
          "text": [
            "<class 'dict'>\n"
          ]
        }
      ],
      "source": [
        "mydict[3.14] = 1.25\n",
        "print(dict)"
      ]
    },
    {
      "cell_type": "code",
      "execution_count": null,
      "metadata": {
        "colab": {
          "base_uri": "https://localhost:8080/"
        },
        "id": "Sue-4yKsu4e-",
        "outputId": "4c4dca7e-4b1d-44de-e8da-2557931e2008"
      },
      "outputs": [
        {
          "name": "stdout",
          "output_type": "stream",
          "text": [
            "{'hello': 79, 79: 42, '79': 'apple', 3.14: 1.25}\n"
          ]
        }
      ],
      "source": [
        "print(mydict)"
      ]
    },
    {
      "cell_type": "code",
      "execution_count": null,
      "metadata": {
        "colab": {
          "base_uri": "https://localhost:8080/"
        },
        "id": "sBhOiVHku6uS",
        "outputId": "6463fa17-4754-4791-da35-0119f58c7829"
      },
      "outputs": [
        {
          "name": "stdout",
          "output_type": "stream",
          "text": [
            "{'hello': 'bye', 79: 42, '79': 'apple', 3.14: 1.25}\n"
          ]
        }
      ],
      "source": [
        " mydict[\"hello\"] = \"bye\"\n",
        " print(mydict)"
      ]
    },
    {
      "cell_type": "code",
      "execution_count": null,
      "metadata": {
        "colab": {
          "base_uri": "https://localhost:8080/"
        },
        "id": "q0bbEIXYvVJG",
        "outputId": "4d3196c9-2f68-48d0-a867-3608455a933b"
      },
      "outputs": [
        {
          "data": {
            "text/plain": [
              "4"
            ]
          },
          "execution_count": 63,
          "metadata": {},
          "output_type": "execute_result"
        }
      ],
      "source": [
        "len(mydict)"
      ]
    },
    {
      "cell_type": "code",
      "execution_count": null,
      "metadata": {
        "id": "-H9H8p4Hvm0S"
      },
      "outputs": [],
      "source": [
        "def hungry(want_eat):\n",
        "  print(hungry)"
      ]
    },
    {
      "cell_type": "code",
      "execution_count": null,
      "metadata": {
        "id": "V4RFYXfs12b0"
      },
      "outputs": [],
      "source": [
        "def hungry():\n",
        "  print(\"시현이 배고프다\")"
      ]
    },
    {
      "cell_type": "code",
      "execution_count": null,
      "metadata": {
        "colab": {
          "base_uri": "https://localhost:8080/"
        },
        "id": "NGVSd-Kj1_UK",
        "outputId": "b824c65f-8fc6-4163-bd3e-88ec2335ddb6"
      },
      "outputs": [
        {
          "name": "stdout",
          "output_type": "stream",
          "text": [
            "시현이 배고프다\n"
          ]
        }
      ],
      "source": [
        "hungry()"
      ]
    },
    {
      "cell_type": "code",
      "execution_count": null,
      "metadata": {
        "id": "7MyRp_y82B_R"
      },
      "outputs": [],
      "source": [
        "def danchu():\n",
        "  print(danchu)\n",
        "def danchu():\n",
        "  print(\"cute\")\n"
      ]
    },
    {
      "cell_type": "code",
      "execution_count": null,
      "metadata": {
        "colab": {
          "base_uri": "https://localhost:8080/"
        },
        "id": "hT6enzn43Y5M",
        "outputId": "aea8c69d-112e-4000-e4b9-7f9c4ef6a04f"
      },
      "outputs": [
        {
          "name": "stdout",
          "output_type": "stream",
          "text": [
            "cute\n"
          ]
        }
      ],
      "source": [
        "danchu()"
      ]
    },
    {
      "cell_type": "code",
      "execution_count": null,
      "metadata": {
        "colab": {
          "base_uri": "https://localhost:8080/"
        },
        "id": "-47AuDVo31-p",
        "outputId": "4ee45df7-2f84-4bb4-9230-32f486467d51"
      },
      "outputs": [
        {
          "name": "stdout",
          "output_type": "stream",
          "text": [
            "baby\n"
          ]
        }
      ],
      "source": [
        "def moca(dog):\n",
        "  print(moca)\n",
        "def moca():\n",
        "  print(\"baby\")\n",
        "moca()"
      ]
    },
    {
      "cell_type": "code",
      "execution_count": null,
      "metadata": {
        "id": "dsR5rV2L4RoS"
      },
      "outputs": [],
      "source": [
        "#리턴이 있는 변수\n",
        "def pet(a, b):\n",
        "  mypet = a + b\n",
        "  return mypet"
      ]
    },
    {
      "cell_type": "code",
      "execution_count": null,
      "metadata": {
        "colab": {
          "base_uri": "https://localhost:8080/"
        },
        "id": "zTal81t85lAH",
        "outputId": "2112cb34-df65-486b-df09-84cb75bcaa20"
      },
      "outputs": [
        {
          "data": {
            "text/plain": [
              "3"
            ]
          },
          "execution_count": 94,
          "metadata": {},
          "output_type": "execute_result"
        }
      ],
      "source": [
        "pet(1, 2)"
      ]
    },
    {
      "cell_type": "code",
      "execution_count": null,
      "metadata": {
        "id": "B6PPBllz5thA"
      },
      "outputs": [],
      "source": [
        "result = pet(1, 2)"
      ]
    },
    {
      "cell_type": "code",
      "execution_count": null,
      "metadata": {
        "colab": {
          "base_uri": "https://localhost:8080/"
        },
        "id": "0rfeD0hE57BO",
        "outputId": "debcaeab-6baf-4c86-cea9-c03bb2a3d60b"
      },
      "outputs": [
        {
          "name": "stdout",
          "output_type": "stream",
          "text": [
            "3\n"
          ]
        }
      ],
      "source": [
        "print(result)"
      ]
    },
    {
      "cell_type": "code",
      "execution_count": null,
      "metadata": {
        "colab": {
          "base_uri": "https://localhost:8080/"
        },
        "id": "RwlfyT4W58rz",
        "outputId": "434e0c3a-7920-4e35-8f1c-35950f80ff11"
      },
      "outputs": [
        {
          "data": {
            "text/plain": [
              "6"
            ]
          },
          "execution_count": 97,
          "metadata": {},
          "output_type": "execute_result"
        }
      ],
      "source": [
        "result + 3"
      ]
    },
    {
      "cell_type": "code",
      "execution_count": null,
      "metadata": {
        "colab": {
          "base_uri": "https://localhost:8080/"
        },
        "id": "4tJ9w2n96LPs",
        "outputId": "75048654-a7fa-468a-e7c2-f40c1b1b0b30"
      },
      "outputs": [
        {
          "name": "stdout",
          "output_type": "stream",
          "text": [
            "Hello world\n"
          ]
        }
      ],
      "source": [
        "print(\"Hello world\")"
      ]
    },
    {
      "cell_type": "code",
      "execution_count": null,
      "metadata": {
        "colab": {
          "base_uri": "https://localhost:8080/"
        },
        "id": "0cd_-G94MZi6",
        "outputId": "6fa539aa-cbb7-4a9d-cd1a-94de8ee9c8a1"
      },
      "outputs": [
        {
          "name": "stdout",
          "output_type": "stream",
          "text": [
            "Mary's cosmetics\n"
          ]
        }
      ],
      "source": [
        "print(\"Mary's cosmetics\")"
      ]
    },
    {
      "cell_type": "code",
      "execution_count": null,
      "metadata": {
        "colab": {
          "base_uri": "https://localhost:8080/"
        },
        "id": "objojPWYMf8X",
        "outputId": "7e15fbe0-4dc5-40e3-c464-5f1ec05276b1"
      },
      "outputs": [
        {
          "name": "stdout",
          "output_type": "stream",
          "text": [
            "신씨가 소리질렀다. \"도둑이야\"\n"
          ]
        }
      ],
      "source": [
        "print('신씨가 소리질렀다. \"도둑이야\"')"
      ]
    },
    {
      "cell_type": "code",
      "execution_count": null,
      "metadata": {
        "colab": {
          "base_uri": "https://localhost:8080/"
        },
        "id": "BIZUOoNeMnY7",
        "outputId": "5660c341-c938-4acc-86c3-7b6de4257f43"
      },
      "outputs": [
        {
          "name": "stdout",
          "output_type": "stream",
          "text": [
            "C:\\windows\n"
          ]
        }
      ],
      "source": [
        "print(\"C:\\windows\")"
      ]
    },
    {
      "cell_type": "code",
      "execution_count": null,
      "metadata": {
        "colab": {
          "base_uri": "https://localhost:8080/"
        },
        "id": "aNH3uQceM2M4",
        "outputId": "72c16a57-4272-471d-d697-5968a968f787"
      },
      "outputs": [
        {
          "name": "stdout",
          "output_type": "stream",
          "text": [
            "안녀아세요.\n",
            "만나서\t\t반갑습니다.\n"
          ]
        }
      ],
      "source": [
        "print(\"안녀아세요.\\n만나서\\t\\t반갑습니다.\")"
      ]
    },
    {
      "cell_type": "code",
      "execution_count": null,
      "metadata": {
        "colab": {
          "base_uri": "https://localhost:8080/"
        },
        "id": "YITo2rh1NFh2",
        "outputId": "d81aead1-7b8d-4431-9a1f-5a59ce84cc4d"
      },
      "outputs": [
        {
          "name": "stdout",
          "output_type": "stream",
          "text": [
            "오늘은 일요일\n"
          ]
        }
      ],
      "source": [
        "print(\"오늘은\", \"일요일\")"
      ]
    },
    {
      "cell_type": "code",
      "execution_count": null,
      "metadata": {
        "colab": {
          "base_uri": "https://localhost:8080/"
        },
        "id": "_bt8Z3j7NNIk",
        "outputId": "da0a6cc9-f154-4904-d6d1-9b7ec3bb1027"
      },
      "outputs": [
        {
          "name": "stdout",
          "output_type": "stream",
          "text": [
            "naver/kakao/sk/samsung\n"
          ]
        }
      ],
      "source": [
        "print(\"naver\", \"kakao\", \"sk\", \"samsung\", sep=\"/\")"
      ]
    },
    {
      "cell_type": "code",
      "execution_count": null,
      "metadata": {
        "colab": {
          "base_uri": "https://localhost:8080/"
        },
        "id": "4cqHXWD_NV-U",
        "outputId": "bb3e6b24-313b-4e25-e2b1-614a2b767e2f"
      },
      "outputs": [
        {
          "name": "stdout",
          "output_type": "stream",
          "text": [
            "naver;kakao;sk;samaung\n"
          ]
        }
      ],
      "source": [
        "print(\"naver\", \"kakao\", \"sk\", \"samaung\", sep=\";\")"
      ]
    },
    {
      "cell_type": "code",
      "execution_count": null,
      "metadata": {
        "colab": {
          "base_uri": "https://localhost:8080/"
        },
        "id": "r1UDZcP_Nui1",
        "outputId": "15ac9f27-127a-4218-d343-0af49abe3508"
      },
      "outputs": [
        {
          "name": "stdout",
          "output_type": "stream",
          "text": [
            "first\n",
            "second\n"
          ]
        }
      ],
      "source": [
        "print(\"first\"); print(\"second\")"
      ]
    },
    {
      "cell_type": "code",
      "execution_count": null,
      "metadata": {
        "colab": {
          "base_uri": "https://localhost:8080/"
        },
        "id": "FtrlWaWYN6AF",
        "outputId": "701cc7f4-0a55-4a2e-d4a1-5f65ded5cef4"
      },
      "outputs": [
        {
          "name": "stdout",
          "output_type": "stream",
          "text": [
            "first\n",
            "second\n"
          ]
        }
      ],
      "source": [
        "print(\"first\");end= print(\"second\")"
      ]
    },
    {
      "cell_type": "code",
      "execution_count": null,
      "metadata": {
        "colab": {
          "base_uri": "https://localhost:8080/"
        },
        "id": "agBvYRsUOHMR",
        "outputId": "6f586261-6f3c-43de-c3bf-606e9808736d"
      },
      "outputs": [
        {
          "name": "stdout",
          "output_type": "stream",
          "text": [
            "firstsecond\n"
          ]
        }
      ],
      "source": [
        "print(\"first\", end=\"\"); print(\"second\")"
      ]
    },
    {
      "cell_type": "code",
      "execution_count": null,
      "metadata": {
        "colab": {
          "base_uri": "https://localhost:8080/"
        },
        "id": "RZ9ds9IxOtkN",
        "outputId": "26eb3fcf-7511-4b94-d34f-1e4d93fb459f"
      },
      "outputs": [
        {
          "name": "stdout",
          "output_type": "stream",
          "text": [
            "firstsecond\n"
          ]
        }
      ],
      "source": [
        "print(\"first\", end=\"\"); print(\"second\") # end= : 줄바꿈 없이 출력"
      ]
    },
    {
      "cell_type": "code",
      "execution_count": null,
      "metadata": {
        "colab": {
          "base_uri": "https://localhost:8080/"
        },
        "id": "8QR1cNOAO_Tf",
        "outputId": "331e3cd3-0b9a-4f46-db71-01a0b3293c57"
      },
      "outputs": [
        {
          "data": {
            "text/plain": [
              "1.6666666666666667"
            ]
          },
          "execution_count": 19,
          "metadata": {},
          "output_type": "execute_result"
        }
      ],
      "source": [
        "5/3"
      ]
    },
    {
      "cell_type": "code",
      "execution_count": null,
      "metadata": {
        "colab": {
          "base_uri": "https://localhost:8080/"
        },
        "id": "l5drSccJPa7V",
        "outputId": "21a70622-8c84-44e7-970a-6225eaf06eaf"
      },
      "outputs": [
        {
          "name": "stdout",
          "output_type": "stream",
          "text": [
            "1.6666666666666667\n"
          ]
        }
      ],
      "source": [
        "print(5/3)"
      ]
    },
    {
      "cell_type": "code",
      "execution_count": null,
      "metadata": {
        "colab": {
          "base_uri": "https://localhost:8080/"
        },
        "id": "1N7y_iOiPgBy",
        "outputId": "4a1dc53f-04bc-4e90-ca45-a8a4e46c9b1f"
      },
      "outputs": [
        {
          "name": "stdout",
          "output_type": "stream",
          "text": [
            "500000\n"
          ]
        }
      ],
      "source": [
        "삼성전자 = 50000\n",
        "총평가금액 = 삼성전자 * 10\n",
        "print(총평가금액)"
      ]
    },
    {
      "cell_type": "code",
      "execution_count": null,
      "metadata": {
        "colab": {
          "base_uri": "https://localhost:8080/"
        },
        "id": "7e1E5zK-QAUV",
        "outputId": "da027db1-ba10-46ec-da8c-df88da99e685"
      },
      "outputs": [
        {
          "name": "stdout",
          "output_type": "stream",
          "text": [
            "29800000000000 <class 'int'>\n",
            "50000 <class 'int'>\n",
            "15.79 <class 'float'>\n"
          ]
        }
      ],
      "source": [
        "시가총액 = 29800000000000\n",
        "현재가 = 50000\n",
        "PER = 15.79\n",
        "print(시가총액, type(시가총액))\n",
        "print(현재가, type(현재가))\n",
        "print(PER, type(PER))"
      ]
    },
    {
      "cell_type": "code",
      "execution_count": null,
      "metadata": {
        "colab": {
          "base_uri": "https://localhost:8080/"
        },
        "id": "WFWi0qlgQi3i",
        "outputId": "ed715a1d-f64d-4bc6-f425-ee0a6e3b0907"
      },
      "outputs": [
        {
          "name": "stdout",
          "output_type": "stream",
          "text": [
            "hello ! python\n"
          ]
        }
      ],
      "source": [
        "s = \"hello\"\n",
        "t = \"python\"\n",
        "print(s, \"!\", t)"
      ]
    },
    {
      "cell_type": "code",
      "execution_count": null,
      "metadata": {
        "colab": {
          "base_uri": "https://localhost:8080/"
        },
        "id": "ekoAImzLQ74w",
        "outputId": "04427816-28ed-476a-8bc6-ecb1a964c8da"
      },
      "outputs": [
        {
          "name": "stdout",
          "output_type": "stream",
          "text": [
            "hello! python\n"
          ]
        }
      ],
      "source": [
        "print(s+\"!\", t)"
      ]
    },
    {
      "cell_type": "code",
      "execution_count": null,
      "metadata": {
        "colab": {
          "base_uri": "https://localhost:8080/"
        },
        "id": "GrmCwmClRG8Y",
        "outputId": "1a91e143-d62a-4e89-c25e-4ed1bb239cfd"
      },
      "outputs": [
        {
          "name": "stdout",
          "output_type": "stream",
          "text": [
            "hello! python\n"
          ]
        }
      ],
      "source": [
        "print(s+\"!\", t)"
      ]
    },
    {
      "cell_type": "code",
      "execution_count": null,
      "metadata": {
        "colab": {
          "base_uri": "https://localhost:8080/"
        },
        "id": "8XaSlzxmRVZZ",
        "outputId": "03e679ba-e80b-4d68-979c-aca2ae6d22d3"
      },
      "outputs": [
        {
          "name": "stdout",
          "output_type": "stream",
          "text": [
            "8\n"
          ]
        }
      ],
      "source": [
        "print(2+2*3)"
      ]
    },
    {
      "cell_type": "code",
      "execution_count": null,
      "metadata": {
        "colab": {
          "base_uri": "https://localhost:8080/"
        },
        "id": "5v_j9QCPRYVH",
        "outputId": "e23f02c6-b759-4cd6-8d7b-ca94b2a9fc97"
      },
      "outputs": [
        {
          "name": "stdout",
          "output_type": "stream",
          "text": [
            "132 <class 'str'>\n"
          ]
        }
      ],
      "source": [
        "a = \"132\"\n",
        "print(a, type(a))"
      ]
    },
    {
      "cell_type": "code",
      "execution_count": null,
      "metadata": {
        "colab": {
          "base_uri": "https://localhost:8080/"
        },
        "id": "mp2L3-KhReiP",
        "outputId": "2251af79-a2cf-445b-bcba-fd5b3c22b8c3"
      },
      "outputs": [
        {
          "name": "stdout",
          "output_type": "stream",
          "text": [
            "720 <class 'int'>\n"
          ]
        }
      ],
      "source": [
        "num_str = \"720\"\n",
        "num = int(num_str)\n",
        "print(num, type(num))"
      ]
    },
    {
      "cell_type": "code",
      "execution_count": null,
      "metadata": {
        "colab": {
          "base_uri": "https://localhost:8080/"
        },
        "id": "eFROKzJRRvxe",
        "outputId": "ad92aa69-c05f-454a-a4d4-8fa28c0598cb"
      },
      "outputs": [
        {
          "name": "stdout",
          "output_type": "stream",
          "text": [
            "100 <class 'str'>\n"
          ]
        }
      ],
      "source": [
        "num = 100\n",
        "num_str = str(num)\n",
        "print(num_str, type(num_str))"
      ]
    },
    {
      "cell_type": "code",
      "execution_count": null,
      "metadata": {
        "colab": {
          "base_uri": "https://localhost:8080/"
        },
        "id": "KeSiPXPrR_kR",
        "outputId": "9343f471-026e-4eff-985b-efc1314a6eca"
      },
      "outputs": [
        {
          "name": "stdout",
          "output_type": "stream",
          "text": [
            "15.79 <class 'float'>\n"
          ]
        }
      ],
      "source": [
        "num_str = \"15.79\"\n",
        "num_float = float(num_str)\n",
        "print(num_float, type(num_float))"
      ]
    },
    {
      "cell_type": "code",
      "execution_count": null,
      "metadata": {
        "colab": {
          "base_uri": "https://localhost:8080/"
        },
        "id": "z1hU1BFFSSbI",
        "outputId": "e147c883-6a88-43de-ebfb-2f774522056a"
      },
      "outputs": [
        {
          "name": "stdout",
          "output_type": "stream",
          "text": [
            "2020 2019 2021 2022 <class 'int'>\n"
          ]
        }
      ],
      "source": [
        "year = \"2020\"\n",
        "year_int = int(year)\n",
        "print(year, year_int-1, year_int+1, year_int+2, type(year_int))"
      ]
    },
    {
      "cell_type": "code",
      "execution_count": null,
      "metadata": {
        "colab": {
          "base_uri": "https://localhost:8080/"
        },
        "id": "3zq1QtouSuQ5",
        "outputId": "c7c8e699-f8da-4f06-fac4-45b4f7e642d8"
      },
      "outputs": [
        {
          "name": "stdout",
          "output_type": "stream",
          "text": [
            "2017\n",
            "2018\n",
            "2019\n"
          ]
        }
      ],
      "source": [
        "year = \"2020\"\n",
        "print(int(year)-3)\n",
        "print(int(year)-2)\n",
        "print(int(year)-1)"
      ]
    },
    {
      "cell_type": "code",
      "execution_count": null,
      "metadata": {
        "colab": {
          "base_uri": "https://localhost:8080/"
        },
        "id": "NWO5SjysTABu",
        "outputId": "011818c8-1671-4f40-a7f1-ab4401054536"
      },
      "outputs": [
        {
          "name": "stdout",
          "output_type": "stream",
          "text": [
            "1749024\n"
          ]
        }
      ],
      "source": [
        "aircon = 48584\n",
        "할부 = 36\n",
        "print(aircon * 할부)"
      ]
    },
    {
      "cell_type": "code",
      "execution_count": null,
      "metadata": {
        "colab": {
          "base_uri": "https://localhost:8080/"
        },
        "id": "jVvhaxZwTkX-",
        "outputId": "bc8585d8-cb28-4e1e-c747-790a9204ef74"
      },
      "outputs": [
        {
          "name": "stdout",
          "output_type": "stream",
          "text": [
            "1749024\n"
          ]
        }
      ],
      "source": [
        "월 = 48584\n",
        "할부 = 월 * 36\n",
        "print(할부)"
      ]
    },
    {
      "cell_type": "code",
      "execution_count": null,
      "metadata": {
        "colab": {
          "base_uri": "https://localhost:8080/"
        },
        "id": "LwyCwJ2VTyMT",
        "outputId": "4ce7875e-5d1b-4519-99cb-a41191570732"
      },
      "outputs": [
        {
          "name": "stdout",
          "output_type": "stream",
          "text": [
            "p t\n"
          ]
        }
      ],
      "source": [
        "letter = \"python\"\n",
        "print(letter[0], letter[2])"
      ]
    },
    {
      "cell_type": "code",
      "execution_count": null,
      "metadata": {
        "colab": {
          "base_uri": "https://localhost:8080/"
        },
        "id": "-OqgSu_rUIx-",
        "outputId": "d35fa889-947f-4132-a892-c789e6273b34"
      },
      "outputs": [
        {
          "name": "stdout",
          "output_type": "stream",
          "text": [
            "n p\n"
          ]
        }
      ],
      "source": [
        "print(letter[-1], letter[0])"
      ]
    },
    {
      "cell_type": "code",
      "execution_count": null,
      "metadata": {
        "colab": {
          "base_uri": "https://localhost:8080/"
        },
        "id": "5pEZephZVMgZ",
        "outputId": "84e4474b-9aad-4261-cc2b-998b0aca4b93"
      },
      "outputs": [
        {
          "name": "stdout",
          "output_type": "stream",
          "text": [
            " 2210\n"
          ]
        }
      ],
      "source": [
        "license_plate = \"24가 2210\"\n",
        "print(license_plate[3:])"
      ]
    },
    {
      "cell_type": "code",
      "execution_count": null,
      "metadata": {
        "colab": {
          "base_uri": "https://localhost:8080/"
        },
        "id": "tjn9axYOVoYa",
        "outputId": "c2ee6a5d-ece5-403f-eeab-a0c59f177e80"
      },
      "outputs": [
        {
          "name": "stdout",
          "output_type": "stream",
          "text": [
            "홀짝홀짝홀짝\n"
          ]
        }
      ],
      "source": [
        "string = \"홀짝홀짝홀짝\"\n",
        "print(string[::1])"
      ]
    },
    {
      "cell_type": "code",
      "execution_count": null,
      "metadata": {
        "colab": {
          "base_uri": "https://localhost:8080/"
        },
        "id": "2VCPaqjDV2oL",
        "outputId": "9ba1bb2f-6dcf-4b12-bb7e-5b1254d6b3a2"
      },
      "outputs": [
        {
          "name": "stdout",
          "output_type": "stream",
          "text": [
            "홀홀홀\n"
          ]
        }
      ],
      "source": [
        "print(string[::2])"
      ]
    },
    {
      "cell_type": "code",
      "execution_count": null,
      "metadata": {
        "colab": {
          "base_uri": "https://localhost:8080/"
        },
        "id": "NjEbJhwpV6L3",
        "outputId": "f1f19535-3505-4cf8-e232-0bcf165fdf55"
      },
      "outputs": [
        {
          "name": "stdout",
          "output_type": "stream",
          "text": [
            "N\n"
          ]
        }
      ],
      "source": [
        "string = \"PYTHON\"\n",
        "print(string[-1])"
      ]
    },
    {
      "cell_type": "code",
      "execution_count": null,
      "metadata": {
        "colab": {
          "base_uri": "https://localhost:8080/"
        },
        "id": "U7HuL6VkWITP",
        "outputId": "22dc41d1-d7e5-403d-85ef-fc5d5fef3f49"
      },
      "outputs": [
        {
          "name": "stdout",
          "output_type": "stream",
          "text": [
            "NOHTYP\n"
          ]
        }
      ],
      "source": [
        "print(string[::-1])"
      ]
    },
    {
      "cell_type": "code",
      "execution_count": null,
      "metadata": {
        "colab": {
          "base_uri": "https://localhost:8080/"
        },
        "id": "oFv3SutMWpbz",
        "outputId": "c959fcb2-db2e-4aa6-d4da-6c3b4802bc6c"
      },
      "outputs": [
        {
          "name": "stdout",
          "output_type": "stream",
          "text": [
            "nuyhiSkraP\n"
          ]
        }
      ],
      "source": [
        "name = \"ParkSihyun\"\n",
        "print(name[::-1])"
      ]
    },
    {
      "cell_type": "code",
      "execution_count": null,
      "metadata": {
        "colab": {
          "base_uri": "https://localhost:8080/"
        },
        "id": "bzRp0tl2W8Eq",
        "outputId": "883c93c6-72bd-439f-9552-806bf053e635"
      },
      "outputs": [
        {
          "name": "stdout",
          "output_type": "stream",
          "text": [
            "010 3700 8795\n"
          ]
        }
      ],
      "source": [
        "num = \"010-3700-8795\"\n",
        "number = num.replace(\"-\", \" \")\n",
        "print(number)\n"
      ]
    },
    {
      "cell_type": "code",
      "execution_count": null,
      "metadata": {
        "colab": {
          "base_uri": "https://localhost:8080/"
        },
        "id": "D_yKY5MKXN_Z",
        "outputId": "67225c45-6901-463b-9b54-53fe7ac2cee2"
      },
      "outputs": [
        {
          "name": "stdout",
          "output_type": "stream",
          "text": [
            "안    녕    하  세    요\n"
          ]
        }
      ],
      "source": [
        "scrap = \"안----녕----하--세----요\"\n",
        "s = scrap.replace(\"-\", \" \")\n",
        "print(s)"
      ]
    },
    {
      "cell_type": "code",
      "execution_count": null,
      "metadata": {
        "colab": {
          "base_uri": "https://localhost:8080/"
        },
        "id": "I3NOMpvmXhL-",
        "outputId": "2a8da534-b1ba-4cd8-84d8-e9e97e0a0de0"
      },
      "outputs": [
        {
          "name": "stdout",
          "output_type": "stream",
          "text": [
            "안====녕====하==세====요\n"
          ]
        }
      ],
      "source": [
        "r = scrap.replace(\"-\", \"=\")\n",
        "print(r)"
      ]
    },
    {
      "cell_type": "code",
      "execution_count": null,
      "metadata": {
        "colab": {
          "base_uri": "https://localhost:8080/"
        },
        "id": "xuUn9oVxXztf",
        "outputId": "198f2e39-979b-4074-bdd8-635908e2a182"
      },
      "outputs": [
        {
          "name": "stdout",
          "output_type": "stream",
          "text": [
            "34\n"
          ]
        }
      ],
      "source": [
        "a = \"3\"\n",
        "b = \"4\"\n",
        "print(a+b)"
      ]
    },
    {
      "cell_type": "code",
      "execution_count": null,
      "metadata": {
        "colab": {
          "base_uri": "https://localhost:8080/"
        },
        "id": "XYM3Tzc4YB6K",
        "outputId": "352cea36-4351-4bcc-9b61-f27be0731d7f"
      },
      "outputs": [
        {
          "name": "stdout",
          "output_type": "stream",
          "text": [
            "HiHiHi\n"
          ]
        }
      ],
      "source": [
        "print(\"Hi\" * 3)"
      ]
    },
    {
      "cell_type": "code",
      "execution_count": null,
      "metadata": {
        "colab": {
          "base_uri": "https://localhost:8080/"
        },
        "id": "Ioc0DnpuYE_2",
        "outputId": "601133ac-f38d-45fa-c210-6b7ff7aae722"
      },
      "outputs": [
        {
          "name": "stdout",
          "output_type": "stream",
          "text": [
            "--------------------------------------------------------------------------------\n"
          ]
        }
      ],
      "source": [
        "print(\"-\" * 80)"
      ]
    },
    {
      "cell_type": "code",
      "execution_count": null,
      "metadata": {
        "colab": {
          "base_uri": "https://localhost:8080/"
        },
        "id": "H1Cv5WDeYIWp",
        "outputId": "571cc4f8-2eb3-4048-b2f3-0427df845902"
      },
      "outputs": [
        {
          "name": "stdout",
          "output_type": "stream",
          "text": [
            "('python', 'java', 'python', 'java', 'python', 'java', 'python', 'java')\n"
          ]
        }
      ],
      "source": [
        "t1 = \"python\"\n",
        "t2 = \"java\"\n",
        "print((t1 ,t2) * 4)"
      ]
    },
    {
      "cell_type": "code",
      "execution_count": null,
      "metadata": {
        "colab": {
          "base_uri": "https://localhost:8080/"
        },
        "id": "WChtewEEYq3f",
        "outputId": "a2bf33b3-bc40-4670-d8eb-ff11f9019290"
      },
      "outputs": [
        {
          "name": "stdout",
          "output_type": "stream",
          "text": [
            "python java python java python java python java \n"
          ]
        }
      ],
      "source": [
        "t3 = t1 + \" \" + t2 + \" \"\n",
        "print(t3 * 4)"
      ]
    },
    {
      "cell_type": "code",
      "execution_count": null,
      "metadata": {
        "colab": {
          "base_uri": "https://localhost:8080/"
        },
        "id": "x6LlpQ0FY4V1",
        "outputId": "2a2839e9-e920-4442-9a69-9be957231761"
      },
      "outputs": [
        {
          "name": "stdout",
          "output_type": "stream",
          "text": [
            "python java python java python java python java \n"
          ]
        }
      ],
      "source": [
        "t1 = \"python\"\n",
        "t2 = \"java\"\n",
        "t3 = t1 + ' ' + t2 + ' '\n",
        "print(t3 * 4)"
      ]
    },
    {
      "cell_type": "code",
      "execution_count": null,
      "metadata": {
        "colab": {
          "base_uri": "https://localhost:8080/"
        },
        "id": "z0y5PW69ZKz3",
        "outputId": "b32f6090-3266-45f7-ea1c-18047bc946bc"
      },
      "outputs": [
        {
          "name": "stdout",
          "output_type": "stream",
          "text": [
            "('python', 'java', 'python', 'java', 'python', 'java', 'python', 'java')\n"
          ]
        }
      ],
      "source": [
        "t3 = t1, t2\n",
        "print(t3 * 4)"
      ]
    },
    {
      "cell_type": "code",
      "execution_count": null,
      "metadata": {
        "colab": {
          "base_uri": "https://localhost:8080/"
        },
        "id": "p6XsXk15ZXBE",
        "outputId": "d9ef7194-5ac5-43b8-85ab-bc0f0f1775a1"
      },
      "outputs": [
        {
          "name": "stdout",
          "output_type": "stream",
          "text": [
            "이름 : 박시현 나이 : 29\n",
            "이름 : 박단추 나이 : 7\n"
          ]
        }
      ],
      "source": [
        "name1 = \"박시현\"\n",
        "age1 = 29\n",
        "name2 = \"박단추\"\n",
        "age2 = 7\n",
        "print(\"이름 : %s 나이 : %s\" %(name1, age1))\n",
        "print(\"이름 : %s 나이 : %s\" %(name2, age2))"
      ]
    },
    {
      "cell_type": "code",
      "execution_count": null,
      "metadata": {
        "colab": {
          "base_uri": "https://localhost:8080/"
        },
        "id": "GjnicwhxaTh5",
        "outputId": "095d7e98-844d-421e-8d56-3c0d0d438c1e"
      },
      "outputs": [
        {
          "data": {
            "text/plain": [
              "1"
            ]
          },
          "execution_count": 1,
          "metadata": {},
          "output_type": "execute_result"
        }
      ],
      "source": [
        "a = 1\n",
        "a"
      ]
    },
    {
      "cell_type": "code",
      "execution_count": null,
      "metadata": {
        "colab": {
          "base_uri": "https://localhost:8080/"
        },
        "id": "U75JaPLzx4n6",
        "outputId": "c580efbf-e073-4af0-95ac-416cb3b59ab8"
      },
      "outputs": [
        {
          "data": {
            "text/plain": [
              "2"
            ]
          },
          "execution_count": 2,
          "metadata": {},
          "output_type": "execute_result"
        }
      ],
      "source": [
        "a = 1\n",
        "b = 2\n",
        "a\n",
        "b"
      ]
    },
    {
      "cell_type": "code",
      "execution_count": null,
      "metadata": {
        "colab": {
          "base_uri": "https://localhost:8080/"
        },
        "id": "v_0pi3Uxx7o5",
        "outputId": "cba43f33-fd25-459f-c578-2da4ac53293b"
      },
      "outputs": [
        {
          "name": "stdout",
          "output_type": "stream",
          "text": [
            "1 2\n"
          ]
        }
      ],
      "source": [
        "print(a, b)"
      ]
    },
    {
      "cell_type": "code",
      "execution_count": null,
      "metadata": {
        "colab": {
          "base_uri": "https://localhost:8080/"
        },
        "id": "_r_kcuLUx-1j",
        "outputId": "c68c6268-2ae0-4a45-c421-3d86030ae4fb"
      },
      "outputs": [
        {
          "name": "stdout",
          "output_type": "stream",
          "text": [
            "1\n",
            "2\n"
          ]
        }
      ],
      "source": [
        "print(a)\n",
        "print(b)"
      ]
    },
    {
      "cell_type": "code",
      "execution_count": null,
      "metadata": {
        "colab": {
          "base_uri": "https://localhost:8080/"
        },
        "id": "51xvI9K4yBYs",
        "outputId": "dff08274-24de-48e2-e0c1-469b8da91697"
      },
      "outputs": [
        {
          "name": "stdout",
          "output_type": "stream",
          "text": [
            "1#2\n"
          ]
        }
      ],
      "source": [
        "print(a, b, sep=\"#\")"
      ]
    },
    {
      "cell_type": "code",
      "execution_count": null,
      "metadata": {
        "colab": {
          "base_uri": "https://localhost:8080/"
        },
        "id": "tC98AJXryEnT",
        "outputId": "167b0c0d-ffb1-4519-db65-6836bde9eb58"
      },
      "outputs": [
        {
          "name": "stdout",
          "output_type": "stream",
          "text": [
            "Hello 10 100 hi bye True 3.14 10\n"
          ]
        }
      ],
      "source": [
        "print(\"Hello\", 10, 100, \"hi\", \"bye\", True, 3.14, 10)"
      ]
    },
    {
      "cell_type": "code",
      "execution_count": null,
      "metadata": {
        "colab": {
          "base_uri": "https://localhost:8080/"
        },
        "id": "ILlN1KUMyO3t",
        "outputId": "5b39402f-bb70-469c-caf1-4d09ba60d782"
      },
      "outputs": [
        {
          "name": "stdout",
          "output_type": "stream",
          "text": [
            "Hello*10*100*hi*bye*True*3.14*10\n"
          ]
        }
      ],
      "source": [
        "print(\"Hello\", 10, 100, \"hi\", \"bye\", True, 3.14, 10, sep=\"*\")"
      ]
    },
    {
      "cell_type": "code",
      "execution_count": null,
      "metadata": {
        "colab": {
          "base_uri": "https://localhost:8080/"
        },
        "id": "X7yc3ocjybbf",
        "outputId": "11a4b044-cbd9-4e4b-bf7d-d0d657ddae75"
      },
      "outputs": [
        {
          "name": "stdout",
          "output_type": "stream",
          "text": [
            "이름 :  parksihyun , 나이 :  29\n"
          ]
        }
      ],
      "source": [
        "name = \"parksihyun\"\n",
        "age = 29\n",
        "print(\"이름 : \", name, \",\", \"나이 : \", age)"
      ]
    },
    {
      "cell_type": "code",
      "execution_count": null,
      "metadata": {
        "colab": {
          "base_uri": "https://localhost:8080/"
        },
        "id": "duZiQS7VyqWM",
        "outputId": "0ab93b00-2cf8-4e53-80ab-779aebee55d0"
      },
      "outputs": [
        {
          "name": "stdout",
          "output_type": "stream",
          "text": [
            "이름 :  parksihyun / 나이 :  29\n"
          ]
        }
      ],
      "source": [
        "print(\"이름 : \", name, \"/\", \"나이 : \", age)"
      ]
    },
    {
      "cell_type": "code",
      "execution_count": null,
      "metadata": {
        "colab": {
          "base_uri": "https://localhost:8080/"
        },
        "id": "9nyfNMrYy5fs",
        "outputId": "f9605143-d61d-41b9-cdd0-d1d4ff2c654c"
      },
      "outputs": [
        {
          "name": "stdout",
          "output_type": "stream",
          "text": [
            "moca danchu\n"
          ]
        }
      ],
      "source": [
        "name1 = \"danchu\"\n",
        "name2 = \"moca\"\n",
        "print(name2, name1)"
      ]
    },
    {
      "cell_type": "code",
      "execution_count": null,
      "metadata": {
        "colab": {
          "base_uri": "https://localhost:8080/"
        },
        "id": "aHLGuifd11Tr",
        "outputId": "63a56b8f-b762-4463-ab24-377d88b6ddb8"
      },
      "outputs": [
        {
          "name": "stdout",
          "output_type": "stream",
          "text": [
            "danchu moca <class 'str'> <class 'str'>\n"
          ]
        }
      ],
      "source": [
        "print(name1, name2, type(name1), type(name2))"
      ]
    },
    {
      "cell_type": "code",
      "execution_count": null,
      "metadata": {
        "id": "n7s7yqN_1-9D"
      },
      "outputs": [],
      "source": [
        "text = \"I'm Student\""
      ]
    },
    {
      "cell_type": "code",
      "execution_count": null,
      "metadata": {
        "colab": {
          "base_uri": "https://localhost:8080/"
        },
        "id": "-IvLwkuO2JUc",
        "outputId": "bd056a33-3ea2-4a6e-d21c-411bd5c3abcc"
      },
      "outputs": [
        {
          "name": "stdout",
          "output_type": "stream",
          "text": [
            "I'm Student\n"
          ]
        }
      ],
      "source": [
        "print(text)"
      ]
    },
    {
      "cell_type": "code",
      "execution_count": null,
      "metadata": {
        "id": "Fo_QNVqA2KjE"
      },
      "outputs": [],
      "source": [
        "text = \"나는 말했다. \\\"안녕하세요\\\"라고\""
      ]
    },
    {
      "cell_type": "code",
      "execution_count": null,
      "metadata": {
        "colab": {
          "base_uri": "https://localhost:8080/"
        },
        "id": "3YJMDM7A2Sd-",
        "outputId": "fa6d5561-b4ce-449b-f5b6-31e79ecf3c30"
      },
      "outputs": [
        {
          "name": "stdout",
          "output_type": "stream",
          "text": [
            "나는 말했다. \"안녕하세요\"라고\n"
          ]
        }
      ],
      "source": [
        "print(text)"
      ]
    },
    {
      "cell_type": "code",
      "execution_count": null,
      "metadata": {
        "id": "bmZXm7V32UL7"
      },
      "outputs": [],
      "source": [
        "text = \"I said \\\"I'm Studedt\\\"\""
      ]
    },
    {
      "cell_type": "code",
      "execution_count": null,
      "metadata": {
        "colab": {
          "base_uri": "https://localhost:8080/"
        },
        "id": "G3-NnYJ42frP",
        "outputId": "bdd3da9d-c7cc-4c3c-add6-b5437ed78c00"
      },
      "outputs": [
        {
          "name": "stdout",
          "output_type": "stream",
          "text": [
            "I said \"I'm Studedt\"\n"
          ]
        }
      ],
      "source": [
        "print(text)"
      ]
    },
    {
      "cell_type": "code",
      "execution_count": null,
      "metadata": {
        "colab": {
          "base_uri": "https://localhost:8080/"
        },
        "id": "vTizBoTR2h2P",
        "outputId": "70e2a473-d6f7-415f-c6ee-0c040461c0d8"
      },
      "outputs": [
        {
          "name": "stdout",
          "output_type": "stream",
          "text": [
            "안녕하세요\n",
            "반갑습니다\n"
          ]
        }
      ],
      "source": [
        "text = \"안녕하세요\\n반갑습니다\"\n",
        "print(text)"
      ]
    },
    {
      "cell_type": "code",
      "execution_count": null,
      "metadata": {
        "id": "2tdGL9xn2uyR"
      },
      "outputs": [],
      "source": [
        "text = \"안녕하세요\\n반갑습니다\\n저는\\n박시현입니다\""
      ]
    },
    {
      "cell_type": "code",
      "execution_count": null,
      "metadata": {
        "colab": {
          "base_uri": "https://localhost:8080/"
        },
        "id": "SQGbkWGS25R5",
        "outputId": "aec66a14-d6f6-4f15-d19d-23b5d4fe301f"
      },
      "outputs": [
        {
          "name": "stdout",
          "output_type": "stream",
          "text": [
            "안녕하세요\n",
            "반갑습니다\n",
            "저는\n",
            "박시현입니다\n"
          ]
        }
      ],
      "source": [
        "print(text)"
      ]
    },
    {
      "cell_type": "code",
      "execution_count": null,
      "metadata": {
        "colab": {
          "base_uri": "https://localhost:8080/"
        },
        "id": "hVsgJUNy27Kh",
        "outputId": "dcd2f66e-f968-4746-8919-9d61b5d53594"
      },
      "outputs": [
        {
          "name": "stdout",
          "output_type": "stream",
          "text": [
            "안녕하세요\n",
            "반갑습니다\n",
            "저는\n",
            "박시현입니다\n",
            "단추라는\n",
            "고양이와\n",
            "모카라는\n",
            "강아지를\n",
            "키우고 있습니다.\n"
          ]
        }
      ],
      "source": [
        "text = \"\"\"안녕하세요\n",
        "반갑습니다\n",
        "저는\n",
        "박시현입니다\n",
        "단추라는\n",
        "고양이와\n",
        "모카라는\n",
        "강아지를\n",
        "키우고 있습니다.\"\"\"\n",
        "print(text)"
      ]
    },
    {
      "cell_type": "code",
      "execution_count": null,
      "metadata": {
        "id": "ApNfe6EG3HVB"
      },
      "outputs": [],
      "source": [
        "text = \"Hello MultiCampus\""
      ]
    },
    {
      "cell_type": "code",
      "execution_count": null,
      "metadata": {
        "colab": {
          "base_uri": "https://localhost:8080/"
        },
        "id": "hxIC0gzL5J9V",
        "outputId": "2b8e5e3a-193b-4e16-be0f-c81bbbec32b5"
      },
      "outputs": [
        {
          "name": "stdout",
          "output_type": "stream",
          "text": [
            "Hello MultiCampus\n"
          ]
        }
      ],
      "source": [
        "print(text)"
      ]
    },
    {
      "cell_type": "code",
      "execution_count": null,
      "metadata": {
        "colab": {
          "base_uri": "https://localhost:8080/"
        },
        "id": "rZUlCnl-5K5Z",
        "outputId": "415f7100-b1ba-4185-f26a-74c17f45475f"
      },
      "outputs": [
        {
          "data": {
            "text/plain": [
              "17"
            ]
          },
          "execution_count": 29,
          "metadata": {},
          "output_type": "execute_result"
        }
      ],
      "source": [
        "len(text)"
      ]
    },
    {
      "cell_type": "code",
      "execution_count": null,
      "metadata": {
        "colab": {
          "base_uri": "https://localhost:8080/"
        },
        "id": "f-JdBQGP5MuI",
        "outputId": "6f26c766-566e-42d0-be9f-239f390fd313"
      },
      "outputs": [
        {
          "name": "stdout",
          "output_type": "stream",
          "text": [
            "l\n"
          ]
        }
      ],
      "source": [
        "print(text[2])"
      ]
    },
    {
      "cell_type": "code",
      "execution_count": null,
      "metadata": {
        "colab": {
          "base_uri": "https://localhost:8080/"
        },
        "id": "A3Qr33V957rr",
        "outputId": "9c6143f3-a94c-4186-fec4-e8cdf1723969"
      },
      "outputs": [
        {
          "name": "stdout",
          "output_type": "stream",
          "text": [
            "M\n"
          ]
        }
      ],
      "source": [
        "print(text[-11])"
      ]
    },
    {
      "cell_type": "code",
      "execution_count": null,
      "metadata": {
        "colab": {
          "base_uri": "https://localhost:8080/"
        },
        "id": "Mid8RuIN5_PK",
        "outputId": "7e5bd4d4-0941-4070-f62f-dae360bffc39"
      },
      "outputs": [
        {
          "name": "stdout",
          "output_type": "stream",
          "text": [
            "s\n"
          ]
        }
      ],
      "source": [
        "print(text[16])"
      ]
    },
    {
      "cell_type": "code",
      "execution_count": null,
      "metadata": {
        "colab": {
          "base_uri": "https://localhost:8080/"
        },
        "id": "4UxYZ5R06TrH",
        "outputId": "1f52c4fa-7393-4c1c-b6ea-0b2d1422cbaf"
      },
      "outputs": [
        {
          "name": "stdout",
          "output_type": "stream",
          "text": [
            "l\n"
          ]
        }
      ],
      "source": [
        "print(text[3])"
      ]
    },
    {
      "cell_type": "code",
      "execution_count": null,
      "metadata": {
        "colab": {
          "base_uri": "https://localhost:8080/"
        },
        "id": "XOsDLBnl9NW1",
        "outputId": "fd41e7ed-ef9e-4bba-a084-5dc3eb54ae24"
      },
      "outputs": [
        {
          "name": "stdout",
          "output_type": "stream",
          "text": [
            "p\n"
          ]
        }
      ],
      "source": [
        "print(text[-3])"
      ]
    },
    {
      "cell_type": "code",
      "execution_count": null,
      "metadata": {
        "colab": {
          "base_uri": "https://localhost:8080/"
        },
        "id": "2q7T6Fz69RtY",
        "outputId": "5d010dde-9c63-4592-ff63-935786e9df08"
      },
      "outputs": [
        {
          "name": "stdout",
          "output_type": "stream",
          "text": [
            "안녕하세요! 반갑습니다\n"
          ]
        }
      ],
      "source": [
        "text = \"안녕하세요! 반갑습니다\"\n",
        "print(text)"
      ]
    },
    {
      "cell_type": "code",
      "execution_count": null,
      "metadata": {
        "colab": {
          "base_uri": "https://localhost:8080/",
          "height": 35
        },
        "id": "2oUVEMwMANxh",
        "outputId": "a8baf1dd-31ad-4a5d-cc58-108951321c8d"
      },
      "outputs": [
        {
          "data": {
            "application/vnd.google.colaboratory.intrinsic+json": {
              "type": "string"
            },
            "text/plain": [
              "'안녕하'"
            ]
          },
          "execution_count": 37,
          "metadata": {},
          "output_type": "execute_result"
        }
      ],
      "source": [
        "text[0:3]"
      ]
    },
    {
      "cell_type": "code",
      "execution_count": null,
      "metadata": {
        "colab": {
          "base_uri": "https://localhost:8080/",
          "height": 35
        },
        "id": "FGTPJ6ZtAkfY",
        "outputId": "f7aa0507-acb1-43ea-8a23-60fdcb54aea3"
      },
      "outputs": [
        {
          "data": {
            "application/vnd.google.colaboratory.intrinsic+json": {
              "type": "string"
            },
            "text/plain": [
              "'안녕하세요! 반갑습니다'"
            ]
          },
          "execution_count": 38,
          "metadata": {},
          "output_type": "execute_result"
        }
      ],
      "source": [
        "text[:20]"
      ]
    },
    {
      "cell_type": "code",
      "execution_count": null,
      "metadata": {
        "colab": {
          "base_uri": "https://localhost:8080/",
          "height": 35
        },
        "id": "VjD6JND5ApKZ",
        "outputId": "e80ca5b5-cc97-4ab9-ca78-3104909c4192"
      },
      "outputs": [
        {
          "data": {
            "application/vnd.google.colaboratory.intrinsic+json": {
              "type": "string"
            },
            "text/plain": [
              "'세요! 반갑습니다'"
            ]
          },
          "execution_count": 39,
          "metadata": {},
          "output_type": "execute_result"
        }
      ],
      "source": [
        "text[3:]"
      ]
    },
    {
      "cell_type": "code",
      "execution_count": null,
      "metadata": {
        "colab": {
          "base_uri": "https://localhost:8080/",
          "height": 35
        },
        "id": "dKl4jhhtBE2y",
        "outputId": "41ffc290-13f7-4968-e897-e2498506e7b3"
      },
      "outputs": [
        {
          "data": {
            "application/vnd.google.colaboratory.intrinsic+json": {
              "type": "string"
            },
            "text/plain": [
              "'안녕하세요'"
            ]
          },
          "execution_count": 41,
          "metadata": {},
          "output_type": "execute_result"
        }
      ],
      "source": [
        "text[:5]"
      ]
    },
    {
      "cell_type": "code",
      "execution_count": null,
      "metadata": {
        "colab": {
          "base_uri": "https://localhost:8080/",
          "height": 35
        },
        "id": "N7KT6ypxBIA7",
        "outputId": "07a22368-a272-42a7-8a08-b64b8cbbb07e"
      },
      "outputs": [
        {
          "data": {
            "application/vnd.google.colaboratory.intrinsic+json": {
              "type": "string"
            },
            "text/plain": [
              "'안녕하세요! 반갑습니다'"
            ]
          },
          "execution_count": 42,
          "metadata": {},
          "output_type": "execute_result"
        }
      ],
      "source": [
        "text[:]"
      ]
    },
    {
      "cell_type": "code",
      "execution_count": null,
      "metadata": {
        "colab": {
          "base_uri": "https://localhost:8080/",
          "height": 35
        },
        "id": "NfOM3AqwBLy-",
        "outputId": "f291d639-80ea-4644-ce5b-16f0c3cd0908"
      },
      "outputs": [
        {
          "data": {
            "application/vnd.google.colaboratory.intrinsic+json": {
              "type": "string"
            },
            "text/plain": [
              "'안녕하세요! '"
            ]
          },
          "execution_count": 43,
          "metadata": {},
          "output_type": "execute_result"
        }
      ],
      "source": [
        "text[:-5]"
      ]
    },
    {
      "cell_type": "code",
      "execution_count": null,
      "metadata": {
        "colab": {
          "base_uri": "https://localhost:8080/"
        },
        "id": "wLK8xdxpBOLf",
        "outputId": "8d0468c2-5296-4ef2-ed55-e3561948d4d8"
      },
      "outputs": [
        {
          "data": {
            "text/plain": [
              "12"
            ]
          },
          "execution_count": 44,
          "metadata": {},
          "output_type": "execute_result"
        }
      ],
      "source": [
        "len(text)"
      ]
    },
    {
      "cell_type": "code",
      "execution_count": null,
      "metadata": {
        "colab": {
          "base_uri": "https://localhost:8080/",
          "height": 35
        },
        "id": "EYvtfs59BSTK",
        "outputId": "c6198319-d399-4b3a-caaa-ff630d0f530d"
      },
      "outputs": [
        {
          "data": {
            "application/vnd.google.colaboratory.intrinsic+json": {
              "type": "string"
            },
            "text/plain": [
              "'안녕하세요! 반갑습니다'"
            ]
          },
          "execution_count": 45,
          "metadata": {},
          "output_type": "execute_result"
        }
      ],
      "source": [
        "text[ : ]"
      ]
    },
    {
      "cell_type": "code",
      "execution_count": null,
      "metadata": {
        "colab": {
          "base_uri": "https://localhost:8080/",
          "height": 35
        },
        "id": "K_jOCHMeEf-t",
        "outputId": "0d61d7f8-122b-4889-b36c-289c176a11c7"
      },
      "outputs": [
        {
          "data": {
            "application/vnd.google.colaboratory.intrinsic+json": {
              "type": "string"
            },
            "text/plain": [
              "'안하요 갑니'"
            ]
          },
          "execution_count": 46,
          "metadata": {},
          "output_type": "execute_result"
        }
      ],
      "source": [
        "text[ : :2]"
      ]
    },
    {
      "cell_type": "code",
      "execution_count": null,
      "metadata": {
        "colab": {
          "base_uri": "https://localhost:8080/",
          "height": 35
        },
        "id": "NXZXPID8Ej1s",
        "outputId": "f7cfcb26-9080-4c69-d527-7b78f15d11fc"
      },
      "outputs": [
        {
          "data": {
            "application/vnd.google.colaboratory.intrinsic+json": {
              "type": "string"
            },
            "text/plain": [
              "'안세 습'"
            ]
          },
          "execution_count": 47,
          "metadata": {},
          "output_type": "execute_result"
        }
      ],
      "source": [
        "text[ : : 3]"
      ]
    },
    {
      "cell_type": "code",
      "execution_count": null,
      "metadata": {
        "colab": {
          "base_uri": "https://localhost:8080/",
          "height": 35
        },
        "id": "iC7OvPFdEsjb",
        "outputId": "0f146867-fc6d-43e0-afc3-083a40f684a2"
      },
      "outputs": [
        {
          "data": {
            "application/vnd.google.colaboratory.intrinsic+json": {
              "type": "string"
            },
            "text/plain": [
              "'다갑!하'"
            ]
          },
          "execution_count": 48,
          "metadata": {},
          "output_type": "execute_result"
        }
      ],
      "source": [
        "text [ : : -3]\n",
        "# 음수 스텝"
      ]
    },
    {
      "cell_type": "code",
      "execution_count": null,
      "metadata": {
        "colab": {
          "base_uri": "https://localhost:8080/",
          "height": 35
        },
        "id": "oXHyRz5PExGf",
        "outputId": "11bf7974-50dd-4772-da0e-5b8ae38307e5"
      },
      "outputs": [
        {
          "data": {
            "application/vnd.google.colaboratory.intrinsic+json": {
              "type": "string"
            },
            "text/plain": [
              "'다니습갑반 !요세하녕안'"
            ]
          },
          "execution_count": 49,
          "metadata": {},
          "output_type": "execute_result"
        }
      ],
      "source": [
        "text [ : : -1]"
      ]
    },
    {
      "cell_type": "code",
      "execution_count": null,
      "metadata": {
        "id": "zpPZmr0_E0r_"
      },
      "outputs": [],
      "source": [
        "text1 = \"hello\"\n",
        "text2 = \"world\""
      ]
    },
    {
      "cell_type": "code",
      "execution_count": null,
      "metadata": {
        "colab": {
          "base_uri": "https://localhost:8080/"
        },
        "id": "hUpTbpNQE-8D",
        "outputId": "8941e7cb-dfef-4ef9-9ab6-47bd69030eeb"
      },
      "outputs": [
        {
          "name": "stdout",
          "output_type": "stream",
          "text": [
            "hello world\n",
            "helloworld\n"
          ]
        }
      ],
      "source": [
        "print(text1, text2)\n",
        "print(text1 + text2)"
      ]
    },
    {
      "cell_type": "code",
      "execution_count": null,
      "metadata": {
        "id": "-8fiEIeVFC4t"
      },
      "outputs": [],
      "source": [
        "number = 10"
      ]
    },
    {
      "cell_type": "code",
      "execution_count": null,
      "metadata": {
        "colab": {
          "base_uri": "https://localhost:8080/"
        },
        "id": "FgPrJyHzG4u6",
        "outputId": "67e82af1-aece-4741-b9a0-336ded8b63e7"
      },
      "outputs": [
        {
          "name": "stdout",
          "output_type": "stream",
          "text": [
            "hello world 10\n"
          ]
        }
      ],
      "source": [
        "print(text1, text2, str(number))"
      ]
    },
    {
      "cell_type": "code",
      "execution_count": null,
      "metadata": {
        "colab": {
          "base_uri": "https://localhost:8080/"
        },
        "id": "iKBF-2sNG9ux",
        "outputId": "ae38f74b-0744-4631-bc25-d49d3eabf090"
      },
      "outputs": [
        {
          "name": "stdout",
          "output_type": "stream",
          "text": [
            "안녕하세요! 반갑습니다안녕하세요! 반갑습니다안녕하세요! 반갑습니다안녕하세요! 반갑습니다안녕하세요! 반갑습니다안녕하세요! 반갑습니다안녕하세요! 반갑습니다안녕하세요! 반갑습니다안녕하세요! 반갑습니다안녕하세요! 반갑습니다\n"
          ]
        }
      ],
      "source": [
        "print(text * 10)"
      ]
    },
    {
      "cell_type": "code",
      "execution_count": null,
      "metadata": {
        "colab": {
          "base_uri": "https://localhost:8080/"
        },
        "id": "sESC4-bWHC_F",
        "outputId": "68226b35-78a6-43fd-a46f-e55d9fb124d1"
      },
      "outputs": [
        {
          "name": "stdout",
          "output_type": "stream",
          "text": [
            "hellohellohellohellohellohellohellohellohellohello\n"
          ]
        }
      ],
      "source": [
        "print(text1 * 10)"
      ]
    },
    {
      "cell_type": "code",
      "execution_count": null,
      "metadata": {
        "colab": {
          "base_uri": "https://localhost:8080/",
          "height": 35
        },
        "id": "rijOKQfBHFxR",
        "outputId": "70ba6e15-9011-4584-bb1f-82a025129ae6"
      },
      "outputs": [
        {
          "data": {
            "application/vnd.google.colaboratory.intrinsic+json": {
              "type": "string"
            },
            "text/plain": [
              "'HELLO'"
            ]
          },
          "execution_count": 56,
          "metadata": {},
          "output_type": "execute_result"
        }
      ],
      "source": [
        "# 모든 문자를 대문자로 만들기 -upper()\n",
        "text1.upper()"
      ]
    },
    {
      "cell_type": "code",
      "execution_count": null,
      "metadata": {
        "colab": {
          "base_uri": "https://localhost:8080/",
          "height": 35
        },
        "id": "dQ7fs7uGHP9F",
        "outputId": "c5f0ad1f-e178-47f7-8c42-0490a1665adc"
      },
      "outputs": [
        {
          "data": {
            "application/vnd.google.colaboratory.intrinsic+json": {
              "type": "string"
            },
            "text/plain": [
              "'hello'"
            ]
          },
          "execution_count": 57,
          "metadata": {},
          "output_type": "execute_result"
        }
      ],
      "source": [
        "# 모든 문자를 소문자로 만들기 - lower()\n",
        "\"HELLO\".lower()"
      ]
    },
    {
      "cell_type": "code",
      "execution_count": null,
      "metadata": {
        "id": "UzwuimxPHZtZ"
      },
      "outputs": [],
      "source": [
        "text = \"Hello world\""
      ]
    },
    {
      "cell_type": "code",
      "execution_count": null,
      "metadata": {
        "colab": {
          "base_uri": "https://localhost:8080/"
        },
        "id": "u1K236BkIuE6",
        "outputId": "fda1498e-3be9-433b-b324-b5ef388da54c"
      },
      "outputs": [
        {
          "name": "stdout",
          "output_type": "stream",
          "text": [
            "Hello world\n"
          ]
        }
      ],
      "source": [
        "print(text)"
      ]
    },
    {
      "cell_type": "code",
      "execution_count": null,
      "metadata": {
        "colab": {
          "base_uri": "https://localhost:8080/",
          "height": 35
        },
        "id": "uyb1nkDkIvPy",
        "outputId": "7dcb5c01-8316-4e77-8551-0c603d951828"
      },
      "outputs": [
        {
          "data": {
            "application/vnd.google.colaboratory.intrinsic+json": {
              "type": "string"
            },
            "text/plain": [
              "'Jello world'"
            ]
          },
          "execution_count": 60,
          "metadata": {},
          "output_type": "execute_result"
        }
      ],
      "source": [
        "text.replace(\"H\", \"J\")"
      ]
    },
    {
      "cell_type": "code",
      "execution_count": null,
      "metadata": {
        "colab": {
          "base_uri": "https://localhost:8080/",
          "height": 35
        },
        "id": "4bp-07AhIy7-",
        "outputId": "28c3ddf7-cdde-4ef4-f2ea-f58887571e23"
      },
      "outputs": [
        {
          "data": {
            "application/vnd.google.colaboratory.intrinsic+json": {
              "type": "string"
            },
            "text/plain": [
              "'Heooo worod'"
            ]
          },
          "execution_count": 61,
          "metadata": {},
          "output_type": "execute_result"
        }
      ],
      "source": [
        "text.replace(\"l\", \"o\")"
      ]
    },
    {
      "cell_type": "code",
      "execution_count": null,
      "metadata": {
        "colab": {
          "base_uri": "https://localhost:8080/",
          "height": 35
        },
        "id": "m-nb_QzcI3Si",
        "outputId": "ae2c162c-ef28-4222-b253-d35a46d9e559"
      },
      "outputs": [
        {
          "data": {
            "application/vnd.google.colaboratory.intrinsic+json": {
              "type": "string"
            },
            "text/plain": [
              "'Hello world'"
            ]
          },
          "execution_count": 62,
          "metadata": {},
          "output_type": "execute_result"
        }
      ],
      "source": [
        "text"
      ]
    },
    {
      "cell_type": "code",
      "execution_count": null,
      "metadata": {
        "colab": {
          "base_uri": "https://localhost:8080/",
          "height": 35
        },
        "id": "7Geh8fA8I6z6",
        "outputId": "8a161f5a-5d24-41ca-e55b-151941e06571"
      },
      "outputs": [
        {
          "data": {
            "application/vnd.google.colaboratory.intrinsic+json": {
              "type": "string"
            },
            "text/plain": [
              "'Hello world'"
            ]
          },
          "execution_count": 63,
          "metadata": {},
          "output_type": "execute_result"
        }
      ],
      "source": [
        "text.replace(\"Heool\", \"Bye\")"
      ]
    },
    {
      "cell_type": "code",
      "execution_count": null,
      "metadata": {
        "colab": {
          "base_uri": "https://localhost:8080/",
          "height": 35
        },
        "id": "j-g9VckvI-zU",
        "outputId": "be7702cb-8895-4c06-e3ca-4d335a17a6ae"
      },
      "outputs": [
        {
          "data": {
            "application/vnd.google.colaboratory.intrinsic+json": {
              "type": "string"
            },
            "text/plain": [
              "'Bye world'"
            ]
          },
          "execution_count": 64,
          "metadata": {},
          "output_type": "execute_result"
        }
      ],
      "source": [
        "text.replace(\"Hello\", \"Bye\")"
      ]
    },
    {
      "cell_type": "code",
      "execution_count": null,
      "metadata": {
        "colab": {
          "base_uri": "https://localhost:8080/"
        },
        "id": "0DDayTzbJFAe",
        "outputId": "04101d36-7033-41db-9fba-8e199b9c2881"
      },
      "outputs": [
        {
          "name": "stdout",
          "output_type": "stream",
          "text": [
            "Hello world Bye world\n"
          ]
        }
      ],
      "source": [
        "text2 = text.replace(\"Hello\", \"Bye\")\n",
        "print(text, text2)"
      ]
    },
    {
      "cell_type": "code",
      "execution_count": null,
      "metadata": {
        "colab": {
          "base_uri": "https://localhost:8080/"
        },
        "id": "sQQ6SQbjJPBv",
        "outputId": "db07cde0-36fb-438c-c28e-227d4cabc529"
      },
      "outputs": [
        {
          "name": "stdout",
          "output_type": "stream",
          "text": [
            "제 이름은ParkSihyun이고, 나이는29살 입니다.\n"
          ]
        }
      ],
      "source": [
        "name = \"ParkSihyun\"\n",
        "age = 29\n",
        "\n",
        "# 제 이름은 박시현이고 나이는 29살입니다.\n",
        "text = \"제 이름은\" + name + \"이고, 나이는\" + str(29) + \"살 입니다.\"\n",
        "print(text)"
      ]
    },
    {
      "cell_type": "code",
      "execution_count": null,
      "metadata": {
        "colab": {
          "base_uri": "https://localhost:8080/"
        },
        "id": "FuClzqq6Mf1t",
        "outputId": "57de8053-1ba9-48b6-e02e-09b9f99973a6"
      },
      "outputs": [
        {
          "name": "stdout",
          "output_type": "stream",
          "text": [
            "제 이름은{}입니다. 나이는{}입니다.\n"
          ]
        }
      ],
      "source": [
        "text = \"제 이름은{}입니다. 나이는{}입니다.\"\n",
        "print(text)"
      ]
    },
    {
      "cell_type": "code",
      "execution_count": null,
      "metadata": {
        "colab": {
          "base_uri": "https://localhost:8080/",
          "height": 35
        },
        "id": "43mfM9L2M0as",
        "outputId": "7e6f1f13-44ff-44f1-ffb3-500e7f702a96"
      },
      "outputs": [
        {
          "data": {
            "application/vnd.google.colaboratory.intrinsic+json": {
              "type": "string"
            },
            "text/plain": [
              "'제 이름은ParkSihyun입니다. 나이는29입니다.'"
            ]
          },
          "execution_count": 72,
          "metadata": {},
          "output_type": "execute_result"
        }
      ],
      "source": [
        "text.format(name, age)"
      ]
    },
    {
      "cell_type": "code",
      "execution_count": null,
      "metadata": {
        "colab": {
          "base_uri": "https://localhost:8080/",
          "height": 35
        },
        "id": "N0ifwg5hM4ZL",
        "outputId": "cc1920bc-7189-4556-9494-52882054311f"
      },
      "outputs": [
        {
          "data": {
            "application/vnd.google.colaboratory.intrinsic+json": {
              "type": "string"
            },
            "text/plain": [
              "'제 이름은박단추입니다. 나이는7입니다.'"
            ]
          },
          "execution_count": 73,
          "metadata": {},
          "output_type": "execute_result"
        }
      ],
      "source": [
        "text.format(\"박단추\", 7)"
      ]
    },
    {
      "cell_type": "code",
      "execution_count": null,
      "metadata": {
        "id": "SwKiXoKbNIez"
      },
      "outputs": [],
      "source": [
        "text = f\"제 이름은{name}입니다. 나이는 {age}입니다\""
      ]
    },
    {
      "cell_type": "code",
      "execution_count": null,
      "metadata": {
        "colab": {
          "base_uri": "https://localhost:8080/"
        },
        "id": "EoYxHaqlNTAu",
        "outputId": "d9a0d811-9d82-4277-e611-50867bed220b"
      },
      "outputs": [
        {
          "name": "stdout",
          "output_type": "stream",
          "text": [
            "제 이름은ParkSihyun입니다. 나이는 29입니다\n"
          ]
        }
      ],
      "source": [
        "print(text)"
      ]
    },
    {
      "cell_type": "code",
      "execution_count": null,
      "metadata": {
        "colab": {
          "base_uri": "https://localhost:8080/"
        },
        "id": "PCp537TbNU2f",
        "outputId": "0cadb9e7-eddc-478b-dc77-73a24417ba2b"
      },
      "outputs": [
        {
          "data": {
            "text/plain": [
              "('p', 't')"
            ]
          },
          "execution_count": 80,
          "metadata": {},
          "output_type": "execute_result"
        }
      ],
      "source": [
        "letters = \"python\"\n",
        "letters[0], letters[2]"
      ]
    },
    {
      "cell_type": "code",
      "execution_count": null,
      "metadata": {
        "colab": {
          "base_uri": "https://localhost:8080/"
        },
        "id": "WVZ05uDFQSL_",
        "outputId": "c0650b77-9f1c-49e9-ac9c-09a85ce4001f"
      },
      "outputs": [
        {
          "name": "stdout",
          "output_type": "stream",
          "text": [
            "p t\n"
          ]
        }
      ],
      "source": [
        "print(letters[0], letters[2])"
      ]
    },
    {
      "cell_type": "code",
      "execution_count": null,
      "metadata": {
        "id": "hJMAl90TQpJL"
      },
      "outputs": [],
      "source": [
        "name1 = \"송몽숙\"\n",
        "age1 = 30\n",
        "name2 = \"망난이\"\n",
        "age2 = 31"
      ]
    },
    {
      "cell_type": "code",
      "execution_count": null,
      "metadata": {
        "id": "dNuKu4_rQ-np"
      },
      "outputs": [],
      "source": [
        "text = \"이름 : {} 나이:{}\""
      ]
    },
    {
      "cell_type": "code",
      "execution_count": null,
      "metadata": {
        "colab": {
          "base_uri": "https://localhost:8080/",
          "height": 35
        },
        "id": "iEXsrk7GRMEu",
        "outputId": "c514c8d1-85a7-42ff-9964-4bb191e81e5b"
      },
      "outputs": [
        {
          "data": {
            "application/vnd.google.colaboratory.intrinsic+json": {
              "type": "string"
            },
            "text/plain": [
              "'이름 : 송몽숙 나이:30'"
            ]
          },
          "execution_count": 86,
          "metadata": {},
          "output_type": "execute_result"
        }
      ],
      "source": [
        "text.format(name1, age1)"
      ]
    },
    {
      "cell_type": "code",
      "execution_count": null,
      "metadata": {
        "colab": {
          "base_uri": "https://localhost:8080/",
          "height": 35
        },
        "id": "ayDMKL3xRUre",
        "outputId": "84e827d7-a83e-4b53-f187-038b02305ef0"
      },
      "outputs": [
        {
          "data": {
            "application/vnd.google.colaboratory.intrinsic+json": {
              "type": "string"
            },
            "text/plain": [
              "'이름 : 망난이 나이:31'"
            ]
          },
          "execution_count": 88,
          "metadata": {},
          "output_type": "execute_result"
        }
      ],
      "source": [
        "text.format(name2, age2)"
      ]
    },
    {
      "cell_type": "code",
      "execution_count": null,
      "metadata": {
        "id": "VNHdBMyqRfey"
      },
      "outputs": [],
      "source": [
        "text = f\"이름 : {name1} 나이 : {age1}\""
      ]
    },
    {
      "cell_type": "code",
      "execution_count": null,
      "metadata": {
        "colab": {
          "base_uri": "https://localhost:8080/"
        },
        "id": "rsuAESuDRo-C",
        "outputId": "1dcae75d-ef46-46d9-e6dc-796acf8710d1"
      },
      "outputs": [
        {
          "name": "stdout",
          "output_type": "stream",
          "text": [
            "이름 : 송몽숙 나이 : 30\n"
          ]
        }
      ],
      "source": [
        "print(text)"
      ]
    },
    {
      "cell_type": "code",
      "execution_count": null,
      "metadata": {
        "colab": {
          "base_uri": "https://localhost:8080/"
        },
        "id": "wMkR7dmNRqVf",
        "outputId": "4581226e-f205-4c95-92b9-578f5f32d722"
      },
      "outputs": [
        {
          "name": "stdout",
          "output_type": "stream",
          "text": [
            "이름 : 송몽숙 나이 : 30\n",
            "이름 : 망난이 나이 : 31\n"
          ]
        }
      ],
      "source": [
        "print(\"이름 : {} 나이 : {}\".format(name1, age1))\n",
        "print(\"이름 : {} 나이 : {}\".format(name2, age2))"
      ]
    },
    {
      "cell_type": "code",
      "execution_count": null,
      "metadata": {
        "colab": {
          "base_uri": "https://localhost:8080/",
          "height": 54
        },
        "id": "8YhnEHO1R3iI",
        "outputId": "aa08838f-957f-42c5-8967-c43f55aabf1b"
      },
      "outputs": [
        {
          "name": "stdout",
          "output_type": "stream",
          "text": [
            "pithon\n"
          ]
        },
        {
          "data": {
            "application/vnd.google.colaboratory.intrinsic+json": {
              "type": "string"
            },
            "text/plain": [
              "'python'"
            ]
          },
          "execution_count": 95,
          "metadata": {},
          "output_type": "execute_result"
        }
      ],
      "source": [
        "text = \"pithon\"\n",
        "print(text)\n",
        "text.replace(\"i\", \"y\")"
      ]
    },
    {
      "cell_type": "code",
      "execution_count": null,
      "metadata": {
        "colab": {
          "base_uri": "https://localhost:8080/",
          "height": 35
        },
        "id": "l_7NL0coS_TY",
        "outputId": "1879976f-49ef-4733-dde1-a8a6e2239e06"
      },
      "outputs": [
        {
          "data": {
            "application/vnd.google.colaboratory.intrinsic+json": {
              "type": "string"
            },
            "text/plain": [
              "'나는 사과를 5개 먹는다'"
            ]
          },
          "execution_count": 96,
          "metadata": {},
          "output_type": "execute_result"
        }
      ],
      "source": [
        "\"나는 사과를 %d개 먹는다\" %5"
      ]
    },
    {
      "cell_type": "code",
      "execution_count": null,
      "metadata": {
        "colab": {
          "base_uri": "https://localhost:8080/",
          "height": 35
        },
        "id": "zZF12SUgTaDT",
        "outputId": "67f43870-2520-4a70-b1e0-1142ec64d065"
      },
      "outputs": [
        {
          "data": {
            "application/vnd.google.colaboratory.intrinsic+json": {
              "type": "string"
            },
            "text/plain": [
              "'나는 치킨 한마리와 피자 한 판을 먹을 수 있다.'"
            ]
          },
          "execution_count": 99,
          "metadata": {},
          "output_type": "execute_result"
        }
      ],
      "source": [
        "\"나는 치킨 %s마리와 피자 %s 판을 먹을 수 있다.\" %(\"한\", \"한\")"
      ]
    },
    {
      "cell_type": "code",
      "execution_count": null,
      "metadata": {
        "colab": {
          "base_uri": "https://localhost:8080/",
          "height": 35
        },
        "id": "Mlf4r2YOTk9T",
        "outputId": "219995fd-ede1-4fc4-c5c4-7236aba20762"
      },
      "outputs": [
        {
          "data": {
            "application/vnd.google.colaboratory.intrinsic+json": {
              "type": "string"
            },
            "text/plain": [
              "'나는 치킨 한 마리로 이일을 먹을 수 있다'"
            ]
          },
          "execution_count": 102,
          "metadata": {},
          "output_type": "execute_result"
        }
      ],
      "source": [
        "\"나는 치킨 %s 마리로 %s일을 먹을 수 있다\" %(\"한\", \"이\")"
      ]
    },
    {
      "cell_type": "code",
      "execution_count": null,
      "metadata": {
        "colab": {
          "base_uri": "https://localhost:8080/",
          "height": 35
        },
        "id": "0pfCqY34T368",
        "outputId": "210e3843-228e-4d22-c1b9-0decd35c9d08"
      },
      "outputs": [
        {
          "data": {
            "application/vnd.google.colaboratory.intrinsic+json": {
              "type": "string"
            },
            "text/plain": [
              "'나는 4시가 되면 배가 고프다.'"
            ]
          },
          "execution_count": 103,
          "metadata": {},
          "output_type": "execute_result"
        }
      ],
      "source": [
        "\"나는 {}시가 되면 배가 고프다.\".format(4)"
      ]
    },
    {
      "cell_type": "code",
      "execution_count": null,
      "metadata": {
        "colab": {
          "base_uri": "https://localhost:8080/",
          "height": 35
        },
        "id": "2L8dTksgUOjs",
        "outputId": "7d61f099-5fe8-4408-a45f-735557ec8648"
      },
      "outputs": [
        {
          "data": {
            "application/vnd.google.colaboratory.intrinsic+json": {
              "type": "string"
            },
            "text/plain": [
              "'나는 소주를 병으로 먹으면 두병, 페트로 먹으면 한병을 마신다'"
            ]
          },
          "execution_count": 105,
          "metadata": {},
          "output_type": "execute_result"
        }
      ],
      "source": [
        "\"나는 소주를 병으로 먹으면 {}병, 페트로 먹으면 {}병을 마신다\".format(\"두\", \"한\")"
      ]
    },
    {
      "cell_type": "code",
      "execution_count": null,
      "metadata": {
        "colab": {
          "base_uri": "https://localhost:8080/",
          "height": 35
        },
        "id": "4-PoQA7XUZpi",
        "outputId": "e51ad449-edaa-49e3-b83d-03c89ac1fcd9"
      },
      "outputs": [
        {
          "data": {
            "application/vnd.google.colaboratory.intrinsic+json": {
              "type": "string"
            },
            "text/plain": [
              "'우리 집에는 동물이 2마리 있다'"
            ]
          },
          "execution_count": 106,
          "metadata": {},
          "output_type": "execute_result"
        }
      ],
      "source": [
        "ani = 2\n",
        "\"우리 집에는 동물이 {}마리 있다\".format(ani)"
      ]
    },
    {
      "cell_type": "code",
      "execution_count": null,
      "metadata": {
        "colab": {
          "base_uri": "https://localhost:8080/",
          "height": 35
        },
        "id": "VMu8aFPUUl_P",
        "outputId": "df97f4a9-465d-41fa-807a-1157d3895c90"
      },
      "outputs": [
        {
          "data": {
            "application/vnd.google.colaboratory.intrinsic+json": {
              "type": "string"
            },
            "text/plain": [
              "'나는 초록색 소주는2병 마신다'"
            ]
          },
          "execution_count": 107,
          "metadata": {},
          "output_type": "execute_result"
        }
      ],
      "source": [
        "f\"나는 초록색 소주는{ani}병 마신다\""
      ]
    },
    {
      "cell_type": "code",
      "execution_count": null,
      "metadata": {
        "colab": {
          "base_uri": "https://localhost:8080/",
          "height": 35
        },
        "id": "r9EiMGuZVGZo",
        "outputId": "739fcba7-d48e-4224-cba9-469aacaf23e7"
      },
      "outputs": [
        {
          "data": {
            "application/vnd.google.colaboratory.intrinsic+json": {
              "type": "string"
            },
            "text/plain": [
              "'오늘은 2022년 3월 21일 입니다.'"
            ]
          },
          "execution_count": 108,
          "metadata": {},
          "output_type": "execute_result"
        }
      ],
      "source": [
        "year = 2022\n",
        "month = 3\n",
        "day = 21\n",
        "f\"오늘은 {year}년 {month}월 {day}일 입니다.\""
      ]
    },
    {
      "cell_type": "code",
      "execution_count": null,
      "metadata": {
        "colab": {
          "base_uri": "https://localhost:8080/"
        },
        "id": "sPN7NE1lXF3I",
        "outputId": "9c71c46b-f23a-465a-85f5-130b1dbc0e5a"
      },
      "outputs": [
        {
          "name": "stdout",
          "output_type": "stream",
          "text": [
            "오늘은 2022년 3월 21일 입니다\n"
          ]
        }
      ],
      "source": [
        "print(\"오늘은 {}년 {}월 {}일 입니다\".format(year, month, day))"
      ]
    },
    {
      "cell_type": "code",
      "execution_count": null,
      "metadata": {
        "colab": {
          "base_uri": "https://localhost:8080/",
          "height": 35
        },
        "id": "CI7aZ0ULXP2T",
        "outputId": "355f9fa5-33d8-4164-d5fb-740b2e116129"
      },
      "outputs": [
        {
          "data": {
            "application/vnd.google.colaboratory.intrinsic+json": {
              "type": "string"
            },
            "text/plain": [
              "'내일은 22일이다.'"
            ]
          },
          "execution_count": 110,
          "metadata": {},
          "output_type": "execute_result"
        }
      ],
      "source": [
        "f\"내일은 {day+1}일이다.\""
      ]
    },
    {
      "cell_type": "code",
      "execution_count": null,
      "metadata": {
        "colab": {
          "base_uri": "https://localhost:8080/"
        },
        "id": "77NAu51mXofW",
        "outputId": "54cac73b-7ef0-4ac7-f7ce-a749dda94318"
      },
      "outputs": [
        {
          "data": {
            "text/plain": [
              "['안녕하세요.', '저는', '박시현입니다.', '제가', '즐겨보는', '유튜브', '채널은', \"'사회인게임클럽'입니다.\"]"
            ]
          },
          "execution_count": 111,
          "metadata": {},
          "output_type": "execute_result"
        }
      ],
      "source": [
        "text = \"안녕하세요. 저는 박시현입니다. 제가 즐겨보는 유튜브 채널은 '사회인게임클럽'입니다.\"\n",
        "text.split(\" \")"
      ]
    },
    {
      "cell_type": "code",
      "execution_count": null,
      "metadata": {
        "colab": {
          "base_uri": "https://localhost:8080/"
        },
        "id": "A7raeqTiYcG9",
        "outputId": "70a568a7-6ef1-4311-8c54-47de1da5e601"
      },
      "outputs": [
        {
          "data": {
            "text/plain": [
              "['', '하루종일', '파이썬', '하고있는데', '그래도', '모르겠다']"
            ]
          },
          "execution_count": 112,
          "metadata": {},
          "output_type": "execute_result"
        }
      ],
      "source": [
        "text = \"#하루종일#파이썬#하고있는데#그래도#모르겠다\"\n",
        "text.split(\"#\")"
      ]
    },
    {
      "cell_type": "code",
      "execution_count": null,
      "metadata": {
        "id": "UPcnqwerY1gj"
      },
      "outputs": [],
      "source": [
        "result = text.split(\"#\")[1:]"
      ]
    },
    {
      "cell_type": "code",
      "execution_count": null,
      "metadata": {
        "colab": {
          "base_uri": "https://localhost:8080/"
        },
        "id": "URwIU7OcZEWH",
        "outputId": "5c43dad2-c2f0-4206-9b2d-a52a655b0964"
      },
      "outputs": [
        {
          "name": "stdout",
          "output_type": "stream",
          "text": [
            "['하루종일', '파이썬', '하고있는데', '그래도', '모르겠다']\n"
          ]
        }
      ],
      "source": [
        "print(result)"
      ]
    },
    {
      "cell_type": "code",
      "execution_count": null,
      "metadata": {
        "id": "xL0CZvu1ZF1e"
      },
      "outputs": [],
      "source": [
        "text = \"파이썬    재미는  있는데    왜      나는    잘   못하는걸까   나 빼고    다 파이썬을    잘 하는 것 같다.\"\n",
        "result = text.split()"
      ]
    },
    {
      "cell_type": "code",
      "execution_count": null,
      "metadata": {
        "colab": {
          "base_uri": "https://localhost:8080/"
        },
        "id": "4Fu6rSBbZkSl",
        "outputId": "94dd0ddd-0446-41f0-ee33-73418ca0419b"
      },
      "outputs": [
        {
          "name": "stdout",
          "output_type": "stream",
          "text": [
            "['파이썬', '재미는', '있는데', '왜', '나는', '잘', '못하는걸까', '나', '빼고', '다', '파이썬을', '잘', '하는', '것', '같다.']\n"
          ]
        }
      ],
      "source": [
        "print(result)"
      ]
    },
    {
      "cell_type": "code",
      "execution_count": null,
      "metadata": {
        "colab": {
          "base_uri": "https://localhost:8080/"
        },
        "id": "rpezW6mGZl6v",
        "outputId": "ba0c51ba-1972-4418-efeb-8ca0a2726c5d"
      },
      "outputs": [
        {
          "name": "stdout",
          "output_type": "stream",
          "text": [
            "\n",
            "\n",
            "안녕\n",
            "\n",
            "나는\n",
            "\n",
            "시현이야\n"
          ]
        }
      ],
      "source": [
        "text = \"\\n\\n안녕\\n\\n나는\\n\\n시현이야\"\n",
        "print(text)"
      ]
    },
    {
      "cell_type": "code",
      "execution_count": null,
      "metadata": {
        "colab": {
          "base_uri": "https://localhost:8080/"
        },
        "id": "5244qSmcaAC3",
        "outputId": "d3c2092b-4352-4ebf-b5e6-eb844b997214"
      },
      "outputs": [
        {
          "name": "stdout",
          "output_type": "stream",
          "text": [
            "['안녕', '나는', '시현이야']\n"
          ]
        }
      ],
      "source": [
        "print(text.split())"
      ]
    },
    {
      "cell_type": "code",
      "execution_count": null,
      "metadata": {
        "colab": {
          "base_uri": "https://localhost:8080/"
        },
        "id": "1ZqcaBMMaH6B",
        "outputId": "39f4e16c-91af-4336-cda2-bd2576b52b5d"
      },
      "outputs": [
        {
          "data": {
            "text/plain": [
              "['안녕', '나는', '시현이야']"
            ]
          },
          "execution_count": 125,
          "metadata": {},
          "output_type": "execute_result"
        }
      ],
      "source": [
        "result = text.split()\n",
        "result"
      ]
    },
    {
      "cell_type": "code",
      "execution_count": null,
      "metadata": {
        "colab": {
          "base_uri": "https://localhost:8080/",
          "height": 35
        },
        "id": "Q_9zlGWAbA0-",
        "outputId": "cc3a76be-ede6-4150-db4f-e925d2ca9a26"
      },
      "outputs": [
        {
          "data": {
            "application/vnd.google.colaboratory.intrinsic+json": {
              "type": "string"
            },
            "text/plain": [
              "'#안녕#나는#시현이야'"
            ]
          },
          "execution_count": 126,
          "metadata": {},
          "output_type": "execute_result"
        }
      ],
      "source": [
        "\"#\"+\"#\".join(result)"
      ]
    },
    {
      "cell_type": "code",
      "execution_count": null,
      "metadata": {
        "colab": {
          "base_uri": "https://localhost:8080/",
          "height": 35
        },
        "id": "PAiMgeDkbOKi",
        "outputId": "47ce7ac1-9821-491d-88f0-049ee2c4e40a"
      },
      "outputs": [
        {
          "data": {
            "application/vnd.google.colaboratory.intrinsic+json": {
              "type": "string"
            },
            "text/plain": [
              "'안녕 나는 시현이야'"
            ]
          },
          "execution_count": 127,
          "metadata": {},
          "output_type": "execute_result"
        }
      ],
      "source": [
        "\" \".join(result)"
      ]
    },
    {
      "cell_type": "code",
      "execution_count": null,
      "metadata": {
        "colab": {
          "base_uri": "https://localhost:8080/"
        },
        "id": "KxUYDlswbTWQ",
        "outputId": "9e8e2951-e30b-43ba-9431-c1d716d64635"
      },
      "outputs": [
        {
          "data": {
            "text/plain": [
              "['매일', '아침메뉴', '걱정에', '시달리고있다.']"
            ]
          },
          "execution_count": 128,
          "metadata": {},
          "output_type": "execute_result"
        }
      ],
      "source": [
        "text = \"매일 아침메뉴 걱정에 시달리고있다.\"\n",
        "text.split()"
      ]
    },
    {
      "cell_type": "code",
      "execution_count": null,
      "metadata": {
        "colab": {
          "base_uri": "https://localhost:8080/",
          "height": 35
        },
        "id": "p-vhWyPGb3Xl",
        "outputId": "8762a9e5-0fa3-4f67-e989-4934ef3a6fe2"
      },
      "outputs": [
        {
          "data": {
            "application/vnd.google.colaboratory.intrinsic+json": {
              "type": "string"
            },
            "text/plain": [
              "'#매일#아침메뉴#걱정에#시달리고있다.'"
            ]
          },
          "execution_count": 129,
          "metadata": {},
          "output_type": "execute_result"
        }
      ],
      "source": [
        "\"#\"+\"#\".join(text.split())"
      ]
    },
    {
      "cell_type": "code",
      "execution_count": null,
      "metadata": {
        "id": "mtSbXI7ab_Fq"
      },
      "outputs": [],
      "source": [
        "movie1 = \"9.49\"\n",
        "movie2 = \"  9.42   \"\n",
        "movie3 = \"9.34\""
      ]
    },
    {
      "cell_type": "code",
      "execution_count": null,
      "metadata": {
        "colab": {
          "base_uri": "https://localhost:8080/"
        },
        "id": "vhMb0R49c0Xr",
        "outputId": "6ceaca18-4b24-4b06-e6e7-cbc40fa942a5"
      },
      "outputs": [
        {
          "data": {
            "text/plain": [
              "9.49"
            ]
          },
          "execution_count": 135,
          "metadata": {},
          "output_type": "execute_result"
        }
      ],
      "source": [
        "float(movie1)"
      ]
    },
    {
      "cell_type": "code",
      "execution_count": null,
      "metadata": {
        "colab": {
          "base_uri": "https://localhost:8080/"
        },
        "id": "pt9c3Ev4c6ea",
        "outputId": "11a707c8-d242-443a-ac03-0dce319e9837"
      },
      "outputs": [
        {
          "data": {
            "text/plain": [
              "9.42"
            ]
          },
          "execution_count": 136,
          "metadata": {},
          "output_type": "execute_result"
        }
      ],
      "source": [
        "float(movie2)"
      ]
    },
    {
      "cell_type": "code",
      "execution_count": null,
      "metadata": {
        "colab": {
          "base_uri": "https://localhost:8080/"
        },
        "id": "7tqa2LM-c9Jb",
        "outputId": "355a676f-1871-4cad-d3a2-894cb3aeed71"
      },
      "outputs": [
        {
          "data": {
            "text/plain": [
              "9.34"
            ]
          },
          "execution_count": 137,
          "metadata": {},
          "output_type": "execute_result"
        }
      ],
      "source": [
        "float(movie3)"
      ]
    },
    {
      "cell_type": "code",
      "execution_count": null,
      "metadata": {
        "id": "Ogr1nzmUc_WE"
      },
      "outputs": [],
      "source": [
        "movie_score_sum = (movie1 + movie2 + movie3)"
      ]
    },
    {
      "cell_type": "code",
      "execution_count": null,
      "metadata": {
        "colab": {
          "base_uri": "https://localhost:8080/"
        },
        "id": "N_z3TINNdLO1",
        "outputId": "fa462993-0f92-4eb4-dc19-57c00d64afc8"
      },
      "outputs": [
        {
          "name": "stdout",
          "output_type": "stream",
          "text": [
            "9.49  9.42   9.34\n"
          ]
        }
      ],
      "source": [
        "print(movie_score_sum)"
      ]
    },
    {
      "cell_type": "code",
      "execution_count": null,
      "metadata": {
        "id": "tjSAEDOcdOnT"
      },
      "outputs": [],
      "source": [
        "movie1_score = float(movie1)\n",
        "movie2_score = float(movie2)\n",
        "movie3_score = float(movie3)"
      ]
    },
    {
      "cell_type": "code",
      "execution_count": null,
      "metadata": {
        "id": "ft3VfuZpdk1a"
      },
      "outputs": [],
      "source": [
        "movie_score_sum = (movie1_score + movie2_score + movie3_score)"
      ]
    },
    {
      "cell_type": "code",
      "execution_count": null,
      "metadata": {
        "colab": {
          "base_uri": "https://localhost:8080/"
        },
        "id": "RjKh2IqZdvA7",
        "outputId": "8df4f74d-1e96-4080-8894-77bc65bdc63d"
      },
      "outputs": [
        {
          "name": "stdout",
          "output_type": "stream",
          "text": [
            "28.25\n"
          ]
        }
      ],
      "source": [
        "print(movie_score_sum)"
      ]
    },
    {
      "cell_type": "code",
      "execution_count": null,
      "metadata": {
        "colab": {
          "base_uri": "https://localhost:8080/"
        },
        "id": "dmzuDe3xd6ic",
        "outputId": "d3f0881f-5ae5-44a9-b684-fa6fce415bc2"
      },
      "outputs": [
        {
          "data": {
            "text/plain": [
              "9.416666666666666"
            ]
          },
          "execution_count": 147,
          "metadata": {},
          "output_type": "execute_result"
        }
      ],
      "source": [
        "movie_score_sum / 3"
      ]
    },
    {
      "cell_type": "code",
      "execution_count": null,
      "metadata": {
        "id": "vDwpfvd4d_WG"
      },
      "outputs": [],
      "source": [
        "venom = \"5.16점\""
      ]
    },
    {
      "cell_type": "code",
      "execution_count": null,
      "metadata": {
        "colab": {
          "base_uri": "https://localhost:8080/",
          "height": 35
        },
        "id": "hfOGTGHpeKOe",
        "outputId": "6ca238a1-c858-4268-d5cc-7cace128f538"
      },
      "outputs": [
        {
          "data": {
            "application/vnd.google.colaboratory.intrinsic+json": {
              "type": "string"
            },
            "text/plain": [
              "'5.16'"
            ]
          },
          "execution_count": 149,
          "metadata": {},
          "output_type": "execute_result"
        }
      ],
      "source": [
        "venom[:-1]"
      ]
    },
    {
      "cell_type": "code",
      "execution_count": null,
      "metadata": {
        "id": "LwRkUJS5eXCF"
      },
      "outputs": [],
      "source": [
        "venom_score = venom[:-1]"
      ]
    },
    {
      "cell_type": "code",
      "execution_count": null,
      "metadata": {
        "id": "LtaOkME-effs"
      },
      "outputs": [],
      "source": [
        "venom_score_in = float(venom_score)"
      ]
    },
    {
      "cell_type": "code",
      "execution_count": null,
      "metadata": {
        "id": "JMvcbRJCetMY"
      },
      "outputs": [],
      "source": [
        "venom_score_int = int(venom_score_in)"
      ]
    },
    {
      "cell_type": "code",
      "execution_count": null,
      "metadata": {
        "colab": {
          "base_uri": "https://localhost:8080/"
        },
        "id": "v1I6fwjwe-Em",
        "outputId": "47b9bcba-8e3d-4074-b9dc-2e80452c30c3"
      },
      "outputs": [
        {
          "name": "stdout",
          "output_type": "stream",
          "text": [
            "5\n"
          ]
        }
      ],
      "source": [
        "print(venom_score_int)"
      ]
    },
    {
      "cell_type": "code",
      "execution_count": null,
      "metadata": {
        "colab": {
          "base_uri": "https://localhost:8080/"
        },
        "id": "RT4TLqlMfBlJ",
        "outputId": "0a6f5f06-cdb8-4a0f-e71f-c50a0c38eee7"
      },
      "outputs": [
        {
          "name": "stdout",
          "output_type": "stream",
          "text": [
            "650.8g\n"
          ]
        }
      ],
      "source": [
        "meat = \"650.8g\"\n",
        "print(meat)"
      ]
    },
    {
      "cell_type": "code",
      "execution_count": null,
      "metadata": {
        "colab": {
          "base_uri": "https://localhost:8080/"
        },
        "id": "CzGteHaifzE-",
        "outputId": "173cb8d1-055b-409f-9cb1-0da5093acaa6"
      },
      "outputs": [
        {
          "name": "stdout",
          "output_type": "stream",
          "text": [
            "650.8 <class 'str'>\n"
          ]
        }
      ],
      "source": [
        "meat1 = meat[:-1]\n",
        "print(meat1, type(meat))"
      ]
    },
    {
      "cell_type": "code",
      "execution_count": null,
      "metadata": {
        "colab": {
          "base_uri": "https://localhost:8080/"
        },
        "id": "qKfJG2_nf6OB",
        "outputId": "e762718e-ad02-4079-c6d8-57077895224c"
      },
      "outputs": [
        {
          "name": "stdout",
          "output_type": "stream",
          "text": [
            "650 <class 'int'>\n"
          ]
        }
      ],
      "source": [
        "meat2 = int(float(meat1))\n",
        "print(meat2, type(meat2))"
      ]
    },
    {
      "cell_type": "code",
      "execution_count": null,
      "metadata": {
        "colab": {
          "base_uri": "https://localhost:8080/"
        },
        "id": "ozW6QQVbgJea",
        "outputId": "05a7a4d8-230d-4d0e-b313-4b66c9a3a4cd"
      },
      "outputs": [
        {
          "name": "stdout",
          "output_type": "stream",
          "text": [
            "firstsecond\n"
          ]
        }
      ],
      "source": [
        "print(\"first\", end=\"\");print(\"second\")"
      ]
    },
    {
      "cell_type": "code",
      "execution_count": null,
      "metadata": {
        "colab": {
          "base_uri": "https://localhost:8080/"
        },
        "id": "uawRS2ughNAj",
        "outputId": "e7f54b01-6fae-4655-d0ad-54cf1bc92a23"
      },
      "outputs": [
        {
          "name": "stdout",
          "output_type": "stream",
          "text": [
            "132 <class 'str'>\n"
          ]
        }
      ],
      "source": [
        "a = \"132\"\n",
        "print(a, type(a))"
      ]
    },
    {
      "cell_type": "code",
      "execution_count": null,
      "metadata": {
        "colab": {
          "base_uri": "https://localhost:8080/"
        },
        "id": "W0DzLElhhoWf",
        "outputId": "ef5beeb2-63ba-4a1b-e0ca-0ed6b413d673"
      },
      "outputs": [
        {
          "name": "stdout",
          "output_type": "stream",
          "text": [
            "298000000000000 <class 'int'> 50000 <class 'int'> 15.79 <class 'float'>\n"
          ]
        }
      ],
      "source": [
        "시가총액 = 298000000000000\n",
        "현재가 = 50000\n",
        "PER = 15.79\n",
        "print(시가총액, type(시가총액), 현재가, type(현재가), PER, type(PER))"
      ]
    },
    {
      "cell_type": "code",
      "execution_count": null,
      "metadata": {
        "colab": {
          "base_uri": "https://localhost:8080/"
        },
        "id": "FCdc_7qAibGe",
        "outputId": "30bddb49-56b8-46de-a1a7-24db86f2975e"
      },
      "outputs": [
        {
          "name": "stdout",
          "output_type": "stream",
          "text": [
            "2017\n",
            "2018\n",
            "2019\n"
          ]
        }
      ],
      "source": [
        "year = \"2020\"\n",
        "print(int(year)-3)\n",
        "print(int(year)-2)\n",
        "print(int(year)-1)"
      ]
    },
    {
      "cell_type": "code",
      "execution_count": null,
      "metadata": {
        "colab": {
          "base_uri": "https://localhost:8080/"
        },
        "id": "uJ7xzJ67mUT1",
        "outputId": "5160f099-2c36-47b5-a3fb-5cf380caea31"
      },
      "outputs": [
        {
          "name": "stdout",
          "output_type": "stream",
          "text": [
            "1749024\n"
          ]
        }
      ],
      "source": [
        "price = 48584\n",
        "총금액 = price * 36\n",
        "print(총금액)"
      ]
    },
    {
      "cell_type": "code",
      "execution_count": null,
      "metadata": {
        "colab": {
          "base_uri": "https://localhost:8080/"
        },
        "id": "8rViS0hRmlRV",
        "outputId": "6e600356-b4f5-4fe3-e89a-1335a3620c5a"
      },
      "outputs": [
        {
          "name": "stdout",
          "output_type": "stream",
          "text": [
            "hello! python\n"
          ]
        }
      ],
      "source": [
        "s = \"hello\"\n",
        "t = \"python\"\n",
        "print(s+\"!\", t)"
      ]
    },
    {
      "cell_type": "code",
      "execution_count": null,
      "metadata": {
        "colab": {
          "base_uri": "https://localhost:8080/"
        },
        "id": "nd08FIjNm6dQ",
        "outputId": "12acfa0a-7241-4387-c0ec-74aca997c309"
      },
      "outputs": [
        {
          "data": {
            "text/plain": [
              "('p', 't')"
            ]
          },
          "execution_count": 176,
          "metadata": {},
          "output_type": "execute_result"
        }
      ],
      "source": [
        "letters = \"python\"\n",
        "letters[0], letters[2]"
      ]
    },
    {
      "cell_type": "code",
      "execution_count": null,
      "metadata": {
        "colab": {
          "base_uri": "https://localhost:8080/"
        },
        "id": "UOtSnS7MnPrG",
        "outputId": "ef674d54-7cbf-46cd-f6cd-36a224f45874"
      },
      "outputs": [
        {
          "name": "stdout",
          "output_type": "stream",
          "text": [
            "p t\n"
          ]
        }
      ],
      "source": [
        "print(letters[0], letters[2])"
      ]
    },
    {
      "cell_type": "code",
      "execution_count": null,
      "metadata": {
        "colab": {
          "base_uri": "https://localhost:8080/"
        },
        "id": "7uZunxfhnZE_",
        "outputId": "9c807952-3f87-4b26-b063-5aa87f70b0f4"
      },
      "outputs": [
        {
          "name": "stdout",
          "output_type": "stream",
          "text": [
            "NOHTYP\n"
          ]
        }
      ],
      "source": [
        "string = \"PYTHON\"\n",
        "print(string[: :-1])"
      ]
    },
    {
      "cell_type": "code",
      "execution_count": null,
      "metadata": {
        "colab": {
          "base_uri": "https://localhost:8080/",
          "height": 35
        },
        "id": "Bv_0ePynnif6",
        "outputId": "9cb8c727-2786-402d-b150-780afa6da52f"
      },
      "outputs": [
        {
          "data": {
            "application/vnd.google.colaboratory.intrinsic+json": {
              "type": "string"
            },
            "text/plain": [
              "'010 1111 2222'"
            ]
          },
          "execution_count": 179,
          "metadata": {},
          "output_type": "execute_result"
        }
      ],
      "source": [
        "phone_number = \"010-1111-2222\"\n",
        "phone_number.replace(\"-\", \" \")"
      ]
    },
    {
      "cell_type": "code",
      "execution_count": null,
      "metadata": {
        "colab": {
          "base_uri": "https://localhost:8080/"
        },
        "id": "ggSgQXRGnw96",
        "outputId": "681c7a87-e18c-474e-ffc9-6dd3740f7787"
      },
      "outputs": [
        {
          "name": "stdout",
          "output_type": "stream",
          "text": [
            "python java python java python java python java \n"
          ]
        }
      ],
      "source": [
        "t1 = \"python\"\n",
        "t2 = \"java\"\n",
        "print((t1+\" \"+t2+\" \")*4)"
      ]
    },
    {
      "cell_type": "code",
      "execution_count": null,
      "metadata": {
        "id": "skclacXDoSRh"
      },
      "outputs": [],
      "source": [
        "name1 = \"김민수\"\n",
        "age1 = 10\n",
        "name2 = \"이철희\"\n",
        "age2 = 13"
      ]
    },
    {
      "cell_type": "code",
      "execution_count": null,
      "metadata": {
        "colab": {
          "base_uri": "https://localhost:8080/"
        },
        "id": "kUuK3b3Uoyky",
        "outputId": "2832c980-465b-4a4e-dce8-fcc4306a5e1d"
      },
      "outputs": [
        {
          "name": "stdout",
          "output_type": "stream",
          "text": [
            "이름: 김민수 나이: 10\n",
            "이름: 이철희 나이: 13\n"
          ]
        }
      ],
      "source": [
        "print(\"이름: %s 나이: %d\" %(name1, age1))\n",
        "print(\"이름: %s 나이: %d\" %(name2, age2))"
      ]
    },
    {
      "cell_type": "code",
      "execution_count": null,
      "metadata": {
        "colab": {
          "base_uri": "https://localhost:8080/"
        },
        "id": "LS0uEse1pPEX",
        "outputId": "a8c5397e-1f16-4945-d9d1-a5de67fdf1b3"
      },
      "outputs": [
        {
          "name": "stdout",
          "output_type": "stream",
          "text": [
            "이름: 김민수 나이: 10\n",
            "이름: 이철희 나이: 13\n"
          ]
        }
      ],
      "source": [
        "print(f\"이름: {name1} 나이: {age1}\")\n",
        "print(f\"이름: {name2} 나이: {age2}\")"
      ]
    },
    {
      "cell_type": "code",
      "execution_count": null,
      "metadata": {
        "colab": {
          "base_uri": "https://localhost:8080/"
        },
        "id": "DFQsxLu0pp8A",
        "outputId": "90840b8a-f398-4ecb-ed5c-20f259f149d9"
      },
      "outputs": [
        {
          "name": "stdout",
          "output_type": "stream",
          "text": [
            "이름: 김민수 나이: 10\n",
            "이름: 이철희 나이: 13\n"
          ]
        }
      ],
      "source": [
        "print(\"이름: {} 나이: {}\".format(name1, age1))\n",
        "print(\"이름: {} 나이: {}\".format(name2, age2))"
      ]
    },
    {
      "cell_type": "code",
      "execution_count": null,
      "metadata": {
        "colab": {
          "base_uri": "https://localhost:8080/"
        },
        "id": "FahBnESYq-4m",
        "outputId": "4c60ee0a-48a0-4b2b-e1db-5488ece2c2fd"
      },
      "outputs": [
        {
          "name": "stdout",
          "output_type": "stream",
          "text": [
            "5,969,782,550 <class 'str'>\n"
          ]
        }
      ],
      "source": [
        "상장주식수 = \"5,969,782,550\"\n",
        "print(상장주식수, type(상장주식수))"
      ]
    },
    {
      "cell_type": "code",
      "execution_count": null,
      "metadata": {
        "colab": {
          "base_uri": "https://localhost:8080/"
        },
        "id": "LvXPXbEorVAU",
        "outputId": "da0ce5f9-3159-43db-a962-ddb74060be57"
      },
      "outputs": [
        {
          "name": "stdout",
          "output_type": "stream",
          "text": [
            "5,969,782,550\n"
          ]
        }
      ],
      "source": [
        "상장주식수.split(\",\")\n",
        "print(상장주식수)"
      ]
    },
    {
      "cell_type": "code",
      "execution_count": null,
      "metadata": {
        "colab": {
          "base_uri": "https://localhost:8080/"
        },
        "id": "08Uq6yH7rfm7",
        "outputId": "9138e3df-be19-420c-a9cd-24aa82c5cf2d"
      },
      "outputs": [
        {
          "data": {
            "text/plain": [
              "13"
            ]
          },
          "execution_count": 189,
          "metadata": {},
          "output_type": "execute_result"
        }
      ],
      "source": [
        "len(상장주식수)"
      ]
    },
    {
      "cell_type": "code",
      "execution_count": null,
      "metadata": {
        "colab": {
          "base_uri": "https://localhost:8080/"
        },
        "id": "iBpWwm-_sEnI",
        "outputId": "0e53c7f4-1feb-406b-e7d6-c8f113c0ef9e"
      },
      "outputs": [
        {
          "data": {
            "text/plain": [
              "str"
            ]
          },
          "execution_count": 190,
          "metadata": {},
          "output_type": "execute_result"
        }
      ],
      "source": [
        "type(상장주식수)"
      ]
    },
    {
      "cell_type": "code",
      "execution_count": null,
      "metadata": {
        "colab": {
          "base_uri": "https://localhost:8080/"
        },
        "id": "XDTDCVEwsImg",
        "outputId": "6c3721e7-5829-4f06-99e7-147061401805"
      },
      "outputs": [
        {
          "name": "stdout",
          "output_type": "stream",
          "text": [
            "5,969,782,550\n"
          ]
        }
      ],
      "source": [
        "상장주식수.replace(\",\", \"\")\n",
        "print(상장주식수)"
      ]
    },
    {
      "cell_type": "code",
      "execution_count": null,
      "metadata": {
        "colab": {
          "base_uri": "https://localhost:8080/"
        },
        "id": "gLp5mlgssU4V",
        "outputId": "1ee148fd-1f38-4217-c207-971dbdd5b010"
      },
      "outputs": [
        {
          "name": "stdout",
          "output_type": "stream",
          "text": [
            "5969782550\n"
          ]
        }
      ],
      "source": [
        "상장주식수_ = 상장주식수.replace(\",\", \"\")\n",
        "print(상장주식수_)"
      ]
    },
    {
      "cell_type": "code",
      "execution_count": null,
      "metadata": {
        "id": "DTam5lkAsfVv"
      },
      "outputs": [],
      "source": [
        "상장주식수1 = int(상장주식수_)"
      ]
    },
    {
      "cell_type": "code",
      "execution_count": null,
      "metadata": {
        "colab": {
          "base_uri": "https://localhost:8080/"
        },
        "id": "QQSfj97IsklE",
        "outputId": "dcaab46d-c8e2-4717-a821-b1c1557c71c4"
      },
      "outputs": [
        {
          "name": "stdout",
          "output_type": "stream",
          "text": [
            "5969782550 <class 'int'>\n"
          ]
        }
      ],
      "source": [
        "print(상장주식수1, type(상장주식수1))"
      ]
    },
    {
      "cell_type": "code",
      "execution_count": null,
      "metadata": {
        "colab": {
          "base_uri": "https://localhost:8080/"
        },
        "id": "O3jn-eeysnkn",
        "outputId": "fd49bee9-3cea-43b3-8786-c82e3b992309"
      },
      "outputs": [
        {
          "name": "stdout",
          "output_type": "stream",
          "text": [
            "2020/03(E) (IFRS연결)\n"
          ]
        }
      ],
      "source": [
        "분기 = \"2020/03(E) (IFRS연결)\"\n",
        "print(분기)"
      ]
    },
    {
      "cell_type": "code",
      "execution_count": null,
      "metadata": {
        "id": "1HqoD_HBt8lD"
      },
      "outputs": [],
      "source": [
        "분기날짜 = 분기[7:]"
      ]
    },
    {
      "cell_type": "code",
      "execution_count": null,
      "metadata": {
        "colab": {
          "base_uri": "https://localhost:8080/"
        },
        "id": "n7cpq0oNueov",
        "outputId": "1745cc64-75bc-4dff-c9fd-bf033612bcd1"
      },
      "outputs": [
        {
          "name": "stdout",
          "output_type": "stream",
          "text": [
            "(E) (IFRS연결)\n"
          ]
        }
      ],
      "source": [
        "print(분기날짜)"
      ]
    },
    {
      "cell_type": "code",
      "execution_count": null,
      "metadata": {
        "colab": {
          "base_uri": "https://localhost:8080/"
        },
        "id": "pez2FeGWuk8E",
        "outputId": "e5a9a465-7ea2-4044-fc99-eac7742f3a60"
      },
      "outputs": [
        {
          "name": "stdout",
          "output_type": "stream",
          "text": [
            "2020/03\n"
          ]
        }
      ],
      "source": [
        "분기날짜 = 분기[:7]\n",
        "print(분기날짜)"
      ]
    },
    {
      "cell_type": "code",
      "execution_count": null,
      "metadata": {
        "colab": {
          "base_uri": "https://localhost:8080/",
          "height": 35
        },
        "id": "33qhNtRousSJ",
        "outputId": "30d993bd-2d6a-4d62-82db-56f09169b6a0"
      },
      "outputs": [
        {
          "data": {
            "application/vnd.google.colaboratory.intrinsic+json": {
              "type": "string"
            },
            "text/plain": [
              "'삼성전자'"
            ]
          },
          "execution_count": 202,
          "metadata": {},
          "output_type": "execute_result"
        }
      ],
      "source": [
        "data = \"    삼성전자    \"\n",
        "data.strip()"
      ]
    },
    {
      "cell_type": "code",
      "execution_count": null,
      "metadata": {
        "colab": {
          "base_uri": "https://localhost:8080/"
        },
        "id": "GG_7JfnewkSL",
        "outputId": "5e61ddaf-7198-47d4-987d-ab1dfd0a4123"
      },
      "outputs": [
        {
          "name": "stdout",
          "output_type": "stream",
          "text": [
            "btc_krw\n"
          ]
        }
      ],
      "source": [
        "ticker = \"btc_krw\"\n",
        "print(ticker)"
      ]
    },
    {
      "cell_type": "code",
      "execution_count": null,
      "metadata": {
        "colab": {
          "base_uri": "https://localhost:8080/",
          "height": 35
        },
        "id": "RaewoVAdw218",
        "outputId": "acd70c04-a43c-41c7-f163-d0c2646c920e"
      },
      "outputs": [
        {
          "data": {
            "application/vnd.google.colaboratory.intrinsic+json": {
              "type": "string"
            },
            "text/plain": [
              "'BTC_KRW'"
            ]
          },
          "execution_count": 205,
          "metadata": {},
          "output_type": "execute_result"
        }
      ],
      "source": [
        "ticker.upper()"
      ]
    },
    {
      "cell_type": "code",
      "execution_count": null,
      "metadata": {
        "colab": {
          "base_uri": "https://localhost:8080/"
        },
        "id": "idcX4t3Mw6XW",
        "outputId": "e3431bc5-ce81-4d8a-e968-0d72ef213dc0"
      },
      "outputs": [
        {
          "name": "stdout",
          "output_type": "stream",
          "text": [
            "BTC_KRW\n"
          ]
        }
      ],
      "source": [
        "ticker = \"BTC_KRW\"\n",
        "print(ticker)"
      ]
    },
    {
      "cell_type": "code",
      "execution_count": null,
      "metadata": {
        "colab": {
          "base_uri": "https://localhost:8080/",
          "height": 35
        },
        "id": "fSo2oDl_xH3E",
        "outputId": "a1c50b27-c88b-482c-9d23-ee813332aa23"
      },
      "outputs": [
        {
          "data": {
            "application/vnd.google.colaboratory.intrinsic+json": {
              "type": "string"
            },
            "text/plain": [
              "'btc_krw'"
            ]
          },
          "execution_count": 207,
          "metadata": {},
          "output_type": "execute_result"
        }
      ],
      "source": [
        "ticker.lower()"
      ]
    },
    {
      "cell_type": "code",
      "execution_count": null,
      "metadata": {
        "id": "qBZ6L8flxLBO"
      },
      "outputs": [],
      "source": [
        "file_name = \"2020_보고서.xlsx\"\n"
      ]
    },
    {
      "cell_type": "code",
      "execution_count": null,
      "metadata": {
        "colab": {
          "base_uri": "https://localhost:8080/"
        },
        "id": "4c17dUg-xnKJ",
        "outputId": "c519abcb-6bda-4078-c042-b88f0d7459d1"
      },
      "outputs": [
        {
          "data": {
            "text/plain": [
              "True"
            ]
          },
          "execution_count": 215,
          "metadata": {},
          "output_type": "execute_result"
        }
      ],
      "source": [
        "file_name.endswith(\"xlsx\"or\"xls\")"
      ]
    },
    {
      "cell_type": "code",
      "execution_count": null,
      "metadata": {
        "colab": {
          "base_uri": "https://localhost:8080/"
        },
        "id": "py4K8efbxsjT",
        "outputId": "199328fc-74e8-459f-9fa8-b83698431e50"
      },
      "outputs": [
        {
          "data": {
            "text/plain": [
              "True"
            ]
          },
          "execution_count": 220,
          "metadata": {},
          "output_type": "execute_result"
        }
      ],
      "source": [
        "file_name.startswith(\"2020\")"
      ]
    },
    {
      "cell_type": "code",
      "execution_count": null,
      "metadata": {
        "colab": {
          "base_uri": "https://localhost:8080/"
        },
        "id": "R73L02ykycJU",
        "outputId": "76637d23-588d-42be-92a1-45dd277312e6"
      },
      "outputs": [
        {
          "name": "stdout",
          "output_type": "stream",
          "text": [
            "hello world\n"
          ]
        }
      ],
      "source": [
        "a = \"hello world\"\n",
        "print(a)"
      ]
    },
    {
      "cell_type": "code",
      "execution_count": null,
      "metadata": {
        "colab": {
          "base_uri": "https://localhost:8080/"
        },
        "id": "YjnyTYyryo86",
        "outputId": "82d2f597-a8f5-4a52-edb4-885adf1fce66"
      },
      "outputs": [
        {
          "data": {
            "text/plain": [
              "['hello', 'world']"
            ]
          },
          "execution_count": 222,
          "metadata": {},
          "output_type": "execute_result"
        }
      ],
      "source": [
        "a.split(\" \")"
      ]
    },
    {
      "cell_type": "code",
      "execution_count": null,
      "metadata": {
        "colab": {
          "base_uri": "https://localhost:8080/"
        },
        "id": "mtSa-B6vys-8",
        "outputId": "445c3a60-009b-4d92-aefa-3daef65efc12"
      },
      "outputs": [
        {
          "name": "stdout",
          "output_type": "stream",
          "text": [
            "btc_krw\n"
          ]
        }
      ],
      "source": [
        "ticker = \"btc_krw\"\n",
        "print(ticker)"
      ]
    },
    {
      "cell_type": "code",
      "execution_count": null,
      "metadata": {
        "colab": {
          "base_uri": "https://localhost:8080/"
        },
        "id": "ZEBqd6Zoy2ax",
        "outputId": "accaa57c-fbea-475d-a227-4db8917172c7"
      },
      "outputs": [
        {
          "data": {
            "text/plain": [
              "['btc', 'krw']"
            ]
          },
          "execution_count": 224,
          "metadata": {},
          "output_type": "execute_result"
        }
      ],
      "source": [
        "ticker.split(\"_\")"
      ]
    },
    {
      "cell_type": "code",
      "execution_count": null,
      "metadata": {
        "colab": {
          "base_uri": "https://localhost:8080/"
        },
        "id": "VQrh1GHPy6zH",
        "outputId": "febd7423-37b3-42c4-a58f-57d8d63f4ccb"
      },
      "outputs": [
        {
          "data": {
            "text/plain": [
              "['2020', '05', '01']"
            ]
          },
          "execution_count": 225,
          "metadata": {},
          "output_type": "execute_result"
        }
      ],
      "source": [
        "date = \"2020-05-01\"\n",
        "date.split(\"-\")"
      ]
    },
    {
      "cell_type": "code",
      "execution_count": null,
      "metadata": {
        "colab": {
          "base_uri": "https://localhost:8080/"
        },
        "id": "SLsByUFazgnI",
        "outputId": "79ee30a0-786e-4c46-b7e1-80f9d2d7eb06"
      },
      "outputs": [
        {
          "name": "stdout",
          "output_type": "stream",
          "text": [
            "              039490\n"
          ]
        }
      ],
      "source": [
        "data = \"              039490\"\n",
        "print(data)"
      ]
    },
    {
      "cell_type": "code",
      "execution_count": null,
      "metadata": {
        "colab": {
          "base_uri": "https://localhost:8080/",
          "height": 35
        },
        "id": "r67SDtI_zptM",
        "outputId": "5833cf4f-3ca8-46c2-8414-5d810236aeb5"
      },
      "outputs": [
        {
          "data": {
            "application/vnd.google.colaboratory.intrinsic+json": {
              "type": "string"
            },
            "text/plain": [
              "'039490'"
            ]
          },
          "execution_count": 229,
          "metadata": {},
          "output_type": "execute_result"
        }
      ],
      "source": [
        "data.rstrip()"
      ]
    },
    {
      "cell_type": "code",
      "execution_count": null,
      "metadata": {
        "colab": {
          "base_uri": "https://localhost:8080/",
          "height": 35
        },
        "id": "st3IHYt0zuCT",
        "outputId": "826f1ada-d1dc-4f19-a193-c30c90adda4a"
      },
      "outputs": [
        {
          "data": {
            "application/vnd.google.colaboratory.intrinsic+json": {
              "type": "string"
            },
            "text/plain": [
              "'039490'"
            ]
          },
          "execution_count": 232,
          "metadata": {},
          "output_type": "execute_result"
        }
      ],
      "source": [
        "data.strip()"
      ]
    },
    {
      "cell_type": "code",
      "execution_count": null,
      "metadata": {
        "colab": {
          "base_uri": "https://localhost:8080/"
        },
        "id": "HE-maMPDz_Yi",
        "outputId": "ba0fb936-920b-47c1-de30-30e0d01c8700"
      },
      "outputs": [
        {
          "name": "stdout",
          "output_type": "stream",
          "text": [
            "[1, 2, 3, 'four', [5, 6], 7.0, True]\n"
          ]
        }
      ],
      "source": [
        "list1 = [1, 2, 3, \"four\", [5, 6], 7.0, True]\n",
        "print(list1)"
      ]
    },
    {
      "cell_type": "code",
      "execution_count": null,
      "metadata": {
        "colab": {
          "base_uri": "https://localhost:8080/"
        },
        "id": "oh7l9hB06sTp",
        "outputId": "8de5f3e5-0361-4bb8-83e8-db332264d70b"
      },
      "outputs": [
        {
          "data": {
            "text/plain": [
              "7"
            ]
          },
          "execution_count": 236,
          "metadata": {},
          "output_type": "execute_result"
        }
      ],
      "source": [
        "len(list1)"
      ]
    },
    {
      "cell_type": "code",
      "execution_count": null,
      "metadata": {
        "colab": {
          "base_uri": "https://localhost:8080/"
        },
        "id": "-mu_qz6P7gPl",
        "outputId": "f4daabad-dc09-4a16-97e6-71ff873175f6"
      },
      "outputs": [
        {
          "name": "stdout",
          "output_type": "stream",
          "text": [
            "1\n"
          ]
        }
      ],
      "source": [
        "print(list1[0])"
      ]
    },
    {
      "cell_type": "code",
      "execution_count": null,
      "metadata": {
        "colab": {
          "base_uri": "https://localhost:8080/"
        },
        "id": "-bEzTWZX9F2J",
        "outputId": "414d01ac-b798-4d35-ca3f-023896cdc333"
      },
      "outputs": [
        {
          "name": "stdout",
          "output_type": "stream",
          "text": [
            "[5, 6]\n"
          ]
        }
      ],
      "source": [
        "print(list1[4])"
      ]
    },
    {
      "cell_type": "code",
      "execution_count": null,
      "metadata": {
        "colab": {
          "base_uri": "https://localhost:8080/"
        },
        "id": "M4b2HVZB9LBK",
        "outputId": "75399460-5515-4059-fae6-b770dbbd87a7"
      },
      "outputs": [
        {
          "name": "stdout",
          "output_type": "stream",
          "text": [
            "6\n"
          ]
        }
      ],
      "source": [
        "print(list1[4][1])"
      ]
    },
    {
      "cell_type": "code",
      "execution_count": null,
      "metadata": {
        "colab": {
          "base_uri": "https://localhost:8080/"
        },
        "id": "BBDGhu3g9VoF",
        "outputId": "0001010d-1f3f-4864-e728-67bfd15d85f5"
      },
      "outputs": [
        {
          "name": "stdout",
          "output_type": "stream",
          "text": [
            "5\n"
          ]
        }
      ],
      "source": [
        "print(list1[4][0])"
      ]
    },
    {
      "cell_type": "code",
      "execution_count": null,
      "metadata": {
        "id": "J6dqhdv99aYB"
      },
      "outputs": [],
      "source": [
        "사회인게임클럽 = [\"송몽숙\", \"강초당\", \"망난이\", \"장폰주\", \"백노바\", \"구라베\"]"
      ]
    },
    {
      "cell_type": "code",
      "execution_count": null,
      "metadata": {
        "colab": {
          "base_uri": "https://localhost:8080/"
        },
        "id": "z8SCNZvk-2z-",
        "outputId": "3834be27-7319-4474-acf2-a7d958f277cc"
      },
      "outputs": [
        {
          "name": "stdout",
          "output_type": "stream",
          "text": [
            "망난\n"
          ]
        }
      ],
      "source": [
        "print(사회인게임클럽[2][:-1])"
      ]
    },
    {
      "cell_type": "code",
      "execution_count": null,
      "metadata": {
        "colab": {
          "base_uri": "https://localhost:8080/"
        },
        "id": "OSdrx2Oo_hsK",
        "outputId": "838e77ef-7bda-4709-f91f-56b482650898"
      },
      "outputs": [
        {
          "name": "stdout",
          "output_type": "stream",
          "text": [
            "['구라베', '장폰주', '강초당']\n"
          ]
        }
      ],
      "source": [
        "print(사회인게임클럽[::-2])"
      ]
    },
    {
      "cell_type": "code",
      "execution_count": null,
      "metadata": {
        "colab": {
          "base_uri": "https://localhost:8080/"
        },
        "id": "Tw0Pc4Am_tVB",
        "outputId": "752df1d0-3bd7-4ad1-fe8d-c37ba64b3b0c"
      },
      "outputs": [
        {
          "name": "stdout",
          "output_type": "stream",
          "text": [
            "[1, 2]\n"
          ]
        }
      ],
      "source": [
        "list2 = [1, 2]\n",
        "print(list2)"
      ]
    },
    {
      "cell_type": "code",
      "execution_count": null,
      "metadata": {
        "colab": {
          "base_uri": "https://localhost:8080/"
        },
        "id": "zLoiWVK4BFx0",
        "outputId": "4199b263-fb1d-4cae-f614-9d0607f6c6c3"
      },
      "outputs": [
        {
          "name": "stdout",
          "output_type": "stream",
          "text": [
            "[1, 2, 3]\n"
          ]
        }
      ],
      "source": [
        "list2.append(3)\n",
        "print(list2)"
      ]
    },
    {
      "cell_type": "code",
      "execution_count": null,
      "metadata": {
        "colab": {
          "base_uri": "https://localhost:8080/"
        },
        "id": "rM-3AjMJBMMu",
        "outputId": "a9671246-1869-4f3a-e9fb-73cbe9c1a626"
      },
      "outputs": [
        {
          "name": "stdout",
          "output_type": "stream",
          "text": [
            "[1, 2, 3, 4, 'Hello', 3.14]\n"
          ]
        }
      ],
      "source": [
        "list2.append(4)\n",
        "list2.append(\"Hello\")\n",
        "list2.append(3.14)\n",
        "print(list2)"
      ]
    },
    {
      "cell_type": "code",
      "execution_count": null,
      "metadata": {
        "id": "EOiDfF_OBUwW"
      },
      "outputs": [],
      "source": [
        "list3 = [4, 2, 5, 1, 3, 7, 6, 9, 8]\n",
        "list3.sort()"
      ]
    },
    {
      "cell_type": "code",
      "execution_count": null,
      "metadata": {
        "colab": {
          "base_uri": "https://localhost:8080/"
        },
        "id": "XLwxrsvnBsir",
        "outputId": "eb1a1dda-23f2-4edf-f692-6363516817f1"
      },
      "outputs": [
        {
          "data": {
            "text/plain": [
              "[1, 2, 3, 4, 5, 6, 7, 8, 9]"
            ]
          },
          "execution_count": 255,
          "metadata": {},
          "output_type": "execute_result"
        }
      ],
      "source": [
        "list3"
      ]
    },
    {
      "cell_type": "code",
      "execution_count": null,
      "metadata": {
        "colab": {
          "base_uri": "https://localhost:8080/"
        },
        "id": "LDfD6RNYBwr5",
        "outputId": "920c7043-aa3a-44f5-8e5c-f3cd5bcd2b38"
      },
      "outputs": [
        {
          "data": {
            "text/plain": [
              "[9, 8, 7, 6, 5, 4, 3, 2, 1]"
            ]
          },
          "execution_count": 257,
          "metadata": {},
          "output_type": "execute_result"
        }
      ],
      "source": [
        "list3.sort(reverse=True)\n",
        "list3"
      ]
    },
    {
      "cell_type": "code",
      "execution_count": null,
      "metadata": {
        "colab": {
          "base_uri": "https://localhost:8080/"
        },
        "id": "wWQKm_W2B68x",
        "outputId": "955335a9-6b69-4506-d879-6efac4a897a3"
      },
      "outputs": [
        {
          "data": {
            "text/plain": [
              "['banana', 'apple', 'avocado', 'cherry', 'mango', 'durian']"
            ]
          },
          "execution_count": 258,
          "metadata": {},
          "output_type": "execute_result"
        }
      ],
      "source": [
        "list4 = [\"banana\", \"apple\", \"avocado\", \"cherry\", \"mango\", \"durian\"]\n",
        "list4"
      ]
    },
    {
      "cell_type": "code",
      "execution_count": null,
      "metadata": {
        "id": "Rn7r5B0qHt7_"
      },
      "outputs": [],
      "source": [
        "list4.sort()"
      ]
    },
    {
      "cell_type": "code",
      "execution_count": null,
      "metadata": {
        "colab": {
          "base_uri": "https://localhost:8080/"
        },
        "id": "ooPcQRYWHwJq",
        "outputId": "f2e5ec31-5fe9-4efa-ac2c-75d9de9f0c5c"
      },
      "outputs": [
        {
          "data": {
            "text/plain": [
              "['apple', 'avocado', 'banana', 'cherry', 'durian', 'mango']"
            ]
          },
          "execution_count": 260,
          "metadata": {},
          "output_type": "execute_result"
        }
      ],
      "source": [
        "list4"
      ]
    },
    {
      "cell_type": "code",
      "execution_count": null,
      "metadata": {
        "colab": {
          "base_uri": "https://localhost:8080/"
        },
        "id": "a4BMLbwSHxbB",
        "outputId": "8a4241ea-414a-43e2-a61c-c00c5cf0ec66"
      },
      "outputs": [
        {
          "data": {
            "text/plain": [
              "['다람쥐', '라디오', '나비', '가루']"
            ]
          },
          "execution_count": 261,
          "metadata": {},
          "output_type": "execute_result"
        }
      ],
      "source": [
        "list5 = [\"다람쥐\", \"라디오\", \"나비\", \"가루\"]\n",
        "list5"
      ]
    },
    {
      "cell_type": "code",
      "execution_count": null,
      "metadata": {
        "colab": {
          "base_uri": "https://localhost:8080/"
        },
        "id": "TD0eq2jgH60P",
        "outputId": "b2e4d656-509c-4f5d-ff55-d8ecf665ad82"
      },
      "outputs": [
        {
          "data": {
            "text/plain": [
              "['가루', '나비', '다람쥐', '라디오']"
            ]
          },
          "execution_count": 262,
          "metadata": {},
          "output_type": "execute_result"
        }
      ],
      "source": [
        "list5.sort()\n",
        "list5"
      ]
    },
    {
      "cell_type": "code",
      "execution_count": null,
      "metadata": {
        "colab": {
          "base_uri": "https://localhost:8080/"
        },
        "id": "mZ7LUHtIH9HO",
        "outputId": "7159bf96-3c9c-4fa9-bff1-598d179fc380"
      },
      "outputs": [
        {
          "data": {
            "text/plain": [
              "['Apple', 'apple', 'Banana', 'banana']"
            ]
          },
          "execution_count": 263,
          "metadata": {},
          "output_type": "execute_result"
        }
      ],
      "source": [
        "list6 = [\"Apple\", \"apple\", \"Banana\", \"banana\"]\n",
        "list6"
      ]
    },
    {
      "cell_type": "code",
      "execution_count": null,
      "metadata": {
        "colab": {
          "base_uri": "https://localhost:8080/"
        },
        "id": "AMZGjZcGIFrx",
        "outputId": "c96b255c-031e-4e5d-ad12-61ef0c8502c6"
      },
      "outputs": [
        {
          "data": {
            "text/plain": [
              "['Apple', 'Banana', 'apple', 'banana']"
            ]
          },
          "execution_count": 264,
          "metadata": {},
          "output_type": "execute_result"
        }
      ],
      "source": [
        "list6.sort()\n",
        "list6"
      ]
    },
    {
      "cell_type": "code",
      "execution_count": null,
      "metadata": {
        "colab": {
          "base_uri": "https://localhost:8080/"
        },
        "id": "xDIVU8DoIH20",
        "outputId": "f0ca1868-57d9-4699-cfde-577ec7573224"
      },
      "outputs": [
        {
          "data": {
            "text/plain": [
              "[1, 2, 3, 'four', [5, 6], 7.0, True]"
            ]
          },
          "execution_count": 265,
          "metadata": {},
          "output_type": "execute_result"
        }
      ],
      "source": [
        "list1"
      ]
    },
    {
      "cell_type": "code",
      "execution_count": null,
      "metadata": {
        "colab": {
          "base_uri": "https://localhost:8080/"
        },
        "id": "exm2T7SAILgN",
        "outputId": "e9d7559a-6e80-4147-9214-46e4171b8218"
      },
      "outputs": [
        {
          "name": "stdout",
          "output_type": "stream",
          "text": [
            "True / [1, 2, 3, 'four', [5, 6], 7.0]\n"
          ]
        }
      ],
      "source": [
        "item = list1.pop()\n",
        "print(item, \"/\", list1)"
      ]
    },
    {
      "cell_type": "code",
      "execution_count": null,
      "metadata": {
        "colab": {
          "base_uri": "https://localhost:8080/"
        },
        "id": "U14SYa3yJclA",
        "outputId": "6e771a74-6ce2-49bf-8ab1-3139b43bfde8"
      },
      "outputs": [
        {
          "data": {
            "text/plain": [
              "['송몽숙', '망난이', '장폰주']"
            ]
          },
          "execution_count": 268,
          "metadata": {},
          "output_type": "execute_result"
        }
      ],
      "source": [
        "sg1 = [\"송몽숙\", \"망난이\", \"장폰주\"]\n",
        "sg1"
      ]
    },
    {
      "cell_type": "code",
      "execution_count": null,
      "metadata": {
        "colab": {
          "base_uri": "https://localhost:8080/"
        },
        "id": "6A_Hy-FZKEwo",
        "outputId": "6b2a387c-8296-4726-c6d1-2043d3a9ad6f"
      },
      "outputs": [
        {
          "data": {
            "text/plain": [
              "['백노바', '구라베', '강초당']"
            ]
          },
          "execution_count": 269,
          "metadata": {},
          "output_type": "execute_result"
        }
      ],
      "source": [
        "sg2 = [\"백노바\", \"구라베\", \"강초당\"]\n",
        "sg2"
      ]
    },
    {
      "cell_type": "code",
      "execution_count": null,
      "metadata": {
        "colab": {
          "base_uri": "https://localhost:8080/"
        },
        "id": "10-kOCfGKMna",
        "outputId": "cf32bb9f-09ab-46f0-e112-6123b50c6533"
      },
      "outputs": [
        {
          "data": {
            "text/plain": [
              "['송몽숙', '망난이', '장폰주', '백노바', '구라베', '강초당']"
            ]
          },
          "execution_count": 270,
          "metadata": {},
          "output_type": "execute_result"
        }
      ],
      "source": [
        "sg1 + sg2"
      ]
    },
    {
      "cell_type": "code",
      "execution_count": null,
      "metadata": {
        "colab": {
          "base_uri": "https://localhost:8080/"
        },
        "id": "EICp53BbKQGX",
        "outputId": "c69faed2-47f0-45cf-8ddf-fceddf007043"
      },
      "outputs": [
        {
          "data": {
            "text/plain": [
              "['1', '2', '3', '4', '5', '6', '7', '8', '9']"
            ]
          },
          "execution_count": 272,
          "metadata": {},
          "output_type": "execute_result"
        }
      ],
      "source": [
        "list2 = [\"3\", \"7\", \"2\", \"6\", \"4\", \"1\", \"5\", \"9\", \"8\"]\n",
        "list2.sort()\n",
        "list2"
      ]
    },
    {
      "cell_type": "code",
      "execution_count": null,
      "metadata": {
        "colab": {
          "base_uri": "https://localhost:8080/"
        },
        "id": "h21FPV5yKkvQ",
        "outputId": "14bb276c-c135-493a-f1f6-44dac2a3bc6a"
      },
      "outputs": [
        {
          "data": {
            "text/plain": [
              "['9', '8', '7', '6', '5', '4', '3', '2', '1']"
            ]
          },
          "execution_count": 276,
          "metadata": {},
          "output_type": "execute_result"
        }
      ],
      "source": [
        "list2.sort(reverse = True)\n",
        "list2"
      ]
    },
    {
      "cell_type": "code",
      "execution_count": null,
      "metadata": {
        "colab": {
          "base_uri": "https://localhost:8080/",
          "height": 174
        },
        "id": "yf4eQgd_Ktwc",
        "outputId": "308e1314-9784-4a7f-dcf9-fd04d4771e94"
      },
      "outputs": [
        {
          "ename": "AttributeError",
          "evalue": "ignored",
          "output_type": "error",
          "traceback": [
            "\u001b[0;31m---------------------------------------------------------------------------\u001b[0m",
            "\u001b[0;31mAttributeError\u001b[0m                            Traceback (most recent call last)",
            "\u001b[0;32m<ipython-input-277-07771603eeff>\u001b[0m in \u001b[0;36m<module>\u001b[0;34m()\u001b[0m\n\u001b[0;32m----> 1\u001b[0;31m \u001b[0msg2\u001b[0m\u001b[0;34m.\u001b[0m\u001b[0mreplace\u001b[0m\u001b[0;34m(\u001b[0m\u001b[0;34m\"강초당\"\u001b[0m\u001b[0;34m,\u001b[0m \u001b[0;34m\"송몽숙\"\u001b[0m\u001b[0;34m)\u001b[0m\u001b[0;34m\u001b[0m\u001b[0;34m\u001b[0m\u001b[0m\n\u001b[0m",
            "\u001b[0;31mAttributeError\u001b[0m: 'list' object has no attribute 'replace'"
          ]
        }
      ],
      "source": []
    },
    {
      "cell_type": "code",
      "execution_count": null,
      "metadata": {
        "id": "pLnGlf7bLRXV"
      },
      "outputs": [],
      "source": [
        "movie_rank = [\"닥터 스트레인지\", \"스플릿\", \"럭키\"]"
      ]
    },
    {
      "cell_type": "code",
      "execution_count": null,
      "metadata": {
        "colab": {
          "base_uri": "https://localhost:8080/"
        },
        "id": "aVIOgN87LiW8",
        "outputId": "e453dc7a-ddfb-43f6-ae13-59fcdbbfc87d"
      },
      "outputs": [
        {
          "data": {
            "text/plain": [
              "['닥터 스트레인지', '스플릿', '럭키']"
            ]
          },
          "execution_count": 279,
          "metadata": {},
          "output_type": "execute_result"
        }
      ],
      "source": [
        "movie_rank"
      ]
    },
    {
      "cell_type": "code",
      "execution_count": null,
      "metadata": {
        "colab": {
          "base_uri": "https://localhost:8080/"
        },
        "id": "egInn0SFLmvI",
        "outputId": "f6731983-ff7c-4676-b8f0-88cc48e58546"
      },
      "outputs": [
        {
          "data": {
            "text/plain": [
              "['닥터 스트레인지', '스플릿', '럭키', '배트맨']"
            ]
          },
          "execution_count": 280,
          "metadata": {},
          "output_type": "execute_result"
        }
      ],
      "source": [
        "movie_rank.append(\"배트맨\")\n",
        "movie_rank"
      ]
    },
    {
      "cell_type": "code",
      "execution_count": null,
      "metadata": {
        "colab": {
          "base_uri": "https://localhost:8080/"
        },
        "id": "4M8CLxLyLsal",
        "outputId": "af258b8e-7c0a-4964-e6d6-ed2c92037003"
      },
      "outputs": [
        {
          "data": {
            "text/plain": [
              "['닥터 스트레인지', '스플릿', '배트맨']"
            ]
          },
          "execution_count": 282,
          "metadata": {},
          "output_type": "execute_result"
        }
      ],
      "source": [
        "movie_rank.pop(2)\n",
        "movie_rank"
      ]
    },
    {
      "cell_type": "code",
      "execution_count": null,
      "metadata": {
        "id": "GNWjkDyXL4Bt"
      },
      "outputs": [],
      "source": [
        "movie_rank.insert(1, \"슈퍼맨\")"
      ]
    },
    {
      "cell_type": "code",
      "execution_count": null,
      "metadata": {
        "colab": {
          "base_uri": "https://localhost:8080/"
        },
        "id": "JdXlGbWFMPhB",
        "outputId": "c106ca92-dc34-4987-9aa7-9019330d22be"
      },
      "outputs": [
        {
          "data": {
            "text/plain": [
              "['닥터 스트레인지', '슈퍼맨', '스플릿', '배트맨']"
            ]
          },
          "execution_count": 284,
          "metadata": {},
          "output_type": "execute_result"
        }
      ],
      "source": [
        "movie_rank"
      ]
    },
    {
      "cell_type": "code",
      "execution_count": null,
      "metadata": {
        "colab": {
          "base_uri": "https://localhost:8080/"
        },
        "id": "1BEMismMMQ8n",
        "outputId": "443f134c-d380-491b-ec0c-0cce116ab844"
      },
      "outputs": [
        {
          "data": {
            "text/plain": [
              "['닥터 스트레인지', '슈퍼맨', '배트맨']"
            ]
          },
          "execution_count": 286,
          "metadata": {},
          "output_type": "execute_result"
        }
      ],
      "source": [
        "del movie_rank[2]\n",
        "movie_rank"
      ]
    },
    {
      "cell_type": "code",
      "execution_count": null,
      "metadata": {
        "colab": {
          "base_uri": "https://localhost:8080/"
        },
        "id": "JF6F_rVnMdnd",
        "outputId": "b809b098-f104-4c59-ee55-54d32e1e1d29"
      },
      "outputs": [
        {
          "data": {
            "text/plain": [
              "['닥터 스트레인지', '슈퍼맨']"
            ]
          },
          "execution_count": 287,
          "metadata": {},
          "output_type": "execute_result"
        }
      ],
      "source": [
        "del movie_rank[2]\n",
        "movie_rank"
      ]
    },
    {
      "cell_type": "code",
      "execution_count": null,
      "metadata": {
        "colab": {
          "base_uri": "https://localhost:8080/"
        },
        "id": "z9_ZKJZ1Mlwo",
        "outputId": "8c412cf8-2402-495c-dadb-a59820b9749e"
      },
      "outputs": [
        {
          "data": {
            "text/plain": [
              "['C', 'C++', 'JAVA', 'Python', 'Go', 'C#']"
            ]
          },
          "execution_count": 288,
          "metadata": {},
          "output_type": "execute_result"
        }
      ],
      "source": [
        "lang1 = [\"C\", \"C++\", \"JAVA\"]\n",
        "lang2 = [\"Python\", \"Go\", \"C#\"]\n",
        "lang3 = lang1 + lang2\n",
        "lang3"
      ]
    },
    {
      "cell_type": "code",
      "execution_count": null,
      "metadata": {
        "colab": {
          "base_uri": "https://localhost:8080/",
          "height": 248
        },
        "id": "VBv6d45FM6EB",
        "outputId": "306fb0fe-f994-46d8-bfc5-016acfba6f73"
      },
      "outputs": [
        {
          "ename": "AttributeError",
          "evalue": "ignored",
          "output_type": "error",
          "traceback": [
            "\u001b[0;31m---------------------------------------------------------------------------\u001b[0m",
            "\u001b[0;31mAttributeError\u001b[0m                            Traceback (most recent call last)",
            "\u001b[0;32m<ipython-input-291-8f5b8afda6b2>\u001b[0m in \u001b[0;36m<module>\u001b[0;34m()\u001b[0m\n\u001b[1;32m      1\u001b[0m \u001b[0mnums\u001b[0m \u001b[0;34m=\u001b[0m \u001b[0;34m[\u001b[0m\u001b[0;36m1\u001b[0m\u001b[0;34m,\u001b[0m \u001b[0;36m2\u001b[0m\u001b[0;34m,\u001b[0m \u001b[0;36m3\u001b[0m\u001b[0;34m,\u001b[0m \u001b[0;36m4\u001b[0m\u001b[0;34m,\u001b[0m \u001b[0;36m5\u001b[0m\u001b[0;34m,\u001b[0m \u001b[0;36m6\u001b[0m\u001b[0;34m,\u001b[0m \u001b[0;36m7\u001b[0m\u001b[0;34m]\u001b[0m\u001b[0;34m\u001b[0m\u001b[0;34m\u001b[0m\u001b[0m\n\u001b[0;32m----> 2\u001b[0;31m \u001b[0mnummax\u001b[0m \u001b[0;34m=\u001b[0m \u001b[0mnums\u001b[0m\u001b[0;34m.\u001b[0m\u001b[0mmax\u001b[0m\u001b[0;34m(\u001b[0m\u001b[0;34m)\u001b[0m\u001b[0;34m\u001b[0m\u001b[0;34m\u001b[0m\u001b[0m\n\u001b[0m\u001b[1;32m      3\u001b[0m \u001b[0mnummin\u001b[0m \u001b[0;34m=\u001b[0m \u001b[0mnums\u001b[0m\u001b[0;34m.\u001b[0m\u001b[0mmin\u001b[0m\u001b[0;34m(\u001b[0m\u001b[0;34m)\u001b[0m\u001b[0;34m\u001b[0m\u001b[0;34m\u001b[0m\u001b[0m\n\u001b[1;32m      4\u001b[0m \u001b[0mprint\u001b[0m\u001b[0;34m(\u001b[0m\u001b[0;34mf\"max : {nummax}\"\u001b[0m\u001b[0;34m)\u001b[0m\u001b[0;34m\u001b[0m\u001b[0;34m\u001b[0m\u001b[0m\n\u001b[1;32m      5\u001b[0m \u001b[0mprint\u001b[0m\u001b[0;34m(\u001b[0m\u001b[0;34mf\"min : {nummin}\"\u001b[0m\u001b[0;34m)\u001b[0m\u001b[0;34m\u001b[0m\u001b[0;34m\u001b[0m\u001b[0m\n",
            "\u001b[0;31mAttributeError\u001b[0m: 'list' object has no attribute 'max'"
          ]
        }
      ],
      "source": [
        "nums = [1, 2, 3, 4, 5, 6, 7]\n",
        "nummax = nums.max()\n",
        "nummin = nums.min()\n",
        "print(f\"max : {nummax}\")\n",
        "print(f\"min : {nummin}\")"
      ]
    },
    {
      "cell_type": "code",
      "execution_count": null,
      "metadata": {
        "colab": {
          "base_uri": "https://localhost:8080/",
          "height": 193
        },
        "id": "R-0gLIT6NXDC",
        "outputId": "6505784c-753f-4a11-bf5d-6f56060211f3"
      },
      "outputs": [
        {
          "ename": "AttributeError",
          "evalue": "ignored",
          "output_type": "error",
          "traceback": [
            "\u001b[0;31m---------------------------------------------------------------------------\u001b[0m",
            "\u001b[0;31mAttributeError\u001b[0m                            Traceback (most recent call last)",
            "\u001b[0;32m<ipython-input-293-47a7ca75f8e8>\u001b[0m in \u001b[0;36m<module>\u001b[0;34m()\u001b[0m\n\u001b[0;32m----> 1\u001b[0;31m \u001b[0mnumsum\u001b[0m \u001b[0;34m=\u001b[0m \u001b[0mnums\u001b[0m\u001b[0;34m.\u001b[0m\u001b[0msum\u001b[0m\u001b[0;34m(\u001b[0m\u001b[0;34m)\u001b[0m\u001b[0;34m\u001b[0m\u001b[0;34m\u001b[0m\u001b[0m\n\u001b[0m\u001b[1;32m      2\u001b[0m \u001b[0mnumsum\u001b[0m\u001b[0;34m\u001b[0m\u001b[0;34m\u001b[0m\u001b[0m\n",
            "\u001b[0;31mAttributeError\u001b[0m: 'list' object has no attribute 'sum'"
          ]
        }
      ],
      "source": [
        "numsum = nums.sum()\n",
        "numsum"
      ]
    },
    {
      "cell_type": "code",
      "execution_count": null,
      "metadata": {
        "colab": {
          "base_uri": "https://localhost:8080/"
        },
        "id": "WEiX88_8NwNS",
        "outputId": "c2447023-de76-4743-821d-dad817b6e099"
      },
      "outputs": [
        {
          "data": {
            "text/plain": [
              "12"
            ]
          },
          "execution_count": 294,
          "metadata": {},
          "output_type": "execute_result"
        }
      ],
      "source": [
        "cook = [\"피자\", \"김밥\", \"만두\", \"양념치킨\", \"족발\", \"피자\", \"김치만두\", \"쫄면\", \"소시지\", \"라면\", \"팥빙수\", \"김치전\"]\n",
        "len(cook)"
      ]
    },
    {
      "cell_type": "code",
      "execution_count": null,
      "metadata": {
        "colab": {
          "base_uri": "https://localhost:8080/",
          "height": 174
        },
        "id": "8oPrNRBnN6PL",
        "outputId": "a818e2b5-abc5-48fd-fc03-d9921fa88ff7"
      },
      "outputs": [
        {
          "ename": "TypeError",
          "evalue": "ignored",
          "output_type": "error",
          "traceback": [
            "\u001b[0;31m---------------------------------------------------------------------------\u001b[0m",
            "\u001b[0;31mTypeError\u001b[0m                                 Traceback (most recent call last)",
            "\u001b[0;32m<ipython-input-295-c02a453ce4c9>\u001b[0m in \u001b[0;36m<module>\u001b[0;34m()\u001b[0m\n\u001b[0;32m----> 1\u001b[0;31m \u001b[0mprint\u001b[0m\u001b[0;34m(\u001b[0m\u001b[0mnums\u001b[0m\u001b[0;34m(\u001b[0m\u001b[0msum\u001b[0m\u001b[0;34m)\u001b[0m\u001b[0;34m/\u001b[0m\u001b[0;36m3\u001b[0m\u001b[0;34m)\u001b[0m\u001b[0;34m\u001b[0m\u001b[0;34m\u001b[0m\u001b[0m\n\u001b[0m",
            "\u001b[0;31mTypeError\u001b[0m: 'list' object is not callable"
          ]
        }
      ],
      "source": [
        "print(nums(sum)/3)"
      ]
    },
    {
      "cell_type": "code",
      "execution_count": null,
      "metadata": {
        "id": "17ymTHKBOEZp"
      },
      "outputs": [],
      "source": [
        "sgc= [\"송몽숙\", \"망난이\"]"
      ]
    },
    {
      "cell_type": "code",
      "execution_count": null,
      "metadata": {
        "colab": {
          "base_uri": "https://localhost:8080/"
        },
        "id": "Tp_LjYMDeNa8",
        "outputId": "be41557b-bcbe-49ff-c1e6-c7783cc15b8e"
      },
      "outputs": [
        {
          "data": {
            "text/plain": [
              "['송몽숙', '망난이', '장폰주']"
            ]
          },
          "execution_count": 2,
          "metadata": {},
          "output_type": "execute_result"
        }
      ],
      "source": [
        "sgc.append(\"장폰주\")\n",
        "sgc"
      ]
    },
    {
      "cell_type": "code",
      "execution_count": null,
      "metadata": {
        "id": "jLKmPjJzeSZZ"
      },
      "outputs": [],
      "source": [
        "sgc.sort()"
      ]
    },
    {
      "cell_type": "code",
      "execution_count": null,
      "metadata": {
        "colab": {
          "base_uri": "https://localhost:8080/"
        },
        "id": "tGdx1QB-eVq6",
        "outputId": "5ef47bc2-23a1-49d0-81b9-ca0534ebe6ee"
      },
      "outputs": [
        {
          "data": {
            "text/plain": [
              "['망난이', '송몽숙', '장폰주']"
            ]
          },
          "execution_count": 4,
          "metadata": {},
          "output_type": "execute_result"
        }
      ],
      "source": [
        "sgc"
      ]
    },
    {
      "cell_type": "code",
      "execution_count": null,
      "metadata": {
        "colab": {
          "base_uri": "https://localhost:8080/"
        },
        "id": "vl5PfuzGeWvz",
        "outputId": "01fef363-f197-4f85-f57d-40e3e14c1547"
      },
      "outputs": [
        {
          "data": {
            "text/plain": [
              "['장폰주', '송몽숙', '망난이']"
            ]
          },
          "execution_count": 5,
          "metadata": {},
          "output_type": "execute_result"
        }
      ],
      "source": [
        "sgc.sort(reverse=True)\n",
        "sgc"
      ]
    },
    {
      "cell_type": "code",
      "execution_count": null,
      "metadata": {
        "colab": {
          "base_uri": "https://localhost:8080/"
        },
        "id": "sLKinLcJebL-",
        "outputId": "cc2fed7a-aed1-4a9d-873f-8e097c79f511"
      },
      "outputs": [
        {
          "data": {
            "text/plain": [
              "['장폰주', '송몽숙']"
            ]
          },
          "execution_count": 7,
          "metadata": {},
          "output_type": "execute_result"
        }
      ],
      "source": [
        "sgc.pop()\n",
        "sgc"
      ]
    },
    {
      "cell_type": "code",
      "execution_count": null,
      "metadata": {
        "colab": {
          "base_uri": "https://localhost:8080/",
          "height": 35
        },
        "id": "dcMIC1pnefzq",
        "outputId": "242d8760-295a-4975-f643-217119be26c7"
      },
      "outputs": [
        {
          "data": {
            "application/vnd.google.colaboratory.intrinsic+json": {
              "type": "string"
            },
            "text/plain": [
              "'abfcd'"
            ]
          },
          "execution_count": 8,
          "metadata": {},
          "output_type": "execute_result"
        }
      ],
      "source": [
        "text = \"abcd\"\n",
        "text[:2]+\"f\"+text[2:]"
      ]
    },
    {
      "cell_type": "code",
      "execution_count": null,
      "metadata": {
        "colab": {
          "base_uri": "https://localhost:8080/",
          "height": 35
        },
        "id": "3LztluFnfT4t",
        "outputId": "54cf86a3-800c-48fe-a22c-a0d51c569721"
      },
      "outputs": [
        {
          "data": {
            "application/vnd.google.colaboratory.intrinsic+json": {
              "type": "string"
            },
            "text/plain": [
              "'abcd'"
            ]
          },
          "execution_count": 9,
          "metadata": {},
          "output_type": "execute_result"
        }
      ],
      "source": [
        "text"
      ]
    },
    {
      "cell_type": "code",
      "execution_count": null,
      "metadata": {
        "colab": {
          "base_uri": "https://localhost:8080/",
          "height": 35
        },
        "id": "o4hfb6aOf5aF",
        "outputId": "1238b03d-d944-475a-eff2-803e8c73ca9d"
      },
      "outputs": [
        {
          "data": {
            "application/vnd.google.colaboratory.intrinsic+json": {
              "type": "string"
            },
            "text/plain": [
              "'apple'"
            ]
          },
          "execution_count": 10,
          "metadata": {},
          "output_type": "execute_result"
        }
      ],
      "source": [
        "text = \"aple\"\n",
        "text[:2]+\"p\"+text[2:]"
      ]
    },
    {
      "cell_type": "code",
      "execution_count": null,
      "metadata": {
        "colab": {
          "base_uri": "https://localhost:8080/",
          "height": 35
        },
        "id": "Y3AL3n1OgHuT",
        "outputId": "b55d8347-cf77-4dc0-8571-978dfeb486a5"
      },
      "outputs": [
        {
          "data": {
            "application/vnd.google.colaboratory.intrinsic+json": {
              "type": "string"
            },
            "text/plain": [
              "'text'"
            ]
          },
          "execution_count": 11,
          "metadata": {},
          "output_type": "execute_result"
        }
      ],
      "source": [
        "text = \"txt\"\n",
        "text[:1]+\"e\"+text[1:]"
      ]
    },
    {
      "cell_type": "code",
      "execution_count": null,
      "metadata": {
        "id": "NqcQnUFLgRQP"
      },
      "outputs": [],
      "source": [
        "price = ['20180728', 100, 130, 140, 150, 160, 170]"
      ]
    },
    {
      "cell_type": "code",
      "execution_count": null,
      "metadata": {
        "colab": {
          "base_uri": "https://localhost:8080/"
        },
        "id": "AJLEMJ_VhuoH",
        "outputId": "ed4c5fa3-35f5-4153-8f1b-83be4797a498"
      },
      "outputs": [
        {
          "data": {
            "text/plain": [
              "[100, 130, 140, 150, 160, 170]"
            ]
          },
          "execution_count": 13,
          "metadata": {},
          "output_type": "execute_result"
        }
      ],
      "source": [
        "price[1:]"
      ]
    },
    {
      "cell_type": "code",
      "execution_count": null,
      "metadata": {
        "id": "WL5as43Ah38_"
      },
      "outputs": [],
      "source": [
        "nums = [1, 2, 3, 4, 5, 6, 7, 8, 9, 10]"
      ]
    },
    {
      "cell_type": "code",
      "execution_count": null,
      "metadata": {
        "colab": {
          "base_uri": "https://localhost:8080/"
        },
        "id": "b1Z91NNXh8Rg",
        "outputId": "a4ad8ac7-b31a-4e05-bb03-9d37635a32f7"
      },
      "outputs": [
        {
          "name": "stdout",
          "output_type": "stream",
          "text": [
            "[1, 3, 5, 7, 9]\n"
          ]
        }
      ],
      "source": [
        "print(nums[::2])"
      ]
    },
    {
      "cell_type": "code",
      "execution_count": null,
      "metadata": {
        "colab": {
          "base_uri": "https://localhost:8080/"
        },
        "id": "quuqKWKAiByu",
        "outputId": "b32436ea-d46f-4676-bd9c-b69acdeac788"
      },
      "outputs": [
        {
          "name": "stdout",
          "output_type": "stream",
          "text": [
            "[2, 4, 6, 8, 10]\n"
          ]
        }
      ],
      "source": [
        "print(nums[1::2])"
      ]
    },
    {
      "cell_type": "code",
      "execution_count": null,
      "metadata": {
        "id": "BMZEwNhhiK0p"
      },
      "outputs": [],
      "source": [
        "nums = [1, 2, 3, 4, 5]\n",
        "nums.sort(reverse=True)"
      ]
    },
    {
      "cell_type": "code",
      "execution_count": null,
      "metadata": {
        "colab": {
          "base_uri": "https://localhost:8080/"
        },
        "id": "haCKBeT6i8B9",
        "outputId": "8dfcde0b-f701-4c2d-c1c2-01960dfb7054"
      },
      "outputs": [
        {
          "data": {
            "text/plain": [
              "[5, 4, 3, 2, 1]"
            ]
          },
          "execution_count": 24,
          "metadata": {},
          "output_type": "execute_result"
        }
      ],
      "source": [
        "nums"
      ]
    },
    {
      "cell_type": "code",
      "execution_count": null,
      "metadata": {
        "colab": {
          "base_uri": "https://localhost:8080/"
        },
        "id": "IjuXWWPKjCSh",
        "outputId": "90c35a49-54a3-476a-d280-8742d805b0ea"
      },
      "outputs": [
        {
          "data": {
            "text/plain": [
              "[1, 2, 3, 4, 5]"
            ]
          },
          "execution_count": 25,
          "metadata": {},
          "output_type": "execute_result"
        }
      ],
      "source": [
        "nums[::-1]"
      ]
    },
    {
      "cell_type": "code",
      "execution_count": null,
      "metadata": {
        "id": "EyJU4X8VjF2H"
      },
      "outputs": [],
      "source": [
        "interest = ['삼성전자', 'LG전자', 'Naver']"
      ]
    },
    {
      "cell_type": "code",
      "execution_count": null,
      "metadata": {
        "colab": {
          "base_uri": "https://localhost:8080/"
        },
        "id": "3tkxmAUqjLAV",
        "outputId": "ec32b7ff-261c-4504-de50-c7c17306e95e"
      },
      "outputs": [
        {
          "name": "stdout",
          "output_type": "stream",
          "text": [
            "삼성전자 Naver\n"
          ]
        }
      ],
      "source": [
        "print(interest[0], interest[2])"
      ]
    },
    {
      "cell_type": "code",
      "execution_count": null,
      "metadata": {
        "id": "P0esDfnHjQZE"
      },
      "outputs": [],
      "source": [
        "text = \"제발 그만해 나 너무 무서워\"\n",
        "result = \"#\"+\"#\".join(text)"
      ]
    },
    {
      "cell_type": "code",
      "execution_count": null,
      "metadata": {
        "colab": {
          "base_uri": "https://localhost:8080/",
          "height": 35
        },
        "id": "KCbI667BknJt",
        "outputId": "21c30cee-8f6e-45d7-cf54-cb83ac311e25"
      },
      "outputs": [
        {
          "data": {
            "application/vnd.google.colaboratory.intrinsic+json": {
              "type": "string"
            },
            "text/plain": [
              "'#제#발# #그#만#해# #나# #너#무# #무#서#워'"
            ]
          },
          "execution_count": 31,
          "metadata": {},
          "output_type": "execute_result"
        }
      ],
      "source": [
        "result"
      ]
    },
    {
      "cell_type": "code",
      "execution_count": null,
      "metadata": {
        "colab": {
          "base_uri": "https://localhost:8080/",
          "height": 35
        },
        "id": "GxNS4qQYkuQ2",
        "outputId": "04eaf0f8-01bb-479f-9188-34838eb82dfa"
      },
      "outputs": [
        {
          "data": {
            "application/vnd.google.colaboratory.intrinsic+json": {
              "type": "string"
            },
            "text/plain": [
              "'제#발# #그#만#해# #나# #너#무# #무#서#워'"
            ]
          },
          "execution_count": 32,
          "metadata": {},
          "output_type": "execute_result"
        }
      ],
      "source": [
        "result = \"#\".join(text)\n",
        "result"
      ]
    },
    {
      "cell_type": "code",
      "execution_count": null,
      "metadata": {
        "colab": {
          "base_uri": "https://localhost:8080/"
        },
        "id": "cO4y188Gk2s5",
        "outputId": "e1c3bff2-94fc-457c-8dd7-a5a2c35fd47f"
      },
      "outputs": [
        {
          "data": {
            "text/plain": [
              "['삼성전자', 'LG전자', 'Naver', 'SK하이닉스', '미래에셋대우']"
            ]
          },
          "execution_count": 33,
          "metadata": {},
          "output_type": "execute_result"
        }
      ],
      "source": [
        "interest = ['삼성전자', 'LG전자', 'Naver', 'SK하이닉스', '미래에셋대우']\n",
        "interest"
      ]
    },
    {
      "cell_type": "code",
      "execution_count": null,
      "metadata": {
        "colab": {
          "base_uri": "https://localhost:8080/",
          "height": 35
        },
        "id": "eunTuIJglAUE",
        "outputId": "a8a61db3-391a-4e8b-ab32-390c44eb034e"
      },
      "outputs": [
        {
          "data": {
            "application/vnd.google.colaboratory.intrinsic+json": {
              "type": "string"
            },
            "text/plain": [
              "'삼성전자 LG전자 Naver SK하이닉스 미래에셋대우'"
            ]
          },
          "execution_count": 34,
          "metadata": {},
          "output_type": "execute_result"
        }
      ],
      "source": [
        "result = \" \".join(interest)\n",
        "result"
      ]
    },
    {
      "cell_type": "code",
      "execution_count": null,
      "metadata": {
        "colab": {
          "base_uri": "https://localhost:8080/",
          "height": 35
        },
        "id": "_Ir-ALCKlIhN",
        "outputId": "2ef00262-c435-4681-8ee3-aff86a393c20"
      },
      "outputs": [
        {
          "data": {
            "application/vnd.google.colaboratory.intrinsic+json": {
              "type": "string"
            },
            "text/plain": [
              "'삼성전자/LG전자/Naver/SK하이닉스/미래에셋대우'"
            ]
          },
          "execution_count": 35,
          "metadata": {},
          "output_type": "execute_result"
        }
      ],
      "source": [
        "result = \"/\".join(interest)\n",
        "result"
      ]
    },
    {
      "cell_type": "code",
      "execution_count": null,
      "metadata": {
        "colab": {
          "base_uri": "https://localhost:8080/"
        },
        "id": "QRAbV_EHlWGt",
        "outputId": "0a79c772-90a6-4647-c09b-235edc8e4cd5"
      },
      "outputs": [
        {
          "name": "stdout",
          "output_type": "stream",
          "text": [
            "삼성전자\n",
            "LG전자\n",
            "Naver\n",
            "SK하이닉스\n",
            "미래에셋대우\n"
          ]
        }
      ],
      "source": [
        "print(\"\\n\".join(interest))"
      ]
    },
    {
      "cell_type": "code",
      "execution_count": null,
      "metadata": {
        "id": "X9kyj-z_l6PG"
      },
      "outputs": [],
      "source": [
        "string = \"삼성전자/LG전자/Naver\""
      ]
    },
    {
      "cell_type": "code",
      "execution_count": null,
      "metadata": {
        "colab": {
          "base_uri": "https://localhost:8080/"
        },
        "id": "xMI5H6jHmblW",
        "outputId": "ab2b3a0c-c895-4d46-a857-49477faf9790"
      },
      "outputs": [
        {
          "data": {
            "text/plain": [
              "['삼성전자/LG전자/Naver']"
            ]
          },
          "execution_count": 44,
          "metadata": {},
          "output_type": "execute_result"
        }
      ],
      "source": [
        "string.split()"
      ]
    },
    {
      "cell_type": "code",
      "execution_count": null,
      "metadata": {
        "id": "9U1sBG93mha8"
      },
      "outputs": [],
      "source": [
        "interest = string.split(\"/\")"
      ]
    },
    {
      "cell_type": "code",
      "execution_count": null,
      "metadata": {
        "colab": {
          "base_uri": "https://localhost:8080/"
        },
        "id": "4MwSi770msBJ",
        "outputId": "843bdc52-f506-4287-9252-066878122053"
      },
      "outputs": [
        {
          "data": {
            "text/plain": [
              "['삼성전자', 'LG전자', 'Naver']"
            ]
          },
          "execution_count": 52,
          "metadata": {},
          "output_type": "execute_result"
        }
      ],
      "source": [
        "interest"
      ]
    },
    {
      "cell_type": "code",
      "execution_count": null,
      "metadata": {
        "colab": {
          "base_uri": "https://localhost:8080/"
        },
        "id": "sjc6_I8ZmyBs",
        "outputId": "17943d6f-ec8a-4594-8289-30fd264b6894"
      },
      "outputs": [
        {
          "data": {
            "text/plain": [
              "['삼성전자/LG전자/Naver']"
            ]
          },
          "execution_count": 48,
          "metadata": {},
          "output_type": "execute_result"
        }
      ],
      "source": [
        "interest"
      ]
    },
    {
      "cell_type": "code",
      "execution_count": null,
      "metadata": {
        "colab": {
          "base_uri": "https://localhost:8080/",
          "height": 174
        },
        "id": "DUcUmc_Kmzsu",
        "outputId": "f72b3c7b-9382-4905-92f3-061878bad5e8"
      },
      "outputs": [
        {
          "ename": "AttributeError",
          "evalue": "ignored",
          "output_type": "error",
          "traceback": [
            "\u001b[0;31m---------------------------------------------------------------------------\u001b[0m",
            "\u001b[0;31mAttributeError\u001b[0m                            Traceback (most recent call last)",
            "\u001b[0;32m<ipython-input-50-a05308aa4113>\u001b[0m in \u001b[0;36m<module>\u001b[0;34m()\u001b[0m\n\u001b[0;32m----> 1\u001b[0;31m \u001b[0minterest\u001b[0m\u001b[0;34m.\u001b[0m\u001b[0msplit\u001b[0m\u001b[0;34m(\u001b[0m\u001b[0;34m\"/\"\u001b[0m\u001b[0;34m)\u001b[0m\u001b[0;34m\u001b[0m\u001b[0;34m\u001b[0m\u001b[0m\n\u001b[0m",
            "\u001b[0;31mAttributeError\u001b[0m: 'list' object has no attribute 'split'"
          ]
        }
      ],
      "source": [
        "interest.split(\"/\")"
      ]
    },
    {
      "cell_type": "code",
      "execution_count": null,
      "metadata": {
        "id": "VrV-GZtBnEj6"
      },
      "outputs": [],
      "source": [
        "data = [2, 4, 3, 1, 5, 10, 9]\n",
        "data.sort()"
      ]
    },
    {
      "cell_type": "code",
      "execution_count": null,
      "metadata": {
        "colab": {
          "base_uri": "https://localhost:8080/"
        },
        "id": "W9tRuzHPndor",
        "outputId": "d1a0ff3d-9ad4-4320-e77f-0e664999e8bc"
      },
      "outputs": [
        {
          "data": {
            "text/plain": [
              "[1, 2, 3, 4, 5, 9, 10]"
            ]
          },
          "execution_count": 54,
          "metadata": {},
          "output_type": "execute_result"
        }
      ],
      "source": [
        "data"
      ]
    },
    {
      "cell_type": "code",
      "execution_count": null,
      "metadata": {
        "id": "wzcWqP3bneim"
      },
      "outputs": [],
      "source": [
        "my_variable = ()"
      ]
    },
    {
      "cell_type": "code",
      "execution_count": null,
      "metadata": {
        "colab": {
          "base_uri": "https://localhost:8080/"
        },
        "id": "6CFt8dornmTp",
        "outputId": "2cbd2d59-4d06-46ed-e046-bf61544fc0aa"
      },
      "outputs": [
        {
          "data": {
            "text/plain": [
              "tuple"
            ]
          },
          "execution_count": 56,
          "metadata": {},
          "output_type": "execute_result"
        }
      ],
      "source": [
        "type(my_variable)"
      ]
    },
    {
      "cell_type": "code",
      "execution_count": null,
      "metadata": {
        "colab": {
          "base_uri": "https://localhost:8080/"
        },
        "id": "4fYV2CPHnpHw",
        "outputId": "805149df-1693-4972-8f03-b67748e608a6"
      },
      "outputs": [
        {
          "data": {
            "text/plain": [
              "('닥터 스트레인지', '스플릿', '럭키')"
            ]
          },
          "execution_count": 57,
          "metadata": {},
          "output_type": "execute_result"
        }
      ],
      "source": [
        "movie_rank = (\"닥터 스트레인지\", \"스플릿\", \"럭키\")\n",
        "movie_rank"
      ]
    },
    {
      "cell_type": "code",
      "execution_count": null,
      "metadata": {
        "id": "vFSjjnCen11k"
      },
      "outputs": [],
      "source": [
        "tup = (1, )"
      ]
    },
    {
      "cell_type": "code",
      "execution_count": null,
      "metadata": {
        "colab": {
          "base_uri": "https://localhost:8080/"
        },
        "id": "0iwXgSK3n4f0",
        "outputId": "ef976436-75fc-48a2-e696-63c34cc60fbd"
      },
      "outputs": [
        {
          "name": "stdout",
          "output_type": "stream",
          "text": [
            "(1,) <class 'tuple'>\n"
          ]
        }
      ],
      "source": [
        "print(tup, type(tup))"
      ]
    },
    {
      "cell_type": "code",
      "execution_count": null,
      "metadata": {
        "id": "ot8Wkxzhn6-j"
      },
      "outputs": [],
      "source": [
        "A = {1, 2, 3}\n",
        "B = {2, 3, 4}"
      ]
    },
    {
      "cell_type": "code",
      "execution_count": null,
      "metadata": {
        "colab": {
          "base_uri": "https://localhost:8080/"
        },
        "id": "cjeDQND8olCq",
        "outputId": "218e70d5-fdcc-4b55-d679-4157a4c1fd3d"
      },
      "outputs": [
        {
          "data": {
            "text/plain": [
              "{2, 3}"
            ]
          },
          "execution_count": 64,
          "metadata": {},
          "output_type": "execute_result"
        }
      ],
      "source": [
        "A.intersection(B) #A와 B의 교집합"
      ]
    },
    {
      "cell_type": "code",
      "execution_count": null,
      "metadata": {
        "colab": {
          "base_uri": "https://localhost:8080/"
        },
        "id": "5GyPV8MTxwp4",
        "outputId": "ed529628-32e9-40f9-bc77-0cc491644c26"
      },
      "outputs": [
        {
          "data": {
            "text/plain": [
              "{1, 2, 3, 4}"
            ]
          },
          "execution_count": 66,
          "metadata": {},
          "output_type": "execute_result"
        }
      ],
      "source": [
        "A.union(B) #A와 B의 합집합"
      ]
    },
    {
      "cell_type": "code",
      "execution_count": null,
      "metadata": {
        "colab": {
          "base_uri": "https://localhost:8080/"
        },
        "id": "r9R8Uhg-x2Kg",
        "outputId": "c1b1268b-dbb8-4293-c16b-8e6bcf2d5e9a"
      },
      "outputs": [
        {
          "data": {
            "text/plain": [
              "{1}"
            ]
          },
          "execution_count": 69,
          "metadata": {},
          "output_type": "execute_result"
        }
      ],
      "source": [
        "A.difference(B) #A와 B의 차집합"
      ]
    },
    {
      "cell_type": "code",
      "execution_count": null,
      "metadata": {
        "colab": {
          "base_uri": "https://localhost:8080/"
        },
        "id": "oDvbhgNoyAoc",
        "outputId": "bff6b679-cedf-4bc1-f3e3-46816b5916f2"
      },
      "outputs": [
        {
          "data": {
            "text/plain": [
              "False"
            ]
          },
          "execution_count": 70,
          "metadata": {},
          "output_type": "execute_result"
        }
      ],
      "source": [
        "A.issubset(B) #A와 B의 부분집합 True/False"
      ]
    },
    {
      "cell_type": "code",
      "execution_count": null,
      "metadata": {
        "colab": {
          "base_uri": "https://localhost:8080/"
        },
        "id": "Ja6n2kSjyUw5",
        "outputId": "3fc49495-913d-427e-f0a0-c93646336622"
      },
      "outputs": [
        {
          "data": {
            "text/plain": [
              "True"
            ]
          },
          "execution_count": 71,
          "metadata": {},
          "output_type": "execute_result"
        }
      ],
      "source": [
        "C = {2, 3}\n",
        "C.issubset(A)"
      ]
    },
    {
      "cell_type": "code",
      "execution_count": null,
      "metadata": {
        "colab": {
          "base_uri": "https://localhost:8080/"
        },
        "id": "JSSxTANHygrG",
        "outputId": "04b5469c-27c9-4898-f3b9-7674d2f226eb"
      },
      "outputs": [
        {
          "data": {
            "text/plain": [
              "True"
            ]
          },
          "execution_count": 72,
          "metadata": {},
          "output_type": "execute_result"
        }
      ],
      "source": [
        "C.issubset(B)"
      ]
    },
    {
      "cell_type": "code",
      "execution_count": null,
      "metadata": {
        "id": "yD98Iadbyki-"
      },
      "outputs": [],
      "source": [
        "city = {\"Korea\" : \"Seoul\",\n",
        "        \"Japen\" : \"Tokyo\",\n",
        "        \"Canada\" : \"Ottawa\"}"
      ]
    },
    {
      "cell_type": "code",
      "execution_count": null,
      "metadata": {
        "colab": {
          "base_uri": "https://localhost:8080/"
        },
        "id": "IwUA-jgjP2Ug",
        "outputId": "12a5b668-3677-4493-9e54-c65d080e5b7e"
      },
      "outputs": [
        {
          "name": "stdout",
          "output_type": "stream",
          "text": [
            "{'Korea': 'Seoul', 'Japen': 'Tokyo', 'Canada': 'Ottawa'}\n"
          ]
        }
      ],
      "source": [
        "print(city)"
      ]
    },
    {
      "cell_type": "code",
      "execution_count": null,
      "metadata": {
        "colab": {
          "base_uri": "https://localhost:8080/",
          "height": 35
        },
        "id": "paEt9DyvP5fa",
        "outputId": "652dda3f-b977-461e-cd36-b048242d3fea"
      },
      "outputs": [
        {
          "data": {
            "application/vnd.google.colaboratory.intrinsic+json": {
              "type": "string"
            },
            "text/plain": [
              "'Seoul'"
            ]
          },
          "execution_count": 3,
          "metadata": {},
          "output_type": "execute_result"
        }
      ],
      "source": [
        "city[\"Korea\"]"
      ]
    },
    {
      "cell_type": "code",
      "execution_count": null,
      "metadata": {
        "colab": {
          "base_uri": "https://localhost:8080/",
          "height": 35
        },
        "id": "YWNL_bRTQ3oV",
        "outputId": "3af4f1c5-96be-462e-844d-ddc0e1ad7a56"
      },
      "outputs": [
        {
          "data": {
            "application/vnd.google.colaboratory.intrinsic+json": {
              "type": "string"
            },
            "text/plain": [
              "'Tokyo'"
            ]
          },
          "execution_count": 5,
          "metadata": {},
          "output_type": "execute_result"
        }
      ],
      "source": [
        "city[\"Japen\"]"
      ]
    },
    {
      "cell_type": "code",
      "execution_count": null,
      "metadata": {
        "id": "1VQ36sxiQ8j5"
      },
      "outputs": [],
      "source": [
        "city[\"China\"] = \"Baijing\""
      ]
    },
    {
      "cell_type": "code",
      "execution_count": null,
      "metadata": {
        "colab": {
          "base_uri": "https://localhost:8080/"
        },
        "id": "OfNbx09CUS9I",
        "outputId": "ece9bd0e-cf6f-4de1-908e-a53e1a322557"
      },
      "outputs": [
        {
          "name": "stdout",
          "output_type": "stream",
          "text": [
            "{'Korea': 'Seoul', 'Japen': 'Tokyo', 'Canada': 'Ottawa', 'China': 'Baijing'}\n"
          ]
        }
      ],
      "source": [
        "print(city)"
      ]
    },
    {
      "cell_type": "code",
      "execution_count": null,
      "metadata": {
        "id": "_aDVIPCCUUKi"
      },
      "outputs": [],
      "source": [
        "sgc = {\"parkramgee\" : \"songmongsuk\",\n",
        "       \"kimgirin\" : \"mangnani\",\n",
        "       \"bokdaege\" : \"jangponju\",\n",
        "       \"parkboksu\" : \"gerave\"}"
      ]
    },
    {
      "cell_type": "code",
      "execution_count": null,
      "metadata": {
        "colab": {
          "base_uri": "https://localhost:8080/"
        },
        "id": "Fq5yCSbKVQo4",
        "outputId": "3e7a6710-8084-4eb5-8a4b-1065e76b21c6"
      },
      "outputs": [
        {
          "name": "stdout",
          "output_type": "stream",
          "text": [
            "{'parkramgee': 'songmongsuk', 'kimgirin': 'mangnani', 'bokdaege': 'jangponju', 'parkboksu': 'gerave'}\n"
          ]
        }
      ],
      "source": [
        "print(sgc)"
      ]
    },
    {
      "cell_type": "code",
      "execution_count": null,
      "metadata": {
        "colab": {
          "base_uri": "https://localhost:8080/",
          "height": 35
        },
        "id": "x9LfVhVwViCM",
        "outputId": "d503db73-d068-4a9a-cdc7-3d195319eb54"
      },
      "outputs": [
        {
          "data": {
            "application/vnd.google.colaboratory.intrinsic+json": {
              "type": "string"
            },
            "text/plain": [
              "'songmongsuk'"
            ]
          },
          "execution_count": 16,
          "metadata": {},
          "output_type": "execute_result"
        }
      ],
      "source": [
        "sgc[\"parkramgee\"]"
      ]
    },
    {
      "cell_type": "code",
      "execution_count": null,
      "metadata": {
        "id": "2yzg8BTfVokE"
      },
      "outputs": [],
      "source": [
        "sgc[\"nawangnoon\"] = \"beaknova\""
      ]
    },
    {
      "cell_type": "code",
      "execution_count": null,
      "metadata": {
        "colab": {
          "base_uri": "https://localhost:8080/"
        },
        "id": "BQ57YLn2V7kz",
        "outputId": "83615d31-66d4-4d1c-f181-1a3dd0a98508"
      },
      "outputs": [
        {
          "name": "stdout",
          "output_type": "stream",
          "text": [
            "{'parkramgee': 'songmongsuk', 'kimgirin': 'mangnani', 'bokdaege': 'jangponju', 'parkboksu': 'gerave', 'nawangnoon': 'beaknova'}\n"
          ]
        }
      ],
      "source": [
        "print(sgc)"
      ]
    },
    {
      "cell_type": "code",
      "execution_count": null,
      "metadata": {
        "colab": {
          "base_uri": "https://localhost:8080/"
        },
        "id": "Uu6pcSWEV9L3",
        "outputId": "d540e86b-9482-4d92-8d09-573477c9e1e8"
      },
      "outputs": [
        {
          "name": "stdout",
          "output_type": "stream",
          "text": [
            "{'parkramgee': 'songmongsuk', 'kimgirin': 'mangnani', 'bokdaege': 'jangponju', 'parkboksu': 'gerave', 'nawangnoon': 'beaknova', 'leegokgil': 'kangchodang'}\n"
          ]
        }
      ],
      "source": [
        "sgc[\"leegokgil\"] = \"kangchodang\"\n",
        "print(sgc)"
      ]
    },
    {
      "cell_type": "code",
      "execution_count": null,
      "metadata": {
        "colab": {
          "base_uri": "https://localhost:8080/"
        },
        "id": "poCMcHq3WH4J",
        "outputId": "0abb992e-6d84-44ab-cbd1-a7797f9b85fc"
      },
      "outputs": [
        {
          "name": "stdout",
          "output_type": "stream",
          "text": [
            "{'parkramgee': 'dokgorumi', 'kimgirin': 'mangnani', 'bokdaege': 'jangponju', 'parkboksu': 'gerave', 'nawangnoon': 'beaknova', 'leegokgil': 'kangchodang'}\n"
          ]
        }
      ],
      "source": [
        "sgc[\"parkramgee\"] = \"dokgorumi\"\n",
        "print(sgc)"
      ]
    },
    {
      "cell_type": "code",
      "execution_count": null,
      "metadata": {
        "colab": {
          "base_uri": "https://localhost:8080/"
        },
        "id": "83MVo8mTWf5W",
        "outputId": "f94e768f-1a10-4725-871e-3a22a20b7208"
      },
      "outputs": [
        {
          "data": {
            "text/plain": [
              "{'bokdaege': 'jangponju',\n",
              " 'kimgirin': 'mangnani',\n",
              " 'leegokgil': 'kangchodang',\n",
              " 'nawangnoon': 'beaknova',\n",
              " 'parkboksu': 'gerave'}"
            ]
          },
          "execution_count": 21,
          "metadata": {},
          "output_type": "execute_result"
        }
      ],
      "source": [
        "del sgc[\"parkramgee\"]\n",
        "sgc"
      ]
    },
    {
      "cell_type": "code",
      "execution_count": null,
      "metadata": {
        "colab": {
          "base_uri": "https://localhost:8080/"
        },
        "id": "rjCZk66uWrAN",
        "outputId": "33d33c66-fa0c-4e82-ee28-7cd6e06e339a"
      },
      "outputs": [
        {
          "data": {
            "text/plain": [
              "{'bokdaege': 'jangponju',\n",
              " 'kimgirin': 'mangnani',\n",
              " 'leegokgil': 'kangchodang',\n",
              " 'nawangnoon': 'beaknova',\n",
              " 'parkboksu': 'gerave',\n",
              " 'parkramgee': 'songmongsuk'}"
            ]
          },
          "execution_count": 22,
          "metadata": {},
          "output_type": "execute_result"
        }
      ],
      "source": [
        "sgc[\"parkramgee\"] = \"songmongsuk\"\n",
        "sgc"
      ]
    },
    {
      "cell_type": "code",
      "execution_count": null,
      "metadata": {
        "colab": {
          "base_uri": "https://localhost:8080/"
        },
        "id": "4DDehgw-W2H4",
        "outputId": "4af29456-c041-4099-da45-daca7055f3ed"
      },
      "outputs": [
        {
          "data": {
            "text/plain": [
              "{'kimgirin': 'mangnani',\n",
              " 'leegokgil': 'kangchodang',\n",
              " 'nawangnoon': 'beaknova',\n",
              " 'parkboksu': 'gerave',\n",
              " 'parkramgee': 'songmongsuk'}"
            ]
          },
          "execution_count": 24,
          "metadata": {},
          "output_type": "execute_result"
        }
      ],
      "source": [
        "del sgc[\"bokdaege\"]\n",
        "sgc"
      ]
    },
    {
      "cell_type": "code",
      "execution_count": null,
      "metadata": {
        "colab": {
          "base_uri": "https://localhost:8080/"
        },
        "id": "p9U9zg-OW_xO",
        "outputId": "8ca35175-9172-4ffe-9d67-d2f970ea376e"
      },
      "outputs": [
        {
          "data": {
            "text/plain": [
              "dict"
            ]
          },
          "execution_count": 26,
          "metadata": {},
          "output_type": "execute_result"
        }
      ],
      "source": [
        "type(sgc)"
      ]
    },
    {
      "cell_type": "code",
      "execution_count": null,
      "metadata": {
        "colab": {
          "base_uri": "https://localhost:8080/"
        },
        "id": "qjG-s03MXxYG",
        "outputId": "4ee3a7c5-a8f0-4049-b5e3-26ead6e1ad2d"
      },
      "outputs": [
        {
          "data": {
            "text/plain": [
              "{'kimgirin': 'mangnani',\n",
              " 'leegokgil': 'kangchodang',\n",
              " 'nawangnoon': 'beaknova',\n",
              " 'parkboksu': 'gerave',\n",
              " 'parkramgee': 'songmongsuk'}"
            ]
          },
          "execution_count": 29,
          "metadata": {},
          "output_type": "execute_result"
        }
      ],
      "source": [
        "sgc"
      ]
    },
    {
      "cell_type": "code",
      "execution_count": null,
      "metadata": {
        "colab": {
          "base_uri": "https://localhost:8080/"
        },
        "id": "oyP_sI5YX-EH",
        "outputId": "3a3bc776-b3ac-450a-f862-a6f495c0c09a"
      },
      "outputs": [
        {
          "data": {
            "text/plain": [
              "dict_keys(['kimgirin', 'parkboksu', 'nawangnoon', 'leegokgil', 'parkramgee'])"
            ]
          },
          "execution_count": 32,
          "metadata": {},
          "output_type": "execute_result"
        }
      ],
      "source": [
        "sgc.keys()"
      ]
    },
    {
      "cell_type": "code",
      "execution_count": null,
      "metadata": {
        "colab": {
          "base_uri": "https://localhost:8080/"
        },
        "id": "00ZePeijYTvW",
        "outputId": "c60878d1-6122-4c78-b151-e6a48c76ef92"
      },
      "outputs": [
        {
          "data": {
            "text/plain": [
              "dict_values(['mangnani', 'gerave', 'beaknova', 'kangchodang', 'songmongsuk'])"
            ]
          },
          "execution_count": 33,
          "metadata": {},
          "output_type": "execute_result"
        }
      ],
      "source": [
        "sgc.values()"
      ]
    },
    {
      "cell_type": "code",
      "execution_count": null,
      "metadata": {
        "colab": {
          "base_uri": "https://localhost:8080/"
        },
        "id": "WWNlPftuY2n9",
        "outputId": "18e444f3-40af-46b9-fe05-2df5038a0ac9"
      },
      "outputs": [
        {
          "data": {
            "text/plain": [
              "dict_items([('kimgirin', 'mangnani'), ('parkboksu', 'gerave'), ('nawangnoon', 'beaknova'), ('leegokgil', 'kangchodang'), ('parkramgee', 'songmongsuk')])"
            ]
          },
          "execution_count": 35,
          "metadata": {},
          "output_type": "execute_result"
        }
      ],
      "source": [
        "sgc.items()"
      ]
    },
    {
      "cell_type": "code",
      "execution_count": null,
      "metadata": {
        "colab": {
          "base_uri": "https://localhost:8080/"
        },
        "id": "QOyatbIUY9ZN",
        "outputId": "0b98d8ea-b3e6-470e-b6ed-69eb713c1c6c"
      },
      "outputs": [
        {
          "name": "stdout",
          "output_type": "stream",
          "text": [
            "['songmongsuk', 'mangnani'] <class 'list'>\n"
          ]
        }
      ],
      "source": [
        "sgc = [\"songmongsuk\", \"mangnani\"]\n",
        "print(sgc, type(sgc))"
      ]
    },
    {
      "cell_type": "code",
      "execution_count": null,
      "metadata": {
        "colab": {
          "base_uri": "https://localhost:8080/"
        },
        "id": "-lDIQ1eqb8vV",
        "outputId": "a05863b3-50ca-4d1f-df6d-412c77d6bdbc"
      },
      "outputs": [
        {
          "name": "stdout",
          "output_type": "stream",
          "text": [
            "['songmongsuk', 'mangnani'] <class 'list'>\n"
          ]
        }
      ],
      "source": [
        "tuple(sgc)\n",
        "print(sgc, type(sgc))"
      ]
    },
    {
      "cell_type": "code",
      "execution_count": null,
      "metadata": {
        "colab": {
          "base_uri": "https://localhost:8080/"
        },
        "id": "Uf2LiKJKcCmP",
        "outputId": "501c435d-92e7-4967-97f5-2ad2f8c98089"
      },
      "outputs": [
        {
          "data": {
            "text/plain": [
              "('songmongsuk', 'mangnani')"
            ]
          },
          "execution_count": 38,
          "metadata": {},
          "output_type": "execute_result"
        }
      ],
      "source": [
        "tuple(sgc)"
      ]
    },
    {
      "cell_type": "code",
      "execution_count": null,
      "metadata": {
        "colab": {
          "base_uri": "https://localhost:8080/"
        },
        "id": "DTU2OSuGcHz7",
        "outputId": "37019df0-d71a-4ce4-d26b-303ce3549eb2"
      },
      "outputs": [
        {
          "name": "stdout",
          "output_type": "stream",
          "text": [
            "['songmongsuk', 'mangnani']\n"
          ]
        }
      ],
      "source": [
        "print(sgc)"
      ]
    },
    {
      "cell_type": "code",
      "execution_count": null,
      "metadata": {
        "colab": {
          "base_uri": "https://localhost:8080/"
        },
        "id": "Ut3cIfBMcJoF",
        "outputId": "8b68e062-4ddc-4522-85fd-f91c7e2716fc"
      },
      "outputs": [
        {
          "name": "stdout",
          "output_type": "stream",
          "text": [
            "('jangponju', 'grave') <class 'tuple'>\n"
          ]
        }
      ],
      "source": [
        "sgc = \"jangponju\", \"grave\"\n",
        "print(sgc, type(sgc))"
      ]
    },
    {
      "cell_type": "code",
      "execution_count": null,
      "metadata": {
        "colab": {
          "base_uri": "https://localhost:8080/"
        },
        "id": "iUPKsCyFcUjg",
        "outputId": "6827ca4f-c07e-4e14-f6d3-5b5f710a04b5"
      },
      "outputs": [
        {
          "data": {
            "text/plain": [
              "['jangponju', 'grave']"
            ]
          },
          "execution_count": 41,
          "metadata": {},
          "output_type": "execute_result"
        }
      ],
      "source": [
        "list(sgc)"
      ]
    },
    {
      "cell_type": "code",
      "execution_count": null,
      "metadata": {
        "colab": {
          "base_uri": "https://localhost:8080/"
        },
        "id": "7Rzc5ss5cX1Q",
        "outputId": "532c02b1-a4ab-451b-c5c8-47b7eca4a875"
      },
      "outputs": [
        {
          "name": "stdout",
          "output_type": "stream",
          "text": [
            "{'songmongsuk', 'jangponju'} <class 'set'>\n"
          ]
        }
      ],
      "source": [
        "sgc = {\"songmongsuk\", \"jangponju\"}\n",
        "print(sgc, type(sgc))"
      ]
    },
    {
      "cell_type": "code",
      "execution_count": null,
      "metadata": {
        "colab": {
          "base_uri": "https://localhost:8080/"
        },
        "id": "6qTOlpdycjJ_",
        "outputId": "8b8f9250-ad3c-4aba-b800-5363dc0581c0"
      },
      "outputs": [
        {
          "data": {
            "text/plain": [
              "['songmongsuk', 'jangponju']"
            ]
          },
          "execution_count": 43,
          "metadata": {},
          "output_type": "execute_result"
        }
      ],
      "source": [
        "list(sgc)"
      ]
    },
    {
      "cell_type": "code",
      "execution_count": null,
      "metadata": {
        "colab": {
          "base_uri": "https://localhost:8080/"
        },
        "id": "ByMFUGOKcnNT",
        "outputId": "4ef15f15-ec32-4b23-ef69-560b3826a0af"
      },
      "outputs": [
        {
          "data": {
            "text/plain": [
              "('songmongsuk', 'jangponju')"
            ]
          },
          "execution_count": 44,
          "metadata": {},
          "output_type": "execute_result"
        }
      ],
      "source": [
        "tuple(sgc)"
      ]
    },
    {
      "cell_type": "code",
      "execution_count": null,
      "metadata": {
        "colab": {
          "base_uri": "https://localhost:8080/"
        },
        "id": "T0JgQhaXcpAe",
        "outputId": "b55232e2-25c5-44dc-b2f4-86e5bd1e7723"
      },
      "outputs": [
        {
          "name": "stdout",
          "output_type": "stream",
          "text": [
            "songmongsuk <class 'str'>\n"
          ]
        }
      ],
      "source": [
        "text = \"songmongsuk\"\n",
        "print(text, type(text))"
      ]
    },
    {
      "cell_type": "code",
      "execution_count": null,
      "metadata": {
        "colab": {
          "base_uri": "https://localhost:8080/"
        },
        "id": "nxbrxYnXcxSX",
        "outputId": "c83864b8-6b49-4d2e-cd53-c537a59b28d3"
      },
      "outputs": [
        {
          "data": {
            "text/plain": [
              "['s', 'o', 'n', 'g', 'm', 'o', 'n', 'g', 's', 'u', 'k']"
            ]
          },
          "execution_count": 46,
          "metadata": {},
          "output_type": "execute_result"
        }
      ],
      "source": [
        "list(text)"
      ]
    },
    {
      "cell_type": "code",
      "execution_count": null,
      "metadata": {
        "colab": {
          "base_uri": "https://localhost:8080/"
        },
        "id": "pjdNyHZ4czZ6",
        "outputId": "b62c77e1-49fe-4de3-cfd3-4d66f319d0c8"
      },
      "outputs": [
        {
          "data": {
            "text/plain": [
              "{'g', 'k', 'm', 'n', 'o', 's', 'u'}"
            ]
          },
          "execution_count": 47,
          "metadata": {},
          "output_type": "execute_result"
        }
      ],
      "source": [
        "set(text)"
      ]
    },
    {
      "cell_type": "code",
      "execution_count": null,
      "metadata": {
        "id": "1_eGRWwec4_-"
      },
      "outputs": [],
      "source": [
        "scores = [8.8, 8.9, 8.7, 9.2, 9.3, 9.7, 9.9, 9.5, 7.8, 9.4]"
      ]
    },
    {
      "cell_type": "code",
      "execution_count": null,
      "metadata": {
        "id": "3Pw1P1dShHlO"
      },
      "outputs": [],
      "source": [
        "*vaild_score, a, b = scores"
      ]
    },
    {
      "cell_type": "code",
      "execution_count": null,
      "metadata": {
        "colab": {
          "base_uri": "https://localhost:8080/"
        },
        "id": "bQfbvONThW8V",
        "outputId": "58311145-c52e-41fb-8e1e-c2acf8235d68"
      },
      "outputs": [
        {
          "data": {
            "text/plain": [
              "[8.8, 8.9, 8.7, 9.2, 9.3, 9.7, 9.9, 9.5]"
            ]
          },
          "execution_count": 50,
          "metadata": {},
          "output_type": "execute_result"
        }
      ],
      "source": [
        "vaild_score"
      ]
    },
    {
      "cell_type": "code",
      "execution_count": null,
      "metadata": {
        "colab": {
          "base_uri": "https://localhost:8080/"
        },
        "id": "ZLNdcvCGha9l",
        "outputId": "fa5f2b11-8f7c-458d-b748-c15927c43138"
      },
      "outputs": [
        {
          "data": {
            "text/plain": [
              "7.8"
            ]
          },
          "execution_count": 51,
          "metadata": {},
          "output_type": "execute_result"
        }
      ],
      "source": [
        "a"
      ]
    },
    {
      "cell_type": "code",
      "execution_count": null,
      "metadata": {
        "colab": {
          "base_uri": "https://localhost:8080/"
        },
        "id": "RTtt-AGGhck0",
        "outputId": "e46bec12-0a97-4b53-e005-209aa73cf653"
      },
      "outputs": [
        {
          "data": {
            "text/plain": [
              "9.4"
            ]
          },
          "execution_count": 52,
          "metadata": {},
          "output_type": "execute_result"
        }
      ],
      "source": [
        "b"
      ]
    },
    {
      "cell_type": "code",
      "execution_count": null,
      "metadata": {
        "id": "uDfNDMoahcxn"
      },
      "outputs": [],
      "source": [
        "scores = [8.8, 8.9, 8.7, 9.2, 9.3, 9.7, 9.9, 9.5, 7.8, 9.4]"
      ]
    },
    {
      "cell_type": "code",
      "execution_count": null,
      "metadata": {
        "id": "sqhFtWi9hvmC"
      },
      "outputs": [],
      "source": [
        "_, _, *valid_score = scores"
      ]
    },
    {
      "cell_type": "code",
      "execution_count": null,
      "metadata": {
        "colab": {
          "base_uri": "https://localhost:8080/"
        },
        "id": "BRWj88IIh0P-",
        "outputId": "37771c56-2143-46ad-d1e4-b113a1587c11"
      },
      "outputs": [
        {
          "data": {
            "text/plain": [
              "8.9"
            ]
          },
          "execution_count": 56,
          "metadata": {},
          "output_type": "execute_result"
        }
      ],
      "source": [
        "_"
      ]
    },
    {
      "cell_type": "code",
      "execution_count": null,
      "metadata": {
        "colab": {
          "base_uri": "https://localhost:8080/"
        },
        "id": "lUdhi-nvh4Ke",
        "outputId": "ed8fc996-bdb5-446f-a9e2-36e6d8982c4d"
      },
      "outputs": [
        {
          "data": {
            "text/plain": [
              "8.9"
            ]
          },
          "execution_count": 57,
          "metadata": {},
          "output_type": "execute_result"
        }
      ],
      "source": [
        "_"
      ]
    },
    {
      "cell_type": "code",
      "execution_count": null,
      "metadata": {
        "colab": {
          "base_uri": "https://localhost:8080/"
        },
        "id": "228T8zXAh5BM",
        "outputId": "b24eb441-b8da-4a4d-d2cb-104f14af84d9"
      },
      "outputs": [
        {
          "data": {
            "text/plain": [
              "[8.7, 9.2, 9.3, 9.7, 9.9, 9.5, 7.8, 9.4]"
            ]
          },
          "execution_count": 58,
          "metadata": {},
          "output_type": "execute_result"
        }
      ],
      "source": [
        "valid_score"
      ]
    },
    {
      "cell_type": "code",
      "execution_count": null,
      "metadata": {
        "id": "lKr9Jk3Fh7ko"
      },
      "outputs": [],
      "source": [
        "scores = [8.8, 8.9, 8.7, 9.2, 9.3, 9.7, 9.9, 9.5, 7.8, 9.4]"
      ]
    },
    {
      "cell_type": "code",
      "execution_count": null,
      "metadata": {
        "id": "Hw6optXMigWF"
      },
      "outputs": [],
      "source": [
        "_, *valid_score, _ = scores"
      ]
    },
    {
      "cell_type": "code",
      "execution_count": null,
      "metadata": {
        "colab": {
          "base_uri": "https://localhost:8080/"
        },
        "id": "5YV1zJnPingK",
        "outputId": "6392a48a-894c-490f-a767-53529b4fe475"
      },
      "outputs": [
        {
          "data": {
            "text/plain": [
              "[8.9, 8.7, 9.2, 9.3, 9.7, 9.9, 9.5, 7.8]"
            ]
          },
          "execution_count": 61,
          "metadata": {},
          "output_type": "execute_result"
        }
      ],
      "source": [
        "valid_score"
      ]
    },
    {
      "cell_type": "code",
      "execution_count": null,
      "metadata": {
        "id": "lum3Fsh-ipUr"
      },
      "outputs": [],
      "source": [
        "temp = {}"
      ]
    },
    {
      "cell_type": "code",
      "execution_count": null,
      "metadata": {
        "colab": {
          "base_uri": "https://localhost:8080/"
        },
        "id": "bi0U_joPiyjg",
        "outputId": "3eb434b3-d06f-4214-8000-c86763fcd27b"
      },
      "outputs": [
        {
          "name": "stdout",
          "output_type": "stream",
          "text": [
            "{'메로나': 1000, '폴라포': 1200, '빵빠레': 1800}\n"
          ]
        }
      ],
      "source": [
        "icecream = {\"메로나\" : 1000, \"폴라포\" : 1200, \"빵빠레\" : 1800}\n",
        "print(icecream)"
      ]
    },
    {
      "cell_type": "code",
      "execution_count": null,
      "metadata": {
        "id": "CRZwaBtmi_jK"
      },
      "outputs": [],
      "source": [
        "icecream[\"죠스바\"] = 1200"
      ]
    },
    {
      "cell_type": "code",
      "execution_count": null,
      "metadata": {
        "colab": {
          "base_uri": "https://localhost:8080/"
        },
        "id": "bb1NBmgqjbM7",
        "outputId": "bee5d446-4a54-4202-b71c-9bfba8f6e8d0"
      },
      "outputs": [
        {
          "name": "stdout",
          "output_type": "stream",
          "text": [
            "{'메로나': 1000, '폴라포': 1200, '빵빠레': 1800, '죠스바': 1200, '월드콘': 1500} <class 'dict'>\n"
          ]
        }
      ],
      "source": [
        "icecream[\"월드콘\"] = 1500\n",
        "print(icecream, type(icecream))"
      ]
    },
    {
      "cell_type": "code",
      "execution_count": null,
      "metadata": {
        "colab": {
          "base_uri": "https://localhost:8080/"
        },
        "id": "91M9YnVwkOji",
        "outputId": "0c217585-66fb-4182-cbff-76c54ff293f0"
      },
      "outputs": [
        {
          "data": {
            "text/plain": [
              "1000"
            ]
          },
          "execution_count": 74,
          "metadata": {},
          "output_type": "execute_result"
        }
      ],
      "source": [
        "icecream[\"메로나\"]"
      ]
    },
    {
      "cell_type": "code",
      "execution_count": null,
      "metadata": {
        "colab": {
          "base_uri": "https://localhost:8080/"
        },
        "id": "zqrT8mROkZ9F",
        "outputId": "66b951de-ee85-4a6c-8c65-3bac21026b5c"
      },
      "outputs": [
        {
          "name": "stdout",
          "output_type": "stream",
          "text": [
            "메로나 가격 :  1000\n"
          ]
        }
      ],
      "source": [
        "print(\"메로나 가격 : \", icecream[\"메로나\"])"
      ]
    },
    {
      "cell_type": "code",
      "execution_count": null,
      "metadata": {
        "colab": {
          "base_uri": "https://localhost:8080/"
        },
        "id": "ftDvEKUakiwk",
        "outputId": "3c991a7a-4778-43f9-c50c-3f3a3444c731"
      },
      "outputs": [
        {
          "name": "stdout",
          "output_type": "stream",
          "text": [
            "{'메로나': 1300, '폴라포': 1200, '빵빠레': 1800, '죠스바': 1200, '월드콘': 1500}\n"
          ]
        }
      ],
      "source": [
        "icecream[\"메로나\"]=1300\n",
        "print(icecream)"
      ]
    },
    {
      "cell_type": "code",
      "execution_count": null,
      "metadata": {
        "id": "Y8PP6Nmuk0l8"
      },
      "outputs": [],
      "source": [
        "del icecream[\"메로나\"]"
      ]
    },
    {
      "cell_type": "code",
      "execution_count": null,
      "metadata": {
        "colab": {
          "base_uri": "https://localhost:8080/"
        },
        "id": "TvKCRC2LlBD_",
        "outputId": "706a147a-b4d8-44f4-838c-bdfd9793445b"
      },
      "outputs": [
        {
          "data": {
            "text/plain": [
              "{'빵빠레': 1800, '월드콘': 1500, '죠스바': 1200, '폴라포': 1200}"
            ]
          },
          "execution_count": 79,
          "metadata": {},
          "output_type": "execute_result"
        }
      ],
      "source": [
        "icecream"
      ]
    },
    {
      "cell_type": "code",
      "execution_count": null,
      "metadata": {
        "id": "ORe9_vlelCw9"
      },
      "outputs": [],
      "source": [
        "inventory = {\"메로나\" : [300, 20], \"비비빅\" : [300, 3], \"죠스바\" : [250, 100]}"
      ]
    },
    {
      "cell_type": "code",
      "execution_count": null,
      "metadata": {
        "colab": {
          "base_uri": "https://localhost:8080/"
        },
        "id": "Vt0X2CyKlvGf",
        "outputId": "56589f0f-dd0e-4586-dd7d-093fd59c622c"
      },
      "outputs": [
        {
          "name": "stdout",
          "output_type": "stream",
          "text": [
            "300 원\n"
          ]
        }
      ],
      "source": [
        "print(inventory[\"메로나\"][0], \"원\")"
      ]
    },
    {
      "cell_type": "code",
      "execution_count": null,
      "metadata": {
        "colab": {
          "base_uri": "https://localhost:8080/"
        },
        "id": "WsCG5KnMmKuL",
        "outputId": "49a4bcd6-cadf-4411-f81e-f96aacb4057f"
      },
      "outputs": [
        {
          "name": "stdout",
          "output_type": "stream",
          "text": [
            "20 개\n"
          ]
        }
      ],
      "source": [
        "print(inventory[\"메로나\"][1],\"개\")"
      ]
    },
    {
      "cell_type": "code",
      "execution_count": null,
      "metadata": {
        "colab": {
          "base_uri": "https://localhost:8080/"
        },
        "id": "dgHvuq3Zm13h",
        "outputId": "1fca7f8b-e98a-475b-d6f2-9ef6617e66fc"
      },
      "outputs": [
        {
          "name": "stdout",
          "output_type": "stream",
          "text": [
            "{'메로나': [300, 20], '비비빅': [300, 3], '죠스바': [250, 100], '월드콘': [500, 7]}\n"
          ]
        }
      ],
      "source": [
        "inventory[\"월드콘\"] = [500, 7]\n",
        "print(inventory)"
      ]
    },
    {
      "cell_type": "code",
      "execution_count": null,
      "metadata": {
        "id": "WA5kA66_nCL-"
      },
      "outputs": [],
      "source": [
        "icecream = {'탱크보이': 1200, '폴라포': 1200, '빵빠레': 1800, '월드콘': 1500, '메로나': 1000}"
      ]
    },
    {
      "cell_type": "code",
      "execution_count": null,
      "metadata": {
        "colab": {
          "base_uri": "https://localhost:8080/"
        },
        "id": "0IFgxEBCnFSu",
        "outputId": "a68c7b3a-f9de-4198-a531-adcff4b7b766"
      },
      "outputs": [
        {
          "name": "stdout",
          "output_type": "stream",
          "text": [
            "['탱크보이', '폴라포', '빵빠레', '월드콘', '메로나'] <class 'list'>\n"
          ]
        }
      ],
      "source": [
        "lst = list(icecream.keys())\n",
        "print(lst, type(lst))"
      ]
    },
    {
      "cell_type": "code",
      "execution_count": null,
      "metadata": {
        "colab": {
          "base_uri": "https://localhost:8080/"
        },
        "id": "6eINaItTnIU1",
        "outputId": "f896575f-13b4-4116-a93e-d4b2bdeb67e7"
      },
      "outputs": [
        {
          "name": "stdout",
          "output_type": "stream",
          "text": [
            "{'탱크보이': 1200, '폴라포': 1200, '빵빠레': 1800, '월드콘': 1500, '메로나': 1000} <class 'dict'>\n"
          ]
        }
      ],
      "source": [
        "icecream = {'탱크보이': 1200, '폴라포': 1200, '빵빠레': 1800, '월드콘': 1500, '메로나': 1000}\n",
        "print(icecream, type(icecream))"
      ]
    },
    {
      "cell_type": "code",
      "execution_count": null,
      "metadata": {
        "colab": {
          "base_uri": "https://localhost:8080/"
        },
        "id": "p0wLeTL5nhmr",
        "outputId": "857b0b2f-ef4d-4207-f00e-78c8c3ceb858"
      },
      "outputs": [
        {
          "name": "stdout",
          "output_type": "stream",
          "text": [
            "[1200, 1200, 1800, 1500, 1000] <class 'list'>\n"
          ]
        }
      ],
      "source": [
        "lst = list(icecream.values())\n",
        "print(lst, type(lst))"
      ]
    },
    {
      "cell_type": "code",
      "execution_count": null,
      "metadata": {
        "id": "TO1kmLjbnwtK"
      },
      "outputs": [],
      "source": [
        "icecream = {'탱크보이': 1200, '폴라포': 1200, '빵빠레': 1800, '월드콘': 1500, '메로나': 1000}"
      ]
    },
    {
      "cell_type": "code",
      "execution_count": null,
      "metadata": {
        "id": "B3rUAqp6oi4p"
      },
      "outputs": [],
      "source": [
        "sum = sum(icecream.values())"
      ]
    },
    {
      "cell_type": "code",
      "execution_count": null,
      "metadata": {
        "colab": {
          "base_uri": "https://localhost:8080/"
        },
        "id": "uFq5PsgHopZR",
        "outputId": "2f505cfa-609d-4216-bdbd-8b3a3fa3873e"
      },
      "outputs": [
        {
          "name": "stdout",
          "output_type": "stream",
          "text": [
            "6700\n"
          ]
        }
      ],
      "source": [
        "print(sum)"
      ]
    },
    {
      "cell_type": "code",
      "execution_count": null,
      "metadata": {
        "id": "6z4GSLNroq88"
      },
      "outputs": [],
      "source": [
        "icecream = {'탱크보이': 1200, '폴라포': 1200, '빵빠레': 1800, '월드콘': 1500, '메로나': 1000}"
      ]
    },
    {
      "cell_type": "code",
      "execution_count": null,
      "metadata": {
        "id": "t59iISGHowiv"
      },
      "outputs": [],
      "source": [
        "new_product = {'팥빙수':2700, '아맛나':1000}"
      ]
    },
    {
      "cell_type": "code",
      "execution_count": null,
      "metadata": {
        "colab": {
          "base_uri": "https://localhost:8080/",
          "height": 174
        },
        "id": "1-sa2QKPo2VQ",
        "outputId": "b1a2f58d-ab95-4466-cb6b-9644a9698909"
      },
      "outputs": [
        {
          "ename": "TypeError",
          "evalue": "ignored",
          "output_type": "error",
          "traceback": [
            "\u001b[0;31m---------------------------------------------------------------------------\u001b[0m",
            "\u001b[0;31mTypeError\u001b[0m                                 Traceback (most recent call last)",
            "\u001b[0;32m<ipython-input-109-a4ac80384e6d>\u001b[0m in \u001b[0;36m<module>\u001b[0;34m()\u001b[0m\n\u001b[0;32m----> 1\u001b[0;31m \u001b[0micecram\u001b[0m \u001b[0;34m=\u001b[0m \u001b[0micecream\u001b[0m \u001b[0;34m+\u001b[0m \u001b[0mnew_product\u001b[0m\u001b[0;34m\u001b[0m\u001b[0;34m\u001b[0m\u001b[0m\n\u001b[0m",
            "\u001b[0;31mTypeError\u001b[0m: unsupported operand type(s) for +: 'dict' and 'dict'"
          ]
        }
      ],
      "source": [
        "icecram = icecream + new_product"
      ]
    },
    {
      "cell_type": "code",
      "execution_count": null,
      "metadata": {
        "id": "njXuqeSwpBw7"
      },
      "outputs": [],
      "source": [
        "icecream[\"팥빙수\"] = 2700"
      ]
    },
    {
      "cell_type": "code",
      "execution_count": null,
      "metadata": {
        "colab": {
          "base_uri": "https://localhost:8080/"
        },
        "id": "3Mqjc3nUpQVj",
        "outputId": "64232580-d8ff-468c-cc8c-954b0279ffb0"
      },
      "outputs": [
        {
          "name": "stdout",
          "output_type": "stream",
          "text": [
            "{'탱크보이': 1200, '폴라포': 1200, '빵빠레': 1800, '월드콘': 1500, '메로나': 1000, '팥빙수': 2700, '아맛나': 1000}\n"
          ]
        }
      ],
      "source": [
        "icecream[\"아맛나\"] = 1000\n",
        "print(icecream)"
      ]
    },
    {
      "cell_type": "code",
      "execution_count": null,
      "metadata": {
        "colab": {
          "base_uri": "https://localhost:8080/"
        },
        "id": "ZPneN-aWpWsG",
        "outputId": "e0abf0d2-441c-4e37-c96c-881e2c217f6a"
      },
      "outputs": [
        {
          "name": "stdout",
          "output_type": "stream",
          "text": [
            "10\n"
          ]
        }
      ],
      "source": [
        "num = 10\n",
        "print(num)"
      ]
    },
    {
      "cell_type": "code",
      "execution_count": null,
      "metadata": {
        "colab": {
          "base_uri": "https://localhost:8080/"
        },
        "id": "Usw4ZB2BEo2e",
        "outputId": "cffbfc0a-0357-466a-e3e3-98f4392f445f"
      },
      "outputs": [
        {
          "name": "stdout",
          "output_type": "stream",
          "text": [
            "25\n"
          ]
        }
      ],
      "source": [
        "num = num + 5\n",
        "print(num)"
      ]
    },
    {
      "cell_type": "code",
      "execution_count": null,
      "metadata": {
        "colab": {
          "base_uri": "https://localhost:8080/"
        },
        "id": "rIPVGrLeEr_k",
        "outputId": "1e934c89-af3f-4b0e-9382-250979716df7"
      },
      "outputs": [
        {
          "name": "stdout",
          "output_type": "stream",
          "text": [
            "30\n"
          ]
        }
      ],
      "source": [
        "num += 5\n",
        "print(num)"
      ]
    },
    {
      "cell_type": "code",
      "execution_count": null,
      "metadata": {
        "colab": {
          "base_uri": "https://localhost:8080/"
        },
        "id": "9f49rm1eFCOF",
        "outputId": "8ddcb04d-9884-43fa-eaa0-f47bc8678ac9"
      },
      "outputs": [
        {
          "name": "stdout",
          "output_type": "stream",
          "text": [
            "6.0\n"
          ]
        }
      ],
      "source": [
        "num/=5\n",
        "print(num)"
      ]
    },
    {
      "cell_type": "code",
      "execution_count": null,
      "metadata": {
        "colab": {
          "base_uri": "https://localhost:8080/"
        },
        "id": "_zcsnffXFS_U",
        "outputId": "d24bc1c1-3ca1-4d27-bb72-280b5381d6c2"
      },
      "outputs": [
        {
          "data": {
            "text/plain": [
              "True"
            ]
          },
          "execution_count": 7,
          "metadata": {},
          "output_type": "execute_result"
        }
      ],
      "source": [
        "1 < 3 and 1 < 3"
      ]
    },
    {
      "cell_type": "code",
      "execution_count": null,
      "metadata": {
        "colab": {
          "base_uri": "https://localhost:8080/"
        },
        "id": "pdy4pgVf0yYl",
        "outputId": "8cfc4e35-66e2-4366-a7ec-8339e1221afb"
      },
      "outputs": [
        {
          "data": {
            "text/plain": [
              "False"
            ]
          },
          "execution_count": 8,
          "metadata": {},
          "output_type": "execute_result"
        }
      ],
      "source": [
        "1<3 and 1>3"
      ]
    },
    {
      "cell_type": "code",
      "execution_count": null,
      "metadata": {
        "colab": {
          "base_uri": "https://localhost:8080/"
        },
        "id": "P6zjds5904CF",
        "outputId": "0e566469-c636-4e88-dee3-c71673bf2a74"
      },
      "outputs": [
        {
          "data": {
            "text/plain": [
              "True"
            ]
          },
          "execution_count": 9,
          "metadata": {},
          "output_type": "execute_result"
        }
      ],
      "source": [
        "1<3 or 1<3"
      ]
    },
    {
      "cell_type": "code",
      "execution_count": null,
      "metadata": {
        "colab": {
          "base_uri": "https://localhost:8080/"
        },
        "id": "keZNJkUI1em8",
        "outputId": "60db9f18-c6b5-49f1-d0a4-fbfbadda1738"
      },
      "outputs": [
        {
          "data": {
            "text/plain": [
              "True"
            ]
          },
          "execution_count": 10,
          "metadata": {},
          "output_type": "execute_result"
        }
      ],
      "source": [
        "1<3 or 3<1"
      ]
    },
    {
      "cell_type": "code",
      "execution_count": null,
      "metadata": {
        "colab": {
          "base_uri": "https://localhost:8080/"
        },
        "id": "IWUeMnGe1gfL",
        "outputId": "cd9a231c-eb08-48ac-b8f0-353e3549a0ef"
      },
      "outputs": [
        {
          "data": {
            "text/plain": [
              "False"
            ]
          },
          "execution_count": 11,
          "metadata": {},
          "output_type": "execute_result"
        }
      ],
      "source": [
        "1>3 or 3<1"
      ]
    },
    {
      "cell_type": "code",
      "execution_count": null,
      "metadata": {
        "colab": {
          "base_uri": "https://localhost:8080/"
        },
        "id": "nX4I-K-51kAf",
        "outputId": "5dc1b88d-9df1-4f9d-80d8-c7fa2bc77a27"
      },
      "outputs": [
        {
          "name": "stdout",
          "output_type": "stream",
          "text": [
            "1 ~ 10 사이의 정수를 입력하시오9\n"
          ]
        },
        {
          "data": {
            "text/plain": [
              "False"
            ]
          },
          "execution_count": 14,
          "metadata": {},
          "output_type": "execute_result"
        }
      ],
      "source": [
        "A = int(input(\"1 ~ 10 사이의 정수를 입력하시오\"))\n",
        "3 <= A and A <= 8"
      ]
    },
    {
      "cell_type": "code",
      "execution_count": null,
      "metadata": {
        "colab": {
          "base_uri": "https://localhost:8080/"
        },
        "id": "wH9fPMqw4SGV",
        "outputId": "b1d5a4f1-6c3c-47f6-a8a5-ee2ad3e346e8"
      },
      "outputs": [
        {
          "name": "stdout",
          "output_type": "stream",
          "text": [
            "가진 돈 : 9500\n",
            "버스를 탑니다.\n"
          ]
        }
      ],
      "source": [
        "money = int(input(\"가진 돈 : \"))\n",
        "\n",
        "if money>=12000:\n",
        "  print(\"택시를 탑니다.\")\n",
        "elif 12000>money>=8000:\n",
        "  print(\"버스를 탑니다.\")\n",
        "else :\n",
        "  print(\"걸어갑니다.\")"
      ]
    },
    {
      "cell_type": "code",
      "execution_count": null,
      "metadata": {
        "colab": {
          "base_uri": "https://localhost:8080/"
        },
        "id": "7ozmRTBrIg02",
        "outputId": "9c47318d-fddb-4ac7-8104-7c8e7095f807"
      },
      "outputs": [
        {
          "name": "stdout",
          "output_type": "stream",
          "text": [
            "보증금을 입력하시오 : (단위:만원)10000\n",
            "강남구 매물을 검색합니다.\n"
          ]
        }
      ],
      "source": [
        "money = int(input(\"보증금을 입력하시오 : (단위:만원)\"))\n",
        "\n",
        "if money>=10000:\n",
        "  print(\"강남구 매물을 검색합니다.\")\n",
        "elif 10000>money and 5000<=money:\n",
        "  print(\"마포구 매물을 검색합니다.\")\n",
        "elif 5000>money and 2000<=money:\n",
        "  print(\"영등포구 매물을 검색합니다.\")\n",
        "else:\n",
        "  print(\"관악구 매물을 검색합니다.\")"
      ]
    },
    {
      "cell_type": "code",
      "execution_count": null,
      "metadata": {
        "colab": {
          "base_uri": "https://localhost:8080/"
        },
        "id": "tUyuKMzbK07n",
        "outputId": "3a90f2c1-7a1b-49bc-f0e7-e9b218cee5ce"
      },
      "outputs": [
        {
          "name": "stdout",
          "output_type": "stream",
          "text": [
            "잔액을 입력하세요 : 10000\n",
            "광역버스를 타세요.\n"
          ]
        }
      ],
      "source": [
        "money = int(input(\"잔액을 입력하세요 : \"))\n",
        "if money >= 5000:\n",
        "  print(\"광역버스를 타세요.\")\n",
        "elif money < 5000 and money >= 2000:\n",
        "  print(\"일반버스를 타세요\")\n",
        "else:\n",
        "  print(\"걸어가세요\")"
      ]
    },
    {
      "cell_type": "code",
      "execution_count": null,
      "metadata": {
        "colab": {
          "base_uri": "https://localhost:8080/"
        },
        "id": "J4RsoZk2MKuA",
        "outputId": "386e2953-cc19-4b88-f978-5c440b674abe"
      },
      "outputs": [
        {
          "name": "stdout",
          "output_type": "stream",
          "text": [
            "얼마를 인출하시겠습니까?5000\n",
            "5000원이 인출되었습니다.\n",
            "현재 잔액은 10000원 입니다.\n"
          ]
        }
      ],
      "source": [
        "잔액 = 10000\n",
        "인출금액 = int(input(\"얼마를 인출하시겠습니까?\"))\n",
        "if 인출금액 > 잔액 :\n",
        "  print(\"인출이 불가능합니다. {}원의 잔액이 부족합니다.\".format(인출금액-잔액))\n",
        "elif 인출금액 < 잔액 :\n",
        "  print(\"{}원이 인출되었습니다.\".format(잔액-인출금액))\n",
        "print(\"현재 잔액은 {}원 입니다.\".format(잔액))"
      ]
    },
    {
      "cell_type": "code",
      "execution_count": null,
      "metadata": {
        "colab": {
          "base_uri": "https://localhost:8080/"
        },
        "id": "GzvFBEfrNMXK",
        "outputId": "910acc90-84ae-4e2d-b3f9-1a7167ba51ec"
      },
      "outputs": [
        {
          "name": "stdout",
          "output_type": "stream",
          "text": [
            "얼마를 인출하시겠습니까?8000\n",
            "8000원이 인출되었습니다.\n",
            "현재 잔액은 2000원입니다.\n"
          ]
        }
      ],
      "source": [
        "money = int(input(\"얼마를 인출하시겠습니까?\"))\n",
        "account = 10000\n",
        "\n",
        "if money > account :\n",
        "  print(f\"인출이 불가능합니다{money-account}원이 부족합니다\")\n",
        "else :\n",
        "  account -= money\n",
        "  print(f\"{money}원이 인출되었습니다.\")\n",
        "\n",
        "print(f\"현재 잔액은 {account}원입니다.\")"
      ]
    },
    {
      "cell_type": "code",
      "execution_count": null,
      "metadata": {
        "colab": {
          "base_uri": "https://localhost:8080/"
        },
        "id": "-PaxnbWzPUHc",
        "outputId": "1469ff54-0bcd-479a-b3d9-4810fcbc1690"
      },
      "outputs": [
        {
          "name": "stdout",
          "output_type": "stream",
          "text": [
            "얼마를 인출하시겠습니까?15000\n",
            "인출할 수 없습니다. 잔액이5000원 부족합니다.\n",
            "잔액은 10000원입니다.\n"
          ]
        }
      ],
      "source": [
        "money = 10000\n",
        "account = int(input(\"얼마를 인출하시겠습니까?\"))\n",
        "if money<account:\n",
        "  print(f\"인출할 수 없습니다. 잔액이{account-money}원 부족합니다.\")\n",
        "else:\n",
        "  print(f\"{account}원 인출되었습니다.\")\n",
        "  money -= account\n",
        "  \n",
        "print(f\"잔액은 {money}원입니다.\")"
      ]
    },
    {
      "cell_type": "code",
      "execution_count": null,
      "metadata": {
        "colab": {
          "base_uri": "https://localhost:8080/"
        },
        "id": "l7iQFU9Y-V-I",
        "outputId": "6ea90090-93dc-40a9-995e-e34af607bf61"
      },
      "outputs": [
        {
          "name": "stdout",
          "output_type": "stream",
          "text": [
            "hello 3\n",
            "hello 2\n",
            "hello 1\n",
            "done\n"
          ]
        }
      ],
      "source": [
        "data = 3\n",
        "\n",
        "# data가 0이 아니면 반복해라\n",
        "while data !=0:\n",
        "  print(\"hello\", data)\n",
        "  data -= 1\n",
        "print(\"done\")"
      ]
    },
    {
      "cell_type": "markdown",
      "metadata": {
        "id": "q1mvbB1bBcej"
      },
      "source": [
        "학생이 3과목 시험을 쳤는데 80, 90, 100점을 맞았다. 총점과 평균을 구하라(while 활용)"
      ]
    },
    {
      "cell_type": "code",
      "execution_count": null,
      "metadata": {
        "id": "Xo9ZhKi1EBJN"
      },
      "outputs": [],
      "source": [
        "point_lst = [80, 90, 100]"
      ]
    },
    {
      "cell_type": "code",
      "execution_count": null,
      "metadata": {
        "colab": {
          "base_uri": "https://localhost:8080/"
        },
        "id": "1HKPBToJEHRA",
        "outputId": "7eeefb5c-9a97-47a6-cccd-418803947de5"
      },
      "outputs": [
        {
          "name": "stdout",
          "output_type": "stream",
          "text": [
            "합계 : 270\n",
            "평균 : 90.0\n"
          ]
        }
      ],
      "source": [
        "# 데이터가 손상되지 않도록 복사\n",
        "data = point_lst.copy()\n",
        "#총점과 평균 변수 만들기\n",
        "point_total, point_avg = 0, 0\n",
        "\n",
        "# data의 글자 길이가 0이 아니면 반복해라\n",
        "while len(data) != 0:\n",
        "  # point변수의 데이터를 꺼내고 삭제\n",
        "  point = data.pop()\n",
        "  # point_total = point_total + point\n",
        "  point_total += point\n",
        "\n",
        "# 합계를 출력\n",
        "print(f\"합계 : {point_total}\")\n",
        "# 평균을 출력\n",
        "print(f\"평균 : {point_total / len(point_lst)}\")"
      ]
    },
    {
      "cell_type": "code",
      "execution_count": null,
      "metadata": {
        "colab": {
          "base_uri": "https://localhost:8080/"
        },
        "id": "zeWLQzPlFo1l",
        "outputId": "5a2f9ee4-0d4d-4622-88b3-297fe0309c0e"
      },
      "outputs": [
        {
          "name": "stdout",
          "output_type": "stream",
          "text": [
            "songmongsuk\n",
            "==========\n",
            "mangnani\n",
            "==========\n",
            "jangponju\n",
            "==========\n",
            "beaknova\n",
            "==========\n",
            "kangchodang\n",
            "==========\n",
            "grave\n",
            "==========\n",
            "done\n"
          ]
        }
      ],
      "source": [
        "lst = [\"songmongsuk\", \"mangnani\", \"jangponju\", \"beaknova\", \"kangchodang\", \"grave\"]\n",
        "\n",
        "for item in lst:\n",
        "  print(item)\n",
        "  print(\"=\"*10)\n",
        "print(\"done\")"
      ]
    },
    {
      "cell_type": "code",
      "execution_count": null,
      "metadata": {
        "colab": {
          "base_uri": "https://localhost:8080/"
        },
        "id": "6wJ9k8v5RxkZ",
        "outputId": "7ef06c69-e10c-4cf0-b8a6-4d6fca744df9"
      },
      "outputs": [
        {
          "name": "stdout",
          "output_type": "stream",
          "text": [
            "인출할 금액을 입력하시오 : 1234\n",
            "1234원이 인출되었습니다.\n",
            "잔액 : 8766\n"
          ]
        }
      ],
      "source": [
        "money = 10000\n",
        "account = int(input(\"인출할 금액을 입력하시오 : \"))\n",
        "if money < account :\n",
        "  print(f\"인출할 수 없습니다. {account - money}원이 부족합니다.\")\n",
        "else:\n",
        "  money -= account\n",
        "  print(f\"{account}원이 인출되었습니다.\")\n",
        "\n",
        "print(f\"잔액 : {money}\")"
      ]
    },
    {
      "cell_type": "code",
      "execution_count": null,
      "metadata": {
        "id": "ORDtS7NprkXK"
      },
      "outputs": [],
      "source": [
        "point_lst = [80, 90, 100]"
      ]
    },
    {
      "cell_type": "code",
      "execution_count": null,
      "metadata": {
        "colab": {
          "base_uri": "https://localhost:8080/"
        },
        "id": "av1a94mls7rC",
        "outputId": "d91e188e-2231-49b1-b7ba-1a4022961f58"
      },
      "outputs": [
        {
          "name": "stdout",
          "output_type": "stream",
          "text": [
            "Input number : 1\n",
            "Input number : 2\n",
            "Input number : 3\n",
            "Input number : 4\n",
            "Input number : 5\n",
            "Input number : 6\n",
            "Input number : 7\n",
            "Input number : 8\n",
            "Input number : 9\n",
            "Input number : -1\n",
            "총 합 : 44\n"
          ]
        }
      ],
      "source": [
        "number = None\n",
        "total = 0\n",
        "while number != -1:\n",
        "  number = int(input(\"Input number : \"))\n",
        "  total += number\n",
        "print(f\"총 합 : {total}\")"
      ]
    },
    {
      "cell_type": "code",
      "execution_count": null,
      "metadata": {
        "colab": {
          "base_uri": "https://localhost:8080/"
        },
        "id": "lgfz0yQ5tqNm",
        "outputId": "10625c86-5d3e-4e0e-cb44-1c80ec11b648"
      },
      "outputs": [
        {
          "name": "stdout",
          "output_type": "stream",
          "text": [
            "song\n",
            "==========\n",
            "mang\n",
            "==========\n",
            "jang\n",
            "==========\n",
            "beak\n",
            "==========\n",
            "gang\n",
            "==========\n",
            "g\n",
            "==========\n",
            "done\n"
          ]
        }
      ],
      "source": [
        "lst = \"song\", \"mang\", \"jang\", \"beak\", \"gang\", \"g\"\n",
        "for item in lst:\n",
        "  print(item)\n",
        "  print(\"=\"*10)\n",
        "print(\"done\")"
      ]
    },
    {
      "cell_type": "code",
      "execution_count": null,
      "metadata": {
        "id": "JhoJgUrfxFuo"
      },
      "outputs": [],
      "source": [
        "student_name = [\"song\", \"mang\", \"jang\"]\n",
        "score_list = [90, 85, 70]"
      ]
    },
    {
      "cell_type": "code",
      "execution_count": null,
      "metadata": {
        "colab": {
          "base_uri": "https://localhost:8080/"
        },
        "id": "QoTwMxBS0smv",
        "outputId": "8db3887a-47e2-475c-ac73-460fe279110a"
      },
      "outputs": [
        {
          "name": "stdout",
          "output_type": "stream",
          "text": [
            "song의 점수는 90 점\n",
            "mang의 점수는 85 점\n",
            "jang의 점수는 70 점\n"
          ]
        }
      ],
      "source": [
        "for name, score in zip([\"song\", \"mang\", \"jang\"], [90, 85, 70]):\n",
        "  print(f\"{name}의 점수는 {score} 점\")"
      ]
    },
    {
      "cell_type": "code",
      "execution_count": null,
      "metadata": {
        "colab": {
          "base_uri": "https://localhost:8080/"
        },
        "id": "eKpHcALq1MSN",
        "outputId": "7c5ff9a7-fad1-4048-80a4-8351027c0199"
      },
      "outputs": [
        {
          "name": "stdout",
          "output_type": "stream",
          "text": [
            "예전이름parkramgee : 새 이름songmongsuk\n",
            "예전이름kimgirin : 새 이름mangnani\n",
            "예전이름bokdeagi : 새 이름jangponju\n"
          ]
        }
      ],
      "source": [
        "old_name = [\"parkramgee\", \"kimgirin\", \"bokdeagi\"]\n",
        "new_name = [\"songmongsuk\", \"mangnani\", \"jangponju\"]\n",
        "\n",
        "for old, new in zip([\"parkramgee\", \"kimgirin\", \"bokdeagi\"], [\"songmongsuk\", \"mangnani\", \"jangponju\"]):\n",
        "  print(f\"예전이름{old} : 새 이름{new}\")"
      ]
    },
    {
      "cell_type": "code",
      "execution_count": null,
      "metadata": {
        "colab": {
          "base_uri": "https://localhost:8080/"
        },
        "id": "-PAXOmXt4m2z",
        "outputId": "1a7d2d41-a86a-4344-c147-a80f8764d180"
      },
      "outputs": [
        {
          "name": "stdout",
          "output_type": "stream",
          "text": [
            "국어 : 100\n",
            "수학 : 80\n",
            "영어 : 85\n"
          ]
        }
      ],
      "source": [
        "subject = {\"국어\" : 100, \"수학\" : 80, \"영어\" : 85}\n",
        "for 성적, score in zip(subject.keys(), subject.values()):\n",
        "  print(f\"{성적} : {score}\")"
      ]
    },
    {
      "cell_type": "code",
      "execution_count": null,
      "metadata": {
        "colab": {
          "base_uri": "https://localhost:8080/"
        },
        "id": "wRzjKQpE6DIO",
        "outputId": "6b9085f2-48c8-4c3d-e3c7-d0fcd9a95199"
      },
      "outputs": [
        {
          "name": "stdout",
          "output_type": "stream",
          "text": [
            "국어는 100점\n",
            "수학는 80점\n",
            "영어는 85점\n"
          ]
        }
      ],
      "source": [
        "subject = {\"국어\" : 100, \"수학\" : 80, \"영어\" : 85}\n",
        "subjects=subject.keys()\n",
        "score=subject.values()\n",
        "for subject_, score in zip(subjects, score):\n",
        "  print(f\"{subject_}는 {score}점\")"
      ]
    },
    {
      "cell_type": "code",
      "execution_count": null,
      "metadata": {
        "colab": {
          "base_uri": "https://localhost:8080/"
        },
        "id": "vsR-xQ6L8p3b",
        "outputId": "2def84b9-35a2-40a2-d2c4-11c323adba34"
      },
      "outputs": [
        {
          "name": "stdout",
          "output_type": "stream",
          "text": [
            "{'국어': 100, '수학': 80, '영어': 85}은(는) 100점\n",
            "{'국어': 100, '수학': 80, '영어': 85}은(는) 80점\n",
            "{'국어': 100, '수학': 80, '영어': 85}은(는) 85점\n"
          ]
        }
      ],
      "source": [
        "for subject_, score in subject.items():\n",
        "  print(f\"{subject}은(는) {score}점\")"
      ]
    },
    {
      "cell_type": "code",
      "execution_count": null,
      "metadata": {
        "id": "vxrsKnZY9OSH"
      },
      "outputs": [],
      "source": [
        "scores = [{\"math\": 90, \"science\" : 80}, {\"math\": 100, \"science\" : 78}]"
      ]
    },
    {
      "cell_type": "code",
      "execution_count": null,
      "metadata": {
        "colab": {
          "base_uri": "https://localhost:8080/",
          "height": 193
        },
        "id": "ZO_FxaMe95yr",
        "outputId": "d35233bf-faeb-4b94-ffc6-1bff569aa901"
      },
      "outputs": [
        {
          "ename": "AttributeError",
          "evalue": "ignored",
          "output_type": "error",
          "traceback": [
            "\u001b[0;31m---------------------------------------------------------------------------\u001b[0m",
            "\u001b[0;31mAttributeError\u001b[0m                            Traceback (most recent call last)",
            "\u001b[0;32m<ipython-input-27-767f07b464e6>\u001b[0m in \u001b[0;36m<module>\u001b[0;34m()\u001b[0m\n\u001b[0;32m----> 1\u001b[0;31m \u001b[0mscores\u001b[0m\u001b[0;34m.\u001b[0m\u001b[0msplit\u001b[0m\u001b[0;34m(\u001b[0m\u001b[0;34m)\u001b[0m\u001b[0;34m\u001b[0m\u001b[0;34m\u001b[0m\u001b[0m\n\u001b[0m\u001b[1;32m      2\u001b[0m \u001b[0mscores\u001b[0m\u001b[0;34m\u001b[0m\u001b[0;34m\u001b[0m\u001b[0m\n",
            "\u001b[0;31mAttributeError\u001b[0m: 'list' object has no attribute 'split'"
          ]
        }
      ],
      "source": [
        "scores.split()\n",
        "scores"
      ]
    },
    {
      "cell_type": "code",
      "execution_count": null,
      "metadata": {
        "colab": {
          "base_uri": "https://localhost:8080/"
        },
        "id": "gA50iCmi-D0g",
        "outputId": "f3e1017b-42c7-49ba-b798-6f43a0b3f749"
      },
      "outputs": [
        {
          "data": {
            "text/plain": [
              "range(0, 5)"
            ]
          },
          "execution_count": 1,
          "metadata": {},
          "output_type": "execute_result"
        }
      ],
      "source": [
        "range(5) # 0~4까지 들어있는 정수"
      ]
    },
    {
      "cell_type": "code",
      "execution_count": null,
      "metadata": {
        "colab": {
          "base_uri": "https://localhost:8080/"
        },
        "id": "sLLVBADLVGnu",
        "outputId": "463b53d4-64ff-430b-9c2f-a4433ca25c87"
      },
      "outputs": [
        {
          "data": {
            "text/plain": [
              "[0, 1, 2, 3, 4]"
            ]
          },
          "execution_count": 2,
          "metadata": {},
          "output_type": "execute_result"
        }
      ],
      "source": [
        "list(range(5))"
      ]
    },
    {
      "cell_type": "code",
      "execution_count": null,
      "metadata": {
        "colab": {
          "base_uri": "https://localhost:8080/"
        },
        "id": "CVggi9qWVLC3",
        "outputId": "7f6ef8f6-41e7-49df-be78-907730928d9d"
      },
      "outputs": [
        {
          "data": {
            "text/plain": [
              "[1, 2, 3, 4, 5, 6, 7, 8, 9]"
            ]
          },
          "execution_count": 3,
          "metadata": {},
          "output_type": "execute_result"
        }
      ],
      "source": [
        "list(range(1, 10))"
      ]
    },
    {
      "cell_type": "code",
      "execution_count": null,
      "metadata": {
        "colab": {
          "base_uri": "https://localhost:8080/"
        },
        "id": "7izS6hFRVPOA",
        "outputId": "9d8be291-e650-4898-d635-fa0192c8d340"
      },
      "outputs": [
        {
          "data": {
            "text/plain": [
              "(1, 2, 3, 4, 5, 6, 7, 8, 9)"
            ]
          },
          "execution_count": 7,
          "metadata": {},
          "output_type": "execute_result"
        }
      ],
      "source": [
        "tuple(range(1,10))"
      ]
    },
    {
      "cell_type": "code",
      "execution_count": null,
      "metadata": {
        "colab": {
          "base_uri": "https://localhost:8080/"
        },
        "id": "hemzFunPVV3l",
        "outputId": "4b2b9baa-327e-49ef-efd2-426ddba62384"
      },
      "outputs": [
        {
          "data": {
            "text/plain": [
              "[1, 3, 5, 7, 9]"
            ]
          },
          "execution_count": 9,
          "metadata": {},
          "output_type": "execute_result"
        }
      ],
      "source": [
        "list(range(1, 10, 2)) # 1부터 10까지 2씩 건너뛰면서 출력"
      ]
    },
    {
      "cell_type": "code",
      "execution_count": null,
      "metadata": {
        "colab": {
          "base_uri": "https://localhost:8080/"
        },
        "id": "fjCDooIzVghi",
        "outputId": "58d591ec-a567-45fa-e0e4-669a7bc62316"
      },
      "outputs": [
        {
          "name": "stdout",
          "output_type": "stream",
          "text": [
            "hello 0\n",
            "hello 1\n",
            "hello 2\n",
            "hello 3\n",
            "hello 4\n",
            "hello 5\n",
            "hello 6\n",
            "hello 7\n",
            "hello 8\n",
            "hello 9\n"
          ]
        }
      ],
      "source": [
        "for num in range(10):\n",
        "  print(\"hello\", num)"
      ]
    },
    {
      "cell_type": "code",
      "execution_count": null,
      "metadata": {
        "colab": {
          "base_uri": "https://localhost:8080/"
        },
        "id": "peOcWWQMVxGE",
        "outputId": "07c86393-5b45-4b10-ff41-e94a8ca8ec18"
      },
      "outputs": [
        {
          "name": "stdout",
          "output_type": "stream",
          "text": [
            "몇 명의 점수를 입력받으시겠습니까?5\n",
            "Math Score : 90\n",
            "Sciens Score : 100\n",
            "Math Score : 58\n",
            "Sciens Score : 70\n",
            "Math Score : 82\n",
            "Sciens Score : 76\n",
            "Math Score : 95\n",
            "Sciens Score : 80\n",
            "Math Score : 62\n",
            "Sciens Score : 70\n",
            "Math Average 77.4\n",
            "Scinece Average 79.2\n"
          ]
        }
      ],
      "source": [
        "count = int(input(\"몇 명의 점수를 입력받으시겠습니까?\")) #count라는 변수에 정수형태로 사용자에게 input받음\n",
        "scores = [] # 리스트 형태의 scores 변수 생성\n",
        "\n",
        "for i in range(count): #i를 count 정수 리스트만큼 반복\n",
        "  math_score = int(input(\"Math Score : \")) #math_score 변수에 math score을 정수형태로input받음\n",
        "  science_score = int(input(\"Sciens Score : \")) #science_score 변수에 sciens score을 정수 형태로 input 받음\n",
        "\n",
        "  score = {\"math\" : math_score, \"science\" : science_score} #dict 형태로 키에는 과목 밸류에는 과목 점수를 설정함\n",
        "  scores.append(score) #scores 리스트 끝에 점수를 추가함\n",
        "\n",
        "math_sum, science_sum = 0, 0 #수학 합계와 과학 합계 변수와 값을 생성\n",
        "\n",
        "for score in scores: # score을 scores만큼 반복\n",
        "  math_sum += score[\"math\"] \n",
        "  science_sum += score[\"science\"]\n",
        "\n",
        "print(\"Math Average {}\".format(math_sum / len(scores))) \n",
        "print(\"Scinece Average {}\".format(science_sum / len(scores)))"
      ]
    },
    {
      "cell_type": "code",
      "execution_count": null,
      "metadata": {
        "colab": {
          "base_uri": "https://localhost:8080/"
        },
        "id": "ycxgvzi2ZDuq",
        "outputId": "2f1bf428-c314-4718-f299-fdb0f3fb4455"
      },
      "outputs": [
        {
          "name": "stdout",
          "output_type": "stream",
          "text": [
            "hello 0\n",
            "hello 1\n",
            "hello 3\n",
            "hello 4\n"
          ]
        }
      ],
      "source": [
        "for item in range(5):\n",
        "  if item == 2:\n",
        "    continue\n",
        "  print(\"hello\", item)\n"
      ]
    },
    {
      "cell_type": "code",
      "execution_count": null,
      "metadata": {
        "colab": {
          "base_uri": "https://localhost:8080/"
        },
        "id": "QNPpugXg5-Hr",
        "outputId": "c986dfc3-9349-4143-b014-3ec5cb95de83"
      },
      "outputs": [
        {
          "name": "stdout",
          "output_type": "stream",
          "text": [
            "10 A\n",
            "10 B\n",
            "10 C\n",
            "20 A\n",
            "20 B\n",
            "20 C\n",
            "30 A\n",
            "30 B\n",
            "30 C\n"
          ]
        }
      ],
      "source": [
        "lst1 = [10, 20, 30]\n",
        "lst2 = [\"A\", \"B\", \"C\"]\n",
        "\n",
        "for item1 in lst1:\n",
        "  for item2 in lst2:\n",
        "    print(item1, item2)"
      ]
    },
    {
      "cell_type": "code",
      "execution_count": null,
      "metadata": {
        "colab": {
          "base_uri": "https://localhost:8080/"
        },
        "id": "eYdQihU67SQP",
        "outputId": "75906fe8-ffb0-4fe2-f1d8-7c1a7f3b2b0d"
      },
      "outputs": [
        {
          "name": "stdout",
          "output_type": "stream",
          "text": [
            "홀\t짝\t홀\t짝\t홀\t짝\t홀\t짝\t홀\t짝\t홀\t짝\t홀\t짝\t홀\t짝\t홀\t짝\t홀\t짝\t홀\t짝\t홀\t짝\t홀\t짝\t홀\t짝\t홀\t짝\t홀\t짝\t홀\t짝\t홀\t짝\t홀\t짝\t홀\t짝\t홀\t짝\t홀\t짝\t홀\t짝\t홀\t짝\t홀\t짝\t홀\t짝\t홀\t짝\t홀\t짝\t홀\t짝\t홀\t짝\t홀\t짝\t홀\t짝\t홀\t짝\t홀\t짝\t홀\t짝\t홀\t짝\t홀\t짝\t홀\t짝\t홀\t짝\t홀\t짝\t홀\t짝\t홀\t짝\t홀\t짝\t홀\t짝\t홀\t짝\t홀\t짝\t홀\t짝\t홀\t짝\t홀\t짝\t홀\t"
          ]
        }
      ],
      "source": [
        "numbers = range(1, 100)\n",
        "for num in numbers:\n",
        "  if num % 2 == 0:\n",
        "    print(\"짝\", end=\"\\t\") #end 옵션 :  문자열 제일 마지막에 올 글자\n",
        "  else:\n",
        "    print(\"홀\", end=\"\\t\")"
      ]
    },
    {
      "cell_type": "code",
      "execution_count": null,
      "metadata": {
        "colab": {
          "base_uri": "https://localhost:8080/"
        },
        "id": "KA5NKTZL8S5u",
        "outputId": "c0984471-8f12-44db-fdb7-d771077c79a3"
      },
      "outputs": [
        {
          "name": "stdout",
          "output_type": "stream",
          "text": [
            "===2단===\n",
            "2 X 1 = 2\n",
            "2 X 2 = 4\n",
            "2 X 3 = 6\n",
            "2 X 4 = 8\n",
            "2 X 5 = 10\n",
            "2 X 6 = 12\n",
            "2 X 7 = 14\n",
            "2 X 8 = 16\n",
            "2 X 9 = 18\n",
            "===3단===\n",
            "3 X 1 = 3\n",
            "3 X 2 = 6\n",
            "3 X 3 = 9\n",
            "3 X 4 = 12\n",
            "3 X 5 = 15\n",
            "3 X 6 = 18\n",
            "3 X 7 = 21\n",
            "3 X 8 = 24\n",
            "3 X 9 = 27\n",
            "===4단===\n",
            "4 X 1 = 4\n",
            "4 X 2 = 8\n",
            "4 X 3 = 12\n",
            "4 X 4 = 16\n",
            "4 X 5 = 20\n",
            "4 X 6 = 24\n",
            "4 X 7 = 28\n",
            "4 X 8 = 32\n",
            "4 X 9 = 36\n",
            "===5단===\n",
            "5 X 1 = 5\n",
            "5 X 2 = 10\n",
            "5 X 3 = 15\n",
            "5 X 4 = 20\n",
            "5 X 5 = 25\n",
            "5 X 6 = 30\n",
            "5 X 7 = 35\n",
            "5 X 8 = 40\n",
            "5 X 9 = 45\n",
            "===6단===\n",
            "6 X 1 = 6\n",
            "6 X 2 = 12\n",
            "6 X 3 = 18\n",
            "6 X 4 = 24\n",
            "6 X 5 = 30\n",
            "6 X 6 = 36\n",
            "6 X 7 = 42\n",
            "6 X 8 = 48\n",
            "6 X 9 = 54\n",
            "===7단===\n",
            "7 X 1 = 7\n",
            "7 X 2 = 14\n",
            "7 X 3 = 21\n",
            "7 X 4 = 28\n",
            "7 X 5 = 35\n",
            "7 X 6 = 42\n",
            "7 X 7 = 49\n",
            "7 X 8 = 56\n",
            "7 X 9 = 63\n",
            "===8단===\n",
            "8 X 1 = 8\n",
            "8 X 2 = 16\n",
            "8 X 3 = 24\n",
            "8 X 4 = 32\n",
            "8 X 5 = 40\n",
            "8 X 6 = 48\n",
            "8 X 7 = 56\n",
            "8 X 8 = 64\n",
            "8 X 9 = 72\n",
            "===9단===\n",
            "9 X 1 = 9\n",
            "9 X 2 = 18\n",
            "9 X 3 = 27\n",
            "9 X 4 = 36\n",
            "9 X 5 = 45\n",
            "9 X 6 = 54\n",
            "9 X 7 = 63\n",
            "9 X 8 = 72\n",
            "9 X 9 = 81\n"
          ]
        }
      ],
      "source": [
        "for dan in range(2, 10):\n",
        "  print(f\"==={dan}단===\")\n",
        "  for times in range(1, 10):\n",
        "    print(f\"{dan} X {times} = {dan * times}\")"
      ]
    },
    {
      "cell_type": "code",
      "execution_count": null,
      "metadata": {
        "colab": {
          "base_uri": "https://localhost:8080/"
        },
        "id": "o93aMh749Pqt",
        "outputId": "2d75cbbf-8506-4c6e-fab9-96935f81754d"
      },
      "outputs": [
        {
          "name": "stdout",
          "output_type": "stream",
          "text": [
            "===2단===\n",
            "2 x 1 = 2\n",
            "2 x 2 = 4\n",
            "2 x 3 = 6\n",
            "2 x 4 = 8\n",
            "2 x 5 = 10\n",
            "2 x 6 = 12\n",
            "2 x 7 = 14\n",
            "2 x 8 = 16\n",
            "2 x 9 = 18\n",
            "===3단===\n",
            "3 x 1 = 3\n",
            "3 x 2 = 6\n",
            "3 x 3 = 9\n",
            "3 x 4 = 12\n",
            "3 x 5 = 15\n",
            "3 x 6 = 18\n",
            "3 x 7 = 21\n",
            "3 x 8 = 24\n",
            "3 x 9 = 27\n",
            "===4단===\n",
            "4 x 1 = 4\n",
            "4 x 2 = 8\n",
            "4 x 3 = 12\n",
            "4 x 4 = 16\n",
            "4 x 5 = 20\n",
            "4 x 6 = 24\n",
            "4 x 7 = 28\n",
            "4 x 8 = 32\n",
            "4 x 9 = 36\n",
            "===5단===\n",
            "5 x 1 = 5\n",
            "5 x 2 = 10\n",
            "5 x 3 = 15\n",
            "5 x 4 = 20\n",
            "5 x 5 = 25\n",
            "5 x 6 = 30\n",
            "5 x 7 = 35\n",
            "5 x 8 = 40\n",
            "5 x 9 = 45\n",
            "===6단===\n",
            "6 x 1 = 6\n",
            "6 x 2 = 12\n",
            "6 x 3 = 18\n",
            "6 x 4 = 24\n",
            "6 x 5 = 30\n",
            "6 x 6 = 36\n",
            "6 x 7 = 42\n",
            "6 x 8 = 48\n",
            "6 x 9 = 54\n",
            "===7단===\n",
            "7 x 1 = 7\n",
            "7 x 2 = 14\n",
            "7 x 3 = 21\n",
            "7 x 4 = 28\n",
            "7 x 5 = 35\n",
            "7 x 6 = 42\n",
            "7 x 7 = 49\n",
            "7 x 8 = 56\n",
            "7 x 9 = 63\n",
            "===8단===\n",
            "8 x 1 = 8\n",
            "8 x 2 = 16\n",
            "8 x 3 = 24\n",
            "8 x 4 = 32\n",
            "8 x 5 = 40\n",
            "8 x 6 = 48\n",
            "8 x 7 = 56\n",
            "8 x 8 = 64\n",
            "8 x 9 = 72\n",
            "===9단===\n",
            "9 x 1 = 9\n",
            "9 x 2 = 18\n",
            "9 x 3 = 27\n",
            "9 x 4 = 36\n",
            "9 x 5 = 45\n",
            "9 x 6 = 54\n",
            "9 x 7 = 63\n",
            "9 x 8 = 72\n",
            "9 x 9 = 81\n"
          ]
        }
      ],
      "source": [
        "for dan in range(2, 10):\n",
        "  print(f\"==={dan}단===\")\n",
        "  for times in range(1, 10):\n",
        "    print(f\"{dan} x {times} = {dan * times}\")"
      ]
    },
    {
      "cell_type": "code",
      "execution_count": null,
      "metadata": {
        "colab": {
          "base_uri": "https://localhost:8080/"
        },
        "id": "kNyop4WB934w",
        "outputId": "085fd9e2-4726-40dd-d4a5-bf0ae8d6ad9d"
      },
      "outputs": [
        {
          "name": "stdout",
          "output_type": "stream",
          "text": [
            "==2단==\n",
            "2 곱하기 1 는 2\n",
            "2 곱하기 2 는 4\n",
            "2 곱하기 3 는 6\n",
            "2 곱하기 4 는 8\n",
            "2 곱하기 5 는 10\n",
            "2 곱하기 6 는 12\n",
            "2 곱하기 7 는 14\n",
            "2 곱하기 8 는 16\n",
            "2 곱하기 9 는 18\n",
            "==3단==\n",
            "3 x 1 = 3\n",
            "3 x 2 = 6\n",
            "3 x 3 = 9\n",
            "3 x 4 = 12\n",
            "3 x 5 = 15\n",
            "3 x 6 = 18\n",
            "3 x 7 = 21\n",
            "3 x 8 = 24\n",
            "3 x 9 = 27\n",
            "==4단==\n",
            "4 곱하기 1 는 4\n",
            "4 곱하기 2 는 8\n",
            "4 곱하기 3 는 12\n",
            "4 곱하기 4 는 16\n",
            "4 곱하기 5 는 20\n",
            "4 곱하기 6 는 24\n",
            "4 곱하기 7 는 28\n",
            "4 곱하기 8 는 32\n",
            "4 곱하기 9 는 36\n",
            "==5단==\n",
            "5 x 1 = 5\n",
            "5 x 2 = 10\n",
            "5 x 3 = 15\n",
            "5 x 4 = 20\n",
            "5 x 5 = 25\n",
            "5 x 6 = 30\n",
            "5 x 7 = 35\n",
            "5 x 8 = 40\n",
            "5 x 9 = 45\n",
            "==6단==\n",
            "6 곱하기 1 는 6\n",
            "6 곱하기 2 는 12\n",
            "6 곱하기 3 는 18\n",
            "6 곱하기 4 는 24\n",
            "6 곱하기 5 는 30\n",
            "6 곱하기 6 는 36\n",
            "6 곱하기 7 는 42\n",
            "6 곱하기 8 는 48\n",
            "6 곱하기 9 는 54\n",
            "==7단==\n",
            "7 x 1 = 7\n",
            "7 x 2 = 14\n",
            "7 x 3 = 21\n",
            "7 x 4 = 28\n",
            "7 x 5 = 35\n",
            "7 x 6 = 42\n",
            "7 x 7 = 49\n",
            "7 x 8 = 56\n",
            "7 x 9 = 63\n",
            "==8단==\n",
            "8 곱하기 1 는 8\n",
            "8 곱하기 2 는 16\n",
            "8 곱하기 3 는 24\n",
            "8 곱하기 4 는 32\n",
            "8 곱하기 5 는 40\n",
            "8 곱하기 6 는 48\n",
            "8 곱하기 7 는 56\n",
            "8 곱하기 8 는 64\n",
            "8 곱하기 9 는 72\n",
            "==9단==\n",
            "9 x 1 = 9\n",
            "9 x 2 = 18\n",
            "9 x 3 = 27\n",
            "9 x 4 = 36\n",
            "9 x 5 = 45\n",
            "9 x 6 = 54\n",
            "9 x 7 = 63\n",
            "9 x 8 = 72\n",
            "9 x 9 = 81\n"
          ]
        }
      ],
      "source": [
        "for dan in range(2, 10):\n",
        "  print(f\"=={dan}단==\")\n",
        "  for times in range(1, 10):\n",
        "    if dan %2 == 0:\n",
        "      print(f\"{dan} 곱하기 {times} 는 {dan * times}\")\n",
        "    else:\n",
        "      print(f\"{dan} x {times} = {dan * times}\")"
      ]
    },
    {
      "cell_type": "code",
      "execution_count": null,
      "metadata": {
        "id": "WnENh07d_M6E"
      },
      "outputs": [],
      "source": [
        "dan = range(2, 10)\n",
        "time = range(1, 10)"
      ]
    },
    {
      "cell_type": "code",
      "execution_count": null,
      "metadata": {
        "colab": {
          "base_uri": "https://localhost:8080/"
        },
        "id": "RDOKdmu6B34F",
        "outputId": "d4394dc5-9386-479a-f37f-2fb73fd2f23b"
      },
      "outputs": [
        {
          "name": "stdout",
          "output_type": "stream",
          "text": [
            "===2단===\n",
            "2*1=2\t2*2=4\t2*3=6\t2*4=8\t2*5=10\t2*6=12\t2*7=14\t2*8=16\t2*9=18\t===3단===\n",
            "3*1=3\t3*2=6\t3*3=9\t3*4=12\t3*5=15\t3*6=18\t3*7=21\t3*8=24\t3*9=27\t===4단===\n",
            "4*1=4\t4*2=8\t4*3=12\t4*4=16\t4*5=20\t4*6=24\t4*7=28\t4*8=32\t4*9=36\t===5단===\n",
            "5*1=5\t5*2=10\t5*3=15\t5*4=20\t5*5=25\t5*6=30\t5*7=35\t5*8=40\t5*9=45\t===6단===\n",
            "6*1=6\t6*2=12\t6*3=18\t6*4=24\t6*5=30\t6*6=36\t6*7=42\t6*8=48\t6*9=54\t===7단===\n",
            "7*1=7\t7*2=14\t7*3=21\t7*4=28\t7*5=35\t7*6=42\t7*7=49\t7*8=56\t7*9=63\t===8단===\n",
            "8*1=8\t8*2=16\t8*3=24\t8*4=32\t8*5=40\t8*6=48\t8*7=56\t8*8=64\t8*9=72\t===9단===\n",
            "9*1=9\t9*2=18\t9*3=27\t9*4=36\t9*5=45\t9*6=54\t9*7=63\t9*8=72\t9*9=81\t"
          ]
        }
      ],
      "source": [
        "for dans in dan:\n",
        "  print(f\"==={dans}단===\")\n",
        "  for times in time:\n",
        "    print(f\"{dans}*{times}={dans*times}\", end = \"\\t\")"
      ]
    },
    {
      "cell_type": "code",
      "execution_count": null,
      "metadata": {
        "colab": {
          "base_uri": "https://localhost:8080/"
        },
        "id": "HPvE6qhgCZGc",
        "outputId": "6d17dff9-68a4-4e64-ceca-1f944552e353"
      },
      "outputs": [
        {
          "name": "stdout",
          "output_type": "stream",
          "text": [
            "2 X 1 = 2\t3 X 1 = 3\t4 X 1 = 4\t5 X 1 = 5\t6 X 1 = 6\t7 X 1 = 7\t8 X 1 = 8\t9 X 1 = 9\t\n",
            "2 X 2 = 4\t3 X 2 = 6\t4 X 2 = 8\t5 X 2 = 10\t6 X 2 = 12\t7 X 2 = 14\t8 X 2 = 16\t9 X 2 = 18\t\n",
            "2 X 3 = 6\t3 X 3 = 9\t4 X 3 = 12\t5 X 3 = 15\t6 X 3 = 18\t7 X 3 = 21\t8 X 3 = 24\t9 X 3 = 27\t\n",
            "2 X 4 = 8\t3 X 4 = 12\t4 X 4 = 16\t5 X 4 = 20\t6 X 4 = 24\t7 X 4 = 28\t8 X 4 = 32\t9 X 4 = 36\t\n",
            "2 X 5 = 10\t3 X 5 = 15\t4 X 5 = 20\t5 X 5 = 25\t6 X 5 = 30\t7 X 5 = 35\t8 X 5 = 40\t9 X 5 = 45\t\n",
            "2 X 6 = 12\t3 X 6 = 18\t4 X 6 = 24\t5 X 6 = 30\t6 X 6 = 36\t7 X 6 = 42\t8 X 6 = 48\t9 X 6 = 54\t\n",
            "2 X 7 = 14\t3 X 7 = 21\t4 X 7 = 28\t5 X 7 = 35\t6 X 7 = 42\t7 X 7 = 49\t8 X 7 = 56\t9 X 7 = 63\t\n",
            "2 X 8 = 16\t3 X 8 = 24\t4 X 8 = 32\t5 X 8 = 40\t6 X 8 = 48\t7 X 8 = 56\t8 X 8 = 64\t9 X 8 = 72\t\n",
            "2 X 9 = 18\t3 X 9 = 27\t4 X 9 = 36\t5 X 9 = 45\t6 X 9 = 54\t7 X 9 = 63\t8 X 9 = 72\t9 X 9 = 81\t\n"
          ]
        }
      ],
      "source": [
        "for times in time:\n",
        "  for dans in dan:\n",
        "    print(f\"{dans} X {times} = {dans * times}\", end = \"\\t\")\n",
        "  print( )"
      ]
    },
    {
      "cell_type": "code",
      "execution_count": null,
      "metadata": {
        "colab": {
          "base_uri": "https://localhost:8080/",
          "height": 248
        },
        "id": "1MkJmuk8DhJK",
        "outputId": "25404c9c-9480-4521-fe1d-9e4fd0be5615"
      },
      "outputs": [
        {
          "ename": "TypeError",
          "evalue": "ignored",
          "output_type": "error",
          "traceback": [
            "\u001b[0;31m---------------------------------------------------------------------------\u001b[0m",
            "\u001b[0;31mTypeError\u001b[0m                                 Traceback (most recent call last)",
            "\u001b[0;32m<ipython-input-43-6036e6822a62>\u001b[0m in \u001b[0;36m<module>\u001b[0;34m()\u001b[0m\n\u001b[1;32m      1\u001b[0m \u001b[0mh_num\u001b[0m \u001b[0;34m=\u001b[0m \u001b[0;36m3\u001b[0m \u001b[0;31m# 가로로 표시할 숫자의 개수\u001b[0m\u001b[0;34m\u001b[0m\u001b[0;34m\u001b[0m\u001b[0m\n\u001b[1;32m      2\u001b[0m \u001b[0;34m\u001b[0m\u001b[0m\n\u001b[0;32m----> 3\u001b[0;31m \u001b[0;32mfor\u001b[0m \u001b[0midx\u001b[0m \u001b[0;32min\u001b[0m \u001b[0mrange\u001b[0m\u001b[0;34m(\u001b[0m\u001b[0;36m0\u001b[0m\u001b[0;34m,\u001b[0m \u001b[0mlen\u001b[0m\u001b[0;34m(\u001b[0m\u001b[0mdan\u001b[0m\u001b[0;34m)\u001b[0m\u001b[0;34m,\u001b[0m \u001b[0mh_num\u001b[0m\u001b[0;34m)\u001b[0m\u001b[0;34m:\u001b[0m\u001b[0;34m\u001b[0m\u001b[0;34m\u001b[0m\u001b[0m\n\u001b[0m\u001b[1;32m      4\u001b[0m   \u001b[0mnow_dan\u001b[0m \u001b[0;34m=\u001b[0m \u001b[0mdan\u001b[0m\u001b[0;34m[\u001b[0m\u001b[0midx\u001b[0m \u001b[0;34m:\u001b[0m \u001b[0midx\u001b[0m \u001b[0;34m+\u001b[0m \u001b[0mh_num\u001b[0m\u001b[0;34m]\u001b[0m\u001b[0;34m\u001b[0m\u001b[0;34m\u001b[0m\u001b[0m\n\u001b[1;32m      5\u001b[0m   \u001b[0;32mfor\u001b[0m \u001b[0mdans\u001b[0m \u001b[0;32min\u001b[0m \u001b[0mnow_dan\u001b[0m\u001b[0;34m:\u001b[0m\u001b[0;34m\u001b[0m\u001b[0;34m\u001b[0m\u001b[0m\n",
            "\u001b[0;31mTypeError\u001b[0m: object of type 'int' has no len()"
          ]
        }
      ],
      "source": [
        "h_num = 3 # 가로로 표시할 숫자의 개수\n",
        "\n",
        "for idx in range(0, len(dan), h_num):\n",
        "  now_dan = dan[idx : idx + h_num]\n",
        "  for dans in now_dan:\n",
        "    print(f\"{dans}단\", end=\"\\t\\t\")\n",
        "  print()\n",
        "\n",
        "  for times in time:\n",
        "    for dans in now_dan:\n",
        "      print(f\"{dans}  * {times} = {dans * times}\", end = \"\\t\")\n",
        "    print()\n",
        "  print()"
      ]
    },
    {
      "cell_type": "code",
      "execution_count": null,
      "metadata": {
        "id": "cuuLF0EnHJBy"
      },
      "outputs": [],
      "source": [
        "a = 1\n",
        "b = 2\n",
        "\n",
        "result = \"hello\" if a>b else \"bye\""
      ]
    },
    {
      "cell_type": "code",
      "execution_count": null,
      "metadata": {
        "colab": {
          "base_uri": "https://localhost:8080/",
          "height": 35
        },
        "id": "QIP_Mrd4LZ1Q",
        "outputId": "f9ca55b1-2d07-4432-fa3b-b7fd26f6e494"
      },
      "outputs": [
        {
          "data": {
            "application/vnd.google.colaboratory.intrinsic+json": {
              "type": "string"
            },
            "text/plain": [
              "'bye'"
            ]
          },
          "execution_count": 45,
          "metadata": {},
          "output_type": "execute_result"
        }
      ],
      "source": [
        "result"
      ]
    },
    {
      "cell_type": "code",
      "execution_count": null,
      "metadata": {
        "id": "6ycnoituLbB1"
      },
      "outputs": [],
      "source": [
        "dan = range(2, 10)\n",
        "time = range(1, 10)"
      ]
    },
    {
      "cell_type": "code",
      "execution_count": null,
      "metadata": {
        "colab": {
          "base_uri": "https://localhost:8080/"
        },
        "id": "2FGTmsBkHX2m",
        "outputId": "cb1e31ca-facf-4681-f4dc-d85803ffe1b3"
      },
      "outputs": [
        {
          "name": "stdout",
          "output_type": "stream",
          "text": [
            "==2단==\n",
            "2x1=2\n",
            "2x2=4\n",
            "2x3=6\n",
            "2x4=8\n",
            "2x5=10\n",
            "2x6=12\n",
            "2x7=14\n",
            "2x8=16\n",
            "2x9=18\n",
            "==3단==\n",
            "3x1=3\n",
            "3x2=6\n",
            "3x3=9\n",
            "3x4=12\n",
            "3x5=15\n",
            "3x6=18\n",
            "3x7=21\n",
            "3x8=24\n",
            "3x9=27\n",
            "==4단==\n",
            "4x1=4\n",
            "4x2=8\n",
            "4x3=12\n",
            "4x4=16\n",
            "4x5=20\n",
            "4x6=24\n",
            "4x7=28\n",
            "4x8=32\n",
            "4x9=36\n",
            "==5단==\n",
            "5x1=5\n",
            "5x2=10\n",
            "5x3=15\n",
            "5x4=20\n",
            "5x5=25\n",
            "5x6=30\n",
            "5x7=35\n",
            "5x8=40\n",
            "5x9=45\n",
            "==6단==\n",
            "6x1=6\n",
            "6x2=12\n",
            "6x3=18\n",
            "6x4=24\n",
            "6x5=30\n",
            "6x6=36\n",
            "6x7=42\n",
            "6x8=48\n",
            "6x9=54\n",
            "==7단==\n",
            "7x1=7\n",
            "7x2=14\n",
            "7x3=21\n",
            "7x4=28\n",
            "7x5=35\n",
            "7x6=42\n",
            "7x7=49\n",
            "7x8=56\n",
            "7x9=63\n",
            "==8단==\n",
            "8x1=8\n",
            "8x2=16\n",
            "8x3=24\n",
            "8x4=32\n",
            "8x5=40\n",
            "8x6=48\n",
            "8x7=56\n",
            "8x8=64\n",
            "8x9=72\n",
            "==9단==\n",
            "9x1=9\n",
            "9x2=18\n",
            "9x3=27\n",
            "9x4=36\n",
            "9x5=45\n",
            "9x6=54\n",
            "9x7=63\n",
            "9x8=72\n",
            "9x9=81\n"
          ]
        }
      ],
      "source": [
        "for dans in dan:\n",
        "  print(f\"=={dans}단==\")\n",
        "  for times in time:\n",
        "    print(f\"{dans}x{times}={dans*times}\")"
      ]
    },
    {
      "cell_type": "code",
      "execution_count": null,
      "metadata": {
        "colab": {
          "base_uri": "https://localhost:8080/"
        },
        "id": "45bCAfPFHnaR",
        "outputId": "3a0384f9-56c2-41b5-e776-5771e2726b7c"
      },
      "outputs": [
        {
          "name": "stdout",
          "output_type": "stream",
          "text": [
            "[1, 4, 9, 16, 25]\n"
          ]
        }
      ],
      "source": [
        " # 1~5까지 각각의 정수에 제곱한 결과를 리스트에 담아놓기\n",
        "result = []\n",
        "for data in range(1, 6):\n",
        "  result.append(data ** 2)\n",
        "print(result)"
      ]
    },
    {
      "cell_type": "code",
      "execution_count": null,
      "metadata": {
        "colab": {
          "base_uri": "https://localhost:8080/"
        },
        "id": "4atsdlqMKJGZ",
        "outputId": "bb17c54e-07b6-4e83-affa-e146c88a9d98"
      },
      "outputs": [
        {
          "name": "stdout",
          "output_type": "stream",
          "text": [
            "합격입니다.\n",
            "장학금도 받을 수 있습니다\n"
          ]
        }
      ],
      "source": [
        "# 블록의 중요성에 대한 실습\n",
        "# 타 언어 (java, c, c++ 등)에서는 블록을 중괄호로 감싸서 들여쓰기를 해야한다는 문법이 없다.\n",
        "# 파이썬에서는 블록을 만들 때, 반드시 공간을 동일하게 줘야 한다.\n",
        "# 파이썬의 문법에서는 블록(실행문장이 여러개일 때)을 만들 때 들여쓰기를 해야하며\n",
        "# 이렇게 해 주어야 프로그램의 가독성이 좋아진다.\n",
        "score = 95\n",
        "if score >= 95:\n",
        "  print(\"합격입니다.\")\n",
        "  print(\"장학금도 받을 수 있습니다\")"
      ]
    },
    {
      "cell_type": "code",
      "execution_count": null,
      "metadata": {
        "id": "Bc9FDy3hXxB5"
      },
      "outputs": [],
      "source": [
        "# 쇼핑몰에서 물건을 구매할 떄, 구입액이 5만원 이상이면 5%의 할인을 해준다고 하자.\n",
        "# 사용자에게 구입 금액을 입력받고 최종적으로 할인 금액과 지불금액을 출력하는 프로그램 만들기"
      ]
    },
    {
      "cell_type": "code",
      "execution_count": null,
      "metadata": {
        "colab": {
          "base_uri": "https://localhost:8080/"
        },
        "id": "xImvwxwtYC_Z",
        "outputId": "9742eed7-5301-40d9-cb81-b15ed0b4a8d6"
      },
      "outputs": [
        {
          "name": "stdout",
          "output_type": "stream",
          "text": [
            "구입 금액을 입력하세요 : 100000\n",
            "구입 금액 : 100000원\n",
            "할인 금액 : 5000.0원\n",
            "지불 금액 : 95000.0원\n"
          ]
        }
      ],
      "source": [
        "total_price = int(input(\"구입 금액을 입력하세요 : \"))\n",
        "if total_price >= 50000:\n",
        "  discount = total_price * 0.05 # 할인 금액\n",
        "  sales_price = total_price - discount # 지불 금액\n",
        "  print(f\"구입 금액 : {total_price}원\")\n",
        "  print(f\"할인 금액 : {discount}원\")\n",
        "  print(f\"지불 금액 : {sales_price}원\")\n",
        "else :\n",
        "  print(f\"할인 금액 대상이 아닙니다.{total_price}원을 결제해주세요.\")"
      ]
    },
    {
      "cell_type": "code",
      "execution_count": null,
      "metadata": {
        "id": "3cdyc1QtZLDY"
      },
      "outputs": [],
      "source": [
        "# 문자열의 중앙에 있는 문자를 추출해서 출력을 하는 프로그램을 만들기\n",
        "# 예를 들어 문자열이 \"weekday\"라면 중앙의 숫자는 \"k\"가 된다.\n",
        "# 하지만, 만약 문자열이 짝수 개의 문자를 가지고 있다면 중앙의 자를 2개 출력한다.\n",
        "# 예를 들어 \"monday\"라면 \"nd\"를 출력하도록 한다."
      ]
    },
    {
      "cell_type": "code",
      "execution_count": null,
      "metadata": {
        "colab": {
          "base_uri": "https://localhost:8080/"
        },
        "id": "Bb4YnmFRaOJ9",
        "outputId": "f7fb1c34-be92-48b2-c7b8-0fa8a722c944"
      },
      "outputs": [
        {
          "name": "stdout",
          "output_type": "stream",
          "text": [
            "문자를 입력하세요 : danchu\n",
            "중앙에 있는 두 글자는  n c\n"
          ]
        }
      ],
      "source": [
        "str_1 = input(\"문자를 입력하세요 : \")\n",
        "length = len(str_1) # 문자열의 길이를 구하고 있는 코드\n",
        "# 문자열의 길이를 2로 나누어서 나머지가 1이라는 것은 문자열의 길이가 홀수라는 것\n",
        "if (length %2) == 1:\n",
        "  ch = str_1[length//2]\n",
        "  print(\"중앙에 있는 한 글자는 \", ch)\n",
        "else:\n",
        "  ch1 = str_1[length//2-1]\n",
        "  ch2 = str_1[length//2]\n",
        "  print(\"중앙에 있는 두 글자는 \", ch1, ch2)"
      ]
    },
    {
      "cell_type": "code",
      "execution_count": null,
      "metadata": {
        "colab": {
          "base_uri": "https://localhost:8080/"
        },
        "id": "X_zRndnKb0ay",
        "outputId": "5db5a095-ab55-489c-ab76-c1f1fc260ab0"
      },
      "outputs": [
        {
          "name": "stdout",
          "output_type": "stream",
          "text": [
            "놀이기구를 탈 수 없습니다.\n",
            "--------------------\n",
            "놀이기구를 탈 수 있습니다.\n",
            "--------------------\n",
            "거짓입니다.\n"
          ]
        }
      ],
      "source": [
        "# 논리 연산자(logical operator)는 두 개 이상의 조건을 조합해서 참이닞 거짓인지 계산할 때 사용하는 연산자다.\n",
        "# 논리 연산자의 종류에는 and(논리곱), or(논리합), not(논리부정)이 있다.\n",
        "# and 논리 연산자의 실습\n",
        "name = \"박시현\"\n",
        "age = 29\n",
        "height = 158\n",
        "# and 논리연산자는 여러개의 조건 중에서 처음 조건이 거짓이라면 다른 조건은 검사하지않는다.(단축계산)\n",
        "# and 논리연산자는 모든 조건이 참이어야 참을 반환한다.\n",
        "if (age >= 20) and (height >= 160):\n",
        "  print(\"놀이기구를 탈 수 있습니다.\")\n",
        "else:\n",
        "  print(\"놀이기구를 탈 수 없습니다.\")\n",
        "\n",
        "print(\"-\"*20)\n",
        "# or 논리연산자의 실습\n",
        "# or 논리 연산자는 모든 조건 중 하나만 참이면 참을 반환한다.\n",
        "# or 논리 연산자는 모든 조건이 거짓이어야만 거짓을 반환한다.\n",
        "if (age >= 20) or (height >= 150):\n",
        "  print(\"놀이기구를 탈 수 있습니다.\")\n",
        "else:\n",
        "  print(\"놀이기구를 탈 수 없습니다.\")\n",
        "\n",
        "print(\"-\"*20)\n",
        "# 논리 부정 연산자인 not에 대한 실습\n",
        "# 논리 부정 연산자인 not는 조건이 참이면 전제 조건식의 결과를 반대로 거짓으로 만들고\n",
        "# 조건식의 결과가 거짓이라면 참으로 바꾸는 역할을 한다.\n",
        "if not(1==1):\n",
        "  print(\"참입니다.\")\n",
        "else:\n",
        "  print(\"거짓입니다.\")"
      ]
    },
    {
      "cell_type": "code",
      "execution_count": null,
      "metadata": {
        "colab": {
          "base_uri": "https://localhost:8080/"
        },
        "id": "W9go17OhdmAC",
        "outputId": "a8cd937f-b8ca-405c-e171-c645320a7fb7"
      },
      "outputs": [
        {
          "name": "stdout",
          "output_type": "stream",
          "text": [
            "이수 학점을 입력하세요 : 120\n",
            "평점을 입력하세요 : 4.0\n",
            "졸업할 수 없습니다.\n",
            "학점은20점, 평점은 -2.0점 부족합니다.\n"
          ]
        }
      ],
      "source": [
        "학점 = int(input(\"이수 학점을 입력하세요 : \"))\n",
        "평점 = float(input(\"평점을 입력하세요 : \"))\n",
        "\n",
        "if 학점 >= 140 and 평점 >= 2.0:\n",
        "  print(\"졸업을 축하합니다.\")\n",
        "else:\n",
        "  print(\"졸업할 수 없습니다.\")\n",
        "  print(f\"학점은{140-학점}점, 평점은 {2.0 - 평점}점 부족합니다.\")"
      ]
    },
    {
      "cell_type": "code",
      "execution_count": null,
      "metadata": {
        "colab": {
          "base_uri": "https://localhost:8080/"
        },
        "id": "WyYIS9WCiMKw",
        "outputId": "ecefa4f5-7293-43bb-9ed5-016b2135738b"
      },
      "outputs": [
        {
          "name": "stdout",
          "output_type": "stream",
          "text": [
            "몸무게를 입력하세요 : 58\n",
            "키를 입력하세요 : 158\n",
            "23.233456176894723\n",
            "정상입니다.\n"
          ]
        }
      ],
      "source": [
        "몸무게 = float(input(\"몸무게를 입력하세요 : \"))\n",
        "키 = float(input(\"키를 입력하세요 : \"))\n",
        "키_ = 키 / 100\n",
        "BMI = 몸무게 / (키_ * 키_)\n",
        "print(BMI)\n",
        "if 20<= BMI >=25:\n",
        "  print(\"체중관리가 필요합니다.\")\n",
        "else:\n",
        "  print(\"정상입니다.\")"
      ]
    },
    {
      "cell_type": "code",
      "execution_count": null,
      "metadata": {
        "colab": {
          "base_uri": "https://localhost:8080/"
        },
        "id": "ZLMw2OJylzI8",
        "outputId": "7b0dd411-d7cd-4ac4-ca72-ddcb54b96707"
      },
      "outputs": [
        {
          "name": "stdout",
          "output_type": "stream",
          "text": [
            "성적을 입력하세요 : 63\n",
            "D\n"
          ]
        }
      ],
      "source": [
        "score = int(input(\"성적을 입력하세요 : \"))\n",
        "\n",
        "if score >= 90:\n",
        "  print(\"A\")\n",
        "elif 90>score>=80:\n",
        "  print(\"B\")\n",
        "elif 80>score>=70:\n",
        "  print(\"C\")\n",
        "elif 70>score>=60:\n",
        "  print(\"D\")\n",
        "else:\n",
        "  print(\"F\")"
      ]
    },
    {
      "cell_type": "code",
      "execution_count": null,
      "metadata": {
        "colab": {
          "base_uri": "https://localhost:8080/"
        },
        "id": "lfDzZWafuRot",
        "outputId": "ce7b19f1-8fe1-4219-fcf3-0e45490a1041"
      },
      "outputs": [
        {
          "name": "stdout",
          "output_type": "stream",
          "text": [
            "사과의 상태를 입력하시오(좋음, 나쁨) : 나쁨\n",
            "사과 1개당 가격을 입력하세요 : 500\n",
            "이게뭐야\n"
          ]
        }
      ],
      "source": [
        "apple_quality = input(\"사과의 상태를 입력하시오(좋음, 나쁨) : \")\n",
        "apple_price = int(input(\"사과 1개당 가격을 입력하세요 : \"))\n",
        "\n",
        "if apple_quality == \"좋음\":\n",
        "  if apple_price < 1000: # 중첩 if 구문\n",
        "    print(\"10개를 산다\")\n",
        "  else:\n",
        "    print(\"5개를 산다\")\n",
        "else:\n",
        "  print(\"이게뭐야\")"
      ]
    },
    {
      "cell_type": "code",
      "execution_count": null,
      "metadata": {
        "colab": {
          "base_uri": "https://localhost:8080/"
        },
        "id": "XM_IaQ1AwGgg",
        "outputId": "8cf7571e-8f17-4f47-a45f-9fc938a25ddd"
      },
      "outputs": [
        {
          "name": "stdout",
          "output_type": "stream",
          "text": [
            "사과의 상태를 입력하시오(좋음, 나쁨) : 좋음\n",
            "사과 1개당 가격을 입력하세요 : 2000\n",
            "이게 뭐야\n"
          ]
        }
      ],
      "source": [
        "apple_quality = input(\"사과의 상태를 입력하시오(좋음, 나쁨) : \")\n",
        "apple_price = int(input(\"사과 1개당 가격을 입력하세요 : \"))\n",
        "\n",
        "if apple_quality == \"좋음\" and apple_price < 1000:\n",
        "  print(\"10개를 산다\")\n",
        "\n",
        "else:\n",
        "  print(\"이게 뭐야\")"
      ]
    },
    {
      "cell_type": "code",
      "execution_count": null,
      "metadata": {
        "colab": {
          "base_uri": "https://localhost:8080/"
        },
        "id": "GT8_TJX_wSIH",
        "outputId": "df161580-a43d-411e-f880-735c1ca617e1"
      },
      "outputs": [
        {
          "name": "stdout",
          "output_type": "stream",
          "text": [
            "사과의 상태를 입력하시오(좋음, 나쁨) : 좋음\n",
            "사과 1개당 가격을 입력하세요 : 3500\n",
            "5개를 산다\n"
          ]
        }
      ],
      "source": [
        "apple_quality = input(\"사과의 상태를 입력하시오(좋음, 나쁨) : \")\n",
        "\n",
        "if apple_quality == \"좋음\":\n",
        "  apple_price = int(input(\"사과 1개당 가격을 입력하세요 : \")) # if 아래에 가격을 넣어서 사과가 안좋으면 안삼\n",
        "  if apple_price < 1000: # 중첩 if 구문\n",
        "    print(\"10개를 산다\")\n",
        "  else:\n",
        "    print(\"5개를 산다\")\n",
        "else:\n",
        "  print(\"이게뭐야\")"
      ]
    },
    {
      "cell_type": "code",
      "execution_count": null,
      "metadata": {
        "colab": {
          "base_uri": "https://localhost:8080/"
        },
        "id": "HC_1w_yPw2v_",
        "outputId": "f2dbb5e2-897c-4032-cf20-c57159532ab0"
      },
      "outputs": [
        {
          "name": "stdout",
          "output_type": "stream",
          "text": [
            "정수를 입력하시오 : -1\n",
            "음수입니다.\n"
          ]
        }
      ],
      "source": [
        "num = int(input(\"정수를 입력하시오 : \"))\n",
        "\n",
        "if num > 0:\n",
        "  print(\"양수입니다.\")\n",
        "elif num ==0:\n",
        "  print(\"0입니다.\")\n",
        "else:\n",
        "  print(\"음수입니다.\")"
      ]
    },
    {
      "cell_type": "code",
      "execution_count": null,
      "metadata": {
        "id": "aKzDKGYVxofQ"
      },
      "outputs": [],
      "source": [
        "from random import*"
      ]
    },
    {
      "cell_type": "code",
      "execution_count": null,
      "metadata": {
        "colab": {
          "base_uri": "https://localhost:8080/"
        },
        "id": "P6AOYMxOykK4",
        "outputId": "79c600ad-9fbe-4982-a630-4105a6e4f8c4"
      },
      "outputs": [
        {
          "name": "stdout",
          "output_type": "stream",
          "text": [
            "6\n",
            "6\n"
          ]
        }
      ],
      "source": [
        "# randint(a, b) 함수는 a부터 b 사이에 있는 정수를 반환해주는 함수\n",
        "dice = randint(1, 6)\n",
        "print(dice)\n",
        "if dice == 1:\n",
        "  print(dice)\n",
        "elif dice == 2:\n",
        "  print(dice)\n",
        "elif dice == 3:\n",
        "  print(dice)\n",
        "elif dice == 4:\n",
        "  print(dice)\n",
        "elif dice == 5:\n",
        "  print(dice)\n",
        "else:\n",
        "  print(6)\n"
      ]
    },
    {
      "cell_type": "code",
      "execution_count": null,
      "metadata": {
        "colab": {
          "base_uri": "https://localhost:8080/"
        },
        "id": "p63N4XVEy3fq",
        "outputId": "9b285ece-8477-4390-acd5-46084bed4b2f"
      },
      "outputs": [
        {
          "data": {
            "text/plain": [
              "0.9787349948345871"
            ]
          },
          "execution_count": 73,
          "metadata": {},
          "output_type": "execute_result"
        }
      ],
      "source": [
        "#random() 함수는 0.0부터 1.0 미만의 임의의 값을 float 형태로 반환해주는 함수\n",
        "num = random()\n",
        "num"
      ]
    },
    {
      "cell_type": "code",
      "execution_count": null,
      "metadata": {
        "colab": {
          "base_uri": "https://localhost:8080/"
        },
        "id": "VPCD0QB7z2QX",
        "outputId": "f9596646-58c6-4e39-b17f-0cd80fab2ff4"
      },
      "outputs": [
        {
          "name": "stdout",
          "output_type": "stream",
          "text": [
            "17\n",
            "12\n"
          ]
        }
      ],
      "source": [
        "# randrange(start, stop, step) 함수는 start에서 stop까지 step의 값에 따라 임의의 수를 반환해준다.\n",
        "num = randrange(1, 101, 2)\n",
        "print(num)\n",
        "# randrange(a) 함수는 0에서부터 a미만까지의 임의의 정수값을 반환하는 함수\n",
        "num2 = randrange(101)\n",
        "print(num2)"
      ]
    },
    {
      "cell_type": "code",
      "execution_count": null,
      "metadata": {
        "colab": {
          "base_uri": "https://localhost:8080/"
        },
        "id": "kJwXwq820TFf",
        "outputId": "8d97310a-7701-4cef-fed2-96b67f682b2e"
      },
      "outputs": [
        {
          "name": "stdout",
          "output_type": "stream",
          "text": [
            "나이를 입력하세요 : 14\n",
            "중학생입니다.\n"
          ]
        }
      ],
      "source": [
        "age = int(input(\"나이를 입력하세요 : \"))\n",
        "\n",
        "if age >= 20:\n",
        "  print(\"성인입니다.\")\n",
        "elif age >= 17:\n",
        "  print(\"고등학생입니다.\")\n",
        "elif age >= 14:\n",
        "  print(\"중학생입니다.\")\n",
        "elif age >= 8:\n",
        "  print(\"초등학생입니다.\")\n",
        "else:\n",
        "  print(\"미취학 아동입니다.\")"
      ]
    },
    {
      "cell_type": "code",
      "execution_count": null,
      "metadata": {
        "colab": {
          "base_uri": "https://localhost:8080/"
        },
        "id": "Ngk0f3nA0sQO",
        "outputId": "60268d53-4ae0-4e42-8537-b66748a75d03"
      },
      "outputs": [
        {
          "name": "stdout",
          "output_type": "stream",
          "text": [
            "태어난 년도를 입력하세요 : 2010\n",
            "13\n",
            "초등학생입니다.\n"
          ]
        }
      ],
      "source": [
        "birth_year = int(input(\"태어난 년도를 입력하세요 : \"))\n",
        "age  = 2022 - birth_year + 1\n",
        "print(age)\n",
        "\n",
        "if age >= 20:\n",
        "  print(\"성인입니다.\")\n",
        "elif age >= 17:\n",
        "  print(\"고등학생입니다.\")\n",
        "elif age >= 14:\n",
        "  print(\"중학생입니다.\")\n",
        "elif age >= 8:\n",
        "  print(\"초등학생입니다.\")\n",
        "else:\n",
        "  print(\"미취학 아동입니다.\")"
      ]
    },
    {
      "cell_type": "code",
      "execution_count": null,
      "metadata": {
        "colab": {
          "base_uri": "https://localhost:8080/"
        },
        "id": "0zRbKBoA5jTW",
        "outputId": "108df51e-e3c3-4ce2-a439-eeb3ca9a4814"
      },
      "outputs": [
        {
          "name": "stdout",
          "output_type": "stream",
          "text": [
            "id를 입력하세요 : sihyun118\n",
            "비밀번호를 입력하세요1234\n",
            "sihyun118님이 로그인하셨습니다.\n"
          ]
        }
      ],
      "source": [
        "id_lst = [\"sihyun118\", \"w_you_\", \"sihyun95\"]\n",
        "pw = \"1234\"\n",
        "id = input(\"id를 입력하세요 : \")\n",
        "\n",
        "if id in id_lst: # 사용자가 입력한 id가 id_lst에 있는지 확인하는 코드\n",
        "  pw_ = input(\"비밀번호를 입력하세요\")\n",
        "  if pw == pw_:\n",
        "    print(f\"{id}님이 로그인하셨습니다.\")\n",
        "  else :\n",
        "    print(\"비밀번호가 틀렸습니다.\")\n",
        "\n",
        "else :\n",
        "  print(\"등록되지 않은 id입니다. 회원가입해주세요.\")"
      ]
    },
    {
      "cell_type": "code",
      "execution_count": null,
      "metadata": {
        "colab": {
          "base_uri": "https://localhost:8080/"
        },
        "id": "n29F0IOq8BK5",
        "outputId": "2fd5cb8f-99d5-4c58-8fb5-728cd86c936d"
      },
      "outputs": [
        {
          "name": "stdout",
          "output_type": "stream",
          "text": [
            "성적을 입력하세요 : 78\n",
            "C+\n"
          ]
        }
      ],
      "source": [
        "score = int(input(\"성적을 입력하세요 : \"))\n",
        "grade = \"\"\n",
        "if score >= 90:\n",
        "  if score >= 95:\n",
        "    grade = \"A+\"\n",
        "  else:\n",
        "    grade = \"A0\"\n",
        "elif 90>score>=80:\n",
        "  if score >= 85:\n",
        "    grade = \"B+\"\n",
        "  else:\n",
        "    grade = \"B0\"\n",
        "elif 80>score>=70:\n",
        "  if score >= 75:\n",
        "    grade = \"C+\"\n",
        "  else:\n",
        "    grade = \"C0\"\n",
        "elif 70>score>=60:\n",
        "  if score >= 65:\n",
        "    grade = \"D+\"\n",
        "  else:\n",
        "    grade = \"D0\"\n",
        "else:\n",
        "  print(\"F\")\n",
        "\n",
        "print(grade)"
      ]
    },
    {
      "cell_type": "code",
      "execution_count": null,
      "metadata": {
        "colab": {
          "base_uri": "https://localhost:8080/"
        },
        "id": "tbPl-Oar_vTb",
        "outputId": "09022351-bbba-4f2f-a325-ba437f343744"
      },
      "outputs": [
        {
          "name": "stdout",
          "output_type": "stream",
          "text": [
            "월을 입력하세요 : 8\n",
            "8월은 31일 입니다.\n"
          ]
        }
      ],
      "source": [
        "month = int(input(\"월을 입력하세요 : \"))\n",
        "\n",
        "if month == 2:\n",
        "  print(f\"{month}월은 28일 입니다.\")\n",
        "elif (month == 1) or (month ==3) or (month == 5) or (month == 7) or (month == 8) or (month == 10) or (month == 12):\n",
        "  print(f\"{month}월은 31일 입니다.\")\n",
        "else:\n",
        "  print(f\"{month}월은 30일 입니다.\")"
      ]
    },
    {
      "cell_type": "markdown",
      "metadata": {
        "id": "vpLASO54H4yl"
      },
      "source": [
        "사용자로부터 연도를 입력받고 윤년인지 아닌지를 판단하는 프로그램 만들기\n",
        "윤년의 조건\n",
        "1. 연도가 4로 나누어 떨어지면 윤년이다.\n",
        "2. 100으로 나누어 떨어지는 연도는 제외한다.\n",
        "3. 400으로 나누어 떨어지는 연도는 윤년이다"
      ]
    },
    {
      "cell_type": "code",
      "execution_count": null,
      "metadata": {
        "colab": {
          "base_uri": "https://localhost:8080/"
        },
        "id": "oyMmt8NtFNAX",
        "outputId": "bdc8e2b6-d6d3-4f4e-d531-7aa3c4d2b292"
      },
      "outputs": [
        {
          "name": "stdout",
          "output_type": "stream",
          "text": [
            "연도를 입력하세요 : 2020\n",
            "2020년은 윤년입니다.\n"
          ]
        }
      ],
      "source": [
        "year = int(input(\"연도를 입력하세요 : \"))\n",
        "\n",
        "if year % 4 == 0\n",
        "  if year % 100 == 0:\n",
        "    print(f\"{year}년은 윤년이 아닙니다.\")\n",
        "  else:\n",
        "    print(f\"{year}년은 윤년입니다.\")\n",
        "elif year % 400 == 0:\n",
        "  print(f\"{year}년은 윤년입니다.\")\n",
        "else:\n",
        "  print(f\"{year}년은 윤년이 아닙니다.\")"
      ]
    },
    {
      "cell_type": "code",
      "execution_count": null,
      "metadata": {
        "colab": {
          "base_uri": "https://localhost:8080/"
        },
        "id": "cnD0XpSFHItE",
        "outputId": "6a561954-a4ce-44fe-8adf-de00c43d1e9e"
      },
      "outputs": [
        {
          "name": "stdout",
          "output_type": "stream",
          "text": [
            "연도를 입력하세요 : 2020\n",
            "2020년은 윤년입니다.\n"
          ]
        }
      ],
      "source": [
        "year = int(input(\"연도를 입력하세요 : \"))\n",
        "\n",
        "if ((year % 4) == 0 and (year % 100) != 0) or (year % 400) == 0:\n",
        "  print (f\"{year}년은 윤년입니다.\")\n",
        "else:\n",
        "  print(f\"{year}년은 윤년이 아닙니다.\")"
      ]
    },
    {
      "cell_type": "code",
      "execution_count": null,
      "metadata": {
        "colab": {
          "base_uri": "https://localhost:8080/"
        },
        "id": "nvi6DD4FLPCE",
        "outputId": "b6f7b017-0a8d-41cb-8f5a-382eb6039b32"
      },
      "outputs": [
        {
          "name": "stdout",
          "output_type": "stream",
          "text": [
            "숫자를 맞춰보세요 : 50\n",
            "up\n",
            "숫자를 다시 입력해주세요75\n",
            "up\n",
            "숫자를 다시 입력해주세요86\n",
            "down\n",
            "숫자를 다시 입력해주세요80\n",
            "down\n",
            "숫자를 다시 입력해주세요78\n",
            "down\n",
            "숫자를 다시 입력해주세요77\n",
            "down\n",
            "숫자를 다시 입력해주세요76\n",
            "정답입니다. 게임을 종료합니다.7번 만에 성공했습니다.\n"
          ]
        }
      ],
      "source": [
        "# 숫자 추측 게임을 만들기\n",
        "from random import *\n",
        "# 1~100까지 임의의 수 (난수)를 발생시키는 코드\n",
        "rand_num = randint(1, 100)\n",
        "user_num = int(input(\"숫자를 맞춰보세요 : \"))\n",
        "cnt = 0\n",
        "while True :\n",
        "  if user_num == rand_num:\n",
        "    cnt += 1\n",
        "    print(f\"정답입니다. 게임을 종료합니다.{cnt}번 만에 성공했습니다.\")\n",
        "    break\n",
        "  elif user_num > rand_num:\n",
        "    print(\"down\")\n",
        "    cnt += 1\n",
        "  else:\n",
        "    print(\"up\")\n",
        "    cnt += 1\n",
        "  user_num = int(input(\"숫자를 다시 입력해주세요\"))"
      ]
    },
    {
      "cell_type": "code",
      "execution_count": null,
      "metadata": {
        "colab": {
          "base_uri": "https://localhost:8080/"
        },
        "id": "28E8KInQNyx6",
        "outputId": "6bb16280-bb89-4503-f955-ec190baafb48"
      },
      "outputs": [
        {
          "name": "stdout",
          "output_type": "stream",
          "text": [
            "안녕하세요\n",
            "안녕하세요\n",
            "안녕하세요\n",
            "안녕하세요\n",
            "안녕하세요\n",
            "<class 'range'>\n"
          ]
        }
      ],
      "source": [
        "# range(x)를 이용하면 정수 리스트를 사용하는 것 보다 훨씬 효율적이고 가독성도 좋다\n",
        "# range() 함수는 리스트 타입으로 반환해준다\n",
        "# range(x) : 0부터 시작하고 마지막 값-1까지 정수 리스트 타입으로 반환해준다.\n",
        "for x in range(5):\n",
        "  print(\"안녕하세요\")\n",
        "# range() 함수의 타입은 range 객체 타입니다.\n",
        "print(type(range(5)))"
      ]
    },
    {
      "cell_type": "code",
      "execution_count": null,
      "metadata": {
        "colab": {
          "base_uri": "https://localhost:8080/"
        },
        "id": "smuTj82LYMLC",
        "outputId": "5bfd72ee-6efc-4b74-8d36-209e0b7c4212"
      },
      "outputs": [
        {
          "name": "stdout",
          "output_type": "stream",
          "text": [
            "반갑습니다. 송몽숙님!\n",
            "반갑습니다. 망난이님!\n",
            "반갑습니다. 장폰주님!\n",
            "반갑습니다. 구라베님!\n",
            "반갑습니다. 백노바님!\n"
          ]
        }
      ],
      "source": [
        "# 문자열 리스트를 시퀀스로 가질 때의 for문\n",
        "s = [\"송몽숙\", \"망난이\", \"장폰주\", \"구라베\", \"백노바\"]\n",
        "for name in s:\n",
        "  print(f\"반갑습니다. {name}님!\")"
      ]
    },
    {
      "cell_type": "code",
      "execution_count": null,
      "metadata": {
        "colab": {
          "base_uri": "https://localhost:8080/"
        },
        "id": "S_4CiLV-Z9k9",
        "outputId": "db93a89f-0773-4a76-9d92-54f0dad138eb"
      },
      "outputs": [
        {
          "name": "stdout",
          "output_type": "stream",
          "text": [
            "송몽숙님, 반갑습니다!/망난이님, 반갑습니다!/장폰주님, 반갑습니다!/구라베님, 반갑습니다!/백노바님, 반갑습니다!/"
          ]
        }
      ],
      "source": [
        "# 줄바꿈을 하지 않게 하는 end 인자값을 확인해보기\n",
        "\n",
        "for name in s:\n",
        "  print(f\"{name}님, 반갑습니다!\", end = '/')"
      ]
    },
    {
      "cell_type": "code",
      "execution_count": null,
      "metadata": {
        "colab": {
          "base_uri": "https://localhost:8080/"
        },
        "id": "Mh5lpZAwcGbY",
        "outputId": "01a21f40-28f5-425f-df71-c15e94d32aed"
      },
      "outputs": [
        {
          "name": "stdout",
          "output_type": "stream",
          "text": [
            "45\n"
          ]
        }
      ],
      "source": [
        "# range() 함수 실습하기\n",
        "# range(x) 매개변수 1개짜리 함수를 이용\n",
        "sum = 0\n",
        "for x in range(10):\n",
        "  sum += x\n",
        "print(sum)"
      ]
    },
    {
      "cell_type": "code",
      "execution_count": null,
      "metadata": {
        "colab": {
          "base_uri": "https://localhost:8080/"
        },
        "id": "QuqAn_mFcsMZ",
        "outputId": "d22348ae-9925-4d74-e945-d5c55c78e55d"
      },
      "outputs": [
        {
          "name": "stdout",
          "output_type": "stream",
          "text": [
            "45\n"
          ]
        }
      ],
      "source": [
        "# 2. range(start, stop) 매개변수 2개짜리 함수를 이용\n",
        "# 누적을 하는데 stop 값은 포함하지 않는다.\n",
        "hap = 0\n",
        "\n",
        "for x in range(0, 10):\n",
        "  hap += x\n",
        "print(hap)"
      ]
    },
    {
      "cell_type": "code",
      "execution_count": null,
      "metadata": {
        "colab": {
          "base_uri": "https://localhost:8080/"
        },
        "id": "BlK1TgfpeEBx",
        "outputId": "b2b4e3d1-6d16-486c-f349-afb005f5706a"
      },
      "outputs": [
        {
          "name": "stdout",
          "output_type": "stream",
          "text": [
            "18\n"
          ]
        }
      ],
      "source": [
        "# 3. range([start,] stop[, step]) 매개변수 3개짜리 함수를 이용, 누적하는데 stop 값은 포함하지 않는다.\n",
        "# 누적시킬때 step만큼 건너띄어 리스트를 생성한다.\n",
        "# 대괄호 [] 감싸져 있는 매개변수 값은 생략 가능하다\n",
        "hip = 0\n",
        "for x in range(0, 10, 3):\n",
        "  hip += x\n",
        "print(hip)"
      ]
    },
    {
      "cell_type": "code",
      "execution_count": null,
      "metadata": {
        "colab": {
          "base_uri": "https://localhost:8080/"
        },
        "id": "b67uIBoffT07",
        "outputId": "e3422ab8-46c8-43c2-c726-63e555254133"
      },
      "outputs": [
        {
          "name": "stdout",
          "output_type": "stream",
          "text": [
            "S o n g   M o n g   S u k "
          ]
        }
      ],
      "source": [
        "# 문자열 실습\n",
        "# 문자열도 시퀀스에 대상에 포함된다. for문을 통해 문자를 추출하여 출력할 수 있다.\n",
        "\n",
        "name = \"Song Mong Suk\"\n",
        "for ch in name:\n",
        "  print(ch, end = \" \")"
      ]
    },
    {
      "cell_type": "code",
      "execution_count": null,
      "metadata": {
        "colab": {
          "base_uri": "https://localhost:8080/"
        },
        "id": "pjVScOXvgQyW",
        "outputId": "dd92a614-6a28-40ea-f161-31c12a40214e"
      },
      "outputs": [
        {
          "name": "stdout",
          "output_type": "stream",
          "text": [
            "정수를 입력하시오 : 10\n",
            "55\n"
          ]
        }
      ],
      "source": [
        "# 1부터 사용자가 입력한 수 num까지 더해서 합계를 구하는 프로그램을 for문을 이용해서 작성하시오.\n",
        "\n",
        "sum = 0\n",
        "num = int(input(\"정수를 입력하시오 : \"))\n",
        "\n",
        "for x in range(1, num+1):\n",
        "  sum += x\n",
        "print(sum)"
      ]
    },
    {
      "cell_type": "code",
      "execution_count": null,
      "metadata": {
        "colab": {
          "base_uri": "https://localhost:8080/"
        },
        "id": "uxcw42lUjlzg",
        "outputId": "6036b40f-97b3-4f77-83f8-acf8c9d0069b"
      },
      "outputs": [
        {
          "name": "stdout",
          "output_type": "stream",
          "text": [
            "정수를 입력하시오 : 10\n",
            "55\n"
          ]
        }
      ],
      "source": [
        "sum = 0\n",
        "num = int(input(\"정수를 입력하시오 : \"))\n",
        "for x in range(1, num+1):\n",
        "  sum += x\n",
        "print(sum)"
      ]
    },
    {
      "cell_type": "code",
      "execution_count": null,
      "metadata": {
        "colab": {
          "base_uri": "https://localhost:8080/"
        },
        "id": "ckujtSupl-YW",
        "outputId": "d4402778-8715-48c6-ece6-cf9d055f5d80"
      },
      "outputs": [
        {
          "name": "stdout",
          "output_type": "stream",
          "text": [
            "값이 2000을 초과합니다. 64\n",
            "2016\n",
            "done\n"
          ]
        }
      ],
      "source": [
        "sum = 0\n",
        "for x in range(101):\n",
        "  if sum >= 2000:\n",
        "    print(\"값이 2000을 초과합니다.\", x)\n",
        "    break\n",
        "  else:\n",
        "    sum += x\n",
        "print(sum)\n",
        "print(\"done\")"
      ]
    },
    {
      "cell_type": "code",
      "execution_count": null,
      "metadata": {
        "colab": {
          "base_uri": "https://localhost:8080/"
        },
        "id": "cMdrTAOvoHuL",
        "outputId": "cfe45293-67b1-492c-cf5a-fda3a46e373b"
      },
      "outputs": [
        {
          "name": "stdout",
          "output_type": "stream",
          "text": [
            "정수를 입력하세요4\n",
            "4!은24.0 입니다.\n"
          ]
        }
      ],
      "source": [
        "# for문을 이용하여 팩토리얼(factorial)을 계산하는 프로그램을 작성해보자.\n",
        "# 팩토리얼 n!은 1부터 n까지의 정수를 모두 곱한 것을 의미한다.\n",
        "# f(1) = 1이다.\n",
        "\n",
        "fact = 1.0\n",
        "n = int(input(\"정수를 입력하세요\"))\n",
        "\n",
        "for x in range(1, n+1):\n",
        "  fact *= x\n",
        "print(f\"{n}!은{fact} 입니다.\")"
      ]
    },
    {
      "cell_type": "code",
      "execution_count": null,
      "metadata": {
        "colab": {
          "base_uri": "https://localhost:8080/"
        },
        "id": "BkSfHZoquqT6",
        "outputId": "2d8eb00a-1283-4e6b-aca0-69df367a044a"
      },
      "outputs": [
        {
          "name": "stdout",
          "output_type": "stream",
          "text": [
            "피보나치 수열을 만들 정수를 입력하세요 : 30\n",
            "1 1 2 3 5 8 13 21 "
          ]
        }
      ],
      "source": [
        "# 피보나치 수열을 구하는 프로그램 만들기\n",
        "# 피보나치 수열이란 앞의 두 개의 수를 더해서 다음 수를 결정짓는 수열이다.\n",
        "# 예) 사용자로부터 13을 입력받고 난 뒤 피보나치 수열의 값 : 1 1 2 3 5 8 \n",
        "\n",
        "n1 = 1\n",
        "n2 = 1\n",
        "n3 = 1\n",
        "\n",
        "num = int(input(\"피보나치 수열을 만들 정수를 입력하세요 : \"))\n",
        "for i in range(1, num):\n",
        "  if i < 3:\n",
        "    n3 = 1\n",
        "  else:\n",
        "    n3 = n1 + n2\n",
        "    n1 = n2\n",
        "    n2 = n3\n",
        "  # 사용자로부터 입력받은 값보다 작은 수만 출력하게끔 하였다.\n",
        "  if n3 < num:\n",
        "    print(n3, end = \" \")"
      ]
    },
    {
      "cell_type": "code",
      "execution_count": null,
      "metadata": {
        "colab": {
          "base_uri": "https://localhost:8080/"
        },
        "id": "Y2kFM_4z1U3V",
        "outputId": "b3adf29a-ab30-4eb4-ac9f-a2693666ce09"
      },
      "outputs": [
        {
          "name": "stdout",
          "output_type": "stream",
          "text": [
            "0\t-17.78\n",
            "10\t-12.22\n",
            "20\t-6.67\n",
            "30\t-1.11\n",
            "40\t4.44\n",
            "50\t10.0\n",
            "60\t15.56\n",
            "70\t21.11\n",
            "80\t26.67\n",
            "90\t32.22\n",
            "100\t37.78\n"
          ]
        }
      ],
      "source": [
        "# 화씨 온도 - 섭씨온도 변환 테이블을 출력하는 프로그램 작성\n",
        "# for 문을 사용하며, 실수로 나타내도록 한다. 화씨 0도부터 100도까지 10도 단위로 증가시키면서\n",
        "# 대응되는 섭씨 온도를 출력하도록 하자.\n",
        "# 공식 : C = (F - 32) * 5 / 9\n",
        "\n",
        "C = 0\n",
        "\n",
        "for F in range(0, 101, 10):\n",
        "  C = (F - 32) * 5.0 / 9.0\n",
        "  print(F, round(C, 2), sep=\"\\t\") #round(C, 2) 소수 둘째짜리까지 나타내라"
      ]
    },
    {
      "cell_type": "code",
      "execution_count": null,
      "metadata": {
        "colab": {
          "base_uri": "https://localhost:8080/"
        },
        "id": "UBHMDoQ4ezuB",
        "outputId": "65d0d5b3-b233-4648-94f9-2dcb5d02389c"
      },
      "outputs": [
        {
          "name": "stdout",
          "output_type": "stream",
          "text": [
            "출력하고 싶은 구구단을 입력하시오 : 9\n",
            "9 x 1 = 9\n",
            "9 x 2 = 18\n",
            "9 x 3 = 27\n",
            "9 x 4 = 36\n",
            "9 x 5 = 45\n",
            "9 x 6 = 54\n",
            "9 x 7 = 63\n",
            "9 x 8 = 72\n",
            "9 x 9 = 81\n"
          ]
        }
      ],
      "source": [
        " #  사용자로부터 출력하고 싶은 구구단을 출력하는 프로그램을 만들기\n",
        "\n",
        "dan = int(input(\"출력하고 싶은 구구단을 입력하시오 : \"))\n",
        "time = range(1, 10)\n",
        "for times in time:\n",
        "  print(f\"{dan} x {times} = {dan*times}\")"
      ]
    },
    {
      "cell_type": "code",
      "execution_count": null,
      "metadata": {
        "colab": {
          "base_uri": "https://localhost:8080/"
        },
        "id": "w9Djz9v2qHsr",
        "outputId": "b6ec3932-7f94-4d9c-b40f-33b2595a26de"
      },
      "outputs": [
        {
          "name": "stdout",
          "output_type": "stream",
          "text": [
            " 첫 번째 정수를 입력하시오 : 1\n",
            " 두 번째 정수를 입력하시오 : 2\n",
            "1\n",
            "2\n"
          ]
        }
      ],
      "source": [
        "num1 = int(input(\" 첫 번째 정수를 입력하시오 : \"))\n",
        "num2 = int(input(\" 두 번째 정수를 입력하시오 : \"))\n",
        "\n",
        "for i in range(num1, num2+1):\n",
        "  # 3의 배수이면서 4의 배수를 출력에서 제외한다.\n",
        "  if (i%3) == 0 and (i%4) == 0:\n",
        "    continue # continue는 조건식이 참이면 아채 문장을 실행하지 않고 for문으로 이동하여 증가한다.\n",
        "  print(i)"
      ]
    },
    {
      "cell_type": "code",
      "execution_count": null,
      "metadata": {
        "colab": {
          "base_uri": "https://localhost:8080/"
        },
        "id": "zPitwhqG5zF1",
        "outputId": "bb9dc1ab-358a-48a2-dd1c-788edd5e732f"
      },
      "outputs": [
        {
          "name": "stdout",
          "output_type": "stream",
          "text": [
            "{'아침': '미역국', '점심': '소고기', '저녁': '돼지고기'}\n"
          ]
        }
      ],
      "source": [
        "a = [\"미역국\", \"소고기\", \"돼지고기\"]\n",
        "b = [\"아침\", \"점심\", \"저녁\"]\n",
        "\n",
        "result = {meal : food for meal, food in zip(b, a)}\n",
        "print(result)"
      ]
    },
    {
      "cell_type": "code",
      "execution_count": null,
      "metadata": {
        "colab": {
          "base_uri": "https://localhost:8080/"
        },
        "id": "3keDXCz1u4S5",
        "outputId": "b05fe121-6f05-44f4-efaf-73bbf2064968"
      },
      "outputs": [
        {
          "name": "stdout",
          "output_type": "stream",
          "text": [
            "반갑습니다.\n",
            "반갑습니다.\n",
            "반갑습니다.\n",
            "반갑습니다.\n",
            "반갑습니다.\n",
            "반복이 종료되었습니다.\n"
          ]
        }
      ],
      "source": [
        "# while 문은 조건을 정해놓고 반복을 하는 구조이다\n",
        "\n",
        "i = 0\n",
        "while i < 5:\n",
        "  print(\"반갑습니다.\")\n",
        "  i+=1 # 만약 좌측 코드가 없다면 while문은 무한루프를 돌 것이다.\n",
        "print(\"반복이 종료되었습니다.\")"
      ]
    },
    {
      "cell_type": "code",
      "execution_count": null,
      "metadata": {
        "colab": {
          "base_uri": "https://localhost:8080/"
        },
        "id": "U2SYKJ5hv6yi",
        "outputId": "6d147353-b058-4bdc-d281-13ac9147e2a9"
      },
      "outputs": [
        {
          "name": "stdout",
          "output_type": "stream",
          "text": [
            "0 1 2 3 4 5 6 7 8 9 "
          ]
        }
      ],
      "source": [
        "# 숫자 0~9까지 줄바꿈 없이 출력하기\n",
        "i = 0\n",
        "while i < 10:\n",
        "  print(i, end=\" \")\n",
        "  i += 1"
      ]
    },
    {
      "cell_type": "code",
      "execution_count": null,
      "metadata": {
        "colab": {
          "base_uri": "https://localhost:8080/"
        },
        "id": "8oyoFVyPxh4H",
        "outputId": "45c0a748-0fa5-4983-b1be-a6c428650a2d"
      },
      "outputs": [
        {
          "name": "stdout",
          "output_type": "stream",
          "text": [
            "55\n"
          ]
        }
      ],
      "source": [
        "i = 1\n",
        "sum = 0\n",
        "while i <=10 :\n",
        "  sum += i\n",
        "  i += 1 \n",
        "print(sum)"
      ]
    },
    {
      "cell_type": "code",
      "execution_count": null,
      "metadata": {
        "colab": {
          "base_uri": "https://localhost:8080/"
        },
        "id": "VMWTktKVyG_i",
        "outputId": "69db7cb3-4d81-4d88-9079-b91f2f8ec3d1"
      },
      "outputs": [
        {
          "name": "stdout",
          "output_type": "stream",
          "text": [
            "5!의 값은 120입니다.\n"
          ]
        }
      ],
      "source": [
        "# while 문을 사용하여 팩토리얼을 구하는 예제\n",
        "# f(1)=1\n",
        "i = 1\n",
        "fa = 1\n",
        "while i <= 5:\n",
        "  fa *= i\n",
        "  i += 1\n",
        "print(f\"5!의 값은 {fa}입니다.\")"
      ]
    },
    {
      "cell_type": "code",
      "execution_count": null,
      "metadata": {
        "colab": {
          "base_uri": "https://localhost:8080/"
        },
        "id": "7MnNqK8RzfKg",
        "outputId": "d31c7d5a-0b44-4982-9ad9-87de031ed9ce"
      },
      "outputs": [
        {
          "name": "stdout",
          "output_type": "stream",
          "text": [
            "===3단===\n",
            "3 * 1 =  3\n",
            "3 * 2 =  6\n",
            "3 * 3 =  9\n",
            "3 * 4 = 12\n",
            "3 * 5 = 15\n",
            "3 * 6 = 18\n",
            "3 * 7 = 21\n",
            "3 * 8 = 24\n",
            "3 * 9 = 27\n"
          ]
        }
      ],
      "source": [
        "# 3단을 출력하는 예제\n",
        "i = 1\n",
        "print(\"===3단===\")\n",
        "while i <= 9:\n",
        "  # % 뒤에 오는 숫자들은 출력할 때 자릿수를 차지하게끔 만들어준다\n",
        "  print(\"3 * %d = %2d\" %(i, 3*i))\n",
        "  i += 1"
      ]
    },
    {
      "cell_type": "code",
      "execution_count": null,
      "metadata": {
        "id": "AbtaRf16zodv"
      },
      "outputs": [],
      "source": [
        "# 1부터 100까지 3의 배수만 누적값을 구하는 예제"
      ]
    },
    {
      "cell_type": "code",
      "execution_count": null,
      "metadata": {
        "colab": {
          "base_uri": "https://localhost:8080/"
        },
        "id": "kkhMQEAR6ift",
        "outputId": "8e5babae-471f-4bc4-940c-ed7b9782ac44"
      },
      "outputs": [
        {
          "name": "stdout",
          "output_type": "stream",
          "text": [
            "1683\n"
          ]
        }
      ],
      "source": [
        "i = 1\n",
        "sum = 0\n",
        "\n",
        "while i <= 100:\n",
        "  # 3의 배수인지 확인하는 조건\n",
        "  if (i%3) == 0:\n",
        "    sum += i\n",
        "  i += 1\n",
        "print(sum)"
      ]
    },
    {
      "cell_type": "code",
      "execution_count": null,
      "metadata": {
        "colab": {
          "base_uri": "https://localhost:8080/"
        },
        "id": "DU3giRaB9S0Z",
        "outputId": "9ad9576d-6c2b-4a70-bd39-cb14cf4fca7d"
      },
      "outputs": [
        {
          "name": "stdout",
          "output_type": "stream",
          "text": [
            "10\n"
          ]
        }
      ],
      "source": [
        "# 정수 안의 각 자리수의 합을 계산하는 예제\n",
        "\n",
        "num = 1234\n",
        "sum = 0\n",
        "\n",
        "while num > 0:\n",
        "  digit = num % 10 # 해당하는 자릿수의 값을 구하는 코드\n",
        "  sum += digit\n",
        "  num = num // 10 # 10으로 나누어 줌으로써 몫만 num에 저장되는 코드\n",
        "\n",
        "print(sum)"
      ]
    },
    {
      "cell_type": "code",
      "execution_count": null,
      "metadata": {
        "colab": {
          "base_uri": "https://localhost:8080/"
        },
        "id": "Oa0sV26U_IFC",
        "outputId": "3bf6885a-241c-4f1c-c06c-b293f475889a"
      },
      "outputs": [
        {
          "name": "stdout",
          "output_type": "stream",
          "text": [
            "종료하시려면 음수를 입력하세요. (예 : -1)\n",
            "1번째 학생의 성적을 입력해주세요 : 10\n",
            "2번째 학생의 성적을 입력해주세요 : 30\n",
            "3번째 학생의 성적을 입력해주세요 : 20\n",
            "4번째 학생의 성적을 입력해주세요 : 40\n",
            "5번째 학생의 성적을 입력해주세요 : 50\n",
            "6번째 학생의 성적을 입력해주세요 : 60\n",
            "7번째 학생의 성적을 입력해주세요 : 70\n",
            "8번째 학생의 성적을 입력해주세요 : 80\n",
            "9번째 학생의 성적을 입력해주세요 : 90\n",
            "10번째 학생의 성적을 입력해주세요 : 100\n",
            "11번째 학생의 성적을 입력해주세요 : -1\n",
            "11 학생의 평균은 55.0입니다.\n"
          ]
        }
      ],
      "source": [
        "# 사용자로부터 임의의 개수의 성적을 입력받아서 합계와 평균을 계산한 후 \n",
        "# 출력하는 프로그램을 작성해보시오. 단 센티널은 음수의 값을 사용하시오.\n",
        "cnt = 0\n",
        "sum = 0\n",
        "score = 0\n",
        "aver = 0.0\n",
        "\n",
        "# 센티널을 사용자에게 제시하는 코드\n",
        "print(\"종료하시려면 음수를 입력하세요. (예 : -1)\")\n",
        "\n",
        "while score >= 0:\n",
        "  score = int (input(f\"{cnt+1}번째 학생의 성적을 입력해주세요 : \"))\n",
        "  # 음수값인지 검사하는 코드\n",
        "  if score >= 0:\n",
        "    sum += score # 성적의 합계를 구하는 코드\n",
        "    cnt += 1 # 학생의 수를 누적하는 코드\n",
        "# 합계fmf 계산하는 코드\n",
        "if cnt > 0:\n",
        "  aver = sum /cnt\n",
        "# 합계와 평균을 출력하는 코드\n",
        "print(f\"{cnt+1} 학생의 평균은 {aver}입니다.\")"
      ]
    },
    {
      "cell_type": "code",
      "execution_count": null,
      "metadata": {
        "colab": {
          "base_uri": "https://localhost:8080/"
        },
        "id": "d76F1R8sIFmb",
        "outputId": "b5102bf7-aeb8-4f86-b20c-d38d62410942"
      },
      "outputs": [
        {
          "name": "stdout",
          "output_type": "stream",
          "text": [
            "95\n",
            "1부터 100사이의 숫자를 맞추어 보세요. 기회는 10번입니다.\n",
            "숫자를 입력하세요 : 100\n",
            "down\n",
            "숫자를 입력하세요 : 90\n",
            "up\n",
            "숫자를 입력하세요 : 95\n",
            "clear\n",
            "게임을 계속하시겠습니까?n\n",
            "게임을 종료합니다.\n",
            "done\n"
          ]
        }
      ],
      "source": [
        "# 임의의 숫자를 발생시켜 숫자를 맞추는 게임을 만들어보기\n",
        "from random import*\n",
        "cnt = 0\n",
        "num = randint(1, 100)\n",
        "print(num)\n",
        "print(\"1부터 100사이의 숫자를 맞추어 보세요. 기회는 10번입니다.\")\n",
        "\n",
        "while cnt < 10:\n",
        "  guess = int(input(\"숫자를 입력하세요 : \"))\n",
        "  cnt += 1\n",
        "  if guess < num:\n",
        "    print(\"up\")\n",
        "  elif guess > num:\n",
        "    print(\"down\")\n",
        "  elif guess == num:\n",
        "    print(\"clear\")\n",
        "    code = input(\"게임을 계속하시겠습니까?\")\n",
        "    if code == \"n\":\n",
        "      print(\"게임을 종료합니다.\")\n",
        "      break\n",
        "    else:\n",
        "      (\"게임을 재시작합니다\")\n",
        "print(\"done\")"
      ]
    },
    {
      "cell_type": "code",
      "execution_count": null,
      "metadata": {
        "colab": {
          "base_uri": "https://localhost:8080/"
        },
        "id": "gceadJJtK4yQ",
        "outputId": "26a68622-427a-4edf-9750-709b345bfb0f"
      },
      "outputs": [
        {
          "name": "stdout",
          "output_type": "stream",
          "text": [
            "1번째 상품의 금액을 입력하시오 : 15000\n",
            "2번째 상품의 금액을 입력하시오 : 35000\n",
            "3번째 상품의 금액을 입력하시오 : 65000\n",
            "4번째 상품의 금액을 입력하시오 : 끝\n",
            "구매하신 물건은 총 3개, 가격은 115000원 입니다.\n"
          ]
        }
      ],
      "source": [
        "# 사용자로부터 상품금액을 입력받아서 상품의 총 가격을 계산하는 프로그램 만들기\n",
        "# 사용자가 몇 개의 상품을 살지 모르니까 무한루프를 이용하고\n",
        "# 사용자가 끝이라고 입력하면 루프를 탈출하게끔 조건을 주도록 한다.\n",
        "from operator import eq\n",
        "price = 0\n",
        "total_price = 0\n",
        "goods = 1\n",
        "\n",
        "while True :\n",
        "  price = input(f\"{goods}번째 상품의 금액을 입력하시오 : \")\n",
        "  # \"끝\"이라는 입력 문구가 있는지 확인하는 코드, 무한루프를 탈출하는 코드\n",
        "  goods += 1\n",
        "  if eq(price, \"끝\"): # if price ==\"끝\" 동일한 코드\n",
        "    print(f\"구매하신 물건은 총 {goods-2}개, 가격은 {str(total_price)}원 입니다.\")    \n",
        "    break\n",
        "  # 상품의 가격을 누적하는 코드\n",
        "  total_price += int(price)"
      ]
    },
    {
      "cell_type": "code",
      "execution_count": null,
      "metadata": {
        "colab": {
          "base_uri": "https://localhost:8080/"
        },
        "id": "s5ChQhaAgy4j",
        "outputId": "fa1722ae-7593-4819-eef8-b9cb75011403"
      },
      "outputs": [
        {
          "name": "stdout",
          "output_type": "stream",
          "text": [
            "<class 'bool'>\n",
            "==============================\n",
            "1. 증속  |  2. 감속  |  3. 중지 \n",
            "==============================\n",
            "선택 : 2\n",
            "속도가 0입니다. 감속할 수 없습니다. 다시 선택해주세요\n",
            "==============================\n",
            "1. 증속  |  2. 감속  |  3. 중지 \n",
            "==============================\n",
            "선택 : 10\n",
            "잘못된 값입니다. 다시 입력해 주세요 : \n",
            "==============================\n",
            "1. 증속  |  2. 감속  |  3. 중지 \n",
            "==============================\n",
            "선택 : 1\n",
            "현재 속도 : 10\n",
            "==============================\n",
            "1. 증속  |  2. 감속  |  3. 중지 \n",
            "==============================\n",
            "선택 : 3\n",
            "프로그램을 종료합니다.\n"
          ]
        }
      ],
      "source": [
        "# 1. 증속, 2. 감속, 3. 중지를 출력하고 사용자의 입력을 숫자로 받아서\n",
        "# 증속을 하면 속도를 10씩 증가시키고 출력해준다.\n",
        "# 감속을 하면 속도를 10씩 감소하고 출력해준다.\n",
        "# 중지를 하면 플래그 변수를 이용하여 무한루프를 빠져나간다\n",
        "# 플래그 변수를 사용한 무한루프 문제\n",
        "\n",
        "run = True\n",
        "print(type(run))\n",
        "speed = 0\n",
        "key_code = 0\n",
        "\n",
        "while run:\n",
        "  print(\"=\"*30)\n",
        "  print(\"1. 증속  |  2. 감속  |  3. 중지 \")\n",
        "  print(\"=\"*30)\n",
        "  key_code = int(input(\"선택 : \"))\n",
        "  # 증속일 경우\n",
        "  if key_code == 1:\n",
        "    speed += 10\n",
        "    print(f\"현재 속도 : {speed}\")\n",
        "    # 감속일 경우\n",
        "  elif key_code == 2:\n",
        "    speed -= 10\n",
        "    # speed가 음수일 경우 경고\n",
        "    if speed < 0:\n",
        "      pri nt(\"속도가 0입니다. 감속할 수 없습니다. 다시 선택해주세요\")\n",
        "      speed = 0\n",
        "    else:\n",
        "      print(f\"현재 속도 : {speed}\")\n",
        "    # 중지일 경우 플래그 변수를  False로 설정해주므로서 무한 루프를 탈출하는 코드\n",
        "  elif key_code ==3:\n",
        "    run = False\n",
        "  # 사용자가 잘못 입력했을 경우\n",
        "  else:\n",
        "    print(\"잘못된 값입니다. 다시 입력해 주세요 : \")\n",
        "print(\"프로그램을 종료합니다.\")"
      ]
    },
    {
      "cell_type": "code",
      "execution_count": null,
      "metadata": {
        "colab": {
          "base_uri": "https://localhost:8080/"
        },
        "id": "xf4koZbhqMN7",
        "outputId": "43d9e94d-9f29-41f5-8410-eef867b6a466"
      },
      "outputs": [
        {
          "name": "stdout",
          "output_type": "stream",
          "text": [
            "**********\n",
            "**********\n",
            "**********\n",
            "**********\n",
            "**********\n"
          ]
        }
      ],
      "source": [
        "# 중첩 루프는 테이블(표)와 비슷한 형태를 출력하고자 할 때 사용하면 아주 좋다.\n",
        "\n",
        "for y in range(5):\n",
        "  for x in range(10):\n",
        "    print(\"*\", end=\"\")\n",
        " # 외곽 루프에서 줄바꿈을 해 줘야 *로 사각형이 생긴다.\n",
        "  print(\"\")"
      ]
    },
    {
      "cell_type": "code",
      "execution_count": null,
      "metadata": {
        "colab": {
          "base_uri": "https://localhost:8080/"
        },
        "id": "knwJ0ApS9jhp",
        "outputId": "0e9f20ff-7052-49f4-f8ec-d587a7f9a3ec"
      },
      "outputs": [
        {
          "name": "stdout",
          "output_type": "stream",
          "text": [
            "*\n",
            "**\n",
            "***\n",
            "****\n",
            "*****\n"
          ]
        }
      ],
      "source": [
        "for y in range(5): # 5행을 만든다\n",
        "  for x in range(y+1):\n",
        "    print(\"*\", end = \"\")\n",
        "  print(\"\")"
      ]
    },
    {
      "cell_type": "code",
      "execution_count": null,
      "metadata": {
        "colab": {
          "base_uri": "https://localhost:8080/"
        },
        "id": "fnjdJMvG_xXR",
        "outputId": "84eee73e-5884-47a3-f5e1-1560d137e4a2"
      },
      "outputs": [
        {
          "name": "stdout",
          "output_type": "stream",
          "text": [
            "정수값 : 10, string : 안녕하세요, float : 10.1\n"
          ]
        }
      ],
      "source": [
        "# format() 함수 이용\n",
        "# format 함수는 {}를 이용하고 숫자도 같이 이용된다.\n",
        "print(f\"정수값 : {10}, string : {'안녕하세요'}, float : {10.10}\")"
      ]
    },
    {
      "cell_type": "code",
      "execution_count": null,
      "metadata": {
        "colab": {
          "base_uri": "https://localhost:8080/"
        },
        "id": "Rb4p5gVEKl9S",
        "outputId": "603cd292-ceb6-4eac-b5aa-eaf7038a7566"
      },
      "outputs": [
        {
          "name": "stdout",
          "output_type": "stream",
          "text": [
            "숫자 '  300'\n",
            "숫자 '300  '\n"
          ]
        }
      ],
      "source": [
        "# format()는 공간확보 및 0으로 채우는 기능도 지원한다.\n",
        "# 콜론(:)을 기준으로 우측에 > 또는 < 부등호를 사용해서 방향을 지정해줄 수 있다.\n",
        "print(\"숫자 '{:>5d}'\".format(300)) # 오른쪽(>)으로 밀어서 출력\n",
        "print(\"숫자 '{:<5d}'\".format(300)) # 왼쪽(<)으로 밀어서 출력"
      ]
    },
    {
      "cell_type": "code",
      "execution_count": null,
      "metadata": {
        "colab": {
          "base_uri": "https://localhost:8080/"
        },
        "id": "KP1qBru_LpOU",
        "outputId": "64a07c51-966e-4493-f771-da06826f3163"
      },
      "outputs": [
        {
          "name": "stdout",
          "output_type": "stream",
          "text": [
            "*****\n",
            "****\n",
            "***\n",
            "**\n",
            "*\n"
          ]
        }
      ],
      "source": [
        "for y in range(5, 0, -1):\n",
        "  for x in range(y):\n",
        "    print(\"*\", end = \"\")\n",
        "\n",
        "  print(\"\")"
      ]
    },
    {
      "cell_type": "code",
      "execution_count": null,
      "metadata": {
        "colab": {
          "base_uri": "https://localhost:8080/"
        },
        "id": "U0ssfVYpMaV9",
        "outputId": "0e939252-493b-457d-92ea-801a40b8721a"
      },
      "outputs": [
        {
          "name": "stdout",
          "output_type": "stream",
          "text": [
            "    *\n",
            "   ***\n",
            "  *****\n",
            " *******\n",
            "*********\n"
          ]
        }
      ],
      "source": [
        "for i in range(1, 6):\n",
        "  for j in range(5-i):\n",
        "    #공백을 찍는 내부 루프\n",
        "    print(\" \", end=\"\")\n",
        "  for j in range(1, i*2):\n",
        "    print(\"*\", end = \"\")\n",
        "  print(\"\")"
      ]
    },
    {
      "cell_type": "code",
      "execution_count": null,
      "metadata": {
        "colab": {
          "base_uri": "https://localhost:8080/"
        },
        "id": "l_XHDQqLOksz",
        "outputId": "250ac2ed-44fd-4709-df87-1590a658c45e"
      },
      "outputs": [
        {
          "name": "stdout",
          "output_type": "stream",
          "text": [
            "    *\n",
            "   ***\n",
            "  *****\n",
            " *******\n",
            "*********\n",
            "*********\n",
            " *******\n",
            "  *****\n",
            "   ***\n",
            "    *\n"
          ]
        }
      ],
      "source": [
        "# 위의 삼각형을 찍는 루프\n",
        "for i in range(1, 6):\n",
        "  for j in range(5-i):\n",
        "    #공백을 찍는 내부 루프\n",
        "    print(\" \", end=\"\")\n",
        "  for j in range(1, i*2):\n",
        "    print(\"*\", end = \"\")\n",
        "  print(\"\")\n",
        "  # 아래의 역삼각형 부분을 별로 찍는 코드\n",
        "for i in range(5):\n",
        "  for j in range(i):\n",
        "    #공백을 찍는 내부 루프\n",
        "    print(\" \", end=\"\")\n",
        "  for j in range(10, (i*2)+1, -1):\n",
        "    print(\"*\", end = \"\")\n",
        "  print(\"\")"
      ]
    },
    {
      "cell_type": "code",
      "execution_count": null,
      "metadata": {
        "id": "o8DR0lhgUpT8"
      },
      "outputs": [],
      "source": [
        "# 소수를 2부터 계속 더할 떄, 2000보다 작은 최대합은 얼마이고,\n",
        "# 마지막으로 더해지는 소수는 얼마인지 출력하는 프로그램을 작성해보자.\n",
        "# 더블루프, 조건식 사용\n",
        "start_num = 0\n",
        "num = 0\n",
        "sum = num\n",
        "while x in True:\n",
        "  if sum >= 2000:\n",
        "    print(\"값이 2000을 초과합니다.\", x)\n",
        "    break\n",
        "  else:\n",
        "    sum += x\n",
        "print(sum)\n",
        "print(\"done\")"
      ]
    },
    {
      "cell_type": "code",
      "execution_count": null,
      "metadata": {
        "id": "3lfuRy8yUmDj"
      },
      "outputs": [],
      "source": [
        "# def 키워드 함수이름(매개변수)\n",
        "def say_hello(name): #함수의 선언부(헤더)\n",
        "  print(\"안녕하세요, \" + name) # 함수의 구현부, (정의부, 몸체)"
      ]
    },
    {
      "cell_type": "code",
      "execution_count": null,
      "metadata": {
        "colab": {
          "base_uri": "https://localhost:8080/"
        },
        "id": "KOn8b-9HU0pd",
        "outputId": "961d5b0e-8822-4fa6-9113-18a67ba092d8"
      },
      "outputs": [
        {
          "name": "stdout",
          "output_type": "stream",
          "text": [
            "안녕하세요, 송몽숙\n"
          ]
        }
      ],
      "source": [
        "# 위와 같이 함수를 정의만 했다면 출력값은 없다. \n",
        "# 출력값이 나오게 하기 위해 호출(call)을 해야한다.\n",
        "# 함수호출(function call)\n",
        "say_hello(\"송몽숙\")"
      ]
    },
    {
      "cell_type": "code",
      "execution_count": null,
      "metadata": {
        "id": "C2nyvuq-VEVC"
      },
      "outputs": [],
      "source": [
        "# 파이썬에서는 오버로딩의 개념이 없다. 같은 함수의 이름이라면 마지막에 정의된 함수만 인식하게 된다.\n",
        "def say_hello(name, msg): #함수의 선언부(헤더)\n",
        "  print(f\"안녕하세요, {name}님 {msg}\") # 함수의 구현부, (정의부, 몸체)"
      ]
    },
    {
      "cell_type": "code",
      "execution_count": null,
      "metadata": {
        "colab": {
          "base_uri": "https://localhost:8080/"
        },
        "id": "Fi7QiXfGWJup",
        "outputId": "4fdd06d1-6f59-4e39-be21-b1bee5a2743e"
      },
      "outputs": [
        {
          "name": "stdout",
          "output_type": "stream",
          "text": [
            "안녕하세요, 송몽숙님 반갑습니다\n"
          ]
        }
      ],
      "source": [
        "say_hello(\"송몽숙\", \"반갑습니다\")"
      ]
    },
    {
      "cell_type": "code",
      "execution_count": null,
      "metadata": {
        "id": "Bik4AqkLWV-3"
      },
      "outputs": [],
      "source": [
        "# 값을 반환하는 함수 예제\n",
        "# start부터 end까지 누적합을 반환하는 함수\n",
        "def get_sum(start, end):\n",
        "  sum = 0\n",
        "  for i in range(start, end+1):\n",
        "    sum += i\n",
        "  return sum"
      ]
    },
    {
      "cell_type": "code",
      "execution_count": null,
      "metadata": {
        "colab": {
          "base_uri": "https://localhost:8080/"
        },
        "id": "eFdeJOv4WwGp",
        "outputId": "b7e49881-3e74-40f6-c835-425472203269"
      },
      "outputs": [
        {
          "name": "stdout",
          "output_type": "stream",
          "text": [
            "55 <class 'int'>\n"
          ]
        }
      ],
      "source": [
        "# get_sum()을 이용하여 범위값의 누적합을 구하는 코드\n",
        "result = get_sum(1, 10)\n",
        "print(result, type(result))"
      ]
    },
    {
      "cell_type": "code",
      "execution_count": null,
      "metadata": {
        "colab": {
          "base_uri": "https://localhost:8080/"
        },
        "id": "ZdYMPNMyanh0",
        "outputId": "724597f8-87f6-4c7e-8774-9af90800f465"
      },
      "outputs": [
        {
          "data": {
            "text/plain": [
              "5050"
            ]
          },
          "execution_count": 14,
          "metadata": {},
          "output_type": "execute_result"
        }
      ],
      "source": [
        "get_sum(1, 100)"
      ]
    },
    {
      "cell_type": "code",
      "execution_count": null,
      "metadata": {
        "colab": {
          "base_uri": "https://localhost:8080/"
        },
        "id": "BzeO2QiYa6vc",
        "outputId": "c8bd1269-cbad-4483-c62d-a70da2e42a34"
      },
      "outputs": [
        {
          "name": "stdout",
          "output_type": "stream",
          "text": [
            "제곱할 정수를 입력하시오 : 2\n",
            "제곱하기 전 2\n",
            "제곱한 후 4\n"
          ]
        }
      ],
      "source": [
        "# 사용자로부터 입력받은 정수를 제곱하여 반환하는 함수를 만들어보시오.\n",
        "# 함수를 선언 및 구현\n",
        "def get_gop(num):\n",
        "  gop = num **2\n",
        "  return gop\n",
        "# 함수 호출\n",
        "num = int(input(\"제곱할 정수를 입력하시오 : \"))\n",
        "print(f\"제곱하기 전 {num}\")\n",
        "print(f\"제곱한 후 {get_gop(num)}\")"
      ]
    },
    {
      "cell_type": "code",
      "execution_count": null,
      "metadata": {
        "colab": {
          "base_uri": "https://localhost:8080/"
        },
        "id": "3JKDqF4HeEG3",
        "outputId": "fe522a23-8065-4034-a424-9d30e22215ec"
      },
      "outputs": [
        {
          "data": {
            "text/plain": [
              "4"
            ]
          },
          "execution_count": 16,
          "metadata": {},
          "output_type": "execute_result"
        }
      ],
      "source": [
        "get_gop(2)"
      ]
    },
    {
      "cell_type": "code",
      "execution_count": null,
      "metadata": {
        "colab": {
          "base_uri": "https://localhost:8080/"
        },
        "id": "u8gwvQIneGj_",
        "outputId": "7d5bb8cb-ef8f-431a-dc25-a4eeb8f9bc9a"
      },
      "outputs": [
        {
          "data": {
            "text/plain": [
              "9"
            ]
          },
          "execution_count": 17,
          "metadata": {},
          "output_type": "execute_result"
        }
      ],
      "source": [
        "get_gop(3)"
      ]
    },
    {
      "cell_type": "code",
      "execution_count": null,
      "metadata": {
        "colab": {
          "base_uri": "https://localhost:8080/"
        },
        "id": "Z5eYerUteIs7",
        "outputId": "03afc644-e16e-4c39-cc3c-26245859d1a3"
      },
      "outputs": [
        {
          "data": {
            "text/plain": [
              "25"
            ]
          },
          "execution_count": 18,
          "metadata": {},
          "output_type": "execute_result"
        }
      ],
      "source": [
        "get_gop(5)"
      ]
    },
    {
      "cell_type": "code",
      "execution_count": null,
      "metadata": {
        "colab": {
          "base_uri": "https://localhost:8080/"
        },
        "id": "8hpsx7O2eNXm",
        "outputId": "a4a709c4-4a3e-4a4f-dffc-6ea669dc8d53"
      },
      "outputs": [
        {
          "name": "stdout",
          "output_type": "stream",
          "text": [
            "정수를 입력하시오 : -320\n",
            "정수를 입력하시오320\n",
            "입력한 정수-320, 320\n",
            "두 수 중 더 큰 수는 320입니다.\n"
          ]
        }
      ],
      "source": [
        "# 두 개의 정수를 입력받아, 더 큰 수를 찾아 리턴하는 함수를 만들어보자.\n",
        "\n",
        "def get_max(num1, num2):\n",
        "  max_ = max(num1, num2)\n",
        "  return max_\n",
        "\n",
        "num1 = int(input(\"정수를 입력하시오 : \"))\n",
        "num2 = int(input(\"정수를 입력하시오\"))\n",
        "print(f\"입력한 정수{num1}, {num2}\")\n",
        "print(f\"두 수 중 더 큰 수는 {get_max(num1, num2)}입니다.\")"
      ]
    },
    {
      "cell_type": "code",
      "execution_count": null,
      "metadata": {
        "id": "WRpaZ64mjych"
      },
      "outputs": [],
      "source": [
        "# 거듭제곱 구하는 함수\n",
        "\n",
        "def get_ggop()"
      ]
    },
    {
      "cell_type": "code",
      "execution_count": null,
      "metadata": {
        "id": "9i0Tggzrlxsf"
      },
      "outputs": [],
      "source": [
        "# 섭씨 온도를 화씨 온도로 변환하여 반환하는 함수 FtoC()\n",
        "def FtoC(num):\n",
        "  F = (5.0*(num-32.0))/9.0\n",
        "  return F"
      ]
    },
    {
      "cell_type": "code",
      "execution_count": null,
      "metadata": {
        "id": "bNps-IxTwE6E"
      },
      "outputs": [],
      "source": []
    },
    {
      "cell_type": "code",
      "execution_count": null,
      "metadata": {
        "colab": {
          "base_uri": "https://localhost:8080/"
        },
        "id": "7s2UqZuQnCq_",
        "outputId": "ec0b0d87-27c2-40f7-e2e4-b4e92c8fe68a"
      },
      "outputs": [
        {
          "name": "stdout",
          "output_type": "stream",
          "text": [
            "섭씨를 입력하시오 : 70\n",
            "입력하신 섭씨 70.0을(를), 화씨로 변환하면 21.11입니다.\n"
          ]
        }
      ],
      "source": [
        "num = float(input(\"섭씨를 입력하시오 : \"))\n",
        "print(f\"입력하신 섭씨 {num}을(를), 화씨로 변환하면 {round(FtoC(num), 2)}입니다.\")"
      ]
    },
    {
      "cell_type": "code",
      "execution_count": null,
      "metadata": {
        "id": "xlCym88Xv_Q2"
      },
      "outputs": [],
      "source": [
        "def sum(x, y):\n",
        "  return x+y\n",
        "def my(x, y):\n",
        "  return x-y\n",
        "def gop(x, y):\n",
        "  return x*y\n",
        "def na(x, y):\n",
        "  return round(x/y, 2)"
      ]
    },
    {
      "cell_type": "code",
      "execution_count": null,
      "metadata": {
        "colab": {
          "base_uri": "https://localhost:8080/"
        },
        "id": "l5JPj15s8veH",
        "outputId": "bb0de465-93d7-45cc-e9a6-bf4fc9afc288"
      },
      "outputs": [
        {
          "name": "stdout",
          "output_type": "stream",
          "text": [
            "첫번째 수를 입력하세요 : 10\n",
            "원하는 연산을 입력하세요 : *\n",
            "두번째 수를 입력하세요 : 2\n",
            "20.0\n",
            "계산을 계속하시겠습니까? (y/n) : n\n",
            "계산기를 종료합니다.\n"
          ]
        }
      ],
      "source": [
        "\n",
        "temp = \"y\"\n",
        "while True:\n",
        "  if temp == \"n\":\n",
        "    break\n",
        "  elif temp == \"y\":\n",
        "    x = float(input(\"첫번째 수를 입력하세요 : \"))\n",
        "    op = input(\"원하는 연산을 입력하세요 : \")\n",
        "    y = float(input(\"두번째 수를 입력하세요 : \"))\n",
        "    if op == \"+\" :\n",
        "      print(sum(x, y))\n",
        "    elif op == \"-\" :\n",
        "      print(my(x, y))\n",
        "    elif op == \"*\" :\n",
        "      print(gop(x, y))\n",
        "    elif op == \"/\":\n",
        "      print(na(x, y))\n",
        "    else:\n",
        "      print(\"잘못된 계산입니다.\")\n",
        "    temp = input(\"계산을 계속하시겠습니까? (y/n) : \")\n",
        "print(\"계산기를 종료합니다.\")\n"
      ]
    },
    {
      "cell_type": "code",
      "execution_count": null,
      "metadata": {
        "colab": {
          "base_uri": "https://localhost:8080/"
        },
        "id": "ITkefh-U-ROP",
        "outputId": "0daef6de-85c7-40cc-d32d-83057a519470"
      },
      "outputs": [
        {
          "name": "stdout",
          "output_type": "stream",
          "text": [
            "하잉\n"
          ]
        }
      ],
      "source": [
        "print(\"하잉\")"
      ]
    },
    {
      "cell_type": "code",
      "execution_count": null,
      "metadata": {
        "id": "EwFibs4AAjHN"
      },
      "outputs": [],
      "source": [
        "# 함수가 리턴값이 없는 경우\n",
        "\n",
        "def printInfo(name, age):\n",
        "  print(\"=\"*20)\n",
        "  print(f\"이름 : {name}\")\n",
        "  print(f\"나이 : {age}\")\n",
        "  print(\"=\"*20)\n",
        "  return #리턴값이 존재하지 않는다면 return문 뒤에 아무 내용도 기재하지 않는다."
      ]
    },
    {
      "cell_type": "code",
      "execution_count": null,
      "metadata": {
        "colab": {
          "base_uri": "https://localhost:8080/"
        },
        "id": "SyDeLNbmBXyD",
        "outputId": "a4b9e323-31bf-448a-aea1-c87953aa30fb"
      },
      "outputs": [
        {
          "name": "stdout",
          "output_type": "stream",
          "text": [
            "이름과 나이를 입력해주세요.(입력종료 : q)\n",
            "회원명을 입력하세요 : dd\n",
            "나이를 입력하세요 : 22\n",
            "====================\n",
            "이름 : dd\n",
            "나이 : 22\n",
            "====================\n",
            "계속 입력하시겠습니까? (y / n) : n\n",
            "입력을 종료합니다.\n"
          ]
        }
      ],
      "source": [
        "print(\"이름과 나이를 입력해주세요.(입력종료 : q)\")\n",
        "end_input = \"y\"\n",
        "while True:\n",
        "  if end_input == \"n\" :\n",
        "    print(\"입력을 종료합니다.\")\n",
        "    break\n",
        "  elif end_input == \"y\" :\n",
        "    name = input(\"회원명을 입력하세요 : \")\n",
        "    age = int(input(\"나이를 입력하세요 : \"))\n",
        "    printInfo(name, age)\n",
        "\n",
        "  end_input = input(\"계속 입력하시겠습니까? (y / n) : \")"
      ]
    },
    {
      "cell_type": "code",
      "execution_count": null,
      "metadata": {
        "colab": {
          "base_uri": "https://localhost:8080/"
        },
        "id": "YD5kIR3rBiHj",
        "outputId": "bd0fd2c2-cf50-4c88-ba67-ad1d860d80f5"
      },
      "outputs": [
        {
          "name": "stdout",
          "output_type": "stream",
          "text": [
            "안녕하세요 몽숙, 반갑습니다.\n",
            "안녕하세요 몽숙, 안녕히가세요.\n"
          ]
        }
      ],
      "source": [
        "# 디폴트 인수(default argument)\n",
        "# 함수의 매개변수가 기본 값을 가지게 하는 방법\n",
        "# hello()는 매개변수 2개를 가지지만 디폴트 인수가 있어서 name에 대응되는 인수값만 가지고도 호출이 가능하다.\n",
        "def hello(name, msg = \"반갑습니다.\"):\n",
        "  print(f\"안녕하세요 {name}, {msg}\")\n",
        "hello(\"몽숙\")\n",
        "# 매개변수 name, msg는 기본 인수값이 존재하지만 아래와 같이 매개변수를 직접 입력하면 기본 인수값은 무시된다.\n",
        "hello(\"몽숙\", \"안녕히가세요.\")"
      ]
    },
    {
      "cell_type": "code",
      "execution_count": null,
      "metadata": {
        "colab": {
          "base_uri": "https://localhost:8080/"
        },
        "id": "xYMWoBbKOvid",
        "outputId": "cac3a432-b1bd-464c-e985-606da9793769"
      },
      "outputs": [
        {
          "name": "stdout",
          "output_type": "stream",
          "text": [
            "호출 전 n의 값 :  100\n",
            "change() 내의 num 값 :  110\n",
            "호출 후 n의 값 :  100\n"
          ]
        }
      ],
      "source": [
        "# 값에 의한 호출(call by value), 값에 의한 전달(pass by value)은 동일한 개념이다\n",
        "# 함수를 호출할 떄, 값이 복사가된다. 호출한곳에 영향을 까치지 않는다.\n",
        "\n",
        "def change(num):\n",
        "  num += 10\n",
        "# 파이썬에서는 모든 값들이 객체로 이루어져있다.\n",
        "  print(\"change() 내의 num 값 : \", num)\n",
        "\n",
        "n = 100\n",
        "print(\"호출 전 n의 값 : \", n)\n",
        "\n",
        "change(n)\n",
        "print(\"호출 후 n의 값 : \", n)"
      ]
    },
    {
      "cell_type": "code",
      "execution_count": null,
      "metadata": {
        "colab": {
          "base_uri": "https://localhost:8080/"
        },
        "id": "MTk9xU-KkyDi",
        "outputId": "9c214c07-bc22-46d9-dc5f-7ecaa112ff0d"
      },
      "outputs": [
        {
          "name": "stdout",
          "output_type": "stream",
          "text": [
            "호출 전 msg 값 : 안녕하세요 저는 파이썬을 \n",
            "change() 내의 string 값 :  안녕하세요 저는 파이썬을 공부합니다.\n",
            "호출 후 msg 값 : 안녕하세요 저는 파이썬을 \n"
          ]
        }
      ],
      "source": [
        "# 문자열 전달에 대한 실습\n",
        "\n",
        "def change(string):\n",
        "  string += \"공부합니다.\"\n",
        "  print(\"change() 내의 string 값 : \", string)\n",
        "\n",
        "\n",
        "msg = \"안녕하세요 저는 파이썬을 \"\n",
        "print(\"호출 전 msg 값 : \" + msg)\n",
        "change(msg)\n",
        "print(\"호출 후 msg 값 : \" + msg)"
      ]
    },
    {
      "cell_type": "code",
      "execution_count": null,
      "metadata": {
        "colab": {
          "base_uri": "https://localhost:8080/"
        },
        "id": "D8BCL7tJpRoa",
        "outputId": "3bc133c2-9fda-4eff-94c6-ee09567695b8"
      },
      "outputs": [
        {
          "name": "stdout",
          "output_type": "stream",
          "text": [
            "change() 함수 호출 전 list의 값 :  ['안녕', 1, 2, 3, 1.1]\n",
            "change() 함수 호출 전 list의 주소값 :  139912753023808\n",
            "change() 함수 내 연산 전 li의 값 :  ['안녕', 1, 2, 3, 1.1]\n",
            "change() 함수 내 연산 전 li의 주소값 :  139912753023808\n",
            "change() 함수 내 연산 후 li의 값 :  ['안녕', 1, 2, 3, 1.1, 100, 200]\n",
            "change() 함수 내 연산 후 li의 주소값 :  139912753023808\n",
            "change() 함수 호출 후 list의 값 :  ['안녕', 1, 2, 3, 1.1, 100, 200]\n",
            "change() 함수 호출 후 list의 주소값 :  139912753023808\n"
          ]
        }
      ],
      "source": [
        "# call by reference에 대한 실습\n",
        "# 함수를 호출할 때 실질적인 주소값이 넘어가서 호출한 곳에 영향을 끼치는 형태\n",
        "# 파이썬에서는 함수의 매개변수값이 전부 객체인데 list, dictionary와 같은 mutable object,\n",
        "# 즉 변경 가능한 객체이므로 call by objective-reference라고 한다.\n",
        "\n",
        "def change(li):\n",
        "  print(\"change() 함수 내 연산 전 li의 값 : \", li)\n",
        "  print(\"change() 함수 내 연산 전 li의 주소값 : \", id(li))\n",
        "  li += [100, 200]\n",
        "  print(\"change() 함수 내 연산 후 li의 값 : \", li)\n",
        "  print(\"change() 함수 내 연산 후 li의 주소값 : \", id(li))\n",
        "\n",
        "list = [\"안녕\", 1, 2, 3, 1.1]\n",
        "print(\"change() 함수 호출 전 list의 값 : \", list)\n",
        "print(\"change() 함수 호출 전 list의 주소값 : \", id(list))\n",
        "\n",
        "change(list)\n",
        "print(\"change() 함수 호출 후 list의 값 : \", list)\n",
        "print(\"change() 함수 호출 후 list의 주소값 : \", id(list))"
      ]
    },
    {
      "cell_type": "code",
      "execution_count": null,
      "metadata": {
        "colab": {
          "base_uri": "https://localhost:8080/"
        },
        "id": "XbaQW7ILsp-T",
        "outputId": "0f41ac65-4fda-477a-8ef8-f18dd40d9d2d"
      },
      "outputs": [
        {
          "name": "stdout",
          "output_type": "stream",
          "text": [
            "{'name': '송몽숙', 'age': 32, 'height': 165}\n",
            "change() 함수 연산 전 dic의 값 :  {'name': '송몽숙', 'age': 32, 'height': 165}\n",
            "change() 함수 연산 전 dic의 주소값 :  139912985661264\n",
            "change() 함수 내 연산 전 dic의 값 :  {'name': '송몽숙', 'age': 32, 'height': 165}\n",
            "change() 함수 내 연산 전 dic의 주소값 :  139912985661264\n",
            "change() 함수 내 연산 후 dic의 값 :  {'name': '송몽숙', 'age': 32, 'height': 165, 'sex': '여성'}\n",
            "change() 함수 내 연산 후 dic의 주소값 :  139912985661264\n",
            "{'name': '송몽숙', 'age': 32, 'height': 165, 'sex': '여성'}\n",
            "change() 함수 연산 후 dic의 값 :  {'name': '송몽숙', 'age': 32, 'height': 165, 'sex': '여성'}\n",
            "change() 함수 연산 후 dic의 주소값 :  139912985661264\n"
          ]
        }
      ],
      "source": [
        "# mutable object 중 dictionary 라는 타입이 있다.\n",
        "# 딕셔너리 타입의 형태는 키와 값의 쌍으로 이루어져 있다.\n",
        "# 딕셔너리의 키 값은 유니크한 값이 되어야 한다. 그러나 값은 변경 가능하다.\n",
        "# 딕셔너리의 call by reference가 성립되는 이유는 mutable object이기 때문이다.\n",
        "def change(dic):\n",
        "  print(\"change() 함수 내 연산 전 dic의 값 : \", dic)\n",
        "  print(\"change() 함수 내 연산 전 dic의 주소값 : \", id(dic))\n",
        "  dic[\"sex\"] = \"여성\"\n",
        "  print(\"change() 함수 내 연산 후 dic의 값 : \", dic)\n",
        "  print(\"change() 함수 내 연산 후 dic의 주소값 : \", id(dic))\n",
        "\n",
        "dic = {\"name\" : \"송몽숙\", \"age\" : 32, \"height\" : 165}\n",
        "print(dic)\n",
        "print(\"change() 함수 연산 전 dic의 값 : \", dic)\n",
        "print(\"change() 함수 연산 전 dic의 주소값 : \", id(dic))\n",
        "change(dic)\n",
        "print(dic)\n",
        "print(\"change() 함수 연산 후 dic의 값 : \", dic)\n",
        "print(\"change() 함수 연산 후 dic의 주소값 : \", id(dic))"
      ]
    },
    {
      "cell_type": "code",
      "execution_count": null,
      "metadata": {
        "colab": {
          "base_uri": "https://localhost:8080/"
        },
        "id": "eWbeng4CuvSE",
        "outputId": "6fded1c5-3768-4bc1-998d-c034ea0eff13"
      },
      "outputs": [
        {
          "name": "stdout",
          "output_type": "stream",
          "text": [
            "파이썬 공부\n"
          ]
        }
      ],
      "source": [
        "# 지역변수와 전역변수에 대한 실습\n",
        "# 지역변수 : 파이썬에서는 함수 안에 정의된 변수를 지역변수라고 한다.\n",
        "# 지역변수의 범위(scope)는 함수 내에서만 사용되고 함수 호출 뒤 종료되면 지역변수는 소멸된다.\n",
        "\n",
        "def test():\n",
        "  text = \"파이썬 공부\" # 지역변수 text에 문자열 할당\n",
        "  print(text) # 출력함수를 이용하여 text를 출력함.\n",
        "# test()를 호출한 후, \"파이썬 공부\"라는 문자열을 출력하면서 리턴값은 없다.\n",
        "test()"
      ]
    },
    {
      "cell_type": "code",
      "execution_count": null,
      "metadata": {
        "colab": {
          "base_uri": "https://localhost:8080/"
        },
        "id": "q7C6wJyZRzMJ",
        "outputId": "d9918ee4-b0f9-4fbb-a792-a25571916ddf"
      },
      "outputs": [
        {
          "name": "stdout",
          "output_type": "stream",
          "text": [
            "파이썬 공부\n",
            "<function text at 0x7f3ff9f07d40>\n"
          ]
        }
      ],
      "source": [
        "def test():\n",
        "  text = \"파이썬 공부\" # 지역변수 text에 문자열 할당, 범위는 test() 내에서만 사용\n",
        "  print(text) # 출력함수를 이용하여 text를 출력함.\n",
        "# test()를 호출한 후, \"파이썬 공부\"라는 문자열을 출력하면서 리턴값은 없다.\n",
        "test()\n",
        "# 전역변수에서 text()가 정의되지 않았기 때문에 오류가 난다.\n",
        "print(text)"
      ]
    },
    {
      "cell_type": "code",
      "execution_count": null,
      "metadata": {
        "colab": {
          "base_uri": "https://localhost:8080/"
        },
        "id": "BkbJ0magSoQK",
        "outputId": "7fb59d27-83ef-4b97-9e16-65498e5c129e"
      },
      "outputs": [
        {
          "name": "stdout",
          "output_type": "stream",
          "text": [
            "파이썬 공부\n"
          ]
        }
      ],
      "source": [
        "# 전역변수 : 함수의 외부에 정의된 변수를 전역변수라고 칭한다.\n",
        "def test():\n",
        "  print(text) # test() 함수 내 text라는 지역변수가 없을 때는 전역변수를 가져와서 사용한다.\n",
        "\n",
        "text = \"파이썬 공부\"\n",
        "test()"
      ]
    },
    {
      "cell_type": "code",
      "execution_count": null,
      "metadata": {
        "colab": {
          "base_uri": "https://localhost:8080/"
        },
        "id": "67ttonsPUaig",
        "outputId": "f7b73bdc-d794-40e6-e8ec-248c163e3b4b"
      },
      "outputs": [
        {
          "name": "stdout",
          "output_type": "stream",
          "text": [
            "파이썬 공부\n"
          ]
        }
      ],
      "source": [
        "# 전역변수 : 함수의 외부에 정의된 변수를 전역변수라고 칭한다.\n",
        "def test():\n",
        "  print(text)\n",
        "\n",
        "test()\n",
        "text = \"파이썬 공부\""
      ]
    },
    {
      "cell_type": "code",
      "execution_count": null,
      "metadata": {
        "colab": {
          "base_uri": "https://localhost:8080/"
        },
        "id": "RvD-SEcVU5n9",
        "outputId": "f2bcb6c1-7966-4f3c-9181-07f31a28386e"
      },
      "outputs": [
        {
          "name": "stdout",
          "output_type": "stream",
          "text": [
            "파이썬 공부\n"
          ]
        }
      ],
      "source": []
    },
    {
      "cell_type": "code",
      "execution_count": null,
      "metadata": {
        "colab": {
          "base_uri": "https://localhost:8080/"
        },
        "id": "IHpiZ-sGbLvj",
        "outputId": "eba92350-bea1-49ae-f053-cd55579c4dfc"
      },
      "outputs": [
        {
          "name": "stdout",
          "output_type": "stream",
          "text": [
            "함수 호출 전 my_list의 주소값 140564059903632\n",
            "함수 내 매개변수 my_list의 주소값 140564059903632\n",
            "함수 내 매개변수 my_list 할당 후 주소값 140564059961456\n",
            "함수 내부에서의 my list 값 출력 :  [1, 2, 3, 4]\n",
            "함수 외부에서의 my list 값 출력 [100, 200, 300, 400]\n",
            "함수 호출 후 my_list의 주소값 140564059903632\n"
          ]
        }
      ],
      "source": [
        "# 매개변수는 함수의 선언부에 존재하며 함수가 호출될 때 비로소 메모리에 할당이 된다.\n",
        "# 함수가 종료되면 매개변수도 소멸된다.\n",
        "# 매개변수도 지역변수의 일종이다.\n",
        "\n",
        "def list_test(my_list):\n",
        "  print(\"함수 내 매개변수 my_list의 주소값\", id(my_list))\n",
        "  # 매개변수로 넘어온 my_list에 새로운 리스트를 할당한다.\n",
        "  # 매개변수로 넘어온 메모리의 주소를 버리고 새롭게 할당된 리스트의 주소를 가지게된다.\n",
        "  my_list = [1, 2, 3, 4]\n",
        "  print(\"함수 내 매개변수 my_list 할당 후 주소값\", id(my_list))\n",
        "  print(\"함수 내부에서의 my list 값 출력 : \", my_list)\n",
        "\n",
        "\n",
        "# my_list 타입은 list이므로 변경가능객체\n",
        "my_list = [100, 200, 300, 400]\n",
        "print(\"함수 호출 전 my_list의 주소값\", id(my_list))\n",
        "list_test(my_list)\n",
        "print(\"함수 외부에서의 my list 값 출력\", my_list)\n",
        "print(\"함수 호출 후 my_list의 주소값\", id(my_list))"
      ]
    },
    {
      "cell_type": "code",
      "execution_count": null,
      "metadata": {
        "colab": {
          "base_uri": "https://localhost:8080/"
        },
        "id": "yoljr8PWCkkJ",
        "outputId": "f2edd696-5886-4737-ebca-a837bf722b07"
      },
      "outputs": [
        {
          "name": "stdout",
          "output_type": "stream",
          "text": [
            "1 안녕 5\n",
            "(1, '안녕', 5)\n",
            "<class 'tuple'>\n",
            "[1, '안녕', 5, '반갑습니다', '안', '녕', '하', '세', '요']\n"
          ]
        }
      ],
      "source": [
        "# 여러 개의 값을 반환하는 함수 실습 타 프로그래밍 언어에서는 함수가 항상 하나의 값만을 반환하거나 반환값이 없다.\n",
        "# 파이썬에서는 튜플을 이용하여 여러 개의 값을 반환할 수 있다.\n",
        "# 튜플(tuple)은 몇가지만 제외하고 리스트와 거의 비슷한 자료구조 형태이다.\n",
        "# 리스트는 []로 값을 둘러싸지만, 튜플은 ()로 값을 둘러싼다\n",
        "# 리스트는 변경 가능한 객체(생성, 삭제, 수정 추가)이지만\n",
        "# 튜플은 한번 값으로 만들면 그 값을 변경할 수 없는 객체이다.\n",
        "\n",
        "# 파이썬에서는 튜플의 형태로 여러개의 값을 리턴하지만\n",
        "# 함수는 한 가지의 값을 리턴해준다는 정설에는 부합하다.\n",
        "# 그 이유는 튜플이라는 형태로 한개를 넘기기 때문이다.\n",
        "def tuple_return():\n",
        "  return 1, \"안녕\", 5\n",
        "\n",
        "a, b, c = tuple_return()\n",
        "tuple_variable = tuple_return()\n",
        "print(a, b, c)\n",
        "print(tuple_variable)\n",
        "print(type(tuple_variable))\n",
        "li = list(tuple_variable)\n",
        "li.append(\"반갑습니다\")\n",
        "li += \"안녕하세요\"\n",
        "print(li)"
      ]
    },
    {
      "cell_type": "code",
      "execution_count": null,
      "metadata": {
        "colab": {
          "base_uri": "https://localhost:8080/"
        },
        "id": "50ehf9TFnr0Z",
        "outputId": "9566f8f3-4d77-452a-81ee-2bcb7c300014"
      },
      "outputs": [
        {
          "name": "stdout",
          "output_type": "stream",
          "text": [
            "100\n",
            "1000\n",
            "10000\n",
            "두 정수의 합 :  60\n",
            "두 정수의 합 :  150\n",
            "람다식을 이용한 무명함수 sum()의 값 :  60\n",
            "람다식을 이용한 무명함수 sum()의 값 :  250\n",
            "<function main.<locals>.<lambda> at 0x7f95dc8b19e0>\n",
            "60\n"
          ]
        }
      ],
      "source": [
        "# 무명함수(익명함수)에 대한 실습\n",
        "# 무명함수는 함수명이 없고 구현부만 존재한다. 파이썬에서는 무명함수를 만들때\n",
        "# lambda 키워드로 만들 수 있다. 무명함수는 print()등과 같은 일반함수를 호출할 수 없다.\n",
        "# 전역변수를 참조할 수 없다.\n",
        "# lambda 인수1, 인수2 : 수식 <--문법\n",
        "\n",
        "def main():\n",
        "  print(\"두 정수의 합 : \", get_sum(10, 50))\n",
        "  print(\"두 정수의 합 : \", get_sum(100, 50))\n",
        "  print(\"람다식을 이용한 무명함수 sum()의 값 : \", sum(10, 50))\n",
        "  print(\"람다식을 이용한 무명함수 sum()의 값 : \", sum(100, 150))\n",
        "  # 람다함수를 출력하면 결과적으로 함수 객체를 출력하는 형태가 된다.\n",
        "  print(lambda x, y : x + y)\n",
        "  # 아래 코드가 실질적으로 람다식을 이용한 무명함수를 직접 호출한 형태\n",
        "  print((lambda x, y : x + y)(10, 50))\n",
        "#일반적인 함수\n",
        "def get_sum(x, y):\n",
        "  return x+y\n",
        "\n",
        "#lambda 키워드를 이용한 sum() 만들기\n",
        "# 함다 함수는 코드 안에 함수를 포함하는 어느 곳이든지 다 사용이 가능하다.\n",
        "# 가장 많이 사용되는 곳은 GUI 프로그램에서 이벤트를 처리하는 콜백함수 형태로 많이 사용된다.\n",
        "sum = lambda x, y : x + y\n",
        "# 람다식으로 구성되어진 리스트 데이터\n",
        "li = [lambda x : x **2, lambda x : x **3, lambda x : x **4]\n",
        "\n",
        "for f in li:\n",
        "  print(f(10))\n",
        "\n",
        "main()"
      ]
    },
    {
      "cell_type": "code",
      "execution_count": null,
      "metadata": {
        "colab": {
          "base_uri": "https://localhost:8080/",
          "height": 137
        },
        "id": "tFkFKtafrAb5",
        "outputId": "c29632e0-902d-439b-c354-1b5098035567"
      },
      "outputs": [
        {
          "ename": "SyntaxError",
          "evalue": "ignored",
          "output_type": "error",
          "traceback": [
            "\u001b[0;36m  File \u001b[0;32m\"<ipython-input-1-a6c17ee6d5e7>\"\u001b[0;36m, line \u001b[0;32m1\u001b[0m\n\u001b[0;31m    class Name(odject):\u001b[0m\n\u001b[0m                       ^\u001b[0m\n\u001b[0;31mSyntaxError\u001b[0m\u001b[0;31m:\u001b[0m unexpected EOF while parsing\n"
          ]
        }
      ],
      "source": [
        "class Name(odject):"
      ]
    },
    {
      "cell_type": "code",
      "execution_count": null,
      "metadata": {
        "id": "KHQbrRj370Gf"
      },
      "outputs": [],
      "source": [
        "class Book (object):\n",
        "  author = \"\"\n",
        "  title = \"\"\n",
        "  publisher = \"\"\n",
        "  date = \"\""
      ]
    },
    {
      "cell_type": "code",
      "execution_count": null,
      "metadata": {
        "colab": {
          "base_uri": "https://localhost:8080/"
        },
        "id": "ZcEKmtJ68q-Z",
        "outputId": "5891c21c-cfcf-4b4c-9cdf-6c2f945e9890"
      },
      "outputs": [
        {
          "name": "stdout",
          "output_type": "stream",
          "text": [
            "sihyun\n"
          ]
        }
      ],
      "source": [
        "book = Book()\n",
        "book.author = \"sihyun\"\n",
        "book.title = \"megal\"\n",
        "book.publisher = \"femi\"\n",
        "book.date = \"22.4.7\"\n",
        "print(book.author)"
      ]
    },
    {
      "cell_type": "code",
      "execution_count": null,
      "metadata": {
        "id": "t56So-XA9Fxi"
      },
      "outputs": [],
      "source": [
        "class Book (object):\n",
        "  author = \"\"\n",
        "  title = \"\"\n",
        "  publisher = \"\"\n",
        "  date = \"\"\n",
        "  def print_info(self):\n",
        "    print(f\"Author : {self.author}\")\n",
        "    print(f\"Title : {self.title}\")\n",
        "    print(f\"Publisher : {self.publisher}\")\n",
        "    print(f\"Date : {self.date}\")\n",
        "           "
      ]
    },
    {
      "cell_type": "code",
      "execution_count": null,
      "metadata": {
        "colab": {
          "base_uri": "https://localhost:8080/"
        },
        "id": "mpyWxe4P_7Bw",
        "outputId": "6ddbbc2e-79ef-4d4a-d687-e2b23d8865b4"
      },
      "outputs": [
        {
          "name": "stdout",
          "output_type": "stream",
          "text": [
            "Author : sihyun\n",
            "Title : megal\n",
            "Publisher : femi\n",
            "Date : 22.4.7\n"
          ]
        }
      ],
      "source": [
        "book = Book()\n",
        "book.author = \"sihyun\"\n",
        "book.title = \"megal\"\n",
        "book.publisher = \"femi\"\n",
        "book.date = \"22.4.7\"\n",
        "book.print_info()"
      ]
    },
    {
      "cell_type": "code",
      "execution_count": null,
      "metadata": {
        "id": "uPhMJles_2Si"
      },
      "outputs": [],
      "source": [
        "class Book (object):\n",
        "  author = \"\"\n",
        "  title = \"\"\n",
        "  publisher = \"\"\n",
        "  date = \"\"\n",
        "  def print_info(self):\n",
        "    print(f\"Author : {self.author}\")\n",
        "    print(f\"Title : {self.title}\")\n",
        "    print(f\"Publisher : {self.publisher}\")\n",
        "    print(f\"Date : {self.date}\")\n",
        "  "
      ]
    },
    {
      "cell_type": "code",
      "execution_count": null,
      "metadata": {
        "colab": {
          "base_uri": "https://localhost:8080/"
        },
        "id": "2W_GOjVAC8pZ",
        "outputId": "14a3ee91-0a9f-4350-bae7-f41c9b23f82b"
      },
      "outputs": [
        {
          "name": "stdout",
          "output_type": "stream",
          "text": [
            "Author : sihyun\n",
            "Title : megal\n",
            "Publisher : femi\n",
            "Date : 22.4.7\n"
          ]
        }
      ],
      "source": [
        "b1 = Book()\n",
        "b1.author = \"sihyun\"\n",
        "b1.title = \"megal\"\n",
        "b1.publisher = \"femi\"\n",
        "b1.date = \"22.4.7\"\n",
        "b1.print_info()"
      ]
    },
    {
      "cell_type": "code",
      "execution_count": null,
      "metadata": {
        "id": "BgcqtgmtDODY"
      },
      "outputs": [],
      "source": [
        "class Book (object):\n",
        "  author = \"\"\n",
        "  title = \"\"\n",
        "  publisher = \"\"\n",
        "  date = \"\"\n",
        "  def print_info(self):\n",
        "    print(f\"Author : {self.author}\")\n",
        "    print(f\"Title : {self.title}\")\n",
        "    print(f\"Publisher : {self.publisher}\")\n",
        "    print(f\"Date : {self.date}\")"
      ]
    },
    {
      "cell_type": "code",
      "execution_count": null,
      "metadata": {
        "colab": {
          "base_uri": "https://localhost:8080/"
        },
        "id": "0gwdN6YaDl41",
        "outputId": "6f728442-973b-4760-93fc-70dd480db48d"
      },
      "outputs": [
        {
          "name": "stdout",
          "output_type": "stream",
          "text": [
            "Author : sihyun\n",
            "Title : megal\n",
            "Publisher : femi\n",
            "Date : 22.4.7\n"
          ]
        }
      ],
      "source": [
        "b1 = Book()\n",
        "b1.author = \"sihyun\"\n",
        "b1.title = \"megal\"\n",
        "b1.publisher = \"femi\"\n",
        "b1.date = \"22.4.7\"\n",
        "b1.print_info()"
      ]
    },
    {
      "cell_type": "code",
      "execution_count": null,
      "metadata": {
        "id": "5-VrGstkDnaz"
      },
      "outputs": [],
      "source": [
        "class Book (object):\n",
        "  author = \"\"\n",
        "  title = \"\"\n",
        "  publisher = \"\"\n",
        "  date = \"\"\n",
        "  count = 0\n",
        "  def print_info(self):\n",
        "    print(f\"Author : {self.author}\")\n",
        "    print(f\"Title : {self.title}\")\n",
        "    print(f\"Publisher : {self.publisher}\")\n",
        "    print(f\"Date : {self.date}\")\n",
        "    print(f\"Count : {self.count}\")"
      ]
    },
    {
      "cell_type": "code",
      "execution_count": null,
      "metadata": {
        "colab": {
          "base_uri": "https://localhost:8080/"
        },
        "id": "GSKezoCaFPVG",
        "outputId": "d8e9b608-6c1c-4db5-ebd8-28aab90cacdd"
      },
      "outputs": [
        {
          "name": "stdout",
          "output_type": "stream",
          "text": [
            "Author : sihyun\n",
            "Title : megal\n",
            "Publisher : femi\n",
            "Date : 22.4.7\n",
            "Count : 1\n"
          ]
        }
      ],
      "source": [
        "b1 = Book()\n",
        "Book.count += 1\n",
        "b1.author = \"sihyun\"\n",
        "b1.title = \"megal\"\n",
        "b1.publisher = \"femi\"\n",
        "b1.date = \"22.4.7\"\n",
        "b1.print_info()"
      ]
    },
    {
      "cell_type": "markdown",
      "metadata": {
        "id": "iyd87VM1FW3B"
      },
      "source": [
        " 동물농장\n",
        "\n",
        "  Animal 클래스\n",
        "    - eat() \"동물이 먹이를 먹습니다.\"\n",
        "    - sleep() \"동물이 잠에 들었습니다.\"\n",
        "\n",
        "  Lion 클래스를 만들어서 Animal 클래스를 상속\n",
        "    - hunt() \"사자가 사냥을 합니다.\"\n",
        "  Bird 클래스를 만들어서 Animal 클래스를 상속\n",
        "    - fly() \"새가 날아다닙니다.\""
      ]
    },
    {
      "cell_type": "code",
      "execution_count": null,
      "metadata": {
        "id": "ZchG3Lv2GRht"
      },
      "outputs": [],
      "source": [
        "class Animal:\n",
        "  def eat(self):\n",
        "    print(\"동물이 먹이를 먹습니다\")\n",
        "  def sleep(self):\n",
        "    print(\"동물이 잠에 들었습니다\")"
      ]
    },
    {
      "cell_type": "code",
      "execution_count": null,
      "metadata": {
        "colab": {
          "base_uri": "https://localhost:8080/"
        },
        "id": "s9Kip6VpGn2H",
        "outputId": "ce0a9bf6-0a98-40c4-a518-5f7f5b35e498"
      },
      "outputs": [
        {
          "data": {
            "text/plain": [
              "<function __main__.Animal.eat>"
            ]
          },
          "execution_count": 23,
          "metadata": {},
          "output_type": "execute_result"
        }
      ],
      "source": [
        "Animal.eat"
      ]
    },
    {
      "cell_type": "code",
      "execution_count": null,
      "metadata": {
        "id": "Q_lbYBPDGrKq"
      },
      "outputs": [],
      "source": [
        "class Lion(Animal):\n",
        "  def hunt(self):\n",
        "    print(\"사자가 사냥을 합니다.\")\n",
        "  def eat(self):\n",
        "    print(\"사자가 고기를 먹습니다.\")"
      ]
    },
    {
      "cell_type": "code",
      "execution_count": null,
      "metadata": {
        "id": "0wSiIpXKHdHa"
      },
      "outputs": [],
      "source": [
        "class Bird(Animal):\n",
        "  def fly(self):\n",
        "    print(\"새가 날아다닙니다.\")\n",
        "  def eat(self):\n",
        "    print(\"새가 모이를 먹습니다.\")"
      ]
    },
    {
      "cell_type": "code",
      "execution_count": null,
      "metadata": {
        "id": "G59BCWziHgOf"
      },
      "outputs": [],
      "source": [
        "lion = Lion()"
      ]
    },
    {
      "cell_type": "code",
      "execution_count": null,
      "metadata": {
        "colab": {
          "base_uri": "https://localhost:8080/"
        },
        "id": "vFGK9B1lH-N7",
        "outputId": "982a5366-9f80-4513-ffdc-267f5b34d515"
      },
      "outputs": [
        {
          "name": "stdout",
          "output_type": "stream",
          "text": [
            "<__main__.Lion object at 0x7fc8d80bf6d0>\n"
          ]
        }
      ],
      "source": [
        "print(lion)"
      ]
    },
    {
      "cell_type": "code",
      "execution_count": null,
      "metadata": {
        "colab": {
          "base_uri": "https://localhost:8080/"
        },
        "id": "RhTrKixkH_Q9",
        "outputId": "416ba0db-5bfa-43c4-acb9-6bd054275bb0"
      },
      "outputs": [
        {
          "name": "stdout",
          "output_type": "stream",
          "text": [
            "사자가 고기를 먹습니다.\n"
          ]
        }
      ],
      "source": [
        "lion.eat()"
      ]
    },
    {
      "cell_type": "code",
      "execution_count": null,
      "metadata": {
        "id": "rUKp5rd7IBrC"
      },
      "outputs": [],
      "source": [
        "bird = Bird()"
      ]
    },
    {
      "cell_type": "code",
      "execution_count": null,
      "metadata": {
        "colab": {
          "base_uri": "https://localhost:8080/"
        },
        "id": "__kpVBl0Idak",
        "outputId": "1041c70a-5098-43a5-b457-ff0ae8b5e8d9"
      },
      "outputs": [
        {
          "name": "stdout",
          "output_type": "stream",
          "text": [
            "새가 모이를 먹습니다.\n"
          ]
        }
      ],
      "source": [
        "bird.eat()"
      ]
    },
    {
      "cell_type": "code",
      "execution_count": null,
      "metadata": {
        "colab": {
          "base_uri": "https://localhost:8080/"
        },
        "id": "sH3kYqtQIfDE",
        "outputId": "aac0bd63-65b2-4bee-d0f1-07b3fe64f297"
      },
      "outputs": [
        {
          "name": "stdout",
          "output_type": "stream",
          "text": [
            "songmongsuk 95\n",
            "mangnani 96\n",
            "jangponeju 97\n",
            "beaknova 94\n"
          ]
        }
      ],
      "source": [
        "name = [\"songmongsuk\", \"mangnani\", \"jangponeju\", \"beaknova\"]\n",
        "score = [95, 96, 97, 94]\n",
        "\n",
        "for scores in range(len(name)):\n",
        "  print(name[scores], score[scores])"
      ]
    },
    {
      "cell_type": "code",
      "execution_count": null,
      "metadata": {
        "colab": {
          "base_uri": "https://localhost:8080/"
        },
        "id": "jVUa1yyWgrQz",
        "outputId": "ebb3c6a5-ffd7-4f92-e399-5597b1c70baa"
      },
      "outputs": [
        {
          "name": "stdout",
          "output_type": "stream",
          "text": [
            "songmongsuk 95\n",
            "mangnani 96\n",
            "jangponeju 97\n",
            "beaknova 94\n"
          ]
        }
      ],
      "source": [
        "for names, scores in zip(name, score):\n",
        "  print(names, scores)"
      ]
    },
    {
      "cell_type": "code",
      "execution_count": null,
      "metadata": {
        "id": "VehsMihQjhvA"
      },
      "outputs": [],
      "source": []
    }
  ],
  "metadata": {
    "colab": {
      "collapsed_sections": [],
      "provenance": []
    },
    "kernelspec": {
      "display_name": "Python 3.10.3 64-bit",
      "language": "python",
      "name": "python3"
    },
    "language_info": {
      "name": "python",
      "version": "3.10.3"
    },
    "vscode": {
      "interpreter": {
        "hash": "3984af332009208a103b8a538f58afe3b38a2c797d164530a18c5b0b86f04be7"
      }
    }
  },
  "nbformat": 4,
  "nbformat_minor": 0
}
