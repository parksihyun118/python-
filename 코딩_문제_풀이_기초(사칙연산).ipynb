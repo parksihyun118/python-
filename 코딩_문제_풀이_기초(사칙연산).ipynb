{
  "nbformat": 4,
  "nbformat_minor": 0,
  "metadata": {
    "colab": {
      "provenance": []
    },
    "kernelspec": {
      "name": "python3",
      "display_name": "Python 3"
    },
    "language_info": {
      "name": "python"
    }
  },
  "cells": [
    {
      "cell_type": "code",
      "execution_count": null,
      "metadata": {
        "id": "ub5dT39Saa3W"
      },
      "outputs": [],
      "source": [
        "# 코딩 문제 사이트\n",
        "# 백준 온라인 저지\n",
        "# 코드업\n",
        "# 프로그래머스\n",
        "# SW Expert Academy"
      ]
    },
    {
      "cell_type": "code",
      "source": [
        "# 두 정수 A와 B를 입력받은 다음, A+B를 출력하는 프로그램을 작성하시오\n",
        "\n",
        "def poo():\n",
        "  A = int(input(\"첫 번째 정수를 입력하시오\"))\n",
        "  B = int(input(\"두 번째 정수를 입력하시오\"))\n",
        "  return A + B\n",
        "\n",
        "poo()"
      ],
      "metadata": {
        "colab": {
          "base_uri": "https://localhost:8080/"
        },
        "id": "PsXzEPS2blFg",
        "outputId": "453ab004-3cea-416d-ad58-50dde61379e7"
      },
      "execution_count": 14,
      "outputs": [
        {
          "name": "stdout",
          "output_type": "stream",
          "text": [
            "첫 번째 정수를 입력하시오1\n",
            "두 번째 정수를 입력하시오2\n"
          ]
        },
        {
          "output_type": "execute_result",
          "data": {
            "text/plain": [
              "3"
            ]
          },
          "metadata": {},
          "execution_count": 14
        }
      ]
    },
    {
      "cell_type": "code",
      "source": [
        "# 두 정수 A와 B를 입력받은 다음, A-B를 출력하는 프로그램을 작성하시오\n",
        "\n",
        "def moo():\n",
        "  A = int(input(\"첫 번째 정수를 입력하시오\"))\n",
        "  B = int(input(\"첫 번째 정수보다 작은 정수를 입력하시오\"))\n",
        "  return A - B\n",
        "\n",
        "moo()"
      ],
      "metadata": {
        "colab": {
          "base_uri": "https://localhost:8080/"
        },
        "id": "B1nO2EXpcKJd",
        "outputId": "8425a28f-1a4d-4251-903c-1ebd15605ce7"
      },
      "execution_count": 16,
      "outputs": [
        {
          "name": "stdout",
          "output_type": "stream",
          "text": [
            "첫 번째 정수를 입력하시오5\n",
            "첫 번째 정수보다 작은 정수를 입력하시오1\n"
          ]
        },
        {
          "output_type": "execute_result",
          "data": {
            "text/plain": [
              "4"
            ]
          },
          "metadata": {},
          "execution_count": 16
        }
      ]
    },
    {
      "cell_type": "code",
      "source": [
        "# 두 정수 A와 B를 입력받은 다음, AxB를 출력하는 프로그램을 작성하시오\n",
        "\n",
        "def doo():\n",
        "  A = int(input(\"첫 번째 정수를 입력하시오\"))\n",
        "  B = int(input(\"두 번째 정수를 입력하시오\"))\n",
        "  return A * B\n",
        "\n",
        "doo()"
      ],
      "metadata": {
        "colab": {
          "base_uri": "https://localhost:8080/"
        },
        "id": "qPiBtlCTcoZN",
        "outputId": "cfe9e99f-23a2-4d88-c2e6-e957ced0433e"
      },
      "execution_count": 17,
      "outputs": [
        {
          "name": "stdout",
          "output_type": "stream",
          "text": [
            "첫 번째 정수를 입력하시오5\n",
            "두 번째 정수를 입력하시오5\n"
          ]
        },
        {
          "output_type": "execute_result",
          "data": {
            "text/plain": [
              "25"
            ]
          },
          "metadata": {},
          "execution_count": 17
        }
      ]
    },
    {
      "cell_type": "code",
      "source": [
        "# 두 정수 A와 B를 입력받은 다음, A/B를 출력하는 프로그램을 작성하시오\n",
        "\n",
        "def div():\n",
        "  A = int(input(\"첫 번째 정수를 입력하시오\"))\n",
        "  B = int(input(\"두 번째 정수를 입력하시오\"))\n",
        "  return A / B\n",
        "\n",
        "div()"
      ],
      "metadata": {
        "colab": {
          "base_uri": "https://localhost:8080/"
        },
        "id": "gwG_b0yDczND",
        "outputId": "5f9682c7-8db9-4ccb-bff8-a7be26bc5cec"
      },
      "execution_count": 18,
      "outputs": [
        {
          "name": "stdout",
          "output_type": "stream",
          "text": [
            "첫 번째 정수를 입력하시오10\n",
            "두 번째 정수를 입력하시오2\n"
          ]
        },
        {
          "output_type": "execute_result",
          "data": {
            "text/plain": [
              "5.0"
            ]
          },
          "metadata": {},
          "execution_count": 18
        }
      ]
    },
    {
      "cell_type": "code",
      "source": [
        "# 두 자연수 A와 B가 주어진다. 이때, A+B, A-B, A*B, A/B(몫), A%B(나머지)를 출력하는 프로그램을 작성하시오. \n",
        "\n",
        "def aoo():\n",
        "  A = int(input(\"첫 번째 숫자를 입력하시오\"))\n",
        "  B = int(input(\"두 번째 숫자를 입력하시오\"))\n",
        "  return A + B, A - B, A * B, A / B, A % B\n",
        "\n",
        "aoo()"
      ],
      "metadata": {
        "colab": {
          "base_uri": "https://localhost:8080/"
        },
        "id": "HKCMLQWBc-Dq",
        "outputId": "9ffde710-ec61-4124-cd95-6faa9ba7759b"
      },
      "execution_count": 19,
      "outputs": [
        {
          "name": "stdout",
          "output_type": "stream",
          "text": [
            "첫 번째 숫자를 입력하시오10\n",
            "두 번째 숫자를 입력하시오2\n"
          ]
        },
        {
          "output_type": "execute_result",
          "data": {
            "text/plain": [
              "(12, 8, 20, 5.0, 0)"
            ]
          },
          "metadata": {},
          "execution_count": 19
        }
      ]
    },
    {
      "cell_type": "code",
      "source": [],
      "metadata": {
        "id": "-Vlk2HQkdYQU"
      },
      "execution_count": null,
      "outputs": []
    }
  ]
}