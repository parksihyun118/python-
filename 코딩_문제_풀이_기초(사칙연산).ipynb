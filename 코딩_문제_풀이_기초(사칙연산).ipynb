{
  "cells": [
    {
      "cell_type": "code",
      "execution_count": null,
      "metadata": {
        "id": "ub5dT39Saa3W"
      },
      "outputs": [],
      "source": [
        "# 코딩 문제 사이트\n",
        "# 백준 온라인 저지\n",
        "# 코드업\n",
        "# 프로그래머스\n",
        "# SW Expert Academy"
      ]
    },
    {
      "cell_type": "code",
      "execution_count": 14,
      "metadata": {
        "colab": {
          "base_uri": "https://localhost:8080/"
        },
        "id": "PsXzEPS2blFg",
        "outputId": "453ab004-3cea-416d-ad58-50dde61379e7"
      },
      "outputs": [
        {
          "name": "stdout",
          "output_type": "stream",
          "text": [
            "첫 번째 정수를 입력하시오1\n",
            "두 번째 정수를 입력하시오2\n"
          ]
        },
        {
          "data": {
            "text/plain": [
              "3"
            ]
          },
          "execution_count": 14,
          "metadata": {},
          "output_type": "execute_result"
        }
      ],
      "source": [
        "# 두 정수 A와 B를 입력받은 다음, A+B를 출력하는 프로그램을 작성하시오\n",
        "\n",
        "def poo():\n",
        "  A = int(input(\"첫 번째 정수를 입력하시오\"))\n",
        "  B = int(input(\"두 번째 정수를 입력하시오\"))\n",
        "  return A + B\n",
        "\n",
        "poo()"
      ]
    },
    {
      "cell_type": "code",
      "execution_count": 16,
      "metadata": {
        "colab": {
          "base_uri": "https://localhost:8080/"
        },
        "id": "B1nO2EXpcKJd",
        "outputId": "8425a28f-1a4d-4251-903c-1ebd15605ce7"
      },
      "outputs": [
        {
          "name": "stdout",
          "output_type": "stream",
          "text": [
            "첫 번째 정수를 입력하시오5\n",
            "첫 번째 정수보다 작은 정수를 입력하시오1\n"
          ]
        },
        {
          "data": {
            "text/plain": [
              "4"
            ]
          },
          "execution_count": 16,
          "metadata": {},
          "output_type": "execute_result"
        }
      ],
      "source": [
        "# 두 정수 A와 B를 입력받은 다음, A-B를 출력하는 프로그램을 작성하시오\n",
        "\n",
        "def moo():\n",
        "  A = int(input(\"첫 번째 정수를 입력하시오\"))\n",
        "  B = int(input(\"첫 번째 정수보다 작은 정수를 입력하시오\"))\n",
        "  return A - B\n",
        "\n",
        "moo()"
      ]
    },
    {
      "cell_type": "code",
      "execution_count": 17,
      "metadata": {
        "colab": {
          "base_uri": "https://localhost:8080/"
        },
        "id": "qPiBtlCTcoZN",
        "outputId": "cfe9e99f-23a2-4d88-c2e6-e957ced0433e"
      },
      "outputs": [
        {
          "name": "stdout",
          "output_type": "stream",
          "text": [
            "첫 번째 정수를 입력하시오5\n",
            "두 번째 정수를 입력하시오5\n"
          ]
        },
        {
          "data": {
            "text/plain": [
              "25"
            ]
          },
          "execution_count": 17,
          "metadata": {},
          "output_type": "execute_result"
        }
      ],
      "source": [
        "# 두 정수 A와 B를 입력받은 다음, AxB를 출력하는 프로그램을 작성하시오\n",
        "\n",
        "def doo():\n",
        "  A = int(input(\"첫 번째 정수를 입력하시오\"))\n",
        "  B = int(input(\"두 번째 정수를 입력하시오\"))\n",
        "  return A * B\n",
        "\n",
        "doo()"
      ]
    },
    {
      "cell_type": "code",
      "execution_count": 18,
      "metadata": {
        "colab": {
          "base_uri": "https://localhost:8080/"
        },
        "id": "gwG_b0yDczND",
        "outputId": "5f9682c7-8db9-4ccb-bff8-a7be26bc5cec"
      },
      "outputs": [
        {
          "name": "stdout",
          "output_type": "stream",
          "text": [
            "첫 번째 정수를 입력하시오10\n",
            "두 번째 정수를 입력하시오2\n"
          ]
        },
        {
          "data": {
            "text/plain": [
              "5.0"
            ]
          },
          "execution_count": 18,
          "metadata": {},
          "output_type": "execute_result"
        }
      ],
      "source": [
        "# 두 정수 A와 B를 입력받은 다음, A/B를 출력하는 프로그램을 작성하시오\n",
        "\n",
        "def div():\n",
        "  A = int(input(\"첫 번째 정수를 입력하시오\"))\n",
        "  B = int(input(\"두 번째 정수를 입력하시오\"))\n",
        "  return A / B\n",
        "\n",
        "div()"
      ]
    },
    {
      "cell_type": "code",
      "execution_count": 19,
      "metadata": {
        "colab": {
          "base_uri": "https://localhost:8080/"
        },
        "id": "HKCMLQWBc-Dq",
        "outputId": "9ffde710-ec61-4124-cd95-6faa9ba7759b"
      },
      "outputs": [
        {
          "name": "stdout",
          "output_type": "stream",
          "text": [
            "첫 번째 숫자를 입력하시오10\n",
            "두 번째 숫자를 입력하시오2\n"
          ]
        },
        {
          "data": {
            "text/plain": [
              "(12, 8, 20, 5.0, 0)"
            ]
          },
          "execution_count": 19,
          "metadata": {},
          "output_type": "execute_result"
        }
      ],
      "source": [
        "# 두 자연수 A와 B가 주어진다. 이때, A+B, A-B, A*B, A/B(몫), A%B(나머지)를 출력하는 프로그램을 작성하시오. \n",
        "\n",
        "def aoo():\n",
        "  A = int(input(\"첫 번째 숫자를 입력하시오\"))\n",
        "  B = int(input(\"두 번째 숫자를 입력하시오\"))\n",
        "  return A + B, A - B, A * B, A / B, A % B\n",
        "\n",
        "aoo()"
      ]
    },
    {
      "cell_type": "code",
      "execution_count": null,
      "metadata": {
        "id": "-Vlk2HQkdYQU"
      },
      "outputs": [],
      "source": []
    }
  ],
  "metadata": {
    "colab": {
      "provenance": []
    },
    "kernelspec": {
      "display_name": "Python 3.10.3 64-bit",
      "language": "python",
      "name": "python3"
    },
    "language_info": {
      "name": "python",
      "version": "3.10.3"
    },
    "vscode": {
      "interpreter": {
        "hash": "3984af332009208a103b8a538f58afe3b38a2c797d164530a18c5b0b86f04be7"
      }
    }
  },
  "nbformat": 4,
  "nbformat_minor": 0
}
